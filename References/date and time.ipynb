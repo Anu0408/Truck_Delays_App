{
 "cells": [
  {
   "cell_type": "code",
   "execution_count": null,
   "metadata": {},
   "outputs": [],
   "source": [
    "#Convert date to datetime\n",
    "city_weather['date'] = pd.to_datetime(city_weather['date'])\n",
    "\n",
    "\n",
    "\n",
    "\n",
    "# Convert 'hour' to int format (remove leading zeros and convert to 24-hour format)\n",
    "city_weather['hour'] = (city_weather['hour'] // 100).astype(int)\n",
    "\n",
    "\n",
    "\n",
    "# Create a new date_time column by combining 'date' and 'hour'\n",
    "city_weather['date_time'] = city_weather['date'] + pd.to_timedelta(city_weather['hour'], unit='h')\n",
    "\n",
    "# Create 'event_date' as a copy of 'date' (or adjust as needed)\n",
    "city_weather['event_date'] = city_weather['date']\n",
    "\n",
    "# Drop the original 'date' column if no longer needed\n",
    "#city_weather = city_weather.drop(columns=['date'])\n",
    "\n",
    "# Print the relevant columns\n",
    "print(city_weather[['date_time', 'date', 'event_date']])\n"
   ]
  }
 ],
 "metadata": {
  "language_info": {
   "name": "python"
  }
 },
 "nbformat": 4,
 "nbformat_minor": 2
}
