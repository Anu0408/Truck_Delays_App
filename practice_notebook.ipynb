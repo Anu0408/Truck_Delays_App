{
 "cells": [
  {
   "cell_type": "code",
   "execution_count": 10,
   "metadata": {},
   "outputs": [],
   "source": [
    "import pandas as pd\n",
    "import matplotlib.pyplot as plt \n",
    "import seaborn as sns\n",
    "from sqlalchemy import create_engine\n",
    "\n",
    "from sqlalchemy import create_engine"
   ]
  },
  {
   "cell_type": "code",
   "execution_count": 11,
   "metadata": {},
   "outputs": [],
   "source": [
    "# database connection parameters\n",
    "\n",
    "db_host = 'localhost'\n",
    "db_name = 'truck_delay_classification'\n",
    "db_password ='Anu0408'\n",
    "db_port = '5432'\n",
    "db_user ='postgres'\n"
   ]
  },
  {
   "cell_type": "code",
   "execution_count": 12,
   "metadata": {},
   "outputs": [],
   "source": [
    "\n",
    "#create connection engine\n",
    "engine = create_engine(f'postgresql://{db_user}:{db_password}@{db_host}:{db_port}/{db_name}')"
   ]
  },
  {
   "cell_type": "code",
   "execution_count": 13,
   "metadata": {},
   "outputs": [],
   "source": [
    "# query to select data\n",
    "\n",
    "query = 'SELECT * FROM city_weather'\n",
    "query = 'SELECT * from trucks'\n",
    "query = 'SELECT * FROM routes'\n",
    "query = ' SELECT * FROM truck_schedule_table'"
   ]
  },
  {
   "cell_type": "code",
   "execution_count": 14,
   "metadata": {},
   "outputs": [],
   "source": [
    "#Read data into dataframe\n",
    "\n",
    "df =pd.read_sql_query(query, engine)"
   ]
  },
  {
   "cell_type": "code",
   "execution_count": 30,
   "metadata": {},
   "outputs": [],
   "source": [
    "# Read data into a DataFrame\n",
    "df = pd.read_sql_query(query, engine)"
   ]
  },
  {
   "cell_type": "code",
   "execution_count": 31,
   "metadata": {},
   "outputs": [
    {
     "data": {
      "text/plain": [
       "<bound method NDFrame.head of           id  truck_id    route_id       departure_date  \\\n",
       "0          1  30312694  R-b236e347  2019-01-01 07:00:00   \n",
       "1          2  59856374  R-29ea762e  2019-01-01 07:00:00   \n",
       "2          3  12602955  R-a3d67783  2019-01-01 07:00:00   \n",
       "3          4  46619422  R-31ec9310  2019-01-01 07:00:00   \n",
       "4          5  10140178  R-a07c5dbd  2019-01-01 07:00:00   \n",
       "...      ...       ...         ...                  ...   \n",
       "12303  12304  31047945  R-1484a7ea  2019-02-06 07:00:00   \n",
       "12304  12305  14758432  R-927cf900  2019-02-06 07:00:00   \n",
       "12305  12306  31370619  R-5a83ad98  2019-02-06 07:00:00   \n",
       "12306  12307  67332883  R-991530bc  2019-02-06 07:00:00   \n",
       "12307  12308  26630473  R-3f49bd43  2019-02-06 07:00:00   \n",
       "\n",
       "                   estimated_arrival delay  \n",
       "0      2019-01-01 13:13:12.000000000     0  \n",
       "1      2019-01-02 04:01:12.000000000     0  \n",
       "2      2019-01-01 07:45:36.000000000     0  \n",
       "3      2019-01-01 20:46:48.000000000     0  \n",
       "4      2019-01-01 21:34:11.999999999     0  \n",
       "...                              ...   ...  \n",
       "12303  2019-02-13 22:40:12.000000000     0  \n",
       "12304  2019-02-13 18:52:48.000000000     1  \n",
       "12305  2019-02-14 08:01:48.000000000     1  \n",
       "12306  2019-02-13 11:14:24.000000000     1  \n",
       "12307  2019-02-14 02:52:12.000000000     1  \n",
       "\n",
       "[12308 rows x 6 columns]>"
      ]
     },
     "execution_count": 31,
     "metadata": {},
     "output_type": "execute_result"
    }
   ],
   "source": [
    "df.head"
   ]
  },
  {
   "cell_type": "code",
   "execution_count": 37,
   "metadata": {},
   "outputs": [],
   "source": [
    "import pandas as pd \n",
    "import numpy as np  \n",
    "import matplotlib.pyplot as plt \n",
    "import seaborn as sns \n",
    "from sqlalchemy import create_engine"
   ]
  },
  {
   "cell_type": "code",
   "execution_count": 45,
   "metadata": {},
   "outputs": [],
   "source": [
    "#database connection parameters\n",
    "\n",
    "db_host = 'localhost'\n",
    "db_user = 'postgres'\n",
    "db_password = 'Anu0408'\n",
    "db_port = '5432'\n",
    "db_name = 'truck_delay_classification'"
   ]
  },
  {
   "cell_type": "code",
   "execution_count": 46,
   "metadata": {},
   "outputs": [],
   "source": [
    "#create connection engine\n",
    "\n",
    "engine = create_engine(f'postgresql://{db_user}:{db_password}@{db_host}:{db_port}/{db_name}')"
   ]
  },
  {
   "cell_type": "code",
   "execution_count": 47,
   "metadata": {},
   "outputs": [],
   "source": [
    "#query to SQL data\n",
    "\n",
    "query = 'SELECT * FROM city_weather'\n"
   ]
  },
  {
   "cell_type": "code",
   "execution_count": 48,
   "metadata": {},
   "outputs": [],
   "source": [
    "# read data into dataframe\n",
    "\n",
    "df=pd.read_sql_query(query,engine)"
   ]
  },
  {
   "cell_type": "code",
   "execution_count": 49,
   "metadata": {},
   "outputs": [
    {
     "data": {
      "text/html": [
       "<div>\n",
       "<style scoped>\n",
       "    .dataframe tbody tr th:only-of-type {\n",
       "        vertical-align: middle;\n",
       "    }\n",
       "\n",
       "    .dataframe tbody tr th {\n",
       "        vertical-align: top;\n",
       "    }\n",
       "\n",
       "    .dataframe thead th {\n",
       "        text-align: right;\n",
       "    }\n",
       "</style>\n",
       "<table border=\"1\" class=\"dataframe\">\n",
       "  <thead>\n",
       "    <tr style=\"text-align: right;\">\n",
       "      <th></th>\n",
       "      <th>id</th>\n",
       "      <th>city_id</th>\n",
       "      <th>date</th>\n",
       "      <th>hour</th>\n",
       "      <th>temp</th>\n",
       "      <th>wind_speed</th>\n",
       "      <th>description</th>\n",
       "      <th>precip</th>\n",
       "      <th>humidity</th>\n",
       "      <th>visibility</th>\n",
       "      <th>pressure</th>\n",
       "      <th>chanceofrain</th>\n",
       "      <th>chanceoffog</th>\n",
       "      <th>chanceofsnow</th>\n",
       "      <th>chanceofthunder</th>\n",
       "    </tr>\n",
       "  </thead>\n",
       "  <tbody>\n",
       "    <tr>\n",
       "      <th>0</th>\n",
       "      <td>1</td>\n",
       "      <td>C-927ceb5e</td>\n",
       "      <td>2019-01-01</td>\n",
       "      <td>0</td>\n",
       "      <td>30</td>\n",
       "      <td>11</td>\n",
       "      <td>Light snow</td>\n",
       "      <td>0.0</td>\n",
       "      <td>86</td>\n",
       "      <td>6</td>\n",
       "      <td>1019</td>\n",
       "      <td>0</td>\n",
       "      <td>0</td>\n",
       "      <td>0</td>\n",
       "      <td>0</td>\n",
       "    </tr>\n",
       "    <tr>\n",
       "      <th>1</th>\n",
       "      <td>2</td>\n",
       "      <td>C-927ceb5e</td>\n",
       "      <td>2019-01-01</td>\n",
       "      <td>100</td>\n",
       "      <td>28</td>\n",
       "      <td>12</td>\n",
       "      <td>Light snow</td>\n",
       "      <td>0.0</td>\n",
       "      <td>86</td>\n",
       "      <td>5</td>\n",
       "      <td>1021</td>\n",
       "      <td>0</td>\n",
       "      <td>0</td>\n",
       "      <td>0</td>\n",
       "      <td>0</td>\n",
       "    </tr>\n",
       "    <tr>\n",
       "      <th>2</th>\n",
       "      <td>3</td>\n",
       "      <td>C-927ceb5e</td>\n",
       "      <td>2019-01-01</td>\n",
       "      <td>200</td>\n",
       "      <td>28</td>\n",
       "      <td>13</td>\n",
       "      <td>Moderate snow</td>\n",
       "      <td>0.0</td>\n",
       "      <td>85</td>\n",
       "      <td>4</td>\n",
       "      <td>1022</td>\n",
       "      <td>0</td>\n",
       "      <td>0</td>\n",
       "      <td>0</td>\n",
       "      <td>0</td>\n",
       "    </tr>\n",
       "    <tr>\n",
       "      <th>3</th>\n",
       "      <td>4</td>\n",
       "      <td>C-927ceb5e</td>\n",
       "      <td>2019-01-01</td>\n",
       "      <td>300</td>\n",
       "      <td>28</td>\n",
       "      <td>14</td>\n",
       "      <td>Moderate snow</td>\n",
       "      <td>0.0</td>\n",
       "      <td>84</td>\n",
       "      <td>3</td>\n",
       "      <td>1024</td>\n",
       "      <td>0</td>\n",
       "      <td>0</td>\n",
       "      <td>0</td>\n",
       "      <td>0</td>\n",
       "    </tr>\n",
       "    <tr>\n",
       "      <th>4</th>\n",
       "      <td>5</td>\n",
       "      <td>C-927ceb5e</td>\n",
       "      <td>2019-01-01</td>\n",
       "      <td>400</td>\n",
       "      <td>28</td>\n",
       "      <td>13</td>\n",
       "      <td>Moderate snow</td>\n",
       "      <td>0.0</td>\n",
       "      <td>84</td>\n",
       "      <td>3</td>\n",
       "      <td>1025</td>\n",
       "      <td>0</td>\n",
       "      <td>0</td>\n",
       "      <td>0</td>\n",
       "      <td>0</td>\n",
       "    </tr>\n",
       "  </tbody>\n",
       "</table>\n",
       "</div>"
      ],
      "text/plain": [
       "   id     city_id        date hour temp wind_speed    description precip  \\\n",
       "0   1  C-927ceb5e  2019-01-01    0   30         11     Light snow    0.0   \n",
       "1   2  C-927ceb5e  2019-01-01  100   28         12     Light snow    0.0   \n",
       "2   3  C-927ceb5e  2019-01-01  200   28         13  Moderate snow    0.0   \n",
       "3   4  C-927ceb5e  2019-01-01  300   28         14  Moderate snow    0.0   \n",
       "4   5  C-927ceb5e  2019-01-01  400   28         13  Moderate snow    0.0   \n",
       "\n",
       "  humidity visibility pressure chanceofrain chanceoffog chanceofsnow  \\\n",
       "0       86          6     1019            0           0            0   \n",
       "1       86          5     1021            0           0            0   \n",
       "2       85          4     1022            0           0            0   \n",
       "3       84          3     1024            0           0            0   \n",
       "4       84          3     1025            0           0            0   \n",
       "\n",
       "  chanceofthunder  \n",
       "0               0  \n",
       "1               0  \n",
       "2               0  \n",
       "3               0  \n",
       "4               0  "
      ]
     },
     "execution_count": 49,
     "metadata": {},
     "output_type": "execute_result"
    }
   ],
   "source": [
    "df.head()"
   ]
  },
  {
   "cell_type": "code",
   "execution_count": 15,
   "metadata": {},
   "outputs": [],
   "source": [
    "\n",
    "import pandas as pd \n",
    "import numpy as np  \n",
    "import matplotlib.pyplot as plt  \n",
    "import seaborn as sns \n",
    "from sqlalchemy import create_engine\n",
    "\n",
    "\n"
   ]
  },
  {
   "cell_type": "code",
   "execution_count": 21,
   "metadata": {},
   "outputs": [],
   "source": [
    "#databaase connection  parameters\n",
    "db_host = 'localhost'\n",
    "db_port ='5432'\n",
    "db_name = 'truck_delay_classification'\n",
    "db_password = 'Anu0408'\n",
    "db_user = 'postgres'\n",
    "\n",
    "\n"
   ]
  },
  {
   "cell_type": "code",
   "execution_count": 26,
   "metadata": {},
   "outputs": [],
   "source": [
    "# creating connection engine\n",
    "engine = create_engine(f'postgresql://{db_user}:{db_password}@{db_host}:{db_port}/{db_name}')\n",
    "\n"
   ]
  },
  {
   "cell_type": "code",
   "execution_count": 27,
   "metadata": {},
   "outputs": [],
   "source": [
    "query = 'SELECT * from city_weather'\n",
    "\n"
   ]
  },
  {
   "cell_type": "code",
   "execution_count": 28,
   "metadata": {},
   "outputs": [],
   "source": [
    "df = pd.read_sql_query(query, engine)"
   ]
  },
  {
   "cell_type": "code",
   "execution_count": null,
   "metadata": {},
   "outputs": [],
   "source": []
  },
  {
   "cell_type": "code",
   "execution_count": null,
   "metadata": {},
   "outputs": [],
   "source": []
  },
  {
   "cell_type": "code",
   "execution_count": null,
   "metadata": {},
   "outputs": [],
   "source": []
  }
 ],
 "metadata": {
  "kernelspec": {
   "display_name": "Python 3",
   "language": "python",
   "name": "python3"
  },
  "language_info": {
   "codemirror_mode": {
    "name": "ipython",
    "version": 3
   },
   "file_extension": ".py",
   "mimetype": "text/x-python",
   "name": "python",
   "nbconvert_exporter": "python",
   "pygments_lexer": "ipython3",
   "version": "3.12.6"
  }
 },
 "nbformat": 4,
 "nbformat_minor": 2
}
