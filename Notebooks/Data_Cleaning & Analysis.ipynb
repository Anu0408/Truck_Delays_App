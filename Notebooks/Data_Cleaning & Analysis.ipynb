{
 "cells": [
  {
   "cell_type": "code",
   "execution_count": 1,
   "metadata": {},
   "outputs": [
    {
     "name": "stdout",
     "output_type": "stream",
     "text": [
      "Defaulting to user installation because normal site-packages is not writeable\n",
      "Requirement already satisfied: sqlalchemy in c:\\users\\anucv\\appdata\\local\\packages\\pythonsoftwarefoundation.python.3.12_qbz5n2kfra8p0\\localcache\\local-packages\\python312\\site-packages (1.4.48)\n",
      "Requirement already satisfied: greenlet!=0.4.17 in c:\\users\\anucv\\appdata\\local\\packages\\pythonsoftwarefoundation.python.3.12_qbz5n2kfra8p0\\localcache\\local-packages\\python312\\site-packages (from sqlalchemy) (3.1.0)\n",
      "Note: you may need to restart the kernel to use updated packages.\n"
     ]
    }
   ],
   "source": [
    "pip install sqlalchemy\n"
   ]
  },
  {
   "cell_type": "code",
   "execution_count": 2,
   "metadata": {},
   "outputs": [
    {
     "name": "stdout",
     "output_type": "stream",
     "text": [
      "Defaulting to user installation because normal site-packages is not writeable\n",
      "Requirement already satisfied: psycopg2 in c:\\users\\anucv\\appdata\\local\\packages\\pythonsoftwarefoundation.python.3.12_qbz5n2kfra8p0\\localcache\\local-packages\\python312\\site-packages (2.9.9)\n",
      "Note: you may need to restart the kernel to use updated packages.\n"
     ]
    }
   ],
   "source": [
    "pip install psycopg2"
   ]
  },
  {
   "cell_type": "code",
   "execution_count": 20,
   "metadata": {},
   "outputs": [],
   "source": [
    "import pandas as pd\n",
    "import numpy as np\n",
    "import matplotlib.pyplot as plt\n",
    "import seaborn as sns\n",
    "from sqlalchemy import create_engine\n",
    "\n"
   ]
  },
  {
   "cell_type": "code",
   "execution_count": 21,
   "metadata": {},
   "outputs": [],
   "source": [
    "\n",
    "# Database connection parameters\n",
    "db_host = 'localhost'  # or the IP address of your Docker container\n",
    "db_port = '5432'\n",
    "db_name = 'truck_delay_classification'\n",
    "db_user = 'postgres'\n",
    "db_password = 'Anu0408'  # Change this if you set a different password\n",
    "\n",
    "\n",
    "\n",
    "\n"
   ]
  },
  {
   "cell_type": "code",
   "execution_count": 22,
   "metadata": {},
   "outputs": [],
   "source": [
    "# Create a connection engine\n",
    "engine = create_engine(f'postgresql://{db_user}:{db_password}@{db_host}:{db_port}/{db_name}')\n",
    "\n"
   ]
  },
  {
   "cell_type": "code",
   "execution_count": 23,
   "metadata": {},
   "outputs": [],
   "source": [
    "# Query to select data\n",
    "query = 'SELECT * FROM city_weather;'  \n"
   ]
  },
  {
   "cell_type": "code",
   "execution_count": 24,
   "metadata": {},
   "outputs": [],
   "source": [
    "# Read data into a DataFrame\n",
    "city_weather = pd.read_sql_query(query, engine)\n",
    "\n"
   ]
  },
  {
   "cell_type": "code",
   "execution_count": 25,
   "metadata": {},
   "outputs": [
    {
     "data": {
      "text/plain": [
       "(55176, 15)"
      ]
     },
     "execution_count": 25,
     "metadata": {},
     "output_type": "execute_result"
    }
   ],
   "source": [
    "city_weather.shape"
   ]
  },
  {
   "cell_type": "code",
   "execution_count": 10,
   "metadata": {},
   "outputs": [
    {
     "data": {
      "text/plain": [
       "\"\\n# Load CSV files\\ncity_weather = pd.read_csv('C:/Users/anucv/OneDrive/Desktop/AI and ML training/Machine_Learning/TRUCK_DELAY_CLASSIFICATION_PROJECT/Data/Training_data/city_weather.csv')\\ndrivers = pd.read_csv('C:/Users/anucv/OneDrive/Desktop/AI and ML training/Machine_Learning/TRUCK_DELAY_CLASSIFICATION_PROJECT/Data/Training_data/drivers_table.csv')\\nroutes = pd.read_csv('C:/Users/anucv/OneDrive/Desktop/AI and ML training/Machine_Learning/TRUCK_DELAY_CLASSIFICATION_PROJECT/Data/Training_data/routes_table.csv')\\nroutes_weather = pd.read_csv('C:/Users/anucv/OneDrive/Desktop/AI and ML training/Machine_Learning/TRUCK_DELAY_CLASSIFICATION_PROJECT/Data/Training_data/routes_weather.csv')\\ntraffic = pd.read_csv('C:/Users/anucv/OneDrive/Desktop/AI and ML training/Machine_Learning/TRUCK_DELAY_CLASSIFICATION_PROJECT/Data/Training_data/traffic_table.csv')\\ntrucks = pd.read_csv('C:/Users/anucv/OneDrive/Desktop/AI and ML training/Machine_Learning/TRUCK_DELAY_CLASSIFICATION_PROJECT/Data/Training_data/trucks_table.csv')\\ntruck_schedule = pd.read_csv('C:/Users/anucv/OneDrive/Desktop/AI and ML training/Machine_Learning/TRUCK_DELAY_CLASSIFICATION_PROJECT/Data/Training_data/truck_schedule_table.csv')\\n\\n\""
      ]
     },
     "execution_count": 10,
     "metadata": {},
     "output_type": "execute_result"
    }
   ],
   "source": [
    "\n",
    "'''\n",
    "# Load CSV files\n",
    "city_weather = pd.read_csv('C:/Users/anucv/OneDrive/Desktop/AI and ML training/Machine_Learning/TRUCK_DELAY_CLASSIFICATION_PROJECT/Data/Training_data/city_weather.csv')\n",
    "drivers = pd.read_csv('C:/Users/anucv/OneDrive/Desktop/AI and ML training/Machine_Learning/TRUCK_DELAY_CLASSIFICATION_PROJECT/Data/Training_data/drivers_table.csv')\n",
    "routes = pd.read_csv('C:/Users/anucv/OneDrive/Desktop/AI and ML training/Machine_Learning/TRUCK_DELAY_CLASSIFICATION_PROJECT/Data/Training_data/routes_table.csv')\n",
    "routes_weather = pd.read_csv('C:/Users/anucv/OneDrive/Desktop/AI and ML training/Machine_Learning/TRUCK_DELAY_CLASSIFICATION_PROJECT/Data/Training_data/routes_weather.csv')\n",
    "traffic = pd.read_csv('C:/Users/anucv/OneDrive/Desktop/AI and ML training/Machine_Learning/TRUCK_DELAY_CLASSIFICATION_PROJECT/Data/Training_data/traffic_table.csv')\n",
    "trucks = pd.read_csv('C:/Users/anucv/OneDrive/Desktop/AI and ML training/Machine_Learning/TRUCK_DELAY_CLASSIFICATION_PROJECT/Data/Training_data/trucks_table.csv')\n",
    "truck_schedule = pd.read_csv('C:/Users/anucv/OneDrive/Desktop/AI and ML training/Machine_Learning/TRUCK_DELAY_CLASSIFICATION_PROJECT/Data/Training_data/truck_schedule_table.csv')\n",
    "\n",
    "'''\n"
   ]
  },
  {
   "cell_type": "markdown",
   "metadata": {},
   "source": [
    "DATA INSPECTION/ INGESTION"
   ]
  },
  {
   "cell_type": "code",
   "execution_count": 26,
   "metadata": {},
   "outputs": [
    {
     "data": {
      "text/html": [
       "<div>\n",
       "<style scoped>\n",
       "    .dataframe tbody tr th:only-of-type {\n",
       "        vertical-align: middle;\n",
       "    }\n",
       "\n",
       "    .dataframe tbody tr th {\n",
       "        vertical-align: top;\n",
       "    }\n",
       "\n",
       "    .dataframe thead th {\n",
       "        text-align: right;\n",
       "    }\n",
       "</style>\n",
       "<table border=\"1\" class=\"dataframe\">\n",
       "  <thead>\n",
       "    <tr style=\"text-align: right;\">\n",
       "      <th></th>\n",
       "      <th>id</th>\n",
       "      <th>city_id</th>\n",
       "      <th>date</th>\n",
       "      <th>hour</th>\n",
       "      <th>temp</th>\n",
       "      <th>wind_speed</th>\n",
       "      <th>description</th>\n",
       "      <th>precip</th>\n",
       "      <th>humidity</th>\n",
       "      <th>visibility</th>\n",
       "      <th>pressure</th>\n",
       "      <th>chanceofrain</th>\n",
       "      <th>chanceoffog</th>\n",
       "      <th>chanceofsnow</th>\n",
       "      <th>chanceofthunder</th>\n",
       "    </tr>\n",
       "  </thead>\n",
       "  <tbody>\n",
       "    <tr>\n",
       "      <th>0</th>\n",
       "      <td>1</td>\n",
       "      <td>C-927ceb5e</td>\n",
       "      <td>2019-01-01</td>\n",
       "      <td>0</td>\n",
       "      <td>30</td>\n",
       "      <td>11</td>\n",
       "      <td>Light snow</td>\n",
       "      <td>0.0</td>\n",
       "      <td>86</td>\n",
       "      <td>6</td>\n",
       "      <td>1019</td>\n",
       "      <td>0</td>\n",
       "      <td>0</td>\n",
       "      <td>0</td>\n",
       "      <td>0</td>\n",
       "    </tr>\n",
       "    <tr>\n",
       "      <th>1</th>\n",
       "      <td>2</td>\n",
       "      <td>C-927ceb5e</td>\n",
       "      <td>2019-01-01</td>\n",
       "      <td>100</td>\n",
       "      <td>28</td>\n",
       "      <td>12</td>\n",
       "      <td>Light snow</td>\n",
       "      <td>0.0</td>\n",
       "      <td>86</td>\n",
       "      <td>5</td>\n",
       "      <td>1021</td>\n",
       "      <td>0</td>\n",
       "      <td>0</td>\n",
       "      <td>0</td>\n",
       "      <td>0</td>\n",
       "    </tr>\n",
       "    <tr>\n",
       "      <th>2</th>\n",
       "      <td>3</td>\n",
       "      <td>C-927ceb5e</td>\n",
       "      <td>2019-01-01</td>\n",
       "      <td>200</td>\n",
       "      <td>28</td>\n",
       "      <td>13</td>\n",
       "      <td>Moderate snow</td>\n",
       "      <td>0.0</td>\n",
       "      <td>85</td>\n",
       "      <td>4</td>\n",
       "      <td>1022</td>\n",
       "      <td>0</td>\n",
       "      <td>0</td>\n",
       "      <td>0</td>\n",
       "      <td>0</td>\n",
       "    </tr>\n",
       "    <tr>\n",
       "      <th>3</th>\n",
       "      <td>4</td>\n",
       "      <td>C-927ceb5e</td>\n",
       "      <td>2019-01-01</td>\n",
       "      <td>300</td>\n",
       "      <td>28</td>\n",
       "      <td>14</td>\n",
       "      <td>Moderate snow</td>\n",
       "      <td>0.0</td>\n",
       "      <td>84</td>\n",
       "      <td>3</td>\n",
       "      <td>1024</td>\n",
       "      <td>0</td>\n",
       "      <td>0</td>\n",
       "      <td>0</td>\n",
       "      <td>0</td>\n",
       "    </tr>\n",
       "    <tr>\n",
       "      <th>4</th>\n",
       "      <td>5</td>\n",
       "      <td>C-927ceb5e</td>\n",
       "      <td>2019-01-01</td>\n",
       "      <td>400</td>\n",
       "      <td>28</td>\n",
       "      <td>13</td>\n",
       "      <td>Moderate snow</td>\n",
       "      <td>0.0</td>\n",
       "      <td>84</td>\n",
       "      <td>3</td>\n",
       "      <td>1025</td>\n",
       "      <td>0</td>\n",
       "      <td>0</td>\n",
       "      <td>0</td>\n",
       "      <td>0</td>\n",
       "    </tr>\n",
       "  </tbody>\n",
       "</table>\n",
       "</div>"
      ],
      "text/plain": [
       "   id     city_id        date  hour  temp  wind_speed    description  precip  \\\n",
       "0   1  C-927ceb5e  2019-01-01     0    30          11     Light snow     0.0   \n",
       "1   2  C-927ceb5e  2019-01-01   100    28          12     Light snow     0.0   \n",
       "2   3  C-927ceb5e  2019-01-01   200    28          13  Moderate snow     0.0   \n",
       "3   4  C-927ceb5e  2019-01-01   300    28          14  Moderate snow     0.0   \n",
       "4   5  C-927ceb5e  2019-01-01   400    28          13  Moderate snow     0.0   \n",
       "\n",
       "   humidity  visibility  pressure  chanceofrain  chanceoffog  chanceofsnow  \\\n",
       "0        86           6      1019             0            0             0   \n",
       "1        86           5      1021             0            0             0   \n",
       "2        85           4      1022             0            0             0   \n",
       "3        84           3      1024             0            0             0   \n",
       "4        84           3      1025             0            0             0   \n",
       "\n",
       "   chanceofthunder  \n",
       "0                0  \n",
       "1                0  \n",
       "2                0  \n",
       "3                0  \n",
       "4                0  "
      ]
     },
     "execution_count": 26,
     "metadata": {},
     "output_type": "execute_result"
    }
   ],
   "source": [
    "city_weather.head()"
   ]
  },
  {
   "cell_type": "code",
   "execution_count": 27,
   "metadata": {},
   "outputs": [
    {
     "data": {
      "text/plain": [
       "id                   int64\n",
       "city_id             object\n",
       "date                object\n",
       "hour                 int64\n",
       "temp                 int64\n",
       "wind_speed           int64\n",
       "description         object\n",
       "precip             float64\n",
       "humidity             int64\n",
       "visibility           int64\n",
       "pressure             int64\n",
       "chanceofrain         int64\n",
       "chanceoffog          int64\n",
       "chanceofsnow         int64\n",
       "chanceofthunder      int64\n",
       "dtype: object"
      ]
     },
     "execution_count": 27,
     "metadata": {},
     "output_type": "execute_result"
    }
   ],
   "source": [
    "city_weather.dtypes"
   ]
  },
  {
   "cell_type": "code",
   "execution_count": 28,
   "metadata": {},
   "outputs": [
    {
     "data": {
      "text/html": [
       "<div>\n",
       "<style scoped>\n",
       "    .dataframe tbody tr th:only-of-type {\n",
       "        vertical-align: middle;\n",
       "    }\n",
       "\n",
       "    .dataframe tbody tr th {\n",
       "        vertical-align: top;\n",
       "    }\n",
       "\n",
       "    .dataframe thead th {\n",
       "        text-align: right;\n",
       "    }\n",
       "</style>\n",
       "<table border=\"1\" class=\"dataframe\">\n",
       "  <thead>\n",
       "    <tr style=\"text-align: right;\">\n",
       "      <th></th>\n",
       "      <th>id</th>\n",
       "      <th>hour</th>\n",
       "      <th>temp</th>\n",
       "      <th>wind_speed</th>\n",
       "      <th>precip</th>\n",
       "      <th>humidity</th>\n",
       "      <th>visibility</th>\n",
       "      <th>pressure</th>\n",
       "      <th>chanceofrain</th>\n",
       "      <th>chanceoffog</th>\n",
       "      <th>chanceofsnow</th>\n",
       "      <th>chanceofthunder</th>\n",
       "    </tr>\n",
       "  </thead>\n",
       "  <tbody>\n",
       "    <tr>\n",
       "      <th>count</th>\n",
       "      <td>55176.000000</td>\n",
       "      <td>55176.000000</td>\n",
       "      <td>55176.000000</td>\n",
       "      <td>55176.000000</td>\n",
       "      <td>55176.000000</td>\n",
       "      <td>55176.000000</td>\n",
       "      <td>55176.000000</td>\n",
       "      <td>55176.000000</td>\n",
       "      <td>55176.0</td>\n",
       "      <td>55176.0</td>\n",
       "      <td>55176.0</td>\n",
       "      <td>55176.0</td>\n",
       "    </tr>\n",
       "    <tr>\n",
       "      <th>mean</th>\n",
       "      <td>27588.500000</td>\n",
       "      <td>1150.000000</td>\n",
       "      <td>36.896169</td>\n",
       "      <td>7.888647</td>\n",
       "      <td>0.003614</td>\n",
       "      <td>70.808141</td>\n",
       "      <td>5.168878</td>\n",
       "      <td>1019.413404</td>\n",
       "      <td>0.0</td>\n",
       "      <td>0.0</td>\n",
       "      <td>0.0</td>\n",
       "      <td>0.0</td>\n",
       "    </tr>\n",
       "    <tr>\n",
       "      <th>std</th>\n",
       "      <td>15928.083563</td>\n",
       "      <td>692.224928</td>\n",
       "      <td>21.766273</td>\n",
       "      <td>4.349798</td>\n",
       "      <td>0.023185</td>\n",
       "      <td>21.078367</td>\n",
       "      <td>1.639954</td>\n",
       "      <td>8.543195</td>\n",
       "      <td>0.0</td>\n",
       "      <td>0.0</td>\n",
       "      <td>0.0</td>\n",
       "      <td>0.0</td>\n",
       "    </tr>\n",
       "    <tr>\n",
       "      <th>min</th>\n",
       "      <td>1.000000</td>\n",
       "      <td>0.000000</td>\n",
       "      <td>-35.000000</td>\n",
       "      <td>0.000000</td>\n",
       "      <td>0.000000</td>\n",
       "      <td>3.000000</td>\n",
       "      <td>0.000000</td>\n",
       "      <td>988.000000</td>\n",
       "      <td>0.0</td>\n",
       "      <td>0.0</td>\n",
       "      <td>0.0</td>\n",
       "      <td>0.0</td>\n",
       "    </tr>\n",
       "    <tr>\n",
       "      <th>25%</th>\n",
       "      <td>13794.750000</td>\n",
       "      <td>575.000000</td>\n",
       "      <td>23.000000</td>\n",
       "      <td>5.000000</td>\n",
       "      <td>0.000000</td>\n",
       "      <td>57.000000</td>\n",
       "      <td>6.000000</td>\n",
       "      <td>1014.000000</td>\n",
       "      <td>0.0</td>\n",
       "      <td>0.0</td>\n",
       "      <td>0.0</td>\n",
       "      <td>0.0</td>\n",
       "    </tr>\n",
       "    <tr>\n",
       "      <th>50%</th>\n",
       "      <td>27588.500000</td>\n",
       "      <td>1150.000000</td>\n",
       "      <td>34.000000</td>\n",
       "      <td>7.000000</td>\n",
       "      <td>0.000000</td>\n",
       "      <td>75.000000</td>\n",
       "      <td>6.000000</td>\n",
       "      <td>1019.000000</td>\n",
       "      <td>0.0</td>\n",
       "      <td>0.0</td>\n",
       "      <td>0.0</td>\n",
       "      <td>0.0</td>\n",
       "    </tr>\n",
       "    <tr>\n",
       "      <th>75%</th>\n",
       "      <td>41382.250000</td>\n",
       "      <td>1725.000000</td>\n",
       "      <td>48.000000</td>\n",
       "      <td>11.000000</td>\n",
       "      <td>0.000000</td>\n",
       "      <td>88.000000</td>\n",
       "      <td>6.000000</td>\n",
       "      <td>1025.000000</td>\n",
       "      <td>0.0</td>\n",
       "      <td>0.0</td>\n",
       "      <td>0.0</td>\n",
       "      <td>0.0</td>\n",
       "    </tr>\n",
       "    <tr>\n",
       "      <th>max</th>\n",
       "      <td>55176.000000</td>\n",
       "      <td>2300.000000</td>\n",
       "      <td>104.000000</td>\n",
       "      <td>33.000000</td>\n",
       "      <td>0.800000</td>\n",
       "      <td>100.000000</td>\n",
       "      <td>6.000000</td>\n",
       "      <td>1049.000000</td>\n",
       "      <td>0.0</td>\n",
       "      <td>0.0</td>\n",
       "      <td>0.0</td>\n",
       "      <td>0.0</td>\n",
       "    </tr>\n",
       "  </tbody>\n",
       "</table>\n",
       "</div>"
      ],
      "text/plain": [
       "                 id          hour          temp    wind_speed        precip  \\\n",
       "count  55176.000000  55176.000000  55176.000000  55176.000000  55176.000000   \n",
       "mean   27588.500000   1150.000000     36.896169      7.888647      0.003614   \n",
       "std    15928.083563    692.224928     21.766273      4.349798      0.023185   \n",
       "min        1.000000      0.000000    -35.000000      0.000000      0.000000   \n",
       "25%    13794.750000    575.000000     23.000000      5.000000      0.000000   \n",
       "50%    27588.500000   1150.000000     34.000000      7.000000      0.000000   \n",
       "75%    41382.250000   1725.000000     48.000000     11.000000      0.000000   \n",
       "max    55176.000000   2300.000000    104.000000     33.000000      0.800000   \n",
       "\n",
       "           humidity    visibility      pressure  chanceofrain  chanceoffog  \\\n",
       "count  55176.000000  55176.000000  55176.000000       55176.0      55176.0   \n",
       "mean      70.808141      5.168878   1019.413404           0.0          0.0   \n",
       "std       21.078367      1.639954      8.543195           0.0          0.0   \n",
       "min        3.000000      0.000000    988.000000           0.0          0.0   \n",
       "25%       57.000000      6.000000   1014.000000           0.0          0.0   \n",
       "50%       75.000000      6.000000   1019.000000           0.0          0.0   \n",
       "75%       88.000000      6.000000   1025.000000           0.0          0.0   \n",
       "max      100.000000      6.000000   1049.000000           0.0          0.0   \n",
       "\n",
       "       chanceofsnow  chanceofthunder  \n",
       "count       55176.0          55176.0  \n",
       "mean            0.0              0.0  \n",
       "std             0.0              0.0  \n",
       "min             0.0              0.0  \n",
       "25%             0.0              0.0  \n",
       "50%             0.0              0.0  \n",
       "75%             0.0              0.0  \n",
       "max             0.0              0.0  "
      ]
     },
     "execution_count": 28,
     "metadata": {},
     "output_type": "execute_result"
    }
   ],
   "source": [
    "city_weather.describe()"
   ]
  },
  {
   "cell_type": "code",
   "execution_count": 29,
   "metadata": {},
   "outputs": [
    {
     "data": {
      "text/plain": [
       "id                 0\n",
       "city_id            0\n",
       "date               0\n",
       "hour               0\n",
       "temp               0\n",
       "wind_speed         0\n",
       "description        0\n",
       "precip             0\n",
       "humidity           0\n",
       "visibility         0\n",
       "pressure           0\n",
       "chanceofrain       0\n",
       "chanceoffog        0\n",
       "chanceofsnow       0\n",
       "chanceofthunder    0\n",
       "dtype: int64"
      ]
     },
     "execution_count": 29,
     "metadata": {},
     "output_type": "execute_result"
    }
   ],
   "source": [
    "city_weather.isna().sum()"
   ]
  },
  {
   "cell_type": "code",
   "execution_count": 30,
   "metadata": {},
   "outputs": [
    {
     "data": {
      "text/plain": [
       "id                 55176\n",
       "city_id               49\n",
       "date                  46\n",
       "hour                  24\n",
       "temp                  78\n",
       "wind_speed            34\n",
       "description           47\n",
       "precip                 8\n",
       "humidity              98\n",
       "visibility             7\n",
       "pressure              62\n",
       "chanceofrain           1\n",
       "chanceoffog            1\n",
       "chanceofsnow           1\n",
       "chanceofthunder        1\n",
       "dtype: int64"
      ]
     },
     "execution_count": 30,
     "metadata": {},
     "output_type": "execute_result"
    }
   ],
   "source": [
    "city_weather.nunique()"
   ]
  },
  {
   "cell_type": "code",
   "execution_count": 31,
   "metadata": {},
   "outputs": [
    {
     "data": {
      "text/plain": [
       "(55176, 15)"
      ]
     },
     "execution_count": 31,
     "metadata": {},
     "output_type": "execute_result"
    }
   ],
   "source": [
    "city_weather.shape"
   ]
  },
  {
   "cell_type": "code",
   "execution_count": 32,
   "metadata": {},
   "outputs": [
    {
     "name": "stdout",
     "output_type": "stream",
     "text": [
      "id                 0\n",
      "city_id            0\n",
      "date               0\n",
      "hour               0\n",
      "temp               0\n",
      "wind_speed         0\n",
      "description        0\n",
      "precip             0\n",
      "humidity           0\n",
      "visibility         0\n",
      "pressure           0\n",
      "chanceofrain       0\n",
      "chanceoffog        0\n",
      "chanceofsnow       0\n",
      "chanceofthunder    0\n",
      "dtype: int64\n"
     ]
    }
   ],
   "source": [
    "# Check for missing values\n",
    "missing_values = city_weather.isna().sum()\n",
    "print(missing_values)\n"
   ]
  },
  {
   "cell_type": "markdown",
   "metadata": {},
   "source": [
    " no missing values, convert Data types - convert date to datetime and hour to categorical"
   ]
  },
  {
   "cell_type": "code",
   "execution_count": 33,
   "metadata": {},
   "outputs": [],
   "source": [
    "#Convert date to datetime\n",
    "city_weather['date'] = pd.to_datetime(city_weather['date'])\n",
    "\n",
    "\n"
   ]
  },
  {
   "cell_type": "code",
   "execution_count": 34,
   "metadata": {},
   "outputs": [],
   "source": [
    "\n",
    "\n",
    "# Convert 'hour' to int format (remove leading zeros and convert to 24-hour format)\n",
    "city_weather['hour'] = (city_weather['hour'] // 100).astype(int)\n",
    "\n"
   ]
  },
  {
   "cell_type": "code",
   "execution_count": 35,
   "metadata": {},
   "outputs": [],
   "source": [
    "\n",
    "\n",
    "# Create a new date_time column by combining 'date' and 'hour'\n",
    "city_weather['date_time'] = city_weather['date'] + pd.to_timedelta(city_weather['hour'], unit='h')\n",
    "\n"
   ]
  },
  {
   "cell_type": "code",
   "execution_count": 36,
   "metadata": {},
   "outputs": [],
   "source": [
    "# Create 'event_date' as a copy of 'date' (or adjust as needed)\n",
    "city_weather['event_date'] = city_weather['date']\n",
    "\n"
   ]
  },
  {
   "cell_type": "code",
   "execution_count": 37,
   "metadata": {},
   "outputs": [],
   "source": [
    "# Create a new 'index' column starting from 1\n",
    "city_weather['index'] = city_weather.index + 1\n",
    "\n",
    "# Move the 'index' column to the front\n",
    "city_weather = city_weather[['index'] + [col for col in city_weather.columns if col != 'index']]\n"
   ]
  },
  {
   "cell_type": "code",
   "execution_count": 38,
   "metadata": {},
   "outputs": [
    {
     "data": {
      "text/plain": [
       "<bound method NDFrame.head of        index     id     city_id       date  hour  temp  wind_speed  \\\n",
       "0          1      1  C-927ceb5e 2019-01-01     0    30          11   \n",
       "1          2      2  C-927ceb5e 2019-01-01     1    28          12   \n",
       "2          3      3  C-927ceb5e 2019-01-01     2    28          13   \n",
       "3          4      4  C-927ceb5e 2019-01-01     3    28          14   \n",
       "4          5      5  C-927ceb5e 2019-01-01     4    28          13   \n",
       "...      ...    ...         ...        ...   ...   ...         ...   \n",
       "55171  55172  55172  C-594514f8 2019-02-15    19    23           3   \n",
       "55172  55173  55173  C-594514f8 2019-02-15    20    23           3   \n",
       "55173  55174  55174  C-594514f8 2019-02-15    21    23           3   \n",
       "55174  55175  55175  C-594514f8 2019-02-15    22    23           2   \n",
       "55175  55176  55176  C-594514f8 2019-02-15    23    23           2   \n",
       "\n",
       "         description  precip  humidity  visibility  pressure  chanceofrain  \\\n",
       "0         Light snow     0.0        86           6      1019             0   \n",
       "1         Light snow     0.0        86           5      1021             0   \n",
       "2      Moderate snow     0.0        85           4      1022             0   \n",
       "3      Moderate snow     0.0        84           3      1024             0   \n",
       "4      Moderate snow     0.0        84           3      1025             0   \n",
       "...              ...     ...       ...         ...       ...           ...   \n",
       "55171         Cloudy     0.0        74           6      1018             0   \n",
       "55172     Light snow     0.0        74           6      1018             0   \n",
       "55173     Light snow     0.0        75           6      1019             0   \n",
       "55174     Light snow     0.0        75           6      1019             0   \n",
       "55175     Light snow     0.0        75           6      1019             0   \n",
       "\n",
       "       chanceoffog  chanceofsnow  chanceofthunder           date_time  \\\n",
       "0                0             0                0 2019-01-01 00:00:00   \n",
       "1                0             0                0 2019-01-01 01:00:00   \n",
       "2                0             0                0 2019-01-01 02:00:00   \n",
       "3                0             0                0 2019-01-01 03:00:00   \n",
       "4                0             0                0 2019-01-01 04:00:00   \n",
       "...            ...           ...              ...                 ...   \n",
       "55171            0             0                0 2019-02-15 19:00:00   \n",
       "55172            0             0                0 2019-02-15 20:00:00   \n",
       "55173            0             0                0 2019-02-15 21:00:00   \n",
       "55174            0             0                0 2019-02-15 22:00:00   \n",
       "55175            0             0                0 2019-02-15 23:00:00   \n",
       "\n",
       "      event_date  \n",
       "0     2019-01-01  \n",
       "1     2019-01-01  \n",
       "2     2019-01-01  \n",
       "3     2019-01-01  \n",
       "4     2019-01-01  \n",
       "...          ...  \n",
       "55171 2019-02-15  \n",
       "55172 2019-02-15  \n",
       "55173 2019-02-15  \n",
       "55174 2019-02-15  \n",
       "55175 2019-02-15  \n",
       "\n",
       "[55176 rows x 18 columns]>"
      ]
     },
     "execution_count": 38,
     "metadata": {},
     "output_type": "execute_result"
    }
   ],
   "source": [
    "city_weather.head\n"
   ]
  },
  {
   "cell_type": "code",
   "execution_count": 39,
   "metadata": {},
   "outputs": [
    {
     "data": {
      "text/plain": [
       "index                       int64\n",
       "id                          int64\n",
       "city_id                    object\n",
       "date               datetime64[ns]\n",
       "hour                        int32\n",
       "temp                        int64\n",
       "wind_speed                  int64\n",
       "description                object\n",
       "precip                    float64\n",
       "humidity                    int64\n",
       "visibility                  int64\n",
       "pressure                    int64\n",
       "chanceofrain                int64\n",
       "chanceoffog                 int64\n",
       "chanceofsnow                int64\n",
       "chanceofthunder             int64\n",
       "date_time          datetime64[ns]\n",
       "event_date         datetime64[ns]\n",
       "dtype: object"
      ]
     },
     "execution_count": 39,
     "metadata": {},
     "output_type": "execute_result"
    }
   ],
   "source": [
    "city_weather.dtypes"
   ]
  },
  {
   "cell_type": "markdown",
   "metadata": {},
   "source": [
    "Check for Duplicates"
   ]
  },
  {
   "cell_type": "code",
   "execution_count": 40,
   "metadata": {},
   "outputs": [
    {
     "name": "stdout",
     "output_type": "stream",
     "text": [
      "Number of duplicate rows (considering all columns): 0\n"
     ]
    }
   ],
   "source": [
    "# Check for duplicates across all columns\n",
    "duplicates_all = city_weather.duplicated().sum()\n",
    "print(f\"Number of duplicate rows (considering all columns): {duplicates_all}\")\n"
   ]
  },
  {
   "cell_type": "code",
   "execution_count": 41,
   "metadata": {},
   "outputs": [
    {
     "name": "stdout",
     "output_type": "stream",
     "text": [
      "Missing values by column:\n",
      "index              0\n",
      "id                 0\n",
      "city_id            0\n",
      "date               0\n",
      "hour               0\n",
      "temp               0\n",
      "wind_speed         0\n",
      "description        0\n",
      "precip             0\n",
      "humidity           0\n",
      "visibility         0\n",
      "pressure           0\n",
      "chanceofrain       0\n",
      "chanceoffog        0\n",
      "chanceofsnow       0\n",
      "chanceofthunder    0\n",
      "date_time          0\n",
      "event_date         0\n",
      "dtype: int64\n"
     ]
    }
   ],
   "source": [
    "# Check for missing values\n",
    "missing_values = city_weather.isnull().sum()\n",
    "print(\"Missing values by column:\")\n",
    "print(missing_values)\n"
   ]
  },
  {
   "cell_type": "markdown",
   "metadata": {},
   "source": [
    "Handle Outliers"
   ]
  },
  {
   "cell_type": "markdown",
   "metadata": {},
   "source": [
    "Finding Outliers for numerical features"
   ]
  },
  {
   "cell_type": "code",
   "execution_count": 43,
   "metadata": {},
   "outputs": [
    {
     "data": {
      "text/plain": [
       "index                       int64\n",
       "id                          int64\n",
       "city_id                    object\n",
       "date               datetime64[ns]\n",
       "hour                        int32\n",
       "temp                        int64\n",
       "wind_speed                  int64\n",
       "description                object\n",
       "precip                    float64\n",
       "humidity                    int64\n",
       "visibility                  int64\n",
       "pressure                    int64\n",
       "chanceofrain                int64\n",
       "chanceoffog                 int64\n",
       "chanceofsnow                int64\n",
       "chanceofthunder             int64\n",
       "date_time          datetime64[ns]\n",
       "event_date         datetime64[ns]\n",
       "dtype: object"
      ]
     },
     "execution_count": 43,
     "metadata": {},
     "output_type": "execute_result"
    }
   ],
   "source": [
    "city_weather.dtypes"
   ]
  },
  {
   "cell_type": "code",
   "execution_count": 44,
   "metadata": {},
   "outputs": [
    {
     "data": {
      "image/png": "[encoded data removed]",
      "text/plain": [
       "<Figure size 1200x800 with 1 Axes>"
      ]
     },
     "metadata": {},
     "output_type": "display_data"
    }
   ],
   "source": [
    "# Visualize outliers using boxplots:\n",
    "\n",
    "# List of numerical features to include in the boxplot\n",
    "numerical_features = ['hour','temp', 'wind_speed', 'precip', 'humidity', 'visibility', 'pressure',\n",
    "                       'chanceofrain', 'chanceoffog', 'chanceofsnow', 'chanceofthunder']\n",
    "\n",
    "# Create a boxplot for the numerical features\n",
    "plt.figure(figsize=(12, 8))\n",
    "sns.boxplot(data=city_weather[numerical_features])\n",
    "plt.xticks(rotation=45)\n",
    "plt.title('Boxplot of Numerical Features')\n",
    "plt.show()\n",
    "\n"
   ]
  },
  {
   "cell_type": "code",
   "execution_count": 45,
   "metadata": {},
   "outputs": [
    {
     "name": "stdout",
     "output_type": "stream",
     "text": [
      "Number of outliers in hour: 0\n",
      "Number of outliers in temp: 1367\n",
      "Number of outliers in wind_speed: 705\n",
      "Number of outliers in humidity: 565\n",
      "Number of outliers in pressure: 732\n"
     ]
    }
   ],
   "source": [
    "\n",
    "import pandas as pd\n",
    "\n",
    "# List of numerical features\n",
    "numerical_features = ['hour','temp', 'wind_speed', 'humidity', 'pressure']\n",
    "\n",
    "\n",
    "# Do not remove outliers for precip and visibility --\n",
    "\n",
    "# Define a dictionary to store outliers for each feature\n",
    "outliers_dict = {}\n",
    "\n",
    "for feature in numerical_features:\n",
    "    Q1 = city_weather[feature].quantile(0.25)\n",
    "    Q3 = city_weather[feature].quantile(0.75)\n",
    "    IQR = Q3 - Q1\n",
    "    \n",
    "    outliers = city_weather[(city_weather[feature] < (Q1 - 1.5 * IQR)) |\n",
    "                            (city_weather[feature] > (Q3 + 1.5 * IQR))]\n",
    "    \n",
    "    outliers_dict[feature] = outliers\n",
    "\n",
    "# Display the number of outliers for each feature\n",
    "for feature, outliers in outliers_dict.items():\n",
    "    print(f\"Number of outliers in {feature}: {len(outliers)}\")\n"
   ]
  },
  {
   "cell_type": "code",
   "execution_count": 46,
   "metadata": {},
   "outputs": [
    {
     "data": {
      "image/png": "[encoded data removed]",
      "text/plain": [
       "<Figure size 1200x600 with 1 Axes>"
      ]
     },
     "metadata": {},
     "output_type": "display_data"
    },
    {
     "data": {
      "image/png": "[encoded data removed]",
      "text/plain": [
       "<Figure size 1200x600 with 1 Axes>"
      ]
     },
     "metadata": {},
     "output_type": "display_data"
    },
    {
     "data": {
      "image/png": "[encoded data removed]",
      "text/plain": [
       "<Figure size 1200x600 with 1 Axes>"
      ]
     },
     "metadata": {},
     "output_type": "display_data"
    },
    {
     "data": {
      "image/png": "[encoded data removed]",
      "text/plain": [
       "<Figure size 1200x600 with 1 Axes>"
      ]
     },
     "metadata": {},
     "output_type": "display_data"
    },
    {
     "data": {
      "image/png": "[encoded data removed]",
      "text/plain": [
       "<Figure size 1200x600 with 1 Axes>"
      ]
     },
     "metadata": {},
     "output_type": "display_data"
    }
   ],
   "source": [
    "\n",
    "import matplotlib.pyplot as plt\n",
    "\n",
    "# Plot histograms for each numerical feature\n",
    "for feature in numerical_features:\n",
    "    plt.figure(figsize=(12, 6))\n",
    "    \n",
    "    # Plot histogram for the feature\n",
    "    plt.hist(city_weather[feature], bins=50, color='blue', alpha=0.7, label=f'{feature} (All)')\n",
    "    \n",
    "    # Plot histogram for the outliers\n",
    "    plt.hist(outliers_dict[feature][feature], bins=50, color='red', alpha=0.7, label=f'Outliers in {feature}')\n",
    "    \n",
    "    plt.xlabel(feature)\n",
    "    plt.ylabel('Frequency')\n",
    "    plt.title(f'{feature} Distribution with Outliers')\n",
    "    plt.legend()\n",
    "    plt.show()\n"
   ]
  },
  {
   "cell_type": "code",
   "execution_count": 47,
   "metadata": {},
   "outputs": [
    {
     "name": "stdout",
     "output_type": "stream",
     "text": [
      "       index     id     city_id       date  hour  temp  wind_speed  \\\n",
      "0          1      1  C-927ceb5e 2019-01-01     0    30          11   \n",
      "1          2      2  C-927ceb5e 2019-01-01     1    28          12   \n",
      "2          3      3  C-927ceb5e 2019-01-01     2    28          13   \n",
      "3          4      4  C-927ceb5e 2019-01-01     3    28          14   \n",
      "4          5      5  C-927ceb5e 2019-01-01     4    28          13   \n",
      "...      ...    ...         ...        ...   ...   ...         ...   \n",
      "55171  55172  55172  C-594514f8 2019-02-15    19    23           3   \n",
      "55172  55173  55173  C-594514f8 2019-02-15    20    23           3   \n",
      "55173  55174  55174  C-594514f8 2019-02-15    21    23           3   \n",
      "55174  55175  55175  C-594514f8 2019-02-15    22    23           2   \n",
      "55175  55176  55176  C-594514f8 2019-02-15    23    23           2   \n",
      "\n",
      "         description  precip  humidity  visibility  pressure  chanceofrain  \\\n",
      "0         Light snow     0.0        86           6      1019             0   \n",
      "1         Light snow     0.0        86           5      1021             0   \n",
      "2      Moderate snow     0.0        85           4      1022             0   \n",
      "3      Moderate snow     0.0        84           3      1024             0   \n",
      "4      Moderate snow     0.0        84           3      1025             0   \n",
      "...              ...     ...       ...         ...       ...           ...   \n",
      "55171         Cloudy     0.0        74           6      1018             0   \n",
      "55172     Light snow     0.0        74           6      1018             0   \n",
      "55173     Light snow     0.0        75           6      1019             0   \n",
      "55174     Light snow     0.0        75           6      1019             0   \n",
      "55175     Light snow     0.0        75           6      1019             0   \n",
      "\n",
      "       chanceoffog  chanceofsnow  chanceofthunder           date_time  \\\n",
      "0                0             0                0 2019-01-01 00:00:00   \n",
      "1                0             0                0 2019-01-01 01:00:00   \n",
      "2                0             0                0 2019-01-01 02:00:00   \n",
      "3                0             0                0 2019-01-01 03:00:00   \n",
      "4                0             0                0 2019-01-01 04:00:00   \n",
      "...            ...           ...              ...                 ...   \n",
      "55171            0             0                0 2019-02-15 19:00:00   \n",
      "55172            0             0                0 2019-02-15 20:00:00   \n",
      "55173            0             0                0 2019-02-15 21:00:00   \n",
      "55174            0             0                0 2019-02-15 22:00:00   \n",
      "55175            0             0                0 2019-02-15 23:00:00   \n",
      "\n",
      "      event_date  \n",
      "0     2019-01-01  \n",
      "1     2019-01-01  \n",
      "2     2019-01-01  \n",
      "3     2019-01-01  \n",
      "4     2019-01-01  \n",
      "...          ...  \n",
      "55171 2019-02-15  \n",
      "55172 2019-02-15  \n",
      "55173 2019-02-15  \n",
      "55174 2019-02-15  \n",
      "55175 2019-02-15  \n",
      "\n",
      "[51834 rows x 18 columns]\n",
      "Number of rows after outlier removal: 51834\n"
     ]
    }
   ],
   "source": [
    "\n",
    "#remove outliers\n",
    "\n",
    "import pandas as pd\n",
    "\n",
    "# List of numerical features for which to remove outliers\n",
    "numerical_features = ['hour', 'temp', 'wind_speed', 'humidity', 'pressure']\n",
    "\n",
    "# Iterate through each numerical feature and remove outliers\n",
    "for feature in numerical_features:\n",
    "    Q1 = city_weather[feature].quantile(0.25)\n",
    "    Q3 = city_weather[feature].quantile(0.75)\n",
    "    IQR = Q3 - Q1\n",
    "    \n",
    "    # Define lower and upper bounds for the feature\n",
    "    lower_bound = Q1 - 1.5 * IQR\n",
    "    upper_bound = Q3 + 1.5 * IQR\n",
    "    \n",
    "    # Filter the DataFrame to remove outliers for this feature\n",
    "    city_weather = city_weather[(city_weather[feature] >= lower_bound) & (city_weather[feature] <= upper_bound)]\n",
    "\n",
    "# The DataFrame after outlier removal\n",
    "print(city_weather)\n",
    "\n",
    "# Check the shape to see how many rows remain\n",
    "print(f\"Number of rows after outlier removal: {city_weather.shape[0]}\")\n"
   ]
  },
  {
   "cell_type": "markdown",
   "metadata": {},
   "source": [
    "hour feature was mapped to a standard range (0 to 23), so it doesn't have outliers in the categorical sense, as the values now fall within a defined range."
   ]
  },
  {
   "cell_type": "code",
   "execution_count": 48,
   "metadata": {},
   "outputs": [
    {
     "name": "stdout",
     "output_type": "stream",
     "text": [
      "index                       int64\n",
      "id                          int64\n",
      "city_id                    object\n",
      "date               datetime64[ns]\n",
      "hour                        int32\n",
      "temp                        int64\n",
      "wind_speed                  int64\n",
      "description                object\n",
      "precip                    float64\n",
      "humidity                    int64\n",
      "visibility                  int64\n",
      "pressure                    int64\n",
      "chanceofrain                int64\n",
      "chanceoffog                 int64\n",
      "chanceofsnow                int64\n",
      "chanceofthunder             int64\n",
      "date_time          datetime64[ns]\n",
      "event_date         datetime64[ns]\n",
      "dtype: object\n"
     ]
    }
   ],
   "source": [
    "print(city_weather.dtypes)\n"
   ]
  },
  {
   "cell_type": "code",
   "execution_count": 49,
   "metadata": {},
   "outputs": [
    {
     "data": {
      "text/plain": [
       "(51834, 18)"
      ]
     },
     "execution_count": 49,
     "metadata": {},
     "output_type": "execute_result"
    }
   ],
   "source": [
    "city_weather.shape"
   ]
  },
  {
   "cell_type": "code",
   "execution_count": 50,
   "metadata": {},
   "outputs": [],
   "source": [
    "# saving cleaned data for city_weather.csv\n",
    "city_weather.to_csv('C:/Users/anucv/OneDrive/Desktop/AI and ML training/Machine_Learning/TRUCK_DELAY_CLASSIFICATION_PROJECT/Data/Cleaned_data/cleaned_city_weather.csv', index=False)\n"
   ]
  },
  {
   "cell_type": "code",
   "execution_count": null,
   "metadata": {},
   "outputs": [],
   "source": []
  },
  {
   "cell_type": "code",
   "execution_count": null,
   "metadata": {},
   "outputs": [],
   "source": []
  },
  {
   "cell_type": "code",
   "execution_count": null,
   "metadata": {},
   "outputs": [],
   "source": []
  },
  {
   "cell_type": "markdown",
   "metadata": {},
   "source": [
    "drivers"
   ]
  },
  {
   "cell_type": "code",
   "execution_count": 51,
   "metadata": {},
   "outputs": [
    {
     "data": {
      "text/html": [
       "<div>\n",
       "<style scoped>\n",
       "    .dataframe tbody tr th:only-of-type {\n",
       "        vertical-align: middle;\n",
       "    }\n",
       "\n",
       "    .dataframe tbody tr th {\n",
       "        vertical-align: top;\n",
       "    }\n",
       "\n",
       "    .dataframe thead th {\n",
       "        text-align: right;\n",
       "    }\n",
       "</style>\n",
       "<table border=\"1\" class=\"dataframe\">\n",
       "  <thead>\n",
       "    <tr style=\"text-align: right;\">\n",
       "      <th></th>\n",
       "      <th>id</th>\n",
       "      <th>driver_id</th>\n",
       "      <th>name</th>\n",
       "      <th>gender</th>\n",
       "      <th>age</th>\n",
       "      <th>experience</th>\n",
       "      <th>driving_style</th>\n",
       "      <th>ratings</th>\n",
       "      <th>vehicle_no</th>\n",
       "      <th>average_speed_mph</th>\n",
       "    </tr>\n",
       "  </thead>\n",
       "  <tbody>\n",
       "    <tr>\n",
       "      <th>0</th>\n",
       "      <td>1</td>\n",
       "      <td>d9f30553-6</td>\n",
       "      <td>Daniel Marks</td>\n",
       "      <td>male</td>\n",
       "      <td>47</td>\n",
       "      <td>5</td>\n",
       "      <td>proactive</td>\n",
       "      <td>7</td>\n",
       "      <td>42302347</td>\n",
       "      <td>62.22</td>\n",
       "    </tr>\n",
       "    <tr>\n",
       "      <th>1</th>\n",
       "      <td>2</td>\n",
       "      <td>82de7bb8-2</td>\n",
       "      <td>Clifford Carr</td>\n",
       "      <td>male</td>\n",
       "      <td>47</td>\n",
       "      <td>14</td>\n",
       "      <td>proactive</td>\n",
       "      <td>4</td>\n",
       "      <td>27867488</td>\n",
       "      <td>60.89</td>\n",
       "    </tr>\n",
       "    <tr>\n",
       "      <th>2</th>\n",
       "      <td>3</td>\n",
       "      <td>7e789842-4</td>\n",
       "      <td>Terry Faulkner MD</td>\n",
       "      <td>male</td>\n",
       "      <td>41</td>\n",
       "      <td>9</td>\n",
       "      <td>conservative</td>\n",
       "      <td>2</td>\n",
       "      <td>13927774</td>\n",
       "      <td>53.67</td>\n",
       "    </tr>\n",
       "    <tr>\n",
       "      <th>3</th>\n",
       "      <td>4</td>\n",
       "      <td>b2555587-8</td>\n",
       "      <td>Brendan Jacobs</td>\n",
       "      <td>male</td>\n",
       "      <td>44</td>\n",
       "      <td>10</td>\n",
       "      <td>proactive</td>\n",
       "      <td>2</td>\n",
       "      <td>69577118</td>\n",
       "      <td>59.82</td>\n",
       "    </tr>\n",
       "    <tr>\n",
       "      <th>4</th>\n",
       "      <td>5</td>\n",
       "      <td>b2e58421-d</td>\n",
       "      <td>Vincent Davis</td>\n",
       "      <td>male</td>\n",
       "      <td>41</td>\n",
       "      <td>10</td>\n",
       "      <td>proactive</td>\n",
       "      <td>7</td>\n",
       "      <td>28650047</td>\n",
       "      <td>62.65</td>\n",
       "    </tr>\n",
       "  </tbody>\n",
       "</table>\n",
       "</div>"
      ],
      "text/plain": [
       "   id   driver_id               name gender  age  experience driving_style  \\\n",
       "0   1  d9f30553-6       Daniel Marks   male   47           5     proactive   \n",
       "1   2  82de7bb8-2      Clifford Carr   male   47          14     proactive   \n",
       "2   3  7e789842-4  Terry Faulkner MD   male   41           9  conservative   \n",
       "3   4  b2555587-8     Brendan Jacobs   male   44          10     proactive   \n",
       "4   5  b2e58421-d      Vincent Davis   male   41          10     proactive   \n",
       "\n",
       "   ratings  vehicle_no  average_speed_mph  \n",
       "0        7    42302347              62.22  \n",
       "1        4    27867488              60.89  \n",
       "2        2    13927774              53.67  \n",
       "3        2    69577118              59.82  \n",
       "4        7    28650047              62.65  "
      ]
     },
     "execution_count": 51,
     "metadata": {},
     "output_type": "execute_result"
    }
   ],
   "source": [
    "\n",
    "# Database connection parameters\n",
    "db_host = 'localhost'  # or the IP address of your Docker container\n",
    "db_port = '5432'\n",
    "db_name = 'truck_delay_classification'\n",
    "db_user = 'postgres'\n",
    "db_password = 'Anu0408'  # Change this if you set a different password\n",
    "\n",
    "\n",
    "# Create a connection engine\n",
    "engine = create_engine(f'postgresql://{db_user}:{db_password}@{db_host}:{db_port}/{db_name}')\n",
    "\n",
    "# Query to select data\n",
    " \n",
    "\n",
    "query = 'SELECT * FROM drivers_table;'  \n",
    "\n",
    "\n",
    "# Read data into a DataFrame\n",
    "drivers = pd.read_sql_query(query, engine)\n",
    "\n",
    "# Display the first few rows of the DataFrame\n",
    "drivers.head()\n",
    "\n"
   ]
  },
  {
   "cell_type": "code",
   "execution_count": 52,
   "metadata": {},
   "outputs": [],
   "source": [
    "drivers = pd.read_csv('C:/Users/anucv/OneDrive/Desktop/AI and ML training/Machine_Learning/TRUCK_DELAY_CLASSIFICATION_PROJECT/Data/Training_data/drivers_table.csv')\n"
   ]
  },
  {
   "cell_type": "code",
   "execution_count": 53,
   "metadata": {},
   "outputs": [
    {
     "data": {
      "text/html": [
       "<div>\n",
       "<style scoped>\n",
       "    .dataframe tbody tr th:only-of-type {\n",
       "        vertical-align: middle;\n",
       "    }\n",
       "\n",
       "    .dataframe tbody tr th {\n",
       "        vertical-align: top;\n",
       "    }\n",
       "\n",
       "    .dataframe thead th {\n",
       "        text-align: right;\n",
       "    }\n",
       "</style>\n",
       "<table border=\"1\" class=\"dataframe\">\n",
       "  <thead>\n",
       "    <tr style=\"text-align: right;\">\n",
       "      <th></th>\n",
       "      <th>driver_id</th>\n",
       "      <th>name</th>\n",
       "      <th>gender</th>\n",
       "      <th>age</th>\n",
       "      <th>experience</th>\n",
       "      <th>driving_style</th>\n",
       "      <th>ratings</th>\n",
       "      <th>vehicle_no</th>\n",
       "      <th>average_speed_mph</th>\n",
       "    </tr>\n",
       "  </thead>\n",
       "  <tbody>\n",
       "    <tr>\n",
       "      <th>0</th>\n",
       "      <td>d9f30553-6</td>\n",
       "      <td>Daniel Marks</td>\n",
       "      <td>male</td>\n",
       "      <td>47</td>\n",
       "      <td>5</td>\n",
       "      <td>proactive</td>\n",
       "      <td>7</td>\n",
       "      <td>42302347</td>\n",
       "      <td>62.22</td>\n",
       "    </tr>\n",
       "    <tr>\n",
       "      <th>1</th>\n",
       "      <td>82de7bb8-2</td>\n",
       "      <td>Clifford Carr</td>\n",
       "      <td>male</td>\n",
       "      <td>47</td>\n",
       "      <td>14</td>\n",
       "      <td>proactive</td>\n",
       "      <td>4</td>\n",
       "      <td>27867488</td>\n",
       "      <td>60.89</td>\n",
       "    </tr>\n",
       "    <tr>\n",
       "      <th>2</th>\n",
       "      <td>7e789842-4</td>\n",
       "      <td>Terry Faulkner MD</td>\n",
       "      <td>male</td>\n",
       "      <td>41</td>\n",
       "      <td>9</td>\n",
       "      <td>conservative</td>\n",
       "      <td>2</td>\n",
       "      <td>13927774</td>\n",
       "      <td>53.67</td>\n",
       "    </tr>\n",
       "    <tr>\n",
       "      <th>3</th>\n",
       "      <td>b2555587-8</td>\n",
       "      <td>Brendan Jacobs</td>\n",
       "      <td>male</td>\n",
       "      <td>44</td>\n",
       "      <td>10</td>\n",
       "      <td>proactive</td>\n",
       "      <td>2</td>\n",
       "      <td>69577118</td>\n",
       "      <td>59.82</td>\n",
       "    </tr>\n",
       "    <tr>\n",
       "      <th>4</th>\n",
       "      <td>b2e58421-d</td>\n",
       "      <td>Vincent Davis</td>\n",
       "      <td>male</td>\n",
       "      <td>41</td>\n",
       "      <td>10</td>\n",
       "      <td>proactive</td>\n",
       "      <td>7</td>\n",
       "      <td>28650047</td>\n",
       "      <td>62.65</td>\n",
       "    </tr>\n",
       "  </tbody>\n",
       "</table>\n",
       "</div>"
      ],
      "text/plain": [
       "    driver_id               name gender  age  experience driving_style  \\\n",
       "0  d9f30553-6       Daniel Marks   male   47           5     proactive   \n",
       "1  82de7bb8-2      Clifford Carr   male   47          14     proactive   \n",
       "2  7e789842-4  Terry Faulkner MD   male   41           9  conservative   \n",
       "3  b2555587-8     Brendan Jacobs   male   44          10     proactive   \n",
       "4  b2e58421-d      Vincent Davis   male   41          10     proactive   \n",
       "\n",
       "   ratings  vehicle_no  average_speed_mph  \n",
       "0        7    42302347              62.22  \n",
       "1        4    27867488              60.89  \n",
       "2        2    13927774              53.67  \n",
       "3        2    69577118              59.82  \n",
       "4        7    28650047              62.65  "
      ]
     },
     "execution_count": 53,
     "metadata": {},
     "output_type": "execute_result"
    }
   ],
   "source": [
    "drivers.head()\n"
   ]
  },
  {
   "cell_type": "code",
   "execution_count": 54,
   "metadata": {},
   "outputs": [
    {
     "data": {
      "text/plain": [
       "<bound method DataFrame.info of        driver_id               name gender  age  experience driving_style  \\\n",
       "0     d9f30553-6       Daniel Marks   male   47           5     proactive   \n",
       "1     82de7bb8-2      Clifford Carr   male   47          14     proactive   \n",
       "2     7e789842-4  Terry Faulkner MD   male   41           9  conservative   \n",
       "3     b2555587-8     Brendan Jacobs   male   44          10     proactive   \n",
       "4     b2e58421-d      Vincent Davis   male   41          10     proactive   \n",
       "...          ...                ...    ...  ...         ...           ...   \n",
       "1295  57f77e99-8     Robert Johnson   male   60          26     proactive   \n",
       "1296  e64c4059-8  Patrick Hernandez   male   46          20     proactive   \n",
       "1297  7e6a0cf5-1      Richard Ortiz   male   49          10  conservative   \n",
       "1298  c4a966b0-b    Peter Rodriguez   male   49           5  conservative   \n",
       "1299  e5d104b5-1   Michael Robinson   male   56          24     proactive   \n",
       "\n",
       "      ratings  vehicle_no  average_speed_mph  \n",
       "0           7    42302347              62.22  \n",
       "1           4    27867488              60.89  \n",
       "2           2    13927774              53.67  \n",
       "3           2    69577118              59.82  \n",
       "4           7    28650047              62.65  \n",
       "...       ...         ...                ...  \n",
       "1295        4    17792974              60.64  \n",
       "1296        8    17248432              58.42  \n",
       "1297        7    21865328              48.29  \n",
       "1298        8    33564827              43.14  \n",
       "1299        8    34755903              56.30  \n",
       "\n",
       "[1300 rows x 9 columns]>"
      ]
     },
     "execution_count": 54,
     "metadata": {},
     "output_type": "execute_result"
    }
   ],
   "source": [
    "drivers.info"
   ]
  },
  {
   "cell_type": "code",
   "execution_count": 55,
   "metadata": {},
   "outputs": [
    {
     "data": {
      "text/plain": [
       "(1300, 9)"
      ]
     },
     "execution_count": 55,
     "metadata": {},
     "output_type": "execute_result"
    }
   ],
   "source": [
    "drivers.shape"
   ]
  },
  {
   "cell_type": "code",
   "execution_count": 56,
   "metadata": {},
   "outputs": [
    {
     "data": {
      "text/plain": [
       "driver_id             object\n",
       "name                  object\n",
       "gender                object\n",
       "age                    int64\n",
       "experience             int64\n",
       "driving_style         object\n",
       "ratings                int64\n",
       "vehicle_no             int64\n",
       "average_speed_mph    float64\n",
       "dtype: object"
      ]
     },
     "execution_count": 56,
     "metadata": {},
     "output_type": "execute_result"
    }
   ],
   "source": [
    "drivers.dtypes"
   ]
  },
  {
   "cell_type": "code",
   "execution_count": 57,
   "metadata": {},
   "outputs": [
    {
     "data": {
      "text/html": [
       "<div>\n",
       "<style scoped>\n",
       "    .dataframe tbody tr th:only-of-type {\n",
       "        vertical-align: middle;\n",
       "    }\n",
       "\n",
       "    .dataframe tbody tr th {\n",
       "        vertical-align: top;\n",
       "    }\n",
       "\n",
       "    .dataframe thead th {\n",
       "        text-align: right;\n",
       "    }\n",
       "</style>\n",
       "<table border=\"1\" class=\"dataframe\">\n",
       "  <thead>\n",
       "    <tr style=\"text-align: right;\">\n",
       "      <th></th>\n",
       "      <th>age</th>\n",
       "      <th>experience</th>\n",
       "      <th>ratings</th>\n",
       "      <th>vehicle_no</th>\n",
       "      <th>average_speed_mph</th>\n",
       "    </tr>\n",
       "  </thead>\n",
       "  <tbody>\n",
       "    <tr>\n",
       "      <th>count</th>\n",
       "      <td>1300.000000</td>\n",
       "      <td>1300.000000</td>\n",
       "      <td>1300.000000</td>\n",
       "      <td>1.300000e+03</td>\n",
       "      <td>1300.000000</td>\n",
       "    </tr>\n",
       "    <tr>\n",
       "      <th>mean</th>\n",
       "      <td>47.814615</td>\n",
       "      <td>11.988462</td>\n",
       "      <td>5.633846</td>\n",
       "      <td>3.263242e+07</td>\n",
       "      <td>53.262854</td>\n",
       "    </tr>\n",
       "    <tr>\n",
       "      <th>std</th>\n",
       "      <td>4.973240</td>\n",
       "      <td>6.951765</td>\n",
       "      <td>2.137266</td>\n",
       "      <td>2.205390e+07</td>\n",
       "      <td>8.504282</td>\n",
       "    </tr>\n",
       "    <tr>\n",
       "      <th>min</th>\n",
       "      <td>28.000000</td>\n",
       "      <td>-8.000000</td>\n",
       "      <td>2.000000</td>\n",
       "      <td>1.000839e+07</td>\n",
       "      <td>29.150000</td>\n",
       "    </tr>\n",
       "    <tr>\n",
       "      <th>25%</th>\n",
       "      <td>45.000000</td>\n",
       "      <td>7.000000</td>\n",
       "      <td>4.000000</td>\n",
       "      <td>1.817244e+07</td>\n",
       "      <td>45.427500</td>\n",
       "    </tr>\n",
       "    <tr>\n",
       "      <th>50%</th>\n",
       "      <td>48.000000</td>\n",
       "      <td>11.000000</td>\n",
       "      <td>6.000000</td>\n",
       "      <td>2.584212e+07</td>\n",
       "      <td>57.340000</td>\n",
       "    </tr>\n",
       "    <tr>\n",
       "      <th>75%</th>\n",
       "      <td>51.000000</td>\n",
       "      <td>17.000000</td>\n",
       "      <td>8.000000</td>\n",
       "      <td>3.340052e+07</td>\n",
       "      <td>60.350000</td>\n",
       "    </tr>\n",
       "    <tr>\n",
       "      <th>max</th>\n",
       "      <td>65.000000</td>\n",
       "      <td>35.000000</td>\n",
       "      <td>9.000000</td>\n",
       "      <td>9.998167e+07</td>\n",
       "      <td>67.240000</td>\n",
       "    </tr>\n",
       "  </tbody>\n",
       "</table>\n",
       "</div>"
      ],
      "text/plain": [
       "               age   experience      ratings    vehicle_no  average_speed_mph\n",
       "count  1300.000000  1300.000000  1300.000000  1.300000e+03        1300.000000\n",
       "mean     47.814615    11.988462     5.633846  3.263242e+07          53.262854\n",
       "std       4.973240     6.951765     2.137266  2.205390e+07           8.504282\n",
       "min      28.000000    -8.000000     2.000000  1.000839e+07          29.150000\n",
       "25%      45.000000     7.000000     4.000000  1.817244e+07          45.427500\n",
       "50%      48.000000    11.000000     6.000000  2.584212e+07          57.340000\n",
       "75%      51.000000    17.000000     8.000000  3.340052e+07          60.350000\n",
       "max      65.000000    35.000000     9.000000  9.998167e+07          67.240000"
      ]
     },
     "execution_count": 57,
     "metadata": {},
     "output_type": "execute_result"
    }
   ],
   "source": [
    "drivers.describe()"
   ]
  },
  {
   "cell_type": "code",
   "execution_count": 58,
   "metadata": {},
   "outputs": [
    {
     "data": {
      "text/plain": [
       "driver_id             0\n",
       "name                  0\n",
       "gender               23\n",
       "age                   0\n",
       "experience            0\n",
       "driving_style        52\n",
       "ratings               0\n",
       "vehicle_no            0\n",
       "average_speed_mph     0\n",
       "dtype: int64"
      ]
     },
     "execution_count": 58,
     "metadata": {},
     "output_type": "execute_result"
    }
   ],
   "source": [
    "drivers.isna().sum()"
   ]
  },
  {
   "cell_type": "code",
   "execution_count": 59,
   "metadata": {},
   "outputs": [
    {
     "data": {
      "text/plain": [
       "driver_id            1300\n",
       "name                 1274\n",
       "gender                  2\n",
       "age                    36\n",
       "experience             41\n",
       "driving_style           2\n",
       "ratings                 8\n",
       "vehicle_no           1300\n",
       "average_speed_mph     978\n",
       "dtype: int64"
      ]
     },
     "execution_count": 59,
     "metadata": {},
     "output_type": "execute_result"
    }
   ],
   "source": [
    "drivers.nunique()"
   ]
  },
  {
   "cell_type": "markdown",
   "metadata": {},
   "source": [
    "Find and handle Missing values"
   ]
  },
  {
   "cell_type": "code",
   "execution_count": 60,
   "metadata": {},
   "outputs": [
    {
     "name": "stdout",
     "output_type": "stream",
     "text": [
      "driver_id             0\n",
      "name                  0\n",
      "gender               23\n",
      "age                   0\n",
      "experience            0\n",
      "driving_style        52\n",
      "ratings               0\n",
      "vehicle_no            0\n",
      "average_speed_mph     0\n",
      "dtype: int64\n"
     ]
    }
   ],
   "source": [
    "# Check for missing values\n",
    "missing_values = drivers.isnull().sum()\n",
    "print(missing_values)\n"
   ]
  },
  {
   "cell_type": "code",
   "execution_count": 61,
   "metadata": {},
   "outputs": [
    {
     "name": "stdout",
     "output_type": "stream",
     "text": [
      "Shape of the cleaned DataFrame: (1226, 9)\n",
      "driver_id            0\n",
      "name                 0\n",
      "gender               0\n",
      "age                  0\n",
      "experience           0\n",
      "driving_style        0\n",
      "ratings              0\n",
      "vehicle_no           0\n",
      "average_speed_mph    0\n",
      "dtype: int64\n"
     ]
    }
   ],
   "source": [
    "# Drop rows with missing values in 'gender' and 'driving_style'\n",
    "drivers = drivers.dropna(subset=['gender', 'driving_style'])\n",
    "\n",
    "# Check the shape of the cleaned DataFrame\n",
    "print(f\"Shape of the cleaned DataFrame: {drivers.shape}\")\n",
    "\n",
    "# Verify that there are no more missing values\n",
    "print(drivers.isnull().sum())\n"
   ]
  },
  {
   "cell_type": "markdown",
   "metadata": {},
   "source": [
    "Verify Missing Values After Imputation"
   ]
  },
  {
   "cell_type": "code",
   "execution_count": 62,
   "metadata": {},
   "outputs": [
    {
     "name": "stdout",
     "output_type": "stream",
     "text": [
      "driver_id            0\n",
      "name                 0\n",
      "gender               0\n",
      "age                  0\n",
      "experience           0\n",
      "driving_style        0\n",
      "ratings              0\n",
      "vehicle_no           0\n",
      "average_speed_mph    0\n",
      "dtype: int64\n"
     ]
    }
   ],
   "source": [
    "# Check for missing values again\n",
    "missing_values_after = drivers.isnull().sum()\n",
    "print(missing_values_after)\n"
   ]
  },
  {
   "cell_type": "markdown",
   "metadata": {},
   "source": [
    "Check for Duplicates - (bcoz, Duplicate rows can skew the analysis and models by over-representing certain data points)."
   ]
  },
  {
   "cell_type": "code",
   "execution_count": 63,
   "metadata": {},
   "outputs": [
    {
     "name": "stdout",
     "output_type": "stream",
     "text": [
      "Number of duplicate rows: 0\n"
     ]
    }
   ],
   "source": [
    "# Check for duplicate rows\n",
    "duplicates = drivers.duplicated().sum()\n",
    "print(f\"Number of duplicate rows: {duplicates}\")\n",
    "\n",
    "# Remove duplicate rows if any\n",
    "drivers = drivers.drop_duplicates()\n"
   ]
  },
  {
   "cell_type": "markdown",
   "metadata": {},
   "source": [
    "Find and Handle Outliers - (bcoz,Outliers can affect the performance of the machine learning models or lead to misleading statistical conclusions.\n",
    "\n",
    "Use statistical methods (like IQR or Z-score) or visualization methods (like boxplots) to identify outliers)."
   ]
  },
  {
   "cell_type": "code",
   "execution_count": 64,
   "metadata": {},
   "outputs": [
    {
     "name": "stdout",
     "output_type": "stream",
     "text": [
      "Number of outliers in age using IQR: 16\n",
      "Number of outliers in experience using IQR: 1\n",
      "Number of outliers in ratings using IQR: 0\n",
      "Number of outliers in average_speed_mph using IQR: 0\n"
     ]
    }
   ],
   "source": [
    "\n",
    "\n",
    "# List of numerical features\n",
    "numerical_features = ['age', 'experience', 'ratings', 'average_speed_mph']\n",
    "\n",
    "# Do not remove outliers for vehile_no - as it resembles truck Id and is unique\n",
    "\n",
    "# Define a dictionary to store outliers for each feature\n",
    "outliers_dict = {}\n",
    "\n",
    "for feature in numerical_features:\n",
    "    Q1 = drivers[feature].quantile(0.25)\n",
    "    Q3 = drivers[feature].quantile(0.75)\n",
    "    IQR = Q3 - Q1\n",
    "    \n",
    "    outliers = drivers[(drivers[feature] < (Q1 - 1.5 * IQR)) |\n",
    "                       (drivers[feature] > (Q3 + 1.5 * IQR))]\n",
    "    \n",
    "    outliers_dict[feature] = outliers\n",
    "\n",
    "# Display the number of outliers for each feature\n",
    "for feature, outliers in outliers_dict.items():\n",
    "    print(f\"Number of outliers in {feature} using IQR: {len(outliers)}\")\n"
   ]
  },
  {
   "cell_type": "code",
   "execution_count": 65,
   "metadata": {},
   "outputs": [
    {
     "data": {
      "text/plain": [
       "(1226, 9)"
      ]
     },
     "execution_count": 65,
     "metadata": {},
     "output_type": "execute_result"
    }
   ],
   "source": [
    "drivers.shape"
   ]
  },
  {
   "cell_type": "code",
   "execution_count": 66,
   "metadata": {},
   "outputs": [],
   "source": [
    "# from scipy import stats\n",
    "# # List of numerical features\n",
    "# numerical_features = ['age', 'experience', 'ratings', 'average_speed_mph']\n",
    "\n",
    "# # Define a dictionary to store outliers for each feature\n",
    "# outliers_dict_z = {}\n",
    "\n",
    "# # Threshold for Z-score\n",
    "# threshold = 3\n",
    "\n",
    "# for feature in numerical_features:\n",
    "#     # Calculate Z-scores\n",
    "#     z_scores = stats.zscore(drivers[feature].astype(float))  # Convert to float to ensure accurate Z-score calculation\n",
    "    \n",
    "#     # Find outliers\n",
    "#     outliers = drivers[(abs(z_scores) > threshold)]\n",
    "    \n",
    "#     outliers_dict_z[feature] = outliers\n",
    "\n",
    "# # Display the number of outliers for each feature\n",
    "# for feature, outliers in outliers_dict_z.items():\n",
    "#     print(f\"Number of outliers in {feature} using Z-score: {len(outliers)}\")\n"
   ]
  },
  {
   "cell_type": "code",
   "execution_count": 67,
   "metadata": {},
   "outputs": [
    {
     "data": {
      "image/png": "[encoded data removed]",
      "text/plain": [
       "<Figure size 2000x1000 with 4 Axes>"
      ]
     },
     "metadata": {},
     "output_type": "display_data"
    }
   ],
   "source": [
    "import matplotlib.pyplot as plt\n",
    "import seaborn as sns\n",
    "\n",
    "# List of numerical features\n",
    "numerical_features = ['age', 'experience', 'ratings', 'average_speed_mph']\n",
    "\n",
    "# Plot box plots for each numerical feature\n",
    "plt.figure(figsize=(20, 10))\n",
    "\n",
    "for i, feature in enumerate(numerical_features):\n",
    "    plt.subplot(2, len(numerical_features), i + 1)\n",
    "    sns.boxplot(x=drivers[feature])\n",
    "    plt.title(f'{feature} with Outliers (IQR)')\n",
    "    plt.xlabel(feature)\n",
    "\n",
    "plt.tight_layout()\n",
    "plt.show()\n"
   ]
  },
  {
   "cell_type": "code",
   "execution_count": 68,
   "metadata": {},
   "outputs": [
    {
     "name": "stdout",
     "output_type": "stream",
     "text": [
      "       driver_id               name gender  age  experience driving_style  \\\n",
      "0     d9f30553-6       Daniel Marks   male   47           5     proactive   \n",
      "1     82de7bb8-2      Clifford Carr   male   47          14     proactive   \n",
      "2     7e789842-4  Terry Faulkner MD   male   41           9  conservative   \n",
      "3     b2555587-8     Brendan Jacobs   male   44          10     proactive   \n",
      "4     b2e58421-d      Vincent Davis   male   41          10     proactive   \n",
      "...          ...                ...    ...  ...         ...           ...   \n",
      "1295  57f77e99-8     Robert Johnson   male   60          26     proactive   \n",
      "1296  e64c4059-8  Patrick Hernandez   male   46          20     proactive   \n",
      "1297  7e6a0cf5-1      Richard Ortiz   male   49          10  conservative   \n",
      "1298  c4a966b0-b    Peter Rodriguez   male   49           5  conservative   \n",
      "1299  e5d104b5-1   Michael Robinson   male   56          24     proactive   \n",
      "\n",
      "      ratings  vehicle_no  average_speed_mph  \n",
      "0           7    42302347              62.22  \n",
      "1           4    27867488              60.89  \n",
      "2           2    13927774              53.67  \n",
      "3           2    69577118              59.82  \n",
      "4           7    28650047              62.65  \n",
      "...       ...         ...                ...  \n",
      "1295        4    17792974              60.64  \n",
      "1296        8    17248432              58.42  \n",
      "1297        7    21865328              48.29  \n",
      "1298        8    33564827              43.14  \n",
      "1299        8    34755903              56.30  \n",
      "\n",
      "[1209 rows x 9 columns]\n",
      "Number of rows after outlier removal: 1209\n"
     ]
    }
   ],
   "source": [
    "#remove Outliers\n",
    "\n",
    "import pandas as pd\n",
    "\n",
    "# List of numerical features\n",
    "numerical_features = ['age', 'experience', 'ratings', 'average_speed_mph']\n",
    "\n",
    "# Iterate through each numerical feature and remove outliers\n",
    "for feature in numerical_features:\n",
    "    Q1 = drivers[feature].quantile(0.25)\n",
    "    Q3 = drivers[feature].quantile(0.75)\n",
    "    IQR = Q3 - Q1\n",
    "    \n",
    "    # Define lower and upper bounds for the feature\n",
    "    lower_bound = Q1 - 1.5 * IQR\n",
    "    upper_bound = Q3 + 1.5 * IQR\n",
    "    \n",
    "    # Filter the DataFrame to remove outliers for this feature\n",
    "    drivers = drivers[(drivers[feature] >= lower_bound) & (drivers[feature] <= upper_bound)]\n",
    "\n",
    "# The DataFrame after outlier removal\n",
    "print(drivers)\n",
    "\n",
    "# Check the shape to see how many rows remain\n",
    "print(f\"Number of rows after outlier removal: {drivers.shape[0]}\")\n"
   ]
  },
  {
   "cell_type": "code",
   "execution_count": 69,
   "metadata": {},
   "outputs": [
    {
     "data": {
      "image/png": "[encoded data removed]",
      "text/plain": [
       "<Figure size 2000x1000 with 4 Axes>"
      ]
     },
     "metadata": {},
     "output_type": "display_data"
    }
   ],
   "source": [
    "import matplotlib.pyplot as plt\n",
    "import seaborn as sns\n",
    "\n",
    "# Create a box plot for each feature after outlier removal\n",
    "plt.figure(figsize=(20, 10))\n",
    "for i, feature in enumerate(numerical_features):\n",
    "    plt.subplot(2, len(numerical_features), i + 1 + len(numerical_features))\n",
    "    sns.boxplot(x=drivers[feature])\n",
    "    plt.title(f'After Removal: {feature}')\n",
    "    plt.xlabel('')\n",
    "\n",
    "plt.tight_layout()\n",
    "plt.show()\n"
   ]
  },
  {
   "cell_type": "code",
   "execution_count": 203,
   "metadata": {},
   "outputs": [
    {
     "data": {
      "text/plain": [
       "driver_id             object\n",
       "name                  object\n",
       "gender                object\n",
       "age                    int64\n",
       "experience             int64\n",
       "driving_style         object\n",
       "ratings                int64\n",
       "vehicle_no             int64\n",
       "average_speed_mph    float64\n",
       "dtype: object"
      ]
     },
     "execution_count": 203,
     "metadata": {},
     "output_type": "execute_result"
    }
   ],
   "source": [
    "drivers.dtypes"
   ]
  },
  {
   "cell_type": "code",
   "execution_count": 70,
   "metadata": {},
   "outputs": [
    {
     "data": {
      "text/plain": [
       "(1209, 9)"
      ]
     },
     "execution_count": 70,
     "metadata": {},
     "output_type": "execute_result"
    }
   ],
   "source": [
    "drivers.shape"
   ]
  },
  {
   "cell_type": "markdown",
   "metadata": {},
   "source": [
    "Finding Outliers for Categorical features"
   ]
  },
  {
   "cell_type": "code",
   "execution_count": 71,
   "metadata": {},
   "outputs": [
    {
     "data": {
      "image/png": "[encoded data removed]",
      "text/plain": [
       "<Figure size 800x500 with 1 Axes>"
      ]
     },
     "metadata": {},
     "output_type": "display_data"
    },
    {
     "data": {
      "image/png": "[encoded data removed]",
      "text/plain": [
       "<Figure size 800x500 with 1 Axes>"
      ]
     },
     "metadata": {},
     "output_type": "display_data"
    }
   ],
   "source": [
    "import seaborn as sns\n",
    "import matplotlib.pyplot as plt\n",
    "\n",
    "# Countplot for 'gender'\n",
    "plt.figure(figsize=(8, 5))\n",
    "sns.countplot(data=drivers, x='gender')\n",
    "plt.title('Gender Distribution')\n",
    "plt.xlabel('Gender')\n",
    "plt.ylabel('Count')\n",
    "plt.show()\n",
    "\n",
    "# Countplot for 'driving_style'\n",
    "plt.figure(figsize=(8, 5))\n",
    "sns.countplot(data=drivers, x='driving_style')\n",
    "plt.title('Driving Style Distribution')\n",
    "plt.xlabel('Driving Style')\n",
    "plt.ylabel('Count')\n",
    "plt.show()\n"
   ]
  },
  {
   "cell_type": "code",
   "execution_count": 72,
   "metadata": {},
   "outputs": [
    {
     "name": "stdout",
     "output_type": "stream",
     "text": [
      "driver_id            0\n",
      "name                 0\n",
      "gender               0\n",
      "age                  0\n",
      "experience           0\n",
      "driving_style        0\n",
      "ratings              0\n",
      "vehicle_no           0\n",
      "average_speed_mph    0\n",
      "dtype: int64\n"
     ]
    }
   ],
   "source": [
    "print(drivers.isna().sum())\n"
   ]
  },
  {
   "cell_type": "code",
   "execution_count": 73,
   "metadata": {},
   "outputs": [
    {
     "name": "stdout",
     "output_type": "stream",
     "text": [
      "driver_id             object\n",
      "name                  object\n",
      "gender                object\n",
      "age                    int64\n",
      "experience             int64\n",
      "driving_style         object\n",
      "ratings                int64\n",
      "vehicle_no             int64\n",
      "average_speed_mph    float64\n",
      "dtype: object\n"
     ]
    }
   ],
   "source": [
    "print(drivers.dtypes)\n"
   ]
  },
  {
   "cell_type": "code",
   "execution_count": 74,
   "metadata": {},
   "outputs": [
    {
     "name": "stdout",
     "output_type": "stream",
     "text": [
      "Number of duplicate rows: 0\n"
     ]
    }
   ],
   "source": [
    "duplicates = drivers.duplicated().sum()\n",
    "print(f\"Number of duplicate rows: {duplicates}\")\n"
   ]
  },
  {
   "cell_type": "code",
   "execution_count": 75,
   "metadata": {},
   "outputs": [],
   "source": [
    "# Create a new 'index' column starting from 1\n",
    "drivers['index'] = drivers.index + 1\n",
    "\n",
    "# Move the 'index' column to the front\n",
    "drivers = drivers[['index'] + [col for col in drivers.columns if col != 'index']]\n",
    "\n"
   ]
  },
  {
   "cell_type": "code",
   "execution_count": 76,
   "metadata": {},
   "outputs": [
    {
     "name": "stdout",
     "output_type": "stream",
     "text": [
      "   index   driver_id               name gender  age  experience driving_style  \\\n",
      "0      1  d9f30553-6       Daniel Marks   male   47           5     proactive   \n",
      "1      2  82de7bb8-2      Clifford Carr   male   47          14     proactive   \n",
      "2      3  7e789842-4  Terry Faulkner MD   male   41           9  conservative   \n",
      "3      4  b2555587-8     Brendan Jacobs   male   44          10     proactive   \n",
      "4      5  b2e58421-d      Vincent Davis   male   41          10     proactive   \n",
      "\n",
      "   ratings  vehicle_no  average_speed_mph event_date  \n",
      "0        7    42302347              62.22 2024-10-15  \n",
      "1        4    27867488              60.89 2024-10-15  \n",
      "2        2    13927774              53.67 2024-10-15  \n",
      "3        2    69577118              59.82 2024-10-15  \n",
      "4        7    28650047              62.65 2024-10-15  \n",
      "index                         int64\n",
      "driver_id                    object\n",
      "name                         object\n",
      "gender                       object\n",
      "age                           int64\n",
      "experience                    int64\n",
      "driving_style                object\n",
      "ratings                       int64\n",
      "vehicle_no                    int64\n",
      "average_speed_mph           float64\n",
      "event_date           datetime64[ns]\n",
      "dtype: object\n"
     ]
    }
   ],
   "source": [
    "from datetime import datetime\n",
    "import pandas as pd\n",
    "\n",
    "# Adding event_date column with current date\n",
    "today_date = datetime.now().strftime('%Y-%m-%d')\n",
    "drivers['event_date'] = pd.to_datetime(today_date)\n",
    "drivers_df = drivers \n",
    "# Print the DataFrame and its data types\n",
    "print(drivers.head())\n",
    "print(drivers.dtypes)\n"
   ]
  },
  {
   "cell_type": "code",
   "execution_count": 77,
   "metadata": {},
   "outputs": [
    {
     "name": "stdout",
     "output_type": "stream",
     "text": [
      "index                         int64\n",
      "driver_id                    object\n",
      "name                         object\n",
      "gender                       object\n",
      "age                           int64\n",
      "experience                    int64\n",
      "driving_style                object\n",
      "ratings                       int64\n",
      "vehicle_no                    int64\n",
      "average_speed_mph           float64\n",
      "event_date           datetime64[ns]\n",
      "dtype: object\n"
     ]
    }
   ],
   "source": [
    "drivers.head()\n",
    "print(drivers.dtypes) "
   ]
  },
  {
   "cell_type": "code",
   "execution_count": 78,
   "metadata": {},
   "outputs": [],
   "source": [
    "# saving cleaned data for drivers.csv\n",
    "drivers.to_csv('C:/Users/anucv/OneDrive/Desktop/AI and ML training/Machine_Learning/TRUCK_DELAY_CLASSIFICATION_PROJECT/Data/Cleaned_data/cleaned_drivers.csv', index=False)\n"
   ]
  },
  {
   "cell_type": "code",
   "execution_count": 79,
   "metadata": {},
   "outputs": [
    {
     "data": {
      "text/plain": [
       "(1209, 11)"
      ]
     },
     "execution_count": 79,
     "metadata": {},
     "output_type": "execute_result"
    }
   ],
   "source": [
    "drivers.shape"
   ]
  },
  {
   "cell_type": "code",
   "execution_count": null,
   "metadata": {},
   "outputs": [],
   "source": []
  },
  {
   "cell_type": "code",
   "execution_count": 80,
   "metadata": {},
   "outputs": [
    {
     "data": {
      "text/html": [
       "<div>\n",
       "<style scoped>\n",
       "    .dataframe tbody tr th:only-of-type {\n",
       "        vertical-align: middle;\n",
       "    }\n",
       "\n",
       "    .dataframe tbody tr th {\n",
       "        vertical-align: top;\n",
       "    }\n",
       "\n",
       "    .dataframe thead th {\n",
       "        text-align: right;\n",
       "    }\n",
       "</style>\n",
       "<table border=\"1\" class=\"dataframe\">\n",
       "  <thead>\n",
       "    <tr style=\"text-align: right;\">\n",
       "      <th></th>\n",
       "      <th>id</th>\n",
       "      <th>route_id</th>\n",
       "      <th>origin_id</th>\n",
       "      <th>destination_id</th>\n",
       "      <th>distance</th>\n",
       "      <th>average_hours</th>\n",
       "    </tr>\n",
       "  </thead>\n",
       "  <tbody>\n",
       "    <tr>\n",
       "      <th>0</th>\n",
       "      <td>1</td>\n",
       "      <td>R-ada2a391</td>\n",
       "      <td>C-927ceb5e</td>\n",
       "      <td>C-56e39a5e</td>\n",
       "      <td>1735.06</td>\n",
       "      <td>34.70</td>\n",
       "    </tr>\n",
       "    <tr>\n",
       "      <th>1</th>\n",
       "      <td>2</td>\n",
       "      <td>R-ae0ef31f</td>\n",
       "      <td>C-927ceb5e</td>\n",
       "      <td>C-73ae5412</td>\n",
       "      <td>1498.24</td>\n",
       "      <td>29.96</td>\n",
       "    </tr>\n",
       "    <tr>\n",
       "      <th>2</th>\n",
       "      <td>3</td>\n",
       "      <td>R-4beec5fd</td>\n",
       "      <td>C-927ceb5e</td>\n",
       "      <td>C-4fe0fa24</td>\n",
       "      <td>6078.46</td>\n",
       "      <td>121.57</td>\n",
       "    </tr>\n",
       "    <tr>\n",
       "      <th>3</th>\n",
       "      <td>4</td>\n",
       "      <td>R-8d7a7fb2</td>\n",
       "      <td>C-927ceb5e</td>\n",
       "      <td>C-451776b7</td>\n",
       "      <td>1543.01</td>\n",
       "      <td>30.86</td>\n",
       "    </tr>\n",
       "    <tr>\n",
       "      <th>4</th>\n",
       "      <td>5</td>\n",
       "      <td>R-b236e347</td>\n",
       "      <td>C-927ceb5e</td>\n",
       "      <td>C-d80a1e7d</td>\n",
       "      <td>310.75</td>\n",
       "      <td>6.22</td>\n",
       "    </tr>\n",
       "  </tbody>\n",
       "</table>\n",
       "</div>"
      ],
      "text/plain": [
       "   id    route_id   origin_id destination_id  distance  average_hours\n",
       "0   1  R-ada2a391  C-927ceb5e     C-56e39a5e   1735.06          34.70\n",
       "1   2  R-ae0ef31f  C-927ceb5e     C-73ae5412   1498.24          29.96\n",
       "2   3  R-4beec5fd  C-927ceb5e     C-4fe0fa24   6078.46         121.57\n",
       "3   4  R-8d7a7fb2  C-927ceb5e     C-451776b7   1543.01          30.86\n",
       "4   5  R-b236e347  C-927ceb5e     C-d80a1e7d    310.75           6.22"
      ]
     },
     "execution_count": 80,
     "metadata": {},
     "output_type": "execute_result"
    }
   ],
   "source": [
    "\n",
    "# Database connection parameters\n",
    "db_host = 'localhost'  # or the IP address of your Docker container\n",
    "db_port = '5432'\n",
    "db_name = 'truck_delay_classification'\n",
    "db_user = 'postgres'\n",
    "db_password = 'Anu0408'  # Change this if you set a different password\n",
    "\n",
    "\n",
    "# Create a connection engine\n",
    "engine = create_engine(f'postgresql://{db_user}:{db_password}@{db_host}:{db_port}/{db_name}')\n",
    "\n",
    "# Query to select data\n",
    " \n",
    "\n",
    "query = 'SELECT * FROM routes_table;'  \n",
    "\n",
    "\n",
    "# Read data into a DataFrame\n",
    "routes = pd.read_sql_query(query, engine)\n",
    "\n",
    "# Display the first few rows of the DataFrame\n",
    "routes.head()\n",
    "\n"
   ]
  },
  {
   "cell_type": "code",
   "execution_count": 81,
   "metadata": {},
   "outputs": [
    {
     "data": {
      "text/html": [
       "<div>\n",
       "<style scoped>\n",
       "    .dataframe tbody tr th:only-of-type {\n",
       "        vertical-align: middle;\n",
       "    }\n",
       "\n",
       "    .dataframe tbody tr th {\n",
       "        vertical-align: top;\n",
       "    }\n",
       "\n",
       "    .dataframe thead th {\n",
       "        text-align: right;\n",
       "    }\n",
       "</style>\n",
       "<table border=\"1\" class=\"dataframe\">\n",
       "  <thead>\n",
       "    <tr style=\"text-align: right;\">\n",
       "      <th></th>\n",
       "      <th>id</th>\n",
       "      <th>route_id</th>\n",
       "      <th>origin_id</th>\n",
       "      <th>destination_id</th>\n",
       "      <th>distance</th>\n",
       "      <th>average_hours</th>\n",
       "    </tr>\n",
       "  </thead>\n",
       "  <tbody>\n",
       "    <tr>\n",
       "      <th>0</th>\n",
       "      <td>1</td>\n",
       "      <td>R-ada2a391</td>\n",
       "      <td>C-927ceb5e</td>\n",
       "      <td>C-56e39a5e</td>\n",
       "      <td>1735.06</td>\n",
       "      <td>34.70</td>\n",
       "    </tr>\n",
       "    <tr>\n",
       "      <th>1</th>\n",
       "      <td>2</td>\n",
       "      <td>R-ae0ef31f</td>\n",
       "      <td>C-927ceb5e</td>\n",
       "      <td>C-73ae5412</td>\n",
       "      <td>1498.24</td>\n",
       "      <td>29.96</td>\n",
       "    </tr>\n",
       "    <tr>\n",
       "      <th>2</th>\n",
       "      <td>3</td>\n",
       "      <td>R-4beec5fd</td>\n",
       "      <td>C-927ceb5e</td>\n",
       "      <td>C-4fe0fa24</td>\n",
       "      <td>6078.46</td>\n",
       "      <td>121.57</td>\n",
       "    </tr>\n",
       "    <tr>\n",
       "      <th>3</th>\n",
       "      <td>4</td>\n",
       "      <td>R-8d7a7fb2</td>\n",
       "      <td>C-927ceb5e</td>\n",
       "      <td>C-451776b7</td>\n",
       "      <td>1543.01</td>\n",
       "      <td>30.86</td>\n",
       "    </tr>\n",
       "    <tr>\n",
       "      <th>4</th>\n",
       "      <td>5</td>\n",
       "      <td>R-b236e347</td>\n",
       "      <td>C-927ceb5e</td>\n",
       "      <td>C-d80a1e7d</td>\n",
       "      <td>310.75</td>\n",
       "      <td>6.22</td>\n",
       "    </tr>\n",
       "  </tbody>\n",
       "</table>\n",
       "</div>"
      ],
      "text/plain": [
       "   id    route_id   origin_id destination_id  distance  average_hours\n",
       "0   1  R-ada2a391  C-927ceb5e     C-56e39a5e   1735.06          34.70\n",
       "1   2  R-ae0ef31f  C-927ceb5e     C-73ae5412   1498.24          29.96\n",
       "2   3  R-4beec5fd  C-927ceb5e     C-4fe0fa24   6078.46         121.57\n",
       "3   4  R-8d7a7fb2  C-927ceb5e     C-451776b7   1543.01          30.86\n",
       "4   5  R-b236e347  C-927ceb5e     C-d80a1e7d    310.75           6.22"
      ]
     },
     "execution_count": 81,
     "metadata": {},
     "output_type": "execute_result"
    }
   ],
   "source": [
    "routes.head()\n"
   ]
  },
  {
   "cell_type": "code",
   "execution_count": 82,
   "metadata": {},
   "outputs": [
    {
     "data": {
      "text/plain": [
       "(2352, 6)"
      ]
     },
     "execution_count": 82,
     "metadata": {},
     "output_type": "execute_result"
    }
   ],
   "source": [
    "routes.shape"
   ]
  },
  {
   "cell_type": "code",
   "execution_count": 83,
   "metadata": {},
   "outputs": [
    {
     "data": {
      "text/plain": [
       "id                  int64\n",
       "route_id           object\n",
       "origin_id          object\n",
       "destination_id     object\n",
       "distance          float64\n",
       "average_hours     float64\n",
       "dtype: object"
      ]
     },
     "execution_count": 83,
     "metadata": {},
     "output_type": "execute_result"
    }
   ],
   "source": [
    "routes.dtypes"
   ]
  },
  {
   "cell_type": "code",
   "execution_count": 84,
   "metadata": {},
   "outputs": [
    {
     "data": {
      "text/html": [
       "<div>\n",
       "<style scoped>\n",
       "    .dataframe tbody tr th:only-of-type {\n",
       "        vertical-align: middle;\n",
       "    }\n",
       "\n",
       "    .dataframe tbody tr th {\n",
       "        vertical-align: top;\n",
       "    }\n",
       "\n",
       "    .dataframe thead th {\n",
       "        text-align: right;\n",
       "    }\n",
       "</style>\n",
       "<table border=\"1\" class=\"dataframe\">\n",
       "  <thead>\n",
       "    <tr style=\"text-align: right;\">\n",
       "      <th></th>\n",
       "      <th>id</th>\n",
       "      <th>distance</th>\n",
       "      <th>average_hours</th>\n",
       "    </tr>\n",
       "  </thead>\n",
       "  <tbody>\n",
       "    <tr>\n",
       "      <th>count</th>\n",
       "      <td>2352.000000</td>\n",
       "      <td>2352.000000</td>\n",
       "      <td>2352.000000</td>\n",
       "    </tr>\n",
       "    <tr>\n",
       "      <th>mean</th>\n",
       "      <td>1176.500000</td>\n",
       "      <td>2376.825230</td>\n",
       "      <td>47.536556</td>\n",
       "    </tr>\n",
       "    <tr>\n",
       "      <th>std</th>\n",
       "      <td>679.108239</td>\n",
       "      <td>2696.904248</td>\n",
       "      <td>53.938045</td>\n",
       "    </tr>\n",
       "    <tr>\n",
       "      <th>min</th>\n",
       "      <td>1.000000</td>\n",
       "      <td>3.900000</td>\n",
       "      <td>0.080000</td>\n",
       "    </tr>\n",
       "    <tr>\n",
       "      <th>25%</th>\n",
       "      <td>588.750000</td>\n",
       "      <td>557.365000</td>\n",
       "      <td>11.147500</td>\n",
       "    </tr>\n",
       "    <tr>\n",
       "      <th>50%</th>\n",
       "      <td>1176.500000</td>\n",
       "      <td>1104.825000</td>\n",
       "      <td>22.100000</td>\n",
       "    </tr>\n",
       "    <tr>\n",
       "      <th>75%</th>\n",
       "      <td>1764.250000</td>\n",
       "      <td>2516.407500</td>\n",
       "      <td>50.327500</td>\n",
       "    </tr>\n",
       "    <tr>\n",
       "      <th>max</th>\n",
       "      <td>2352.000000</td>\n",
       "      <td>10055.010000</td>\n",
       "      <td>201.100000</td>\n",
       "    </tr>\n",
       "  </tbody>\n",
       "</table>\n",
       "</div>"
      ],
      "text/plain": [
       "                id      distance  average_hours\n",
       "count  2352.000000   2352.000000    2352.000000\n",
       "mean   1176.500000   2376.825230      47.536556\n",
       "std     679.108239   2696.904248      53.938045\n",
       "min       1.000000      3.900000       0.080000\n",
       "25%     588.750000    557.365000      11.147500\n",
       "50%    1176.500000   1104.825000      22.100000\n",
       "75%    1764.250000   2516.407500      50.327500\n",
       "max    2352.000000  10055.010000     201.100000"
      ]
     },
     "execution_count": 84,
     "metadata": {},
     "output_type": "execute_result"
    }
   ],
   "source": [
    "routes.describe()"
   ]
  },
  {
   "cell_type": "code",
   "execution_count": 85,
   "metadata": {},
   "outputs": [
    {
     "data": {
      "text/plain": [
       "id                0\n",
       "route_id          0\n",
       "origin_id         0\n",
       "destination_id    0\n",
       "distance          0\n",
       "average_hours     0\n",
       "dtype: int64"
      ]
     },
     "execution_count": 85,
     "metadata": {},
     "output_type": "execute_result"
    }
   ],
   "source": [
    "routes.isna().sum()"
   ]
  },
  {
   "cell_type": "code",
   "execution_count": 86,
   "metadata": {},
   "outputs": [
    {
     "data": {
      "text/plain": [
       "id                2352\n",
       "route_id          2352\n",
       "origin_id           49\n",
       "destination_id      49\n",
       "distance          1174\n",
       "average_hours     1080\n",
       "dtype: int64"
      ]
     },
     "execution_count": 86,
     "metadata": {},
     "output_type": "execute_result"
    }
   ],
   "source": [
    "routes.nunique()"
   ]
  },
  {
   "cell_type": "code",
   "execution_count": 87,
   "metadata": {},
   "outputs": [
    {
     "data": {
      "text/plain": [
       "(2352, 6)"
      ]
     },
     "execution_count": 87,
     "metadata": {},
     "output_type": "execute_result"
    }
   ],
   "source": [
    "routes.shape"
   ]
  },
  {
   "cell_type": "code",
   "execution_count": 88,
   "metadata": {},
   "outputs": [
    {
     "name": "stdout",
     "output_type": "stream",
     "text": [
      "   index  id    route_id   origin_id destination_id  distance  average_hours  \\\n",
      "0      1   1  R-ada2a391  C-927ceb5e     C-56e39a5e   1735.06          34.70   \n",
      "1      2   2  R-ae0ef31f  C-927ceb5e     C-73ae5412   1498.24          29.96   \n",
      "2      3   3  R-4beec5fd  C-927ceb5e     C-4fe0fa24   6078.46         121.57   \n",
      "3      4   4  R-8d7a7fb2  C-927ceb5e     C-451776b7   1543.01          30.86   \n",
      "4      5   5  R-b236e347  C-927ceb5e     C-d80a1e7d    310.75           6.22   \n",
      "\n",
      "  event_date  \n",
      "0 2024-10-15  \n",
      "1 2024-10-15  \n",
      "2 2024-10-15  \n",
      "3 2024-10-15  \n",
      "4 2024-10-15  \n",
      "index                      int64\n",
      "id                         int64\n",
      "route_id                  object\n",
      "origin_id                 object\n",
      "destination_id            object\n",
      "distance                 float64\n",
      "average_hours            float64\n",
      "event_date        datetime64[ns]\n",
      "dtype: object\n"
     ]
    }
   ],
   "source": [
    "# Create a new 'index' column starting from 1\n",
    "routes['index'] = routes.index + 1\n",
    "\n",
    "# Move the 'index' column to the front\n",
    "routes = routes[['index'] + [col for col in routes.columns if col != 'index']]\n",
    "\n",
    "from datetime import datetime\n",
    "import pandas as pd\n",
    "\n",
    "# Adding event_date column with current date\n",
    "today_date = datetime.now().strftime('%Y-%m-%d')\n",
    "routes['event_date'] = pd.to_datetime(today_date)\n",
    "routes_df = routes\n",
    "# Print the DataFrame and its data types\n",
    "print(routes.head())\n",
    "print(routes.dtypes)\n"
   ]
  },
  {
   "cell_type": "code",
   "execution_count": 89,
   "metadata": {},
   "outputs": [
    {
     "name": "stdout",
     "output_type": "stream",
     "text": [
      "Missing values per column:\n",
      "index             0\n",
      "id                0\n",
      "route_id          0\n",
      "origin_id         0\n",
      "destination_id    0\n",
      "distance          0\n",
      "average_hours     0\n",
      "event_date        0\n",
      "dtype: int64\n"
     ]
    }
   ],
   "source": [
    "# Check for missing values in each column\n",
    "missing_values = routes.isnull().sum()\n",
    "print(\"Missing values per column:\")\n",
    "print(missing_values)\n"
   ]
  },
  {
   "cell_type": "code",
   "execution_count": 90,
   "metadata": {},
   "outputs": [
    {
     "name": "stdout",
     "output_type": "stream",
     "text": [
      "\n",
      "Number of duplicate rows: 0\n"
     ]
    }
   ],
   "source": [
    "# Check for duplicate rows in the 'routes' DataFrame\n",
    "duplicates = routes.duplicated().sum()\n",
    "print(f\"\\nNumber of duplicate rows: {duplicates}\")\n",
    "\n",
    "\n",
    "# If you need to remove duplicates\n",
    "routes = routes.drop_duplicates()"
   ]
  },
  {
   "cell_type": "code",
   "execution_count": 91,
   "metadata": {},
   "outputs": [
    {
     "data": {
      "text/plain": [
       "index                      int64\n",
       "id                         int64\n",
       "route_id                  object\n",
       "origin_id                 object\n",
       "destination_id            object\n",
       "distance                 float64\n",
       "average_hours            float64\n",
       "event_date        datetime64[ns]\n",
       "dtype: object"
      ]
     },
     "execution_count": 91,
     "metadata": {},
     "output_type": "execute_result"
    }
   ],
   "source": [
    "routes.dtypes"
   ]
  },
  {
   "cell_type": "code",
   "execution_count": 92,
   "metadata": {},
   "outputs": [
    {
     "name": "stdout",
     "output_type": "stream",
     "text": [
      "Number of outliers in distance: 456\n",
      "\n",
      "Number of outliers in average_hours: 456\n",
      "\n"
     ]
    }
   ],
   "source": [
    "import pandas as pd\n",
    "\n",
    "# Sample DataFrame\n",
    "# routes = pd.read_csv('path_to_your_routes_csv_file.csv') # Uncomment and set the correct path\n",
    "\n",
    "# List of numerical features\n",
    "numerical_features = ['distance', 'average_hours']\n",
    "\n",
    "# Define a dictionary to store outliers for each feature\n",
    "outliers_dict = {}\n",
    "\n",
    "for feature in numerical_features:\n",
    "    # Calculate Q1, Q3, and IQR\n",
    "    Q1 = routes[feature].quantile(0.25)\n",
    "    Q3 = routes[feature].quantile(0.75)\n",
    "    IQR = Q3 - Q1\n",
    "    \n",
    "    # Identify outliers\n",
    "    outliers = routes[(routes[feature] < (Q1 - 1.5 * IQR)) |\n",
    "                      (routes[feature] > (Q3 + 1.5 * IQR))]\n",
    "    \n",
    "    # Store outliers in the dictionary\n",
    "    outliers_dict[feature] = outliers\n",
    "\n",
    "# Display the number of outliers for each feature\n",
    "for feature, outliers in outliers_dict.items():\n",
    "    print(f\"Number of outliers in {feature}: {len(outliers)}\")\n",
    "    # Display additional statistics if needed\n",
    "    print()  # Print a blank line for readability\n"
   ]
  },
  {
   "cell_type": "code",
   "execution_count": 93,
   "metadata": {},
   "outputs": [
    {
     "data": {
      "image/png": "[encoded data removed]",
      "text/plain": [
       "<Figure size 1400x600 with 2 Axes>"
      ]
     },
     "metadata": {},
     "output_type": "display_data"
    }
   ],
   "source": [
    "import pandas as pd\n",
    "import matplotlib.pyplot as plt\n",
    "import seaborn as sns\n",
    "\n",
    "# Sample DataFrame\n",
    "# routes = pd.read_csv('path_to_your_routes_csv_file.csv') # Uncomment and set the correct path\n",
    "\n",
    "# List of numerical features\n",
    "numerical_features = ['distance', 'average_hours']\n",
    "\n",
    "# Create a figure with subplots\n",
    "plt.figure(figsize=(14, 6))\n",
    "\n",
    "for i, feature in enumerate(numerical_features):\n",
    "    plt.subplot(1, len(numerical_features), i + 1)\n",
    "    sns.boxplot(x=routes[feature])\n",
    "    plt.title(f'Boxplot of {feature}')\n",
    "    plt.xlabel(feature)\n",
    "\n",
    "# Adjust layout\n",
    "plt.tight_layout()\n",
    "plt.show()\n"
   ]
  },
  {
   "cell_type": "code",
   "execution_count": 94,
   "metadata": {},
   "outputs": [
    {
     "name": "stdout",
     "output_type": "stream",
     "text": [
      "Number of rows after outlier removal: 1810\n"
     ]
    }
   ],
   "source": [
    "import pandas as pd\n",
    "\n",
    "# Sample DataFrame\n",
    "# routes = pd.read_csv('path_to_your_routes_csv_file.csv')  # Uncomment and set the correct path\n",
    "\n",
    "# List of numerical features\n",
    "numerical_features = ['distance', 'average_hours']\n",
    "\n",
    "for feature in numerical_features:\n",
    "    # Calculate Q1, Q3, and IQR\n",
    "    Q1 = routes[feature].quantile(0.25)\n",
    "    Q3 = routes[feature].quantile(0.75)\n",
    "    IQR = Q3 - Q1\n",
    "    \n",
    "    # Define the bounds for outliers\n",
    "    lower_bound = Q1 - 1.5 * IQR\n",
    "    upper_bound = Q3 + 1.5 * IQR\n",
    "    \n",
    "    # Filter the DataFrame to remove outliers for this feature\n",
    "    routes = routes[(routes[feature] >= lower_bound) & (routes[feature] <= upper_bound)]\n",
    "\n",
    "# Display the number of rows before and after outlier removal\n",
    "print(f\"Number of rows after outlier removal: {len(routes)}\")\n"
   ]
  },
  {
   "cell_type": "code",
   "execution_count": 95,
   "metadata": {},
   "outputs": [
    {
     "data": {
      "text/plain": [
       "index                      int64\n",
       "id                         int64\n",
       "route_id                  object\n",
       "origin_id                 object\n",
       "destination_id            object\n",
       "distance                 float64\n",
       "average_hours            float64\n",
       "event_date        datetime64[ns]\n",
       "dtype: object"
      ]
     },
     "execution_count": 95,
     "metadata": {},
     "output_type": "execute_result"
    }
   ],
   "source": [
    "routes.dtypes"
   ]
  },
  {
   "cell_type": "code",
   "execution_count": 96,
   "metadata": {},
   "outputs": [
    {
     "data": {
      "text/plain": [
       "(1810, 8)"
      ]
     },
     "execution_count": 96,
     "metadata": {},
     "output_type": "execute_result"
    }
   ],
   "source": [
    "routes.shape"
   ]
  },
  {
   "cell_type": "code",
   "execution_count": 97,
   "metadata": {},
   "outputs": [],
   "source": [
    "# saving cleaned data for city_weather.csv\n",
    "routes.to_csv('C:/Users/anucv/OneDrive/Desktop/AI and ML training/Machine_Learning/TRUCK_DELAY_CLASSIFICATION_PROJECT/Data/Cleaned_data/cleaned_routes.csv', index=False)\n"
   ]
  },
  {
   "cell_type": "code",
   "execution_count": null,
   "metadata": {},
   "outputs": [],
   "source": []
  },
  {
   "cell_type": "markdown",
   "metadata": {},
   "source": [
    "routes_weather"
   ]
  },
  {
   "cell_type": "code",
   "execution_count": 102,
   "metadata": {},
   "outputs": [
    {
     "data": {
      "text/html": [
       "<div>\n",
       "<style scoped>\n",
       "    .dataframe tbody tr th:only-of-type {\n",
       "        vertical-align: middle;\n",
       "    }\n",
       "\n",
       "    .dataframe tbody tr th {\n",
       "        vertical-align: top;\n",
       "    }\n",
       "\n",
       "    .dataframe thead th {\n",
       "        text-align: right;\n",
       "    }\n",
       "</style>\n",
       "<table border=\"1\" class=\"dataframe\">\n",
       "  <thead>\n",
       "    <tr style=\"text-align: right;\">\n",
       "      <th></th>\n",
       "      <th>id</th>\n",
       "      <th>route_id</th>\n",
       "      <th>date</th>\n",
       "      <th>temp</th>\n",
       "      <th>wind_speed</th>\n",
       "      <th>description</th>\n",
       "      <th>precip</th>\n",
       "      <th>humidity</th>\n",
       "      <th>visibility</th>\n",
       "      <th>pressure</th>\n",
       "      <th>chanceofrain</th>\n",
       "      <th>chanceoffog</th>\n",
       "      <th>chanceofsnow</th>\n",
       "      <th>chanceofthunder</th>\n",
       "    </tr>\n",
       "  </thead>\n",
       "  <tbody>\n",
       "    <tr>\n",
       "      <th>0</th>\n",
       "      <td>1</td>\n",
       "      <td>R-ada2a391</td>\n",
       "      <td>2019-01-01 00:00:00</td>\n",
       "      <td>30</td>\n",
       "      <td>11</td>\n",
       "      <td>Heavy snow</td>\n",
       "      <td>0.0</td>\n",
       "      <td>90</td>\n",
       "      <td>1</td>\n",
       "      <td>1010</td>\n",
       "      <td>0</td>\n",
       "      <td>0</td>\n",
       "      <td>0</td>\n",
       "      <td>0</td>\n",
       "    </tr>\n",
       "    <tr>\n",
       "      <th>1</th>\n",
       "      <td>2</td>\n",
       "      <td>R-ada2a391</td>\n",
       "      <td>2019-01-01 06:00:00</td>\n",
       "      <td>30</td>\n",
       "      <td>11</td>\n",
       "      <td>Heavy snow</td>\n",
       "      <td>0.0</td>\n",
       "      <td>91</td>\n",
       "      <td>3</td>\n",
       "      <td>1012</td>\n",
       "      <td>0</td>\n",
       "      <td>0</td>\n",
       "      <td>0</td>\n",
       "      <td>0</td>\n",
       "    </tr>\n",
       "    <tr>\n",
       "      <th>2</th>\n",
       "      <td>3</td>\n",
       "      <td>R-ada2a391</td>\n",
       "      <td>2019-01-02 00:00:00</td>\n",
       "      <td>28</td>\n",
       "      <td>11</td>\n",
       "      <td>Cloudy</td>\n",
       "      <td>0.0</td>\n",
       "      <td>91</td>\n",
       "      <td>4</td>\n",
       "      <td>1013</td>\n",
       "      <td>0</td>\n",
       "      <td>0</td>\n",
       "      <td>0</td>\n",
       "      <td>0</td>\n",
       "    </tr>\n",
       "    <tr>\n",
       "      <th>3</th>\n",
       "      <td>4</td>\n",
       "      <td>R-ada2a391</td>\n",
       "      <td>2019-01-02 06:00:00</td>\n",
       "      <td>27</td>\n",
       "      <td>11</td>\n",
       "      <td>Cloudy</td>\n",
       "      <td>0.0</td>\n",
       "      <td>92</td>\n",
       "      <td>6</td>\n",
       "      <td>1015</td>\n",
       "      <td>0</td>\n",
       "      <td>0</td>\n",
       "      <td>0</td>\n",
       "      <td>0</td>\n",
       "    </tr>\n",
       "    <tr>\n",
       "      <th>4</th>\n",
       "      <td>5</td>\n",
       "      <td>R-ada2a391</td>\n",
       "      <td>2019-01-03 00:00:00</td>\n",
       "      <td>27</td>\n",
       "      <td>9</td>\n",
       "      <td>Cloudy</td>\n",
       "      <td>0.0</td>\n",
       "      <td>93</td>\n",
       "      <td>6</td>\n",
       "      <td>1016</td>\n",
       "      <td>0</td>\n",
       "      <td>0</td>\n",
       "      <td>0</td>\n",
       "      <td>0</td>\n",
       "    </tr>\n",
       "  </tbody>\n",
       "</table>\n",
       "</div>"
      ],
      "text/plain": [
       "   id    route_id                 date  temp  wind_speed description  precip  \\\n",
       "0   1  R-ada2a391  2019-01-01 00:00:00    30          11  Heavy snow     0.0   \n",
       "1   2  R-ada2a391  2019-01-01 06:00:00    30          11  Heavy snow     0.0   \n",
       "2   3  R-ada2a391  2019-01-02 00:00:00    28          11      Cloudy     0.0   \n",
       "3   4  R-ada2a391  2019-01-02 06:00:00    27          11      Cloudy     0.0   \n",
       "4   5  R-ada2a391  2019-01-03 00:00:00    27           9      Cloudy     0.0   \n",
       "\n",
       "   humidity  visibility  pressure  chanceofrain  chanceoffog  chanceofsnow  \\\n",
       "0        90           1      1010             0            0             0   \n",
       "1        91           3      1012             0            0             0   \n",
       "2        91           4      1013             0            0             0   \n",
       "3        92           6      1015             0            0             0   \n",
       "4        93           6      1016             0            0             0   \n",
       "\n",
       "   chanceofthunder  \n",
       "0                0  \n",
       "1                0  \n",
       "2                0  \n",
       "3                0  \n",
       "4                0  "
      ]
     },
     "execution_count": 102,
     "metadata": {},
     "output_type": "execute_result"
    }
   ],
   "source": [
    "\n",
    "# Database connection parameters\n",
    "db_host = 'localhost'  # or the IP address of your Docker container\n",
    "db_port = '5432'\n",
    "db_name = 'truck_delay_classification'\n",
    "db_user = 'postgres'\n",
    "db_password = 'Anu0408'  # Change this if you set a different password\n",
    "\n",
    "\n",
    "# Create a connection engine\n",
    "engine = create_engine(f'postgresql://{db_user}:{db_password}@{db_host}:{db_port}/{db_name}')\n",
    "\n",
    "# Query to select data\n",
    " \n",
    "\n",
    "query = 'SELECT * FROM routes_weather;'  \n",
    "\n",
    "\n",
    "# Read data into a DataFrame\n",
    "routes_weather = pd.read_sql_query(query, engine)\n",
    "\n",
    "# Display the first few rows of the DataFrame\n",
    "routes_weather.head()\n",
    "\n"
   ]
  },
  {
   "cell_type": "code",
   "execution_count": 103,
   "metadata": {},
   "outputs": [
    {
     "data": {
      "text/plain": [
       "(425712, 14)"
      ]
     },
     "execution_count": 103,
     "metadata": {},
     "output_type": "execute_result"
    }
   ],
   "source": [
    "routes_weather.shape"
   ]
  },
  {
   "cell_type": "code",
   "execution_count": 100,
   "metadata": {},
   "outputs": [],
   "source": [
    "#routes_weather = pd.read_csv('C:/Users/anucv/OneDrive/Desktop/AI and ML training/Machine_Learning/TRUCK_DELAY_CLASSIFICATION_PROJECT/Data/Training_data/routes_weather.csv')\n"
   ]
  },
  {
   "cell_type": "code",
   "execution_count": 104,
   "metadata": {},
   "outputs": [
    {
     "data": {
      "text/plain": [
       "(425712, 14)"
      ]
     },
     "execution_count": 104,
     "metadata": {},
     "output_type": "execute_result"
    }
   ],
   "source": [
    "routes_weather.shape"
   ]
  },
  {
   "cell_type": "code",
   "execution_count": 105,
   "metadata": {},
   "outputs": [
    {
     "data": {
      "text/html": [
       "<div>\n",
       "<style scoped>\n",
       "    .dataframe tbody tr th:only-of-type {\n",
       "        vertical-align: middle;\n",
       "    }\n",
       "\n",
       "    .dataframe tbody tr th {\n",
       "        vertical-align: top;\n",
       "    }\n",
       "\n",
       "    .dataframe thead th {\n",
       "        text-align: right;\n",
       "    }\n",
       "</style>\n",
       "<table border=\"1\" class=\"dataframe\">\n",
       "  <thead>\n",
       "    <tr style=\"text-align: right;\">\n",
       "      <th></th>\n",
       "      <th>id</th>\n",
       "      <th>route_id</th>\n",
       "      <th>date</th>\n",
       "      <th>temp</th>\n",
       "      <th>wind_speed</th>\n",
       "      <th>description</th>\n",
       "      <th>precip</th>\n",
       "      <th>humidity</th>\n",
       "      <th>visibility</th>\n",
       "      <th>pressure</th>\n",
       "      <th>chanceofrain</th>\n",
       "      <th>chanceoffog</th>\n",
       "      <th>chanceofsnow</th>\n",
       "      <th>chanceofthunder</th>\n",
       "    </tr>\n",
       "  </thead>\n",
       "  <tbody>\n",
       "    <tr>\n",
       "      <th>0</th>\n",
       "      <td>1</td>\n",
       "      <td>R-ada2a391</td>\n",
       "      <td>2019-01-01 00:00:00</td>\n",
       "      <td>30</td>\n",
       "      <td>11</td>\n",
       "      <td>Heavy snow</td>\n",
       "      <td>0.0</td>\n",
       "      <td>90</td>\n",
       "      <td>1</td>\n",
       "      <td>1010</td>\n",
       "      <td>0</td>\n",
       "      <td>0</td>\n",
       "      <td>0</td>\n",
       "      <td>0</td>\n",
       "    </tr>\n",
       "    <tr>\n",
       "      <th>1</th>\n",
       "      <td>2</td>\n",
       "      <td>R-ada2a391</td>\n",
       "      <td>2019-01-01 06:00:00</td>\n",
       "      <td>30</td>\n",
       "      <td>11</td>\n",
       "      <td>Heavy snow</td>\n",
       "      <td>0.0</td>\n",
       "      <td>91</td>\n",
       "      <td>3</td>\n",
       "      <td>1012</td>\n",
       "      <td>0</td>\n",
       "      <td>0</td>\n",
       "      <td>0</td>\n",
       "      <td>0</td>\n",
       "    </tr>\n",
       "    <tr>\n",
       "      <th>2</th>\n",
       "      <td>3</td>\n",
       "      <td>R-ada2a391</td>\n",
       "      <td>2019-01-02 00:00:00</td>\n",
       "      <td>28</td>\n",
       "      <td>11</td>\n",
       "      <td>Cloudy</td>\n",
       "      <td>0.0</td>\n",
       "      <td>91</td>\n",
       "      <td>4</td>\n",
       "      <td>1013</td>\n",
       "      <td>0</td>\n",
       "      <td>0</td>\n",
       "      <td>0</td>\n",
       "      <td>0</td>\n",
       "    </tr>\n",
       "    <tr>\n",
       "      <th>3</th>\n",
       "      <td>4</td>\n",
       "      <td>R-ada2a391</td>\n",
       "      <td>2019-01-02 06:00:00</td>\n",
       "      <td>27</td>\n",
       "      <td>11</td>\n",
       "      <td>Cloudy</td>\n",
       "      <td>0.0</td>\n",
       "      <td>92</td>\n",
       "      <td>6</td>\n",
       "      <td>1015</td>\n",
       "      <td>0</td>\n",
       "      <td>0</td>\n",
       "      <td>0</td>\n",
       "      <td>0</td>\n",
       "    </tr>\n",
       "    <tr>\n",
       "      <th>4</th>\n",
       "      <td>5</td>\n",
       "      <td>R-ada2a391</td>\n",
       "      <td>2019-01-03 00:00:00</td>\n",
       "      <td>27</td>\n",
       "      <td>9</td>\n",
       "      <td>Cloudy</td>\n",
       "      <td>0.0</td>\n",
       "      <td>93</td>\n",
       "      <td>6</td>\n",
       "      <td>1016</td>\n",
       "      <td>0</td>\n",
       "      <td>0</td>\n",
       "      <td>0</td>\n",
       "      <td>0</td>\n",
       "    </tr>\n",
       "  </tbody>\n",
       "</table>\n",
       "</div>"
      ],
      "text/plain": [
       "   id    route_id                 date  temp  wind_speed description  precip  \\\n",
       "0   1  R-ada2a391  2019-01-01 00:00:00    30          11  Heavy snow     0.0   \n",
       "1   2  R-ada2a391  2019-01-01 06:00:00    30          11  Heavy snow     0.0   \n",
       "2   3  R-ada2a391  2019-01-02 00:00:00    28          11      Cloudy     0.0   \n",
       "3   4  R-ada2a391  2019-01-02 06:00:00    27          11      Cloudy     0.0   \n",
       "4   5  R-ada2a391  2019-01-03 00:00:00    27           9      Cloudy     0.0   \n",
       "\n",
       "   humidity  visibility  pressure  chanceofrain  chanceoffog  chanceofsnow  \\\n",
       "0        90           1      1010             0            0             0   \n",
       "1        91           3      1012             0            0             0   \n",
       "2        91           4      1013             0            0             0   \n",
       "3        92           6      1015             0            0             0   \n",
       "4        93           6      1016             0            0             0   \n",
       "\n",
       "   chanceofthunder  \n",
       "0                0  \n",
       "1                0  \n",
       "2                0  \n",
       "3                0  \n",
       "4                0  "
      ]
     },
     "execution_count": 105,
     "metadata": {},
     "output_type": "execute_result"
    }
   ],
   "source": [
    "routes_weather.head()\n"
   ]
  },
  {
   "cell_type": "code",
   "execution_count": 106,
   "metadata": {},
   "outputs": [
    {
     "data": {
      "text/plain": [
       "id                   int64\n",
       "route_id            object\n",
       "date                object\n",
       "temp                 int64\n",
       "wind_speed           int64\n",
       "description         object\n",
       "precip             float64\n",
       "humidity             int64\n",
       "visibility           int64\n",
       "pressure             int64\n",
       "chanceofrain         int64\n",
       "chanceoffog          int64\n",
       "chanceofsnow         int64\n",
       "chanceofthunder      int64\n",
       "dtype: object"
      ]
     },
     "execution_count": 106,
     "metadata": {},
     "output_type": "execute_result"
    }
   ],
   "source": [
    "routes_weather.dtypes"
   ]
  },
  {
   "cell_type": "code",
   "execution_count": 107,
   "metadata": {},
   "outputs": [
    {
     "data": {
      "text/html": [
       "<div>\n",
       "<style scoped>\n",
       "    .dataframe tbody tr th:only-of-type {\n",
       "        vertical-align: middle;\n",
       "    }\n",
       "\n",
       "    .dataframe tbody tr th {\n",
       "        vertical-align: top;\n",
       "    }\n",
       "\n",
       "    .dataframe thead th {\n",
       "        text-align: right;\n",
       "    }\n",
       "</style>\n",
       "<table border=\"1\" class=\"dataframe\">\n",
       "  <thead>\n",
       "    <tr style=\"text-align: right;\">\n",
       "      <th></th>\n",
       "      <th>id</th>\n",
       "      <th>temp</th>\n",
       "      <th>wind_speed</th>\n",
       "      <th>precip</th>\n",
       "      <th>humidity</th>\n",
       "      <th>visibility</th>\n",
       "      <th>pressure</th>\n",
       "      <th>chanceofrain</th>\n",
       "      <th>chanceoffog</th>\n",
       "      <th>chanceofsnow</th>\n",
       "      <th>chanceofthunder</th>\n",
       "    </tr>\n",
       "  </thead>\n",
       "  <tbody>\n",
       "    <tr>\n",
       "      <th>count</th>\n",
       "      <td>425712.000000</td>\n",
       "      <td>425712.000000</td>\n",
       "      <td>425712.000000</td>\n",
       "      <td>425712.000000</td>\n",
       "      <td>425712.000000</td>\n",
       "      <td>425712.000000</td>\n",
       "      <td>425712.000000</td>\n",
       "      <td>425712.0</td>\n",
       "      <td>425712.0</td>\n",
       "      <td>425712.0</td>\n",
       "      <td>425712.0</td>\n",
       "    </tr>\n",
       "    <tr>\n",
       "      <th>mean</th>\n",
       "      <td>212856.500000</td>\n",
       "      <td>57.518090</td>\n",
       "      <td>8.016063</td>\n",
       "      <td>0.005530</td>\n",
       "      <td>71.654482</td>\n",
       "      <td>5.378733</td>\n",
       "      <td>1015.541540</td>\n",
       "      <td>0.0</td>\n",
       "      <td>0.0</td>\n",
       "      <td>0.0</td>\n",
       "      <td>0.0</td>\n",
       "    </tr>\n",
       "    <tr>\n",
       "      <th>std</th>\n",
       "      <td>122892.613236</td>\n",
       "      <td>19.919266</td>\n",
       "      <td>4.469639</td>\n",
       "      <td>0.028918</td>\n",
       "      <td>21.106049</td>\n",
       "      <td>1.414776</td>\n",
       "      <td>7.306384</td>\n",
       "      <td>0.0</td>\n",
       "      <td>0.0</td>\n",
       "      <td>0.0</td>\n",
       "      <td>0.0</td>\n",
       "    </tr>\n",
       "    <tr>\n",
       "      <th>min</th>\n",
       "      <td>1.000000</td>\n",
       "      <td>-24.000000</td>\n",
       "      <td>0.000000</td>\n",
       "      <td>0.000000</td>\n",
       "      <td>3.000000</td>\n",
       "      <td>0.000000</td>\n",
       "      <td>985.000000</td>\n",
       "      <td>0.0</td>\n",
       "      <td>0.0</td>\n",
       "      <td>0.0</td>\n",
       "      <td>0.0</td>\n",
       "    </tr>\n",
       "    <tr>\n",
       "      <th>25%</th>\n",
       "      <td>106428.750000</td>\n",
       "      <td>43.000000</td>\n",
       "      <td>5.000000</td>\n",
       "      <td>0.000000</td>\n",
       "      <td>59.000000</td>\n",
       "      <td>6.000000</td>\n",
       "      <td>1011.000000</td>\n",
       "      <td>0.0</td>\n",
       "      <td>0.0</td>\n",
       "      <td>0.0</td>\n",
       "      <td>0.0</td>\n",
       "    </tr>\n",
       "    <tr>\n",
       "      <th>50%</th>\n",
       "      <td>212856.500000</td>\n",
       "      <td>59.000000</td>\n",
       "      <td>7.000000</td>\n",
       "      <td>0.000000</td>\n",
       "      <td>76.000000</td>\n",
       "      <td>6.000000</td>\n",
       "      <td>1015.000000</td>\n",
       "      <td>0.0</td>\n",
       "      <td>0.0</td>\n",
       "      <td>0.0</td>\n",
       "      <td>0.0</td>\n",
       "    </tr>\n",
       "    <tr>\n",
       "      <th>75%</th>\n",
       "      <td>319284.250000</td>\n",
       "      <td>73.000000</td>\n",
       "      <td>11.000000</td>\n",
       "      <td>0.000000</td>\n",
       "      <td>89.000000</td>\n",
       "      <td>6.000000</td>\n",
       "      <td>1019.000000</td>\n",
       "      <td>0.0</td>\n",
       "      <td>0.0</td>\n",
       "      <td>0.0</td>\n",
       "      <td>0.0</td>\n",
       "    </tr>\n",
       "    <tr>\n",
       "      <th>max</th>\n",
       "      <td>425712.000000</td>\n",
       "      <td>113.000000</td>\n",
       "      <td>35.000000</td>\n",
       "      <td>1.300000</td>\n",
       "      <td>100.000000</td>\n",
       "      <td>6.000000</td>\n",
       "      <td>1050.000000</td>\n",
       "      <td>0.0</td>\n",
       "      <td>0.0</td>\n",
       "      <td>0.0</td>\n",
       "      <td>0.0</td>\n",
       "    </tr>\n",
       "  </tbody>\n",
       "</table>\n",
       "</div>"
      ],
      "text/plain": [
       "                  id           temp     wind_speed         precip  \\\n",
       "count  425712.000000  425712.000000  425712.000000  425712.000000   \n",
       "mean   212856.500000      57.518090       8.016063       0.005530   \n",
       "std    122892.613236      19.919266       4.469639       0.028918   \n",
       "min         1.000000     -24.000000       0.000000       0.000000   \n",
       "25%    106428.750000      43.000000       5.000000       0.000000   \n",
       "50%    212856.500000      59.000000       7.000000       0.000000   \n",
       "75%    319284.250000      73.000000      11.000000       0.000000   \n",
       "max    425712.000000     113.000000      35.000000       1.300000   \n",
       "\n",
       "            humidity     visibility       pressure  chanceofrain  chanceoffog  \\\n",
       "count  425712.000000  425712.000000  425712.000000      425712.0     425712.0   \n",
       "mean       71.654482       5.378733    1015.541540           0.0          0.0   \n",
       "std        21.106049       1.414776       7.306384           0.0          0.0   \n",
       "min         3.000000       0.000000     985.000000           0.0          0.0   \n",
       "25%        59.000000       6.000000    1011.000000           0.0          0.0   \n",
       "50%        76.000000       6.000000    1015.000000           0.0          0.0   \n",
       "75%        89.000000       6.000000    1019.000000           0.0          0.0   \n",
       "max       100.000000       6.000000    1050.000000           0.0          0.0   \n",
       "\n",
       "       chanceofsnow  chanceofthunder  \n",
       "count      425712.0         425712.0  \n",
       "mean            0.0              0.0  \n",
       "std             0.0              0.0  \n",
       "min             0.0              0.0  \n",
       "25%             0.0              0.0  \n",
       "50%             0.0              0.0  \n",
       "75%             0.0              0.0  \n",
       "max             0.0              0.0  "
      ]
     },
     "execution_count": 107,
     "metadata": {},
     "output_type": "execute_result"
    }
   ],
   "source": [
    "routes_weather.describe()"
   ]
  },
  {
   "cell_type": "code",
   "execution_count": 108,
   "metadata": {},
   "outputs": [
    {
     "data": {
      "text/plain": [
       "id                 0\n",
       "route_id           0\n",
       "date               0\n",
       "temp               0\n",
       "wind_speed         0\n",
       "description        0\n",
       "precip             0\n",
       "humidity           0\n",
       "visibility         0\n",
       "pressure           0\n",
       "chanceofrain       0\n",
       "chanceoffog        0\n",
       "chanceofsnow       0\n",
       "chanceofthunder    0\n",
       "dtype: int64"
      ]
     },
     "execution_count": 108,
     "metadata": {},
     "output_type": "execute_result"
    }
   ],
   "source": [
    "routes_weather.isna().sum()"
   ]
  },
  {
   "cell_type": "code",
   "execution_count": 109,
   "metadata": {},
   "outputs": [
    {
     "data": {
      "text/plain": [
       "id                 425712\n",
       "route_id             2352\n",
       "date                  181\n",
       "temp                   77\n",
       "wind_speed             36\n",
       "description            48\n",
       "precip                 13\n",
       "humidity               98\n",
       "visibility              7\n",
       "pressure               66\n",
       "chanceofrain            1\n",
       "chanceoffog             1\n",
       "chanceofsnow            1\n",
       "chanceofthunder         1\n",
       "dtype: int64"
      ]
     },
     "execution_count": 109,
     "metadata": {},
     "output_type": "execute_result"
    }
   ],
   "source": [
    "routes_weather.nunique()"
   ]
  },
  {
   "cell_type": "code",
   "execution_count": 110,
   "metadata": {},
   "outputs": [
    {
     "data": {
      "text/plain": [
       "(425712, 14)"
      ]
     },
     "execution_count": 110,
     "metadata": {},
     "output_type": "execute_result"
    }
   ],
   "source": [
    "routes_weather.shape"
   ]
  },
  {
   "cell_type": "code",
   "execution_count": 111,
   "metadata": {},
   "outputs": [
    {
     "name": "stdout",
     "output_type": "stream",
     "text": [
      "   index  id    route_id                 date  temp  wind_speed description  \\\n",
      "0      1   1  R-ada2a391  2019-01-01 00:00:00    30          11  Heavy snow   \n",
      "1      2   2  R-ada2a391  2019-01-01 06:00:00    30          11  Heavy snow   \n",
      "2      3   3  R-ada2a391  2019-01-02 00:00:00    28          11      Cloudy   \n",
      "3      4   4  R-ada2a391  2019-01-02 06:00:00    27          11      Cloudy   \n",
      "4      5   5  R-ada2a391  2019-01-03 00:00:00    27           9      Cloudy   \n",
      "\n",
      "   precip  humidity  visibility  pressure  chanceofrain  chanceoffog  \\\n",
      "0     0.0        90           1      1010             0            0   \n",
      "1     0.0        91           3      1012             0            0   \n",
      "2     0.0        91           4      1013             0            0   \n",
      "3     0.0        92           6      1015             0            0   \n",
      "4     0.0        93           6      1016             0            0   \n",
      "\n",
      "   chanceofsnow  chanceofthunder event_date  \n",
      "0             0                0 2024-10-15  \n",
      "1             0                0 2024-10-15  \n",
      "2             0                0 2024-10-15  \n",
      "3             0                0 2024-10-15  \n",
      "4             0                0 2024-10-15  \n",
      "index                       int64\n",
      "id                          int64\n",
      "route_id                   object\n",
      "date                       object\n",
      "temp                        int64\n",
      "wind_speed                  int64\n",
      "description                object\n",
      "precip                    float64\n",
      "humidity                    int64\n",
      "visibility                  int64\n",
      "pressure                    int64\n",
      "chanceofrain                int64\n",
      "chanceoffog                 int64\n",
      "chanceofsnow                int64\n",
      "chanceofthunder             int64\n",
      "event_date         datetime64[ns]\n",
      "dtype: object\n"
     ]
    }
   ],
   "source": [
    "# Create a new 'index' column starting from 1\n",
    "routes_weather['index'] = routes_weather.index + 1\n",
    "\n",
    "# Move the 'index' column to the front\n",
    "routes_weather = routes_weather[['index'] + [col for col in routes_weather.columns if col != 'index']]\n",
    "\n",
    "from datetime import datetime\n",
    "import pandas as pd\n",
    "\n",
    "# Adding event_date column with current date\n",
    "today_date = datetime.now().strftime('%Y-%m-%d')\n",
    "routes_weather['event_date'] = pd.to_datetime(today_date)\n",
    "routes_weathers_df = routes_weather\n",
    "# Print the DataFrame and its data types\n",
    "print(routes_weather.head())\n",
    "print(routes_weather.dtypes)\n"
   ]
  },
  {
   "cell_type": "code",
   "execution_count": 112,
   "metadata": {},
   "outputs": [
    {
     "name": "stdout",
     "output_type": "stream",
     "text": [
      "Missing values per column:\n",
      "index              0\n",
      "id                 0\n",
      "route_id           0\n",
      "date               0\n",
      "temp               0\n",
      "wind_speed         0\n",
      "description        0\n",
      "precip             0\n",
      "humidity           0\n",
      "visibility         0\n",
      "pressure           0\n",
      "chanceofrain       0\n",
      "chanceoffog        0\n",
      "chanceofsnow       0\n",
      "chanceofthunder    0\n",
      "event_date         0\n",
      "dtype: int64\n"
     ]
    }
   ],
   "source": [
    "# Check for missing values\n",
    "missing_values = routes_weather.isnull().sum()\n",
    "print(\"Missing values per column:\")\n",
    "print(missing_values)\n"
   ]
  },
  {
   "cell_type": "code",
   "execution_count": 113,
   "metadata": {},
   "outputs": [
    {
     "name": "stdout",
     "output_type": "stream",
     "text": [
      "Number of duplicate rows: 0\n"
     ]
    }
   ],
   "source": [
    "# Check for duplicate rows\n",
    "duplicates = routes_weather.duplicated().sum()\n",
    "print(f\"Number of duplicate rows: {duplicates}\")\n",
    "\n",
    "# Remove duplicate rows if any\n",
    "if duplicates > 0:\n",
    "    routes_weather.drop_duplicates(inplace=True)\n",
    "    print(\"Duplicates removed.\")\n"
   ]
  },
  {
   "cell_type": "code",
   "execution_count": 114,
   "metadata": {},
   "outputs": [
    {
     "name": "stdout",
     "output_type": "stream",
     "text": [
      "Summary statistics:\n",
      "               index             id           temp     wind_speed  \\\n",
      "count  425712.000000  425712.000000  425712.000000  425712.000000   \n",
      "mean   212856.500000  212856.500000      57.518090       8.016063   \n",
      "min         1.000000       1.000000     -24.000000       0.000000   \n",
      "25%    106428.750000  106428.750000      43.000000       5.000000   \n",
      "50%    212856.500000  212856.500000      59.000000       7.000000   \n",
      "75%    319284.250000  319284.250000      73.000000      11.000000   \n",
      "max    425712.000000  425712.000000     113.000000      35.000000   \n",
      "std    122892.613236  122892.613236      19.919266       4.469639   \n",
      "\n",
      "              precip       humidity     visibility       pressure  \\\n",
      "count  425712.000000  425712.000000  425712.000000  425712.000000   \n",
      "mean        0.005530      71.654482       5.378733    1015.541540   \n",
      "min         0.000000       3.000000       0.000000     985.000000   \n",
      "25%         0.000000      59.000000       6.000000    1011.000000   \n",
      "50%         0.000000      76.000000       6.000000    1015.000000   \n",
      "75%         0.000000      89.000000       6.000000    1019.000000   \n",
      "max         1.300000     100.000000       6.000000    1050.000000   \n",
      "std         0.028918      21.106049       1.414776       7.306384   \n",
      "\n",
      "       chanceofrain  chanceoffog  chanceofsnow  chanceofthunder  \\\n",
      "count      425712.0     425712.0      425712.0         425712.0   \n",
      "mean            0.0          0.0           0.0              0.0   \n",
      "min             0.0          0.0           0.0              0.0   \n",
      "25%             0.0          0.0           0.0              0.0   \n",
      "50%             0.0          0.0           0.0              0.0   \n",
      "75%             0.0          0.0           0.0              0.0   \n",
      "max             0.0          0.0           0.0              0.0   \n",
      "std             0.0          0.0           0.0              0.0   \n",
      "\n",
      "                event_date  \n",
      "count               425712  \n",
      "mean   2024-10-15 00:00:00  \n",
      "min    2024-10-15 00:00:00  \n",
      "25%    2024-10-15 00:00:00  \n",
      "50%    2024-10-15 00:00:00  \n",
      "75%    2024-10-15 00:00:00  \n",
      "max    2024-10-15 00:00:00  \n",
      "std                    NaN  \n"
     ]
    }
   ],
   "source": [
    "# Example of checking range for numeric features\n",
    "print(\"Summary statistics:\")\n",
    "print(routes_weather.describe())\n"
   ]
  },
  {
   "cell_type": "code",
   "execution_count": 115,
   "metadata": {},
   "outputs": [
    {
     "name": "stdout",
     "output_type": "stream",
     "text": [
      "Number of outliers in temp: 1060\n",
      "       index     id    route_id                 date  temp  wind_speed  \\\n",
      "21938  21939  21939  R-51e5c496  2019-01-04 06:00:00    -4           2   \n",
      "21939  21940  21940  R-51e5c496  2019-01-05 00:00:00    -6           4   \n",
      "21940  21941  21941  R-51e5c496  2019-01-05 06:00:00    -6           4   \n",
      "21941  21942  21942  R-51e5c496  2019-01-06 00:00:00    -4           4   \n",
      "21942  21943  21943  R-51e5c496  2019-01-06 06:00:00    -4           4   \n",
      "\n",
      "                description  precip  humidity  visibility  pressure  \\\n",
      "21938     Patchy heavy snow     0.0        92           2      1026   \n",
      "21939     Patchy heavy snow     0.0        90           3      1027   \n",
      "21940     Patchy heavy snow     0.0        89           4      1028   \n",
      "21941  Patchy snow possible     0.0        88           5      1029   \n",
      "21942  Patchy snow possible     0.0        86           6      1030   \n",
      "\n",
      "       chanceofrain  chanceoffog  chanceofsnow  chanceofthunder event_date  \n",
      "21938             0            0             0                0 2024-10-15  \n",
      "21939             0            0             0                0 2024-10-15  \n",
      "21940             0            0             0                0 2024-10-15  \n",
      "21941             0            0             0                0 2024-10-15  \n",
      "21942             0            0             0                0 2024-10-15  \n",
      "\n",
      "Number of outliers in wind_speed: 5570\n",
      "      index    id    route_id                 date  temp  wind_speed  \\\n",
      "182     183   183  R-4beec5fd  2019-01-01 00:00:00    39          22   \n",
      "183     184   184  R-4beec5fd  2019-01-01 06:00:00    41          22   \n",
      "184     185   185  R-4beec5fd  2019-01-02 00:00:00    41          21   \n",
      "189     190   190  R-4beec5fd  2019-01-04 06:00:00    36          21   \n",
      "1111   1112  1112  R-f3910966  2019-01-10 06:00:00    45          21   \n",
      "\n",
      "            description  precip  humidity  visibility  pressure  chanceofrain  \\\n",
      "182          Light rain     0.0        90           6      1009             0   \n",
      "183          Light rain     0.0        89           6      1007             0   \n",
      "184          Light rain     0.0        90           5      1007             0   \n",
      "189   Patchy heavy snow     0.0        90           3      1013             0   \n",
      "1111      Partly cloudy     0.0        81           6       994             0   \n",
      "\n",
      "      chanceoffog  chanceofsnow  chanceofthunder event_date  \n",
      "182             0             0                0 2024-10-15  \n",
      "183             0             0                0 2024-10-15  \n",
      "184             0             0                0 2024-10-15  \n",
      "189             0             0                0 2024-10-15  \n",
      "1111            0             0                0 2024-10-15  \n",
      "\n",
      "Number of outliers in humidity: 5378\n",
      "       index     id    route_id                 date  temp  wind_speed  \\\n",
      "14310  14311  14311  R-16feadb8  2019-01-12 06:00:00    55          24   \n",
      "18648  18649  18649  R-a344e9a3  2019-02-12 00:00:00    66          17   \n",
      "18809  18810  18810  R-7ee8349c  2019-02-01 06:00:00    77           7   \n",
      "18810  18811  18811  R-7ee8349c  2019-02-02 00:00:00    79           7   \n",
      "18811  18812  18812  R-7ee8349c  2019-02-02 06:00:00    79           6   \n",
      "\n",
      "      description  precip  humidity  visibility  pressure  chanceofrain  \\\n",
      "14310       Clear     0.0        11           6      1007             0   \n",
      "18648       Sunny     0.0        13           6      1013             0   \n",
      "18809       Sunny     0.0        13           6      1018             0   \n",
      "18810       Sunny     0.0        11           6      1017             0   \n",
      "18811       Sunny     0.0        11           6      1017             0   \n",
      "\n",
      "       chanceoffog  chanceofsnow  chanceofthunder event_date  \n",
      "14310            0             0                0 2024-10-15  \n",
      "18648            0             0                0 2024-10-15  \n",
      "18809            0             0                0 2024-10-15  \n",
      "18810            0             0                0 2024-10-15  \n",
      "18811            0             0                0 2024-10-15  \n",
      "\n",
      "Number of outliers in pressure: 18641\n",
      "    index  id    route_id                 date  temp  wind_speed  \\\n",
      "71     72  72  R-ada2a391  2019-02-05 06:00:00    37           6   \n",
      "72     73  73  R-ada2a391  2019-02-06 00:00:00    37           7   \n",
      "73     74  74  R-ada2a391  2019-02-06 06:00:00    37           9   \n",
      "74     75  75  R-ada2a391  2019-02-07 00:00:00    37          11   \n",
      "75     76  76  R-ada2a391  2019-02-07 06:00:00    37          12   \n",
      "\n",
      "      description  precip  humidity  visibility  pressure  chanceofrain  \\\n",
      "71  Light drizzle     0.0        99           1       998             0   \n",
      "72  Light drizzle     0.0        99           1       998             0   \n",
      "73  Light drizzle     0.0        98           1       998             0   \n",
      "74  Light drizzle     0.0        98           1       998             0   \n",
      "75  Light drizzle     0.0        97           1       998             0   \n",
      "\n",
      "    chanceoffog  chanceofsnow  chanceofthunder event_date  \n",
      "71            0             0                0 2024-10-15  \n",
      "72            0             0                0 2024-10-15  \n",
      "73            0             0                0 2024-10-15  \n",
      "74            0             0                0 2024-10-15  \n",
      "75            0             0                0 2024-10-15  \n",
      "\n"
     ]
    }
   ],
   "source": [
    "import pandas as pd\n",
    "\n",
    "# Define a dictionary to store outliers for each feature\n",
    "outliers_dict = {}\n",
    "\n",
    "# List of numerical features to check for outliers\n",
    "numerical_features = ['temp', 'wind_speed', 'humidity', 'pressure']\n",
    "\n",
    "# Do not remove precip and visibility----\n",
    "\n",
    "# Loop through numerical features\n",
    "for feature in numerical_features:\n",
    "    Q1 = routes_weather[feature].quantile(0.25)\n",
    "    Q3 = routes_weather[feature].quantile(0.75)\n",
    "    IQR = Q3 - Q1\n",
    "    \n",
    "    # Find outliers\n",
    "    outliers = routes_weather[(routes_weather[feature] < (Q1 - 1.5 * IQR)) |\n",
    "                              (routes_weather[feature] > (Q3 + 1.5 * IQR))]\n",
    "    \n",
    "    outliers_dict[feature] = outliers\n",
    "\n",
    "# Display the number of outliers for each feature\n",
    "for feature, outliers in outliers_dict.items():\n",
    "    print(f\"Number of outliers in {feature}: {len(outliers)}\")\n",
    "    # Optionally display first few rows of outliers for inspection\n",
    "    print(outliers.head())\n",
    "    print()  # Print a blank line for readability\n"
   ]
  },
  {
   "cell_type": "code",
   "execution_count": 116,
   "metadata": {},
   "outputs": [
    {
     "name": "stdout",
     "output_type": "stream",
     "text": [
      "Number of rows after removing outliers: 396149\n"
     ]
    }
   ],
   "source": [
    "#Remove Outliers\n",
    "\n",
    "import pandas as pd\n",
    "\n",
    "# List of numerical features to check for outliers (excluding 'precip' and 'visibility')\n",
    "numerical_features = ['temp', 'wind_speed', 'humidity', 'pressure']\n",
    "\n",
    "# Loop through numerical features and remove outliers\n",
    "for feature in numerical_features:\n",
    "    Q1 = routes_weather[feature].quantile(0.25)\n",
    "    Q3 = routes_weather[feature].quantile(0.75)\n",
    "    IQR = Q3 - Q1\n",
    "    \n",
    "    # Define lower and upper bounds for non-outliers\n",
    "    lower_bound = Q1 - 1.5 * IQR\n",
    "    upper_bound = Q3 + 1.5 * IQR\n",
    "    \n",
    "    # Remove rows where feature values are outside the bounds\n",
    "    routes_weather = routes_weather[\n",
    "        (routes_weather[feature] >= lower_bound) &\n",
    "        (routes_weather[feature] <= upper_bound)\n",
    "    ]\n",
    "\n",
    "# Display the number of rows after removing outliers\n",
    "print(f\"Number of rows after removing outliers: {len(routes_weather)}\")\n",
    "\n",
    "# Save or continue using the cleaned DataFrame\n",
    "# routes_weather.to_csv('cleaned_routes_weather.csv', index=False)  # Uncomment to save to CSV\n"
   ]
  },
  {
   "cell_type": "code",
   "execution_count": 117,
   "metadata": {},
   "outputs": [
    {
     "name": "stdout",
     "output_type": "stream",
     "text": [
      "Number of remaining outliers in temp: 839\n",
      "Number of remaining outliers in wind_speed: 0\n",
      "Number of remaining outliers in humidity: 4718\n",
      "Number of remaining outliers in pressure: 0\n"
     ]
    }
   ],
   "source": [
    "# Re-check for outliers\n",
    "for feature in ['temp', 'wind_speed', 'humidity', 'pressure']:\n",
    "    Q1 = routes_weather[feature].quantile(0.25)\n",
    "    Q3 = routes_weather[feature].quantile(0.75)\n",
    "    IQR = Q3 - Q1\n",
    "    \n",
    "    remaining_outliers = routes_weather[(routes_weather[feature] < (Q1 - 1.5 * IQR)) |\n",
    "                                        (routes_weather[feature] > (Q3 + 1.5 * IQR))]\n",
    "    \n",
    "    print(f\"Number of remaining outliers in {feature}: {len(remaining_outliers)}\")\n"
   ]
  },
  {
   "cell_type": "code",
   "execution_count": 118,
   "metadata": {},
   "outputs": [
    {
     "data": {
      "image/png": "[encoded data removed]",
      "text/plain": [
       "<Figure size 1000x600 with 1 Axes>"
      ]
     },
     "metadata": {},
     "output_type": "display_data"
    },
    {
     "data": {
      "image/png": "[encoded data removed]",
      "text/plain": [
       "<Figure size 1000x600 with 1 Axes>"
      ]
     },
     "metadata": {},
     "output_type": "display_data"
    },
    {
     "data": {
      "image/png": "[encoded data removed]",
      "text/plain": [
       "<Figure size 1000x600 with 1 Axes>"
      ]
     },
     "metadata": {},
     "output_type": "display_data"
    },
    {
     "data": {
      "image/png": "[encoded data removed]",
      "text/plain": [
       "<Figure size 1000x600 with 1 Axes>"
      ]
     },
     "metadata": {},
     "output_type": "display_data"
    }
   ],
   "source": [
    "# Boxplots after handling outliers\n",
    "for feature in ['temp', 'wind_speed', 'humidity', 'pressure']:\n",
    "    plt.figure(figsize=(10, 6))\n",
    "    sns.boxplot(x=routes_weather[feature])\n",
    "    plt.title(f'Boxplot of {feature} After Handling Outliers')\n",
    "    plt.show()\n"
   ]
  },
  {
   "cell_type": "code",
   "execution_count": 119,
   "metadata": {},
   "outputs": [
    {
     "data": {
      "text/plain": [
       "(396149, 16)"
      ]
     },
     "execution_count": 119,
     "metadata": {},
     "output_type": "execute_result"
    }
   ],
   "source": [
    "routes_weather.shape"
   ]
  },
  {
   "cell_type": "code",
   "execution_count": 120,
   "metadata": {},
   "outputs": [],
   "source": [
    "# saving cleaned data for routes_weather.csv\n",
    "routes_weather.to_csv('C:/Users/anucv/OneDrive/Desktop/AI and ML training/Machine_Learning/TRUCK_DELAY_CLASSIFICATION_PROJECT/Data/Cleaned_data/cleaned_routes_weather.csv', index=False)\n"
   ]
  },
  {
   "cell_type": "code",
   "execution_count": null,
   "metadata": {},
   "outputs": [],
   "source": []
  },
  {
   "cell_type": "markdown",
   "metadata": {},
   "source": [
    "traffic"
   ]
  },
  {
   "cell_type": "code",
   "execution_count": 121,
   "metadata": {},
   "outputs": [
    {
     "data": {
      "text/html": [
       "<div>\n",
       "<style scoped>\n",
       "    .dataframe tbody tr th:only-of-type {\n",
       "        vertical-align: middle;\n",
       "    }\n",
       "\n",
       "    .dataframe tbody tr th {\n",
       "        vertical-align: top;\n",
       "    }\n",
       "\n",
       "    .dataframe thead th {\n",
       "        text-align: right;\n",
       "    }\n",
       "</style>\n",
       "<table border=\"1\" class=\"dataframe\">\n",
       "  <thead>\n",
       "    <tr style=\"text-align: right;\">\n",
       "      <th></th>\n",
       "      <th>id</th>\n",
       "      <th>route_id</th>\n",
       "      <th>date</th>\n",
       "      <th>hour</th>\n",
       "      <th>no_of_vehicles</th>\n",
       "      <th>accident</th>\n",
       "    </tr>\n",
       "  </thead>\n",
       "  <tbody>\n",
       "    <tr>\n",
       "      <th>0</th>\n",
       "      <td>1</td>\n",
       "      <td>R-ada2a391</td>\n",
       "      <td>2019-01-01</td>\n",
       "      <td>0</td>\n",
       "      <td>669.0</td>\n",
       "      <td>0</td>\n",
       "    </tr>\n",
       "    <tr>\n",
       "      <th>1</th>\n",
       "      <td>2</td>\n",
       "      <td>R-ada2a391</td>\n",
       "      <td>2019-01-01</td>\n",
       "      <td>100</td>\n",
       "      <td>628.0</td>\n",
       "      <td>0</td>\n",
       "    </tr>\n",
       "    <tr>\n",
       "      <th>2</th>\n",
       "      <td>3</td>\n",
       "      <td>R-ada2a391</td>\n",
       "      <td>2019-01-01</td>\n",
       "      <td>200</td>\n",
       "      <td>516.0</td>\n",
       "      <td>0</td>\n",
       "    </tr>\n",
       "    <tr>\n",
       "      <th>3</th>\n",
       "      <td>4</td>\n",
       "      <td>R-ada2a391</td>\n",
       "      <td>2019-01-01</td>\n",
       "      <td>300</td>\n",
       "      <td>582.0</td>\n",
       "      <td>0</td>\n",
       "    </tr>\n",
       "    <tr>\n",
       "      <th>4</th>\n",
       "      <td>5</td>\n",
       "      <td>R-ada2a391</td>\n",
       "      <td>2019-01-01</td>\n",
       "      <td>400</td>\n",
       "      <td>564.0</td>\n",
       "      <td>0</td>\n",
       "    </tr>\n",
       "  </tbody>\n",
       "</table>\n",
       "</div>"
      ],
      "text/plain": [
       "   id    route_id        date  hour  no_of_vehicles  accident\n",
       "0   1  R-ada2a391  2019-01-01     0           669.0         0\n",
       "1   2  R-ada2a391  2019-01-01   100           628.0         0\n",
       "2   3  R-ada2a391  2019-01-01   200           516.0         0\n",
       "3   4  R-ada2a391  2019-01-01   300           582.0         0\n",
       "4   5  R-ada2a391  2019-01-01   400           564.0         0"
      ]
     },
     "execution_count": 121,
     "metadata": {},
     "output_type": "execute_result"
    }
   ],
   "source": [
    "\n",
    "# Database connection parameters\n",
    "db_host = 'localhost'  # or the IP address of your Docker container\n",
    "db_port = '5432'\n",
    "db_name = 'truck_delay_classification'\n",
    "db_user = 'postgres'\n",
    "db_password = 'Anu0408'  # Change this if you set a different password\n",
    "\n",
    "\n",
    "# Create a connection engine\n",
    "engine = create_engine(f'postgresql://{db_user}:{db_password}@{db_host}:{db_port}/{db_name}')\n",
    "\n",
    "# Query to select data\n",
    " \n",
    "\n",
    "query = 'SELECT * FROM traffic_table;'  \n",
    "\n",
    "\n",
    "# Read data into a DataFrame\n",
    "traffic = pd.read_sql_query(query, engine)\n",
    "\n",
    "# Display the first few rows of the DataFrame\n",
    "traffic.head()\n",
    "\n"
   ]
  },
  {
   "cell_type": "code",
   "execution_count": 122,
   "metadata": {},
   "outputs": [
    {
     "data": {
      "text/plain": [
       "(2597913, 6)"
      ]
     },
     "execution_count": 122,
     "metadata": {},
     "output_type": "execute_result"
    }
   ],
   "source": [
    "traffic.shape"
   ]
  },
  {
   "cell_type": "code",
   "execution_count": 124,
   "metadata": {},
   "outputs": [
    {
     "data": {
      "text/html": [
       "<div>\n",
       "<style scoped>\n",
       "    .dataframe tbody tr th:only-of-type {\n",
       "        vertical-align: middle;\n",
       "    }\n",
       "\n",
       "    .dataframe tbody tr th {\n",
       "        vertical-align: top;\n",
       "    }\n",
       "\n",
       "    .dataframe thead th {\n",
       "        text-align: right;\n",
       "    }\n",
       "</style>\n",
       "<table border=\"1\" class=\"dataframe\">\n",
       "  <thead>\n",
       "    <tr style=\"text-align: right;\">\n",
       "      <th></th>\n",
       "      <th>id</th>\n",
       "      <th>route_id</th>\n",
       "      <th>date</th>\n",
       "      <th>hour</th>\n",
       "      <th>no_of_vehicles</th>\n",
       "      <th>accident</th>\n",
       "    </tr>\n",
       "  </thead>\n",
       "  <tbody>\n",
       "    <tr>\n",
       "      <th>0</th>\n",
       "      <td>1</td>\n",
       "      <td>R-ada2a391</td>\n",
       "      <td>2019-01-01</td>\n",
       "      <td>0</td>\n",
       "      <td>669.0</td>\n",
       "      <td>0</td>\n",
       "    </tr>\n",
       "    <tr>\n",
       "      <th>1</th>\n",
       "      <td>2</td>\n",
       "      <td>R-ada2a391</td>\n",
       "      <td>2019-01-01</td>\n",
       "      <td>100</td>\n",
       "      <td>628.0</td>\n",
       "      <td>0</td>\n",
       "    </tr>\n",
       "    <tr>\n",
       "      <th>2</th>\n",
       "      <td>3</td>\n",
       "      <td>R-ada2a391</td>\n",
       "      <td>2019-01-01</td>\n",
       "      <td>200</td>\n",
       "      <td>516.0</td>\n",
       "      <td>0</td>\n",
       "    </tr>\n",
       "    <tr>\n",
       "      <th>3</th>\n",
       "      <td>4</td>\n",
       "      <td>R-ada2a391</td>\n",
       "      <td>2019-01-01</td>\n",
       "      <td>300</td>\n",
       "      <td>582.0</td>\n",
       "      <td>0</td>\n",
       "    </tr>\n",
       "    <tr>\n",
       "      <th>4</th>\n",
       "      <td>5</td>\n",
       "      <td>R-ada2a391</td>\n",
       "      <td>2019-01-01</td>\n",
       "      <td>400</td>\n",
       "      <td>564.0</td>\n",
       "      <td>0</td>\n",
       "    </tr>\n",
       "  </tbody>\n",
       "</table>\n",
       "</div>"
      ],
      "text/plain": [
       "   id    route_id        date  hour  no_of_vehicles  accident\n",
       "0   1  R-ada2a391  2019-01-01     0           669.0         0\n",
       "1   2  R-ada2a391  2019-01-01   100           628.0         0\n",
       "2   3  R-ada2a391  2019-01-01   200           516.0         0\n",
       "3   4  R-ada2a391  2019-01-01   300           582.0         0\n",
       "4   5  R-ada2a391  2019-01-01   400           564.0         0"
      ]
     },
     "execution_count": 124,
     "metadata": {},
     "output_type": "execute_result"
    }
   ],
   "source": [
    "traffic.head()\n"
   ]
  },
  {
   "cell_type": "code",
   "execution_count": 125,
   "metadata": {},
   "outputs": [
    {
     "data": {
      "text/plain": [
       "id                  int64\n",
       "route_id           object\n",
       "date               object\n",
       "hour                int64\n",
       "no_of_vehicles    float64\n",
       "accident            int64\n",
       "dtype: object"
      ]
     },
     "execution_count": 125,
     "metadata": {},
     "output_type": "execute_result"
    }
   ],
   "source": [
    "traffic.dtypes"
   ]
  },
  {
   "cell_type": "code",
   "execution_count": 126,
   "metadata": {},
   "outputs": [
    {
     "data": {
      "text/html": [
       "<div>\n",
       "<style scoped>\n",
       "    .dataframe tbody tr th:only-of-type {\n",
       "        vertical-align: middle;\n",
       "    }\n",
       "\n",
       "    .dataframe tbody tr th {\n",
       "        vertical-align: top;\n",
       "    }\n",
       "\n",
       "    .dataframe thead th {\n",
       "        text-align: right;\n",
       "    }\n",
       "</style>\n",
       "<table border=\"1\" class=\"dataframe\">\n",
       "  <thead>\n",
       "    <tr style=\"text-align: right;\">\n",
       "      <th></th>\n",
       "      <th>id</th>\n",
       "      <th>hour</th>\n",
       "      <th>no_of_vehicles</th>\n",
       "      <th>accident</th>\n",
       "    </tr>\n",
       "  </thead>\n",
       "  <tbody>\n",
       "    <tr>\n",
       "      <th>count</th>\n",
       "      <td>2.597913e+06</td>\n",
       "      <td>2.597913e+06</td>\n",
       "      <td>2.596761e+06</td>\n",
       "      <td>2.597913e+06</td>\n",
       "    </tr>\n",
       "    <tr>\n",
       "      <th>mean</th>\n",
       "      <td>1.298957e+06</td>\n",
       "      <td>1.150021e+03</td>\n",
       "      <td>1.566776e+03</td>\n",
       "      <td>5.320848e-02</td>\n",
       "    </tr>\n",
       "    <tr>\n",
       "      <th>std</th>\n",
       "      <td>7.499530e+05</td>\n",
       "      <td>6.922211e+02</td>\n",
       "      <td>8.959424e+02</td>\n",
       "      <td>2.244490e-01</td>\n",
       "    </tr>\n",
       "    <tr>\n",
       "      <th>min</th>\n",
       "      <td>1.000000e+00</td>\n",
       "      <td>0.000000e+00</td>\n",
       "      <td>1.000000e+02</td>\n",
       "      <td>0.000000e+00</td>\n",
       "    </tr>\n",
       "    <tr>\n",
       "      <th>25%</th>\n",
       "      <td>6.494790e+05</td>\n",
       "      <td>6.000000e+02</td>\n",
       "      <td>6.060000e+02</td>\n",
       "      <td>0.000000e+00</td>\n",
       "    </tr>\n",
       "    <tr>\n",
       "      <th>50%</th>\n",
       "      <td>1.298957e+06</td>\n",
       "      <td>1.200000e+03</td>\n",
       "      <td>1.969000e+03</td>\n",
       "      <td>0.000000e+00</td>\n",
       "    </tr>\n",
       "    <tr>\n",
       "      <th>75%</th>\n",
       "      <td>1.948435e+06</td>\n",
       "      <td>1.800000e+03</td>\n",
       "      <td>2.326000e+03</td>\n",
       "      <td>0.000000e+00</td>\n",
       "    </tr>\n",
       "    <tr>\n",
       "      <th>max</th>\n",
       "      <td>2.597913e+06</td>\n",
       "      <td>2.300000e+03</td>\n",
       "      <td>3.636000e+03</td>\n",
       "      <td>1.000000e+00</td>\n",
       "    </tr>\n",
       "  </tbody>\n",
       "</table>\n",
       "</div>"
      ],
      "text/plain": [
       "                 id          hour  no_of_vehicles      accident\n",
       "count  2.597913e+06  2.597913e+06    2.596761e+06  2.597913e+06\n",
       "mean   1.298957e+06  1.150021e+03    1.566776e+03  5.320848e-02\n",
       "std    7.499530e+05  6.922211e+02    8.959424e+02  2.244490e-01\n",
       "min    1.000000e+00  0.000000e+00    1.000000e+02  0.000000e+00\n",
       "25%    6.494790e+05  6.000000e+02    6.060000e+02  0.000000e+00\n",
       "50%    1.298957e+06  1.200000e+03    1.969000e+03  0.000000e+00\n",
       "75%    1.948435e+06  1.800000e+03    2.326000e+03  0.000000e+00\n",
       "max    2.597913e+06  2.300000e+03    3.636000e+03  1.000000e+00"
      ]
     },
     "execution_count": 126,
     "metadata": {},
     "output_type": "execute_result"
    }
   ],
   "source": [
    "traffic.describe()"
   ]
  },
  {
   "cell_type": "code",
   "execution_count": 127,
   "metadata": {},
   "outputs": [
    {
     "data": {
      "text/plain": [
       "id                   0\n",
       "route_id             0\n",
       "date                 0\n",
       "hour                 0\n",
       "no_of_vehicles    1152\n",
       "accident             0\n",
       "dtype: int64"
      ]
     },
     "execution_count": 127,
     "metadata": {},
     "output_type": "execute_result"
    }
   ],
   "source": [
    "traffic.isna().sum()"
   ]
  },
  {
   "cell_type": "code",
   "execution_count": 128,
   "metadata": {},
   "outputs": [
    {
     "data": {
      "text/plain": [
       "id                2597913\n",
       "route_id             2352\n",
       "date                   46\n",
       "hour                   24\n",
       "no_of_vehicles       2642\n",
       "accident                2\n",
       "dtype: int64"
      ]
     },
     "execution_count": 128,
     "metadata": {},
     "output_type": "execute_result"
    }
   ],
   "source": [
    "traffic.nunique()"
   ]
  },
  {
   "cell_type": "code",
   "execution_count": 129,
   "metadata": {},
   "outputs": [
    {
     "name": "stdout",
     "output_type": "stream",
     "text": [
      "   index  id    route_id        date  hour  no_of_vehicles  accident  \\\n",
      "0      1   1  R-ada2a391  2019-01-01     0           669.0         0   \n",
      "1      2   2  R-ada2a391  2019-01-01   100           628.0         0   \n",
      "2      3   3  R-ada2a391  2019-01-01   200           516.0         0   \n",
      "3      4   4  R-ada2a391  2019-01-01   300           582.0         0   \n",
      "4      5   5  R-ada2a391  2019-01-01   400           564.0         0   \n",
      "\n",
      "  event_date  \n",
      "0 2024-10-15  \n",
      "1 2024-10-15  \n",
      "2 2024-10-15  \n",
      "3 2024-10-15  \n",
      "4 2024-10-15  \n",
      "index                      int64\n",
      "id                         int64\n",
      "route_id                  object\n",
      "date                      object\n",
      "hour                       int64\n",
      "no_of_vehicles           float64\n",
      "accident                   int64\n",
      "event_date        datetime64[ns]\n",
      "dtype: object\n"
     ]
    }
   ],
   "source": [
    "# Create a new 'index' column starting from 1\n",
    "traffic['index'] = traffic.index + 1\n",
    "\n",
    "# Move the 'index' column to the front\n",
    "traffic = traffic[['index'] + [col for col in traffic.columns if col != 'index']]\n",
    "\n",
    "from datetime import datetime\n",
    "import pandas as pd\n",
    "\n",
    "# Adding event_date column with current date\n",
    "today_date = datetime.now().strftime('%Y-%m-%d')\n",
    "traffic['event_date'] = pd.to_datetime(today_date)\n",
    "traffic_df = traffic\n",
    "# Print the DataFrame and its data types\n",
    "print(traffic.head())\n",
    "print(traffic.dtypes)\n"
   ]
  },
  {
   "cell_type": "code",
   "execution_count": 130,
   "metadata": {},
   "outputs": [
    {
     "data": {
      "text/plain": [
       "index                      int64\n",
       "id                         int64\n",
       "route_id                  object\n",
       "date                      object\n",
       "hour                       int64\n",
       "no_of_vehicles           float64\n",
       "accident                   int64\n",
       "event_date        datetime64[ns]\n",
       "dtype: object"
      ]
     },
     "execution_count": 130,
     "metadata": {},
     "output_type": "execute_result"
    }
   ],
   "source": [
    "traffic.dtypes"
   ]
  },
  {
   "cell_type": "code",
   "execution_count": 131,
   "metadata": {},
   "outputs": [
    {
     "data": {
      "text/plain": [
       "<bound method DataFrame.info of            index       id    route_id        date  hour  no_of_vehicles  \\\n",
       "0              1        1  R-ada2a391  2019-01-01     0           669.0   \n",
       "1              2        2  R-ada2a391  2019-01-01   100           628.0   \n",
       "2              3        3  R-ada2a391  2019-01-01   200           516.0   \n",
       "3              4        4  R-ada2a391  2019-01-01   300           582.0   \n",
       "4              5        5  R-ada2a391  2019-01-01   400           564.0   \n",
       "...          ...      ...         ...         ...   ...             ...   \n",
       "2597908  2597909  2597909  R-38a366a9  2019-02-15  1900          2758.0   \n",
       "2597909  2597910  2597910  R-38a366a9  2019-02-15  2000          1934.0   \n",
       "2597910  2597911  2597911  R-38a366a9  2019-02-15  2100          1699.0   \n",
       "2597911  2597912  2597912  R-38a366a9  2019-02-15  2200          2373.0   \n",
       "2597912  2597913  2597913  R-38a366a9  2019-02-15  2300          2401.0   \n",
       "\n",
       "         accident event_date  \n",
       "0               0 2024-10-15  \n",
       "1               0 2024-10-15  \n",
       "2               0 2024-10-15  \n",
       "3               0 2024-10-15  \n",
       "4               0 2024-10-15  \n",
       "...           ...        ...  \n",
       "2597908         0 2024-10-15  \n",
       "2597909         1 2024-10-15  \n",
       "2597910         0 2024-10-15  \n",
       "2597911         0 2024-10-15  \n",
       "2597912         0 2024-10-15  \n",
       "\n",
       "[2597913 rows x 8 columns]>"
      ]
     },
     "execution_count": 131,
     "metadata": {},
     "output_type": "execute_result"
    }
   ],
   "source": [
    "traffic.info"
   ]
  },
  {
   "cell_type": "code",
   "execution_count": 132,
   "metadata": {},
   "outputs": [
    {
     "data": {
      "text/plain": [
       "index                0\n",
       "id                   0\n",
       "route_id             0\n",
       "date                 0\n",
       "hour                 0\n",
       "no_of_vehicles    1152\n",
       "accident             0\n",
       "event_date           0\n",
       "dtype: int64"
      ]
     },
     "execution_count": 132,
     "metadata": {},
     "output_type": "execute_result"
    }
   ],
   "source": [
    "# Check for missing values\n",
    "missing_values = traffic.isnull().sum()\n",
    "missing_values\n"
   ]
  },
  {
   "cell_type": "code",
   "execution_count": 133,
   "metadata": {},
   "outputs": [
    {
     "name": "stdout",
     "output_type": "stream",
     "text": [
      "Shape of the cleaned DataFrame: (2596761, 8)\n",
      "index             0\n",
      "id                0\n",
      "route_id          0\n",
      "date              0\n",
      "hour              0\n",
      "no_of_vehicles    0\n",
      "accident          0\n",
      "event_date        0\n",
      "dtype: int64\n"
     ]
    }
   ],
   "source": [
    "# Drop rows with missing values in 'no_of_vehicles'\n",
    "traffic = traffic.dropna(subset=['no_of_vehicles'])\n",
    "\n",
    "# Check the shape of the cleaned DataFrame\n",
    "print(f\"Shape of the cleaned DataFrame: {traffic.shape}\")\n",
    "\n",
    "# Verify if there are any missing values left\n",
    "missing_values_after = traffic.isnull().sum()\n",
    "print(missing_values_after)\n"
   ]
  },
  {
   "cell_type": "code",
   "execution_count": 134,
   "metadata": {},
   "outputs": [
    {
     "name": "stdout",
     "output_type": "stream",
     "text": [
      "0\n"
     ]
    }
   ],
   "source": [
    "\n",
    "# Check if there are still missing values\n",
    "print(traffic['no_of_vehicles'].isna().sum())  # Should be 0 if imputation was successful"
   ]
  },
  {
   "cell_type": "code",
   "execution_count": 135,
   "metadata": {},
   "outputs": [
    {
     "data": {
      "text/plain": [
       "index             0\n",
       "id                0\n",
       "route_id          0\n",
       "date              0\n",
       "hour              0\n",
       "no_of_vehicles    0\n",
       "accident          0\n",
       "event_date        0\n",
       "dtype: int64"
      ]
     },
     "execution_count": 135,
     "metadata": {},
     "output_type": "execute_result"
    }
   ],
   "source": [
    "# Check for missing values\n",
    "missing_values = traffic.isnull().sum()\n",
    "missing_values"
   ]
  },
  {
   "cell_type": "code",
   "execution_count": 136,
   "metadata": {},
   "outputs": [
    {
     "name": "stdout",
     "output_type": "stream",
     "text": [
      "Number of duplicate rows: 0\n"
     ]
    }
   ],
   "source": [
    "# Check for duplicates\n",
    "duplicates = traffic.duplicated().sum()\n",
    "print(f\"Number of duplicate rows: {duplicates}\")\n",
    "\n",
    "# Remove duplicates if any\n",
    "traffic = traffic.drop_duplicates()\n"
   ]
  },
  {
   "cell_type": "code",
   "execution_count": 137,
   "metadata": {},
   "outputs": [
    {
     "data": {
      "text/plain": [
       "index                      int64\n",
       "id                         int64\n",
       "route_id                  object\n",
       "date                      object\n",
       "hour                       int64\n",
       "no_of_vehicles           float64\n",
       "accident                   int64\n",
       "event_date        datetime64[ns]\n",
       "dtype: object"
      ]
     },
     "execution_count": 137,
     "metadata": {},
     "output_type": "execute_result"
    }
   ],
   "source": [
    "traffic.dtypes"
   ]
  },
  {
   "cell_type": "code",
   "execution_count": 138,
   "metadata": {},
   "outputs": [],
   "source": [
    "# Convert the 'date' column to datetime\n",
    "traffic['date'] = pd.to_datetime(traffic['date'], format='%Y-%m-%d')\n"
   ]
  },
  {
   "cell_type": "code",
   "execution_count": 139,
   "metadata": {},
   "outputs": [
    {
     "data": {
      "text/plain": [
       "index                      int64\n",
       "id                         int64\n",
       "route_id                  object\n",
       "date              datetime64[ns]\n",
       "hour                       int64\n",
       "no_of_vehicles           float64\n",
       "accident                   int64\n",
       "event_date        datetime64[ns]\n",
       "dtype: object"
      ]
     },
     "execution_count": 139,
     "metadata": {},
     "output_type": "execute_result"
    }
   ],
   "source": [
    "traffic.dtypes"
   ]
  },
  {
   "cell_type": "code",
   "execution_count": 140,
   "metadata": {},
   "outputs": [
    {
     "data": {
      "text/plain": [
       "<bound method NDFrame.head of            index       id    route_id       date  hour  no_of_vehicles  \\\n",
       "0              1        1  R-ada2a391 2019-01-01     0           669.0   \n",
       "1              2        2  R-ada2a391 2019-01-01   100           628.0   \n",
       "2              3        3  R-ada2a391 2019-01-01   200           516.0   \n",
       "3              4        4  R-ada2a391 2019-01-01   300           582.0   \n",
       "4              5        5  R-ada2a391 2019-01-01   400           564.0   \n",
       "...          ...      ...         ...        ...   ...             ...   \n",
       "2597908  2597909  2597909  R-38a366a9 2019-02-15  1900          2758.0   \n",
       "2597909  2597910  2597910  R-38a366a9 2019-02-15  2000          1934.0   \n",
       "2597910  2597911  2597911  R-38a366a9 2019-02-15  2100          1699.0   \n",
       "2597911  2597912  2597912  R-38a366a9 2019-02-15  2200          2373.0   \n",
       "2597912  2597913  2597913  R-38a366a9 2019-02-15  2300          2401.0   \n",
       "\n",
       "         accident event_date  \n",
       "0               0 2024-10-15  \n",
       "1               0 2024-10-15  \n",
       "2               0 2024-10-15  \n",
       "3               0 2024-10-15  \n",
       "4               0 2024-10-15  \n",
       "...           ...        ...  \n",
       "2597908         0 2024-10-15  \n",
       "2597909         1 2024-10-15  \n",
       "2597910         0 2024-10-15  \n",
       "2597911         0 2024-10-15  \n",
       "2597912         0 2024-10-15  \n",
       "\n",
       "[2596761 rows x 8 columns]>"
      ]
     },
     "execution_count": 140,
     "metadata": {},
     "output_type": "execute_result"
    }
   ],
   "source": [
    "traffic.head"
   ]
  },
  {
   "cell_type": "code",
   "execution_count": 141,
   "metadata": {},
   "outputs": [
    {
     "name": "stdout",
     "output_type": "stream",
     "text": [
      "Outliers for no_of_vehicles:\n",
      "Empty DataFrame\n",
      "Columns: [index, id, route_id, date, hour, no_of_vehicles, accident, event_date]\n",
      "Index: []\n",
      "\n",
      "\n",
      "Outliers for accident:\n",
      "           index       id    route_id       date  hour  no_of_vehicles  \\\n",
      "20            21       21  R-ada2a391 2019-01-01  2000          2546.0   \n",
      "42            43       43  R-ada2a391 2019-01-02  1800          2483.0   \n",
      "57            58       58  R-ada2a391 2019-01-03   900          2885.0   \n",
      "58            59       59  R-ada2a391 2019-01-03  1000          3288.0   \n",
      "89            90       90  R-ada2a391 2019-01-04  1700          2816.0   \n",
      "...          ...      ...         ...        ...   ...             ...   \n",
      "2597855  2597856  2597856  R-38a366a9 2019-02-13  1400          2741.0   \n",
      "2597871  2597872  2597872  R-38a366a9 2019-02-14   600           948.0   \n",
      "2597881  2597882  2597882  R-38a366a9 2019-02-14  1600          2750.0   \n",
      "2597894  2597895  2597895  R-38a366a9 2019-02-15   500           465.0   \n",
      "2597909  2597910  2597910  R-38a366a9 2019-02-15  2000          1934.0   \n",
      "\n",
      "         accident event_date  \n",
      "20              1 2024-10-15  \n",
      "42              1 2024-10-15  \n",
      "57              1 2024-10-15  \n",
      "58              1 2024-10-15  \n",
      "89              1 2024-10-15  \n",
      "...           ...        ...  \n",
      "2597855         1 2024-10-15  \n",
      "2597871         1 2024-10-15  \n",
      "2597881         1 2024-10-15  \n",
      "2597894         1 2024-10-15  \n",
      "2597909         1 2024-10-15  \n",
      "\n",
      "[138179 rows x 8 columns]\n",
      "\n",
      "\n"
     ]
    }
   ],
   "source": [
    "# Function to identify outliers using IQR method\n",
    "def find_outliers_iqr(df, column):\n",
    "    Q1 = df[column].quantile(0.25)\n",
    "    Q3 = df[column].quantile(0.75)\n",
    "    IQR = Q3 - Q1\n",
    "    lower_bound = Q1 - 1.5 * IQR\n",
    "    upper_bound = Q3 + 1.5 * IQR\n",
    "    outliers = df[(df[column] < lower_bound) | (df[column] > upper_bound)]\n",
    "    return outliers\n",
    "\n",
    "# List of numerical columns\n",
    "numerical_columns = ['no_of_vehicles', 'accident']\n",
    "\n",
    "# Identify and print outliers for numerical features\n",
    "for col in numerical_columns:\n",
    "    outliers = find_outliers_iqr(traffic, col)\n",
    "    print(f\"Outliers for {col}:\")\n",
    "    print(outliers)\n",
    "    print(\"\\n\")\n"
   ]
  },
  {
   "cell_type": "code",
   "execution_count": 171,
   "metadata": {},
   "outputs": [
    {
     "name": "stdout",
     "output_type": "stream",
     "text": [
      "Number of rows after removing outliers: 2458582\n"
     ]
    }
   ],
   "source": [
    "import pandas as pd\n",
    "\n",
    "# Function to identify and remove outliers using IQR method\n",
    "def remove_outliers_iqr(df, column):\n",
    "    Q1 = df[column].quantile(0.25)\n",
    "    Q3 = df[column].quantile(0.75)\n",
    "    IQR = Q3 - Q1\n",
    "    lower_bound = Q1 - 1.5 * IQR\n",
    "    upper_bound = Q3 + 1.5 * IQR\n",
    "    # Remove rows that are outliers\n",
    "    return df[(df[column] >= lower_bound) & (df[column] <= upper_bound)]\n",
    "\n",
    "# List of numerical columns to check for outliers\n",
    "numerical_columns = ['no_of_vehicles', 'accident']  # Add your column names here\n",
    "\n",
    "# Remove outliers for each column in numerical_columns\n",
    "for col in numerical_columns:\n",
    "    traffic = remove_outliers_iqr(traffic, col)\n",
    "\n",
    "# Display the number of rows after removing outliers\n",
    "print(f\"Number of rows after removing outliers: {len(traffic)}\")\n",
    "\n",
    "# Save or continue working with the cleaned DataFrame\n",
    "# traffic.to_csv('cleaned_traffic.csv', index=False)  # Uncomment to save to CSV\n"
   ]
  },
  {
   "cell_type": "code",
   "execution_count": 172,
   "metadata": {},
   "outputs": [
    {
     "data": {
      "text/plain": [
       "index                      int64\n",
       "id                         int64\n",
       "route_id                  object\n",
       "date              datetime64[ns]\n",
       "hour                       int64\n",
       "no_of_vehicles           float64\n",
       "accident                   int64\n",
       "event_date        datetime64[ns]\n",
       "dtype: object"
      ]
     },
     "execution_count": 172,
     "metadata": {},
     "output_type": "execute_result"
    }
   ],
   "source": [
    "traffic.dtypes"
   ]
  },
  {
   "cell_type": "code",
   "execution_count": 173,
   "metadata": {},
   "outputs": [
    {
     "data": {
      "text/plain": [
       "(2458582, 8)"
      ]
     },
     "execution_count": 173,
     "metadata": {},
     "output_type": "execute_result"
    }
   ],
   "source": [
    "traffic.shape"
   ]
  },
  {
   "cell_type": "code",
   "execution_count": 174,
   "metadata": {},
   "outputs": [],
   "source": [
    "# saving cleaned data for traffic.csv\n",
    "traffic.to_csv('C:/Users/anucv/OneDrive/Desktop/AI and ML training/Machine_Learning/TRUCK_DELAY_CLASSIFICATION_PROJECT/Data/Cleaned_data/cleaned_traffic.csv', index=False)\n"
   ]
  },
  {
   "cell_type": "code",
   "execution_count": null,
   "metadata": {},
   "outputs": [],
   "source": []
  },
  {
   "cell_type": "markdown",
   "metadata": {},
   "source": [
    "trucks"
   ]
  },
  {
   "cell_type": "code",
   "execution_count": 175,
   "metadata": {},
   "outputs": [
    {
     "data": {
      "text/html": [
       "<div>\n",
       "<style scoped>\n",
       "    .dataframe tbody tr th:only-of-type {\n",
       "        vertical-align: middle;\n",
       "    }\n",
       "\n",
       "    .dataframe tbody tr th {\n",
       "        vertical-align: top;\n",
       "    }\n",
       "\n",
       "    .dataframe thead th {\n",
       "        text-align: right;\n",
       "    }\n",
       "</style>\n",
       "<table border=\"1\" class=\"dataframe\">\n",
       "  <thead>\n",
       "    <tr style=\"text-align: right;\">\n",
       "      <th></th>\n",
       "      <th>id</th>\n",
       "      <th>truck_id</th>\n",
       "      <th>truck_age</th>\n",
       "      <th>load_capacity_pounds</th>\n",
       "      <th>mileage_mpg</th>\n",
       "      <th>fuel_type</th>\n",
       "    </tr>\n",
       "  </thead>\n",
       "  <tbody>\n",
       "    <tr>\n",
       "      <th>0</th>\n",
       "      <td>1</td>\n",
       "      <td>42302347</td>\n",
       "      <td>10</td>\n",
       "      <td>3000.0</td>\n",
       "      <td>17</td>\n",
       "      <td>gas</td>\n",
       "    </tr>\n",
       "    <tr>\n",
       "      <th>1</th>\n",
       "      <td>2</td>\n",
       "      <td>27867488</td>\n",
       "      <td>14</td>\n",
       "      <td>10000.0</td>\n",
       "      <td>22</td>\n",
       "      <td>diesel</td>\n",
       "    </tr>\n",
       "    <tr>\n",
       "      <th>2</th>\n",
       "      <td>3</td>\n",
       "      <td>13927774</td>\n",
       "      <td>8</td>\n",
       "      <td>10000.0</td>\n",
       "      <td>19</td>\n",
       "      <td>gas</td>\n",
       "    </tr>\n",
       "    <tr>\n",
       "      <th>3</th>\n",
       "      <td>4</td>\n",
       "      <td>69577118</td>\n",
       "      <td>8</td>\n",
       "      <td>20000.0</td>\n",
       "      <td>19</td>\n",
       "      <td>gas</td>\n",
       "    </tr>\n",
       "    <tr>\n",
       "      <th>4</th>\n",
       "      <td>5</td>\n",
       "      <td>28650047</td>\n",
       "      <td>10</td>\n",
       "      <td>4000.0</td>\n",
       "      <td>21</td>\n",
       "      <td>diesel</td>\n",
       "    </tr>\n",
       "  </tbody>\n",
       "</table>\n",
       "</div>"
      ],
      "text/plain": [
       "   id  truck_id  truck_age  load_capacity_pounds  mileage_mpg fuel_type\n",
       "0   1  42302347         10                3000.0           17       gas\n",
       "1   2  27867488         14               10000.0           22    diesel\n",
       "2   3  13927774          8               10000.0           19       gas\n",
       "3   4  69577118          8               20000.0           19       gas\n",
       "4   5  28650047         10                4000.0           21    diesel"
      ]
     },
     "execution_count": 175,
     "metadata": {},
     "output_type": "execute_result"
    }
   ],
   "source": [
    "\n",
    "# Database connection parameters\n",
    "db_host = 'localhost'  # or the IP address of your Docker container\n",
    "db_port = '5432'\n",
    "db_name = 'truck_delay_classification'\n",
    "db_user = 'postgres'\n",
    "db_password = 'Anu0408'  # Change this if you set a different password\n",
    "\n",
    "\n",
    "# Create a connection engine\n",
    "engine = create_engine(f'postgresql://{db_user}:{db_password}@{db_host}:{db_port}/{db_name}')\n",
    "\n",
    "# Query to select data\n",
    " \n",
    "\n",
    "query = 'SELECT * FROM trucks_table;'  \n",
    "\n",
    "\n",
    "# Read data into a DataFrame\n",
    "trucks = pd.read_sql_query(query, engine)\n",
    "\n",
    "# Display the first few rows of the DataFrame\n",
    "trucks.head()\n",
    "\n"
   ]
  },
  {
   "cell_type": "code",
   "execution_count": 176,
   "metadata": {},
   "outputs": [
    {
     "data": {
      "text/plain": [
       "(1300, 6)"
      ]
     },
     "execution_count": 176,
     "metadata": {},
     "output_type": "execute_result"
    }
   ],
   "source": [
    "trucks.shape\n"
   ]
  },
  {
   "cell_type": "code",
   "execution_count": 177,
   "metadata": {},
   "outputs": [
    {
     "data": {
      "text/plain": [
       "id                        int64\n",
       "truck_id                  int64\n",
       "truck_age                 int64\n",
       "load_capacity_pounds    float64\n",
       "mileage_mpg               int64\n",
       "fuel_type                object\n",
       "dtype: object"
      ]
     },
     "execution_count": 177,
     "metadata": {},
     "output_type": "execute_result"
    }
   ],
   "source": [
    "trucks.dtypes"
   ]
  },
  {
   "cell_type": "code",
   "execution_count": 178,
   "metadata": {},
   "outputs": [
    {
     "data": {
      "text/html": [
       "<div>\n",
       "<style scoped>\n",
       "    .dataframe tbody tr th:only-of-type {\n",
       "        vertical-align: middle;\n",
       "    }\n",
       "\n",
       "    .dataframe tbody tr th {\n",
       "        vertical-align: top;\n",
       "    }\n",
       "\n",
       "    .dataframe thead th {\n",
       "        text-align: right;\n",
       "    }\n",
       "</style>\n",
       "<table border=\"1\" class=\"dataframe\">\n",
       "  <thead>\n",
       "    <tr style=\"text-align: right;\">\n",
       "      <th></th>\n",
       "      <th>id</th>\n",
       "      <th>truck_id</th>\n",
       "      <th>truck_age</th>\n",
       "      <th>load_capacity_pounds</th>\n",
       "      <th>mileage_mpg</th>\n",
       "    </tr>\n",
       "  </thead>\n",
       "  <tbody>\n",
       "    <tr>\n",
       "      <th>count</th>\n",
       "      <td>1300.000000</td>\n",
       "      <td>1.300000e+03</td>\n",
       "      <td>1300.000000</td>\n",
       "      <td>1243.000000</td>\n",
       "      <td>1300.000000</td>\n",
       "    </tr>\n",
       "    <tr>\n",
       "      <th>mean</th>\n",
       "      <td>650.500000</td>\n",
       "      <td>3.263242e+07</td>\n",
       "      <td>9.513077</td>\n",
       "      <td>8610.619469</td>\n",
       "      <td>20.784615</td>\n",
       "    </tr>\n",
       "    <tr>\n",
       "      <th>std</th>\n",
       "      <td>375.421985</td>\n",
       "      <td>2.205390e+07</td>\n",
       "      <td>2.039030</td>\n",
       "      <td>5583.759795</td>\n",
       "      <td>3.655876</td>\n",
       "    </tr>\n",
       "    <tr>\n",
       "      <th>min</th>\n",
       "      <td>1.000000</td>\n",
       "      <td>1.000839e+07</td>\n",
       "      <td>3.000000</td>\n",
       "      <td>3000.000000</td>\n",
       "      <td>11.000000</td>\n",
       "    </tr>\n",
       "    <tr>\n",
       "      <th>25%</th>\n",
       "      <td>325.750000</td>\n",
       "      <td>1.817244e+07</td>\n",
       "      <td>8.000000</td>\n",
       "      <td>4000.000000</td>\n",
       "      <td>18.000000</td>\n",
       "    </tr>\n",
       "    <tr>\n",
       "      <th>50%</th>\n",
       "      <td>650.500000</td>\n",
       "      <td>2.584212e+07</td>\n",
       "      <td>10.000000</td>\n",
       "      <td>6000.000000</td>\n",
       "      <td>21.000000</td>\n",
       "    </tr>\n",
       "    <tr>\n",
       "      <th>75%</th>\n",
       "      <td>975.250000</td>\n",
       "      <td>3.340052e+07</td>\n",
       "      <td>11.000000</td>\n",
       "      <td>15000.000000</td>\n",
       "      <td>24.000000</td>\n",
       "    </tr>\n",
       "    <tr>\n",
       "      <th>max</th>\n",
       "      <td>1300.000000</td>\n",
       "      <td>9.998167e+07</td>\n",
       "      <td>15.000000</td>\n",
       "      <td>20000.000000</td>\n",
       "      <td>29.000000</td>\n",
       "    </tr>\n",
       "  </tbody>\n",
       "</table>\n",
       "</div>"
      ],
      "text/plain": [
       "                id      truck_id    truck_age  load_capacity_pounds  \\\n",
       "count  1300.000000  1.300000e+03  1300.000000           1243.000000   \n",
       "mean    650.500000  3.263242e+07     9.513077           8610.619469   \n",
       "std     375.421985  2.205390e+07     2.039030           5583.759795   \n",
       "min       1.000000  1.000839e+07     3.000000           3000.000000   \n",
       "25%     325.750000  1.817244e+07     8.000000           4000.000000   \n",
       "50%     650.500000  2.584212e+07    10.000000           6000.000000   \n",
       "75%     975.250000  3.340052e+07    11.000000          15000.000000   \n",
       "max    1300.000000  9.998167e+07    15.000000          20000.000000   \n",
       "\n",
       "       mileage_mpg  \n",
       "count  1300.000000  \n",
       "mean     20.784615  \n",
       "std       3.655876  \n",
       "min      11.000000  \n",
       "25%      18.000000  \n",
       "50%      21.000000  \n",
       "75%      24.000000  \n",
       "max      29.000000  "
      ]
     },
     "execution_count": 178,
     "metadata": {},
     "output_type": "execute_result"
    }
   ],
   "source": [
    "trucks.describe()"
   ]
  },
  {
   "cell_type": "code",
   "execution_count": 179,
   "metadata": {},
   "outputs": [
    {
     "data": {
      "text/plain": [
       "(1300, 6)"
      ]
     },
     "execution_count": 179,
     "metadata": {},
     "output_type": "execute_result"
    }
   ],
   "source": [
    "trucks.shape"
   ]
  },
  {
   "cell_type": "code",
   "execution_count": 180,
   "metadata": {},
   "outputs": [
    {
     "data": {
      "text/plain": [
       "id                       0\n",
       "truck_id                 0\n",
       "truck_age                0\n",
       "load_capacity_pounds    57\n",
       "mileage_mpg              0\n",
       "fuel_type                0\n",
       "dtype: int64"
      ]
     },
     "execution_count": 180,
     "metadata": {},
     "output_type": "execute_result"
    }
   ],
   "source": [
    "trucks.isna().sum()"
   ]
  },
  {
   "cell_type": "code",
   "execution_count": 181,
   "metadata": {},
   "outputs": [
    {
     "data": {
      "text/plain": [
       "id                      1300\n",
       "truck_id                1300\n",
       "truck_age                 13\n",
       "load_capacity_pounds       6\n",
       "mileage_mpg               19\n",
       "fuel_type                  3\n",
       "dtype: int64"
      ]
     },
     "execution_count": 181,
     "metadata": {},
     "output_type": "execute_result"
    }
   ],
   "source": [
    "trucks.nunique()"
   ]
  },
  {
   "cell_type": "code",
   "execution_count": 182,
   "metadata": {},
   "outputs": [
    {
     "data": {
      "text/plain": [
       "<bound method DataFrame.info of         id  truck_id  truck_age  load_capacity_pounds  mileage_mpg fuel_type\n",
       "0        1  42302347         10                3000.0           17       gas\n",
       "1        2  27867488         14               10000.0           22    diesel\n",
       "2        3  13927774          8               10000.0           19       gas\n",
       "3        4  69577118          8               20000.0           19       gas\n",
       "4        5  28650047         10                4000.0           21    diesel\n",
       "...    ...       ...        ...                   ...          ...       ...\n",
       "1295  1296  17792974         11                4000.0           22    diesel\n",
       "1296  1297  17248432         11                6000.0           22    diesel\n",
       "1297  1298  21865328         10                3000.0           15       gas\n",
       "1298  1299  33564827         11               15000.0           24    diesel\n",
       "1299  1300  34755903         12                4000.0           25    diesel\n",
       "\n",
       "[1300 rows x 6 columns]>"
      ]
     },
     "execution_count": 182,
     "metadata": {},
     "output_type": "execute_result"
    }
   ],
   "source": [
    "trucks.info"
   ]
  },
  {
   "cell_type": "code",
   "execution_count": 183,
   "metadata": {},
   "outputs": [
    {
     "data": {
      "text/plain": [
       "id                        int64\n",
       "truck_id                  int64\n",
       "truck_age                 int64\n",
       "load_capacity_pounds    float64\n",
       "mileage_mpg               int64\n",
       "fuel_type                object\n",
       "dtype: object"
      ]
     },
     "execution_count": 183,
     "metadata": {},
     "output_type": "execute_result"
    }
   ],
   "source": [
    "trucks.dtypes"
   ]
  },
  {
   "cell_type": "code",
   "execution_count": 184,
   "metadata": {},
   "outputs": [
    {
     "data": {
      "text/plain": [
       "(1300, 6)"
      ]
     },
     "execution_count": 184,
     "metadata": {},
     "output_type": "execute_result"
    }
   ],
   "source": [
    "trucks.shape"
   ]
  },
  {
   "cell_type": "code",
   "execution_count": 185,
   "metadata": {},
   "outputs": [],
   "source": [
    "# Create a new 'index' column starting from 1\n",
    "trucks['index'] = trucks.index + 1\n",
    "\n",
    "# Move the 'index' column to the front\n",
    "trucks = trucks[['index'] + [col for col in trucks.columns if col != 'index']]\n",
    "\n"
   ]
  },
  {
   "cell_type": "code",
   "execution_count": 186,
   "metadata": {},
   "outputs": [
    {
     "name": "stdout",
     "output_type": "stream",
     "text": [
      "Missing values in each column:\n",
      " index                    0\n",
      "id                       0\n",
      "truck_id                 0\n",
      "truck_age                0\n",
      "load_capacity_pounds    57\n",
      "mileage_mpg              0\n",
      "fuel_type                0\n",
      "dtype: int64\n"
     ]
    }
   ],
   "source": [
    "# Step 1: Check for missing values\n",
    "missing_values = trucks.isnull().sum()\n",
    "print(\"Missing values in each column:\\n\", missing_values)\n"
   ]
  },
  {
   "cell_type": "code",
   "execution_count": 187,
   "metadata": {},
   "outputs": [
    {
     "name": "stdout",
     "output_type": "stream",
     "text": [
      "Shape of the cleaned DataFrame: (1243, 7)\n",
      "index                   0\n",
      "id                      0\n",
      "truck_id                0\n",
      "truck_age               0\n",
      "load_capacity_pounds    0\n",
      "mileage_mpg             0\n",
      "fuel_type               0\n",
      "dtype: int64\n"
     ]
    }
   ],
   "source": [
    "# Drop rows with missing values in 'load_capacity_pounds'\n",
    "trucks = trucks.dropna(subset=['load_capacity_pounds'])\n",
    "\n",
    "# Check the shape of the cleaned DataFrame\n",
    "print(f\"Shape of the cleaned DataFrame: {trucks.shape}\")\n",
    "\n",
    "# Verify that there are no more missing values\n",
    "print(trucks.isnull().sum())\n"
   ]
  },
  {
   "cell_type": "code",
   "execution_count": 188,
   "metadata": {},
   "outputs": [
    {
     "name": "stdout",
     "output_type": "stream",
     "text": [
      "Empty DataFrame\n",
      "Columns: [index, id, truck_id, truck_age, load_capacity_pounds, mileage_mpg, fuel_type]\n",
      "Index: []\n"
     ]
    }
   ],
   "source": [
    "# Check for duplicates\n",
    "duplicate_rows = trucks[trucks.duplicated()]\n",
    "print(duplicate_rows)\n",
    "\n",
    "\n"
   ]
  },
  {
   "cell_type": "code",
   "execution_count": 189,
   "metadata": {},
   "outputs": [
    {
     "data": {
      "text/html": [
       "<div>\n",
       "<style scoped>\n",
       "    .dataframe tbody tr th:only-of-type {\n",
       "        vertical-align: middle;\n",
       "    }\n",
       "\n",
       "    .dataframe tbody tr th {\n",
       "        vertical-align: top;\n",
       "    }\n",
       "\n",
       "    .dataframe thead th {\n",
       "        text-align: right;\n",
       "    }\n",
       "</style>\n",
       "<table border=\"1\" class=\"dataframe\">\n",
       "  <thead>\n",
       "    <tr style=\"text-align: right;\">\n",
       "      <th></th>\n",
       "      <th>index</th>\n",
       "      <th>id</th>\n",
       "      <th>truck_id</th>\n",
       "      <th>truck_age</th>\n",
       "      <th>load_capacity_pounds</th>\n",
       "      <th>mileage_mpg</th>\n",
       "      <th>fuel_type</th>\n",
       "    </tr>\n",
       "  </thead>\n",
       "  <tbody>\n",
       "    <tr>\n",
       "      <th>0</th>\n",
       "      <td>1</td>\n",
       "      <td>1</td>\n",
       "      <td>42302347</td>\n",
       "      <td>10</td>\n",
       "      <td>3000.0</td>\n",
       "      <td>17</td>\n",
       "      <td>gas</td>\n",
       "    </tr>\n",
       "    <tr>\n",
       "      <th>1</th>\n",
       "      <td>2</td>\n",
       "      <td>2</td>\n",
       "      <td>27867488</td>\n",
       "      <td>14</td>\n",
       "      <td>10000.0</td>\n",
       "      <td>22</td>\n",
       "      <td>diesel</td>\n",
       "    </tr>\n",
       "    <tr>\n",
       "      <th>2</th>\n",
       "      <td>3</td>\n",
       "      <td>3</td>\n",
       "      <td>13927774</td>\n",
       "      <td>8</td>\n",
       "      <td>10000.0</td>\n",
       "      <td>19</td>\n",
       "      <td>gas</td>\n",
       "    </tr>\n",
       "    <tr>\n",
       "      <th>3</th>\n",
       "      <td>4</td>\n",
       "      <td>4</td>\n",
       "      <td>69577118</td>\n",
       "      <td>8</td>\n",
       "      <td>20000.0</td>\n",
       "      <td>19</td>\n",
       "      <td>gas</td>\n",
       "    </tr>\n",
       "    <tr>\n",
       "      <th>4</th>\n",
       "      <td>5</td>\n",
       "      <td>5</td>\n",
       "      <td>28650047</td>\n",
       "      <td>10</td>\n",
       "      <td>4000.0</td>\n",
       "      <td>21</td>\n",
       "      <td>diesel</td>\n",
       "    </tr>\n",
       "    <tr>\n",
       "      <th>...</th>\n",
       "      <td>...</td>\n",
       "      <td>...</td>\n",
       "      <td>...</td>\n",
       "      <td>...</td>\n",
       "      <td>...</td>\n",
       "      <td>...</td>\n",
       "      <td>...</td>\n",
       "    </tr>\n",
       "    <tr>\n",
       "      <th>1295</th>\n",
       "      <td>1296</td>\n",
       "      <td>1296</td>\n",
       "      <td>17792974</td>\n",
       "      <td>11</td>\n",
       "      <td>4000.0</td>\n",
       "      <td>22</td>\n",
       "      <td>diesel</td>\n",
       "    </tr>\n",
       "    <tr>\n",
       "      <th>1296</th>\n",
       "      <td>1297</td>\n",
       "      <td>1297</td>\n",
       "      <td>17248432</td>\n",
       "      <td>11</td>\n",
       "      <td>6000.0</td>\n",
       "      <td>22</td>\n",
       "      <td>diesel</td>\n",
       "    </tr>\n",
       "    <tr>\n",
       "      <th>1297</th>\n",
       "      <td>1298</td>\n",
       "      <td>1298</td>\n",
       "      <td>21865328</td>\n",
       "      <td>10</td>\n",
       "      <td>3000.0</td>\n",
       "      <td>15</td>\n",
       "      <td>gas</td>\n",
       "    </tr>\n",
       "    <tr>\n",
       "      <th>1298</th>\n",
       "      <td>1299</td>\n",
       "      <td>1299</td>\n",
       "      <td>33564827</td>\n",
       "      <td>11</td>\n",
       "      <td>15000.0</td>\n",
       "      <td>24</td>\n",
       "      <td>diesel</td>\n",
       "    </tr>\n",
       "    <tr>\n",
       "      <th>1299</th>\n",
       "      <td>1300</td>\n",
       "      <td>1300</td>\n",
       "      <td>34755903</td>\n",
       "      <td>12</td>\n",
       "      <td>4000.0</td>\n",
       "      <td>25</td>\n",
       "      <td>diesel</td>\n",
       "    </tr>\n",
       "  </tbody>\n",
       "</table>\n",
       "<p>1243 rows × 7 columns</p>\n",
       "</div>"
      ],
      "text/plain": [
       "      index    id  truck_id  truck_age  load_capacity_pounds  mileage_mpg  \\\n",
       "0         1     1  42302347         10                3000.0           17   \n",
       "1         2     2  27867488         14               10000.0           22   \n",
       "2         3     3  13927774          8               10000.0           19   \n",
       "3         4     4  69577118          8               20000.0           19   \n",
       "4         5     5  28650047         10                4000.0           21   \n",
       "...     ...   ...       ...        ...                   ...          ...   \n",
       "1295   1296  1296  17792974         11                4000.0           22   \n",
       "1296   1297  1297  17248432         11                6000.0           22   \n",
       "1297   1298  1298  21865328         10                3000.0           15   \n",
       "1298   1299  1299  33564827         11               15000.0           24   \n",
       "1299   1300  1300  34755903         12                4000.0           25   \n",
       "\n",
       "     fuel_type  \n",
       "0          gas  \n",
       "1       diesel  \n",
       "2          gas  \n",
       "3          gas  \n",
       "4       diesel  \n",
       "...        ...  \n",
       "1295    diesel  \n",
       "1296    diesel  \n",
       "1297       gas  \n",
       "1298    diesel  \n",
       "1299    diesel  \n",
       "\n",
       "[1243 rows x 7 columns]"
      ]
     },
     "execution_count": 189,
     "metadata": {},
     "output_type": "execute_result"
    }
   ],
   "source": [
    "# Remove duplicates if necessary\n",
    "trucks.drop_duplicates()"
   ]
  },
  {
   "cell_type": "code",
   "execution_count": 194,
   "metadata": {},
   "outputs": [
    {
     "data": {
      "image/png": "[encoded data removed]",
      "text/plain": [
       "<Figure size 640x480 with 1 Axes>"
      ]
     },
     "metadata": {},
     "output_type": "display_data"
    }
   ],
   "source": [
    "import matplotlib.pyplot as plt\n",
    "import seaborn as sns\n",
    "\n",
    "# Boxplot for outlier detection\n",
    "sns.boxplot(data=trucks[['truck_age', 'load_capacity_pounds', 'mileage_mpg']])\n",
    "plt.show()\n"
   ]
  },
  {
   "cell_type": "code",
   "execution_count": 195,
   "metadata": {},
   "outputs": [
    {
     "data": {
      "text/plain": [
       "index                     int64\n",
       "id                        int64\n",
       "truck_id                  int64\n",
       "truck_age                 int64\n",
       "load_capacity_pounds    float64\n",
       "mileage_mpg               int64\n",
       "fuel_type                object\n",
       "dtype: object"
      ]
     },
     "execution_count": 195,
     "metadata": {},
     "output_type": "execute_result"
    }
   ],
   "source": [
    "trucks.dtypes"
   ]
  },
  {
   "cell_type": "code",
   "execution_count": 196,
   "metadata": {},
   "outputs": [
    {
     "name": "stdout",
     "output_type": "stream",
     "text": [
      "Outliers for truck_age:\n",
      "     index   id  truck_id  truck_age  load_capacity_pounds  mileage_mpg  \\\n",
      "146    147  147  73014961          3               10000.0           18   \n",
      "240    241  241  17036941          3                6000.0           23   \n",
      "292    293  293  99568033          3               15000.0           17   \n",
      "589    590  590  20516509          3                6000.0           23   \n",
      "\n",
      "    fuel_type  \n",
      "146       gas  \n",
      "240    diesel  \n",
      "292       gas  \n",
      "589    diesel  \n",
      "\n",
      "\n"
     ]
    }
   ],
   "source": [
    "# Function to identify outliers using IQR method\n",
    "def find_outliers_iqr(df, column):\n",
    "    Q1 = df[column].quantile(0.25)\n",
    "    Q3 = df[column].quantile(0.75)\n",
    "    IQR = Q3 - Q1\n",
    "    lower_bound = Q1 - 1.5 * IQR\n",
    "    upper_bound = Q3 + 1.5 * IQR\n",
    "    outliers = df[(df[column] < lower_bound) | (df[column] > upper_bound)]\n",
    "    return outliers\n",
    "\n",
    "# List of numerical columns\n",
    "numerical_columns = ['truck_age' ]\n",
    "\n",
    "#do not remove outliers for 'load_capacity_pounds' , 'mileage_age'\n",
    "\n",
    "# Identify and print outliers for numerical features\n",
    "for col in numerical_columns:\n",
    "    outliers = find_outliers_iqr(trucks, col)\n",
    "    print(f\"Outliers for {col}:\")\n",
    "    print(outliers)\n",
    "    print(\"\\n\")\n"
   ]
  },
  {
   "cell_type": "code",
   "execution_count": 197,
   "metadata": {},
   "outputs": [
    {
     "data": {
      "image/png": "[encoded data removed]",
      "text/plain": [
       "<Figure size 1000x600 with 1 Axes>"
      ]
     },
     "metadata": {},
     "output_type": "display_data"
    },
    {
     "data": {
      "image/png": "[encoded data removed]",
      "text/plain": [
       "<Figure size 1000x600 with 1 Axes>"
      ]
     },
     "metadata": {},
     "output_type": "display_data"
    },
    {
     "name": "stdout",
     "output_type": "stream",
     "text": [
      "Number of rows before removing outliers: 1243\n",
      "Number of rows after removing outliers: 1239\n"
     ]
    }
   ],
   "source": [
    "import pandas as pd\n",
    "import matplotlib.pyplot as plt\n",
    "import seaborn as sns\n",
    "\n",
    "# Function to identify and remove outliers using IQR method\n",
    "def remove_outliers_iqr(df, column):\n",
    "    Q1 = df[column].quantile(0.25)\n",
    "    Q3 = df[column].quantile(0.75)\n",
    "    IQR = Q3 - Q1\n",
    "    lower_bound = Q1 - 1.5 * IQR\n",
    "    upper_bound = Q3 + 1.5 * IQR\n",
    "    # Remove rows that are outliers\n",
    "    return df[(df[column] >= lower_bound) & (df[column] <= upper_bound)]\n",
    "\n",
    "# Assuming trucks_before contains the original dataset\n",
    "trucks_before = trucks.copy()  # Keep original data for comparison\n",
    "\n",
    "# Visualize truck_age before removing outliers\n",
    "plt.figure(figsize=(10, 6))\n",
    "sns.histplot(trucks_before['truck_age'], kde=True, color='blue')\n",
    "plt.title('Truck Age Distribution - Before Removing Outliers')\n",
    "plt.xlabel('Truck Age')\n",
    "plt.ylabel('Frequency')\n",
    "plt.show()\n",
    "\n",
    "# Remove outliers for truck_age and keep it as trucks\n",
    "trucks = remove_outliers_iqr(trucks, 'truck_age')\n",
    "\n",
    "# Visualize truck_age after removing outliers\n",
    "plt.figure(figsize=(10, 6))\n",
    "sns.histplot(trucks['truck_age'], kde=True, color='green')\n",
    "plt.title('Truck Age Distribution - After Removing Outliers')\n",
    "plt.xlabel('Truck Age')\n",
    "plt.ylabel('Frequency')\n",
    "plt.show()\n",
    "\n",
    "# Display the number of rows before and after removing outliers\n",
    "print(f\"Number of rows before removing outliers: {len(trucks_before)}\")\n",
    "print(f\"Number of rows after removing outliers: {len(trucks)}\")\n",
    "\n",
    "# Optional: Save the cleaned dataset if needed\n",
    "# trucks.to_csv('cleaned_trucks.csv', index=False)  # Uncomment to save to CSV\n"
   ]
  },
  {
   "cell_type": "code",
   "execution_count": 199,
   "metadata": {},
   "outputs": [
    {
     "name": "stdout",
     "output_type": "stream",
     "text": [
      "Summary statistics for truck age outliers (age = 3 years):\n",
      "       index   id  truck_id  truck_age  load_capacity_pounds  mileage_mpg\n",
      "count    0.0  0.0       0.0        0.0                   0.0          0.0\n",
      "mean     NaN  NaN       NaN        NaN                   NaN          NaN\n",
      "std      NaN  NaN       NaN        NaN                   NaN          NaN\n",
      "min      NaN  NaN       NaN        NaN                   NaN          NaN\n",
      "25%      NaN  NaN       NaN        NaN                   NaN          NaN\n",
      "50%      NaN  NaN       NaN        NaN                   NaN          NaN\n",
      "75%      NaN  NaN       NaN        NaN                   NaN          NaN\n",
      "max      NaN  NaN       NaN        NaN                   NaN          NaN\n"
     ]
    }
   ],
   "source": [
    "# Separate outliers and non-outliers\n",
    "outliers_truck_age = trucks[trucks['truck_age'] == 3]\n",
    "non_outliers_truck_age = trucks[trucks['truck_age'] > 3]\n",
    "\n",
    "# Summary statistics for outliers\n",
    "outliers_summary = outliers_truck_age.describe()\n",
    "print(\"Summary statistics for truck age outliers (age = 3 years):\")\n",
    "print(outliers_summary)\n",
    "\n",
    "\n",
    "\n"
   ]
  },
  {
   "cell_type": "code",
   "execution_count": 200,
   "metadata": {},
   "outputs": [
    {
     "data": {
      "image/png": "[encoded data removed]",
      "text/plain": [
       "<Figure size 1000x600 with 1 Axes>"
      ]
     },
     "metadata": {},
     "output_type": "display_data"
    }
   ],
   "source": [
    "plt.figure(figsize=(10, 6))\n",
    "sns.scatterplot(x='load_capacity_pounds', y='mileage_mpg', hue='fuel_type', data=trucks)\n",
    "plt.axhline(y=20, color='r', linestyle='--', label='Average Mileage')\n",
    "plt.title('Load Capacity vs. Mileage of Trucks')\n",
    "plt.xlabel('Load Capacity (Pounds)')\n",
    "plt.ylabel('Mileage (MPG)')\n",
    "plt.legend()\n",
    "plt.show()\n"
   ]
  },
  {
   "cell_type": "code",
   "execution_count": 201,
   "metadata": {},
   "outputs": [
    {
     "data": {
      "text/plain": [
       "index                     int64\n",
       "id                        int64\n",
       "truck_id                  int64\n",
       "truck_age                 int64\n",
       "load_capacity_pounds    float64\n",
       "mileage_mpg               int64\n",
       "fuel_type                object\n",
       "dtype: object"
      ]
     },
     "execution_count": 201,
     "metadata": {},
     "output_type": "execute_result"
    }
   ],
   "source": [
    "trucks.dtypes"
   ]
  },
  {
   "cell_type": "code",
   "execution_count": 202,
   "metadata": {},
   "outputs": [
    {
     "name": "stdout",
     "output_type": "stream",
     "text": [
      "fuel_type\n",
      "diesel    662\n",
      "gas       539\n",
      "NaN        38\n",
      "Name: count, dtype: int64\n"
     ]
    }
   ],
   "source": [
    "# Check the distribution of fuel_type\n",
    "fuel_type_distribution = trucks['fuel_type'].value_counts()\n",
    "print(fuel_type_distribution)\n"
   ]
  },
  {
   "cell_type": "code",
   "execution_count": 203,
   "metadata": {},
   "outputs": [
    {
     "data": {
      "image/png": "[encoded data removed]",
      "text/plain": [
       "<Figure size 640x480 with 1 Axes>"
      ]
     },
     "metadata": {},
     "output_type": "display_data"
    }
   ],
   "source": [
    "import matplotlib.pyplot as plt\n",
    "\n",
    "# Plotting the distribution of fuel types\n",
    "fuel_type_distribution.plot(kind='bar', color=['blue', 'orange'])\n",
    "plt.title('Distribution of Fuel Types')\n",
    "plt.xlabel('Fuel Type')\n",
    "plt.ylabel('Number of Trucks')\n",
    "plt.xticks(rotation=0)\n",
    "plt.show()\n"
   ]
  },
  {
   "cell_type": "code",
   "execution_count": 204,
   "metadata": {},
   "outputs": [
    {
     "data": {
      "image/png": "[encoded data removed]",
      "text/plain": [
       "<Figure size 1000x600 with 1 Axes>"
      ]
     },
     "metadata": {},
     "output_type": "display_data"
    }
   ],
   "source": [
    "import seaborn as sns\n",
    "\n",
    "plt.figure(figsize=(10, 6))\n",
    "sns.boxplot(x='fuel_type', y='mileage_mpg', data=trucks)\n",
    "plt.title('Mileage Comparison by Fuel Type')\n",
    "plt.xlabel('Fuel Type')\n",
    "plt.ylabel('Mileage (MPG)')\n",
    "plt.show()\n"
   ]
  },
  {
   "cell_type": "markdown",
   "metadata": {},
   "source": [
    "The correlation coefficients between numerical features are relatively low, indicating weak relationships.\n",
    "\n",
    "For example, truck_age and mileage_mpg have a very small negative correlation of -0.027, suggesting that older trucks do not significantly correlate with higher or lower mileage.\n",
    "\n",
    "load_capacity_pounds shows a weak positive correlation with mileage_mpg (0.009768), indicating no strong relationship."
   ]
  },
  {
   "cell_type": "code",
   "execution_count": 205,
   "metadata": {},
   "outputs": [
    {
     "name": "stdout",
     "output_type": "stream",
     "text": [
      "   index  id  truck_id  truck_age  load_capacity_pounds  mileage_mpg  \\\n",
      "0      1   1  42302347         10                3000.0           17   \n",
      "1      2   2  27867488         14               10000.0           22   \n",
      "2      3   3  13927774          8               10000.0           19   \n",
      "3      4   4  69577118          8               20000.0           19   \n",
      "4      5   5  28650047         10                4000.0           21   \n",
      "\n",
      "  fuel_type event_date  \n",
      "0       gas 2024-10-15  \n",
      "1    diesel 2024-10-15  \n",
      "2       gas 2024-10-15  \n",
      "3       gas 2024-10-15  \n",
      "4    diesel 2024-10-15  \n"
     ]
    }
   ],
   "source": [
    "from datetime import datetime\n",
    "\n",
    "# Adding event_date column with current date\n",
    "today_date = datetime.now().strftime('%Y-%m-%d')\n",
    "trucks['event_date'] = pd.to_datetime(today_date)\n",
    "trucks_df = trucks\n",
    "# Print the DataFrame and its data types\n",
    "print(trucks.head())"
   ]
  },
  {
   "cell_type": "code",
   "execution_count": 207,
   "metadata": {},
   "outputs": [],
   "source": [
    "# saving cleaned data for trucks.csv\n",
    "trucks.to_csv('C:/Users/anucv/OneDrive/Desktop/AI and ML training/Machine_Learning/TRUCK_DELAY_CLASSIFICATION_PROJECT/Data/Cleaned_data/cleaned_trucks.csv', index=False)\n"
   ]
  },
  {
   "cell_type": "code",
   "execution_count": 206,
   "metadata": {},
   "outputs": [
    {
     "data": {
      "text/plain": [
       "(1239, 8)"
      ]
     },
     "execution_count": 206,
     "metadata": {},
     "output_type": "execute_result"
    }
   ],
   "source": [
    "trucks.shape"
   ]
  },
  {
   "cell_type": "code",
   "execution_count": null,
   "metadata": {},
   "outputs": [],
   "source": []
  },
  {
   "cell_type": "markdown",
   "metadata": {},
   "source": [
    "truck_schedule"
   ]
  },
  {
   "cell_type": "code",
   "execution_count": 209,
   "metadata": {},
   "outputs": [
    {
     "data": {
      "text/html": [
       "<div>\n",
       "<style scoped>\n",
       "    .dataframe tbody tr th:only-of-type {\n",
       "        vertical-align: middle;\n",
       "    }\n",
       "\n",
       "    .dataframe tbody tr th {\n",
       "        vertical-align: top;\n",
       "    }\n",
       "\n",
       "    .dataframe thead th {\n",
       "        text-align: right;\n",
       "    }\n",
       "</style>\n",
       "<table border=\"1\" class=\"dataframe\">\n",
       "  <thead>\n",
       "    <tr style=\"text-align: right;\">\n",
       "      <th></th>\n",
       "      <th>id</th>\n",
       "      <th>truck_id</th>\n",
       "      <th>route_id</th>\n",
       "      <th>departure_date</th>\n",
       "      <th>estimated_arrival</th>\n",
       "      <th>delay</th>\n",
       "    </tr>\n",
       "  </thead>\n",
       "  <tbody>\n",
       "    <tr>\n",
       "      <th>0</th>\n",
       "      <td>1</td>\n",
       "      <td>30312694</td>\n",
       "      <td>R-b236e347</td>\n",
       "      <td>2019-01-01 07:00:00</td>\n",
       "      <td>2019-01-01 13:13:12.000000000</td>\n",
       "      <td>0</td>\n",
       "    </tr>\n",
       "    <tr>\n",
       "      <th>1</th>\n",
       "      <td>2</td>\n",
       "      <td>59856374</td>\n",
       "      <td>R-29ea762e</td>\n",
       "      <td>2019-01-01 07:00:00</td>\n",
       "      <td>2019-01-02 04:01:12.000000000</td>\n",
       "      <td>0</td>\n",
       "    </tr>\n",
       "    <tr>\n",
       "      <th>2</th>\n",
       "      <td>3</td>\n",
       "      <td>12602955</td>\n",
       "      <td>R-a3d67783</td>\n",
       "      <td>2019-01-01 07:00:00</td>\n",
       "      <td>2019-01-01 07:45:36.000000000</td>\n",
       "      <td>0</td>\n",
       "    </tr>\n",
       "    <tr>\n",
       "      <th>3</th>\n",
       "      <td>4</td>\n",
       "      <td>46619422</td>\n",
       "      <td>R-31ec9310</td>\n",
       "      <td>2019-01-01 07:00:00</td>\n",
       "      <td>2019-01-01 20:46:48.000000000</td>\n",
       "      <td>0</td>\n",
       "    </tr>\n",
       "    <tr>\n",
       "      <th>4</th>\n",
       "      <td>5</td>\n",
       "      <td>10140178</td>\n",
       "      <td>R-a07c5dbd</td>\n",
       "      <td>2019-01-01 07:00:00</td>\n",
       "      <td>2019-01-01 21:34:11.999999999</td>\n",
       "      <td>0</td>\n",
       "    </tr>\n",
       "  </tbody>\n",
       "</table>\n",
       "</div>"
      ],
      "text/plain": [
       "   id  truck_id    route_id       departure_date  \\\n",
       "0   1  30312694  R-b236e347  2019-01-01 07:00:00   \n",
       "1   2  59856374  R-29ea762e  2019-01-01 07:00:00   \n",
       "2   3  12602955  R-a3d67783  2019-01-01 07:00:00   \n",
       "3   4  46619422  R-31ec9310  2019-01-01 07:00:00   \n",
       "4   5  10140178  R-a07c5dbd  2019-01-01 07:00:00   \n",
       "\n",
       "               estimated_arrival  delay  \n",
       "0  2019-01-01 13:13:12.000000000      0  \n",
       "1  2019-01-02 04:01:12.000000000      0  \n",
       "2  2019-01-01 07:45:36.000000000      0  \n",
       "3  2019-01-01 20:46:48.000000000      0  \n",
       "4  2019-01-01 21:34:11.999999999      0  "
      ]
     },
     "execution_count": 209,
     "metadata": {},
     "output_type": "execute_result"
    }
   ],
   "source": [
    "\n",
    "# Database connection parameters\n",
    "db_host = 'localhost'  # or the IP address of your Docker container\n",
    "db_port = '5432'\n",
    "db_name = 'truck_delay_classification'\n",
    "db_user = 'postgres'\n",
    "db_password = 'Anu0408'  # Change this if you set a different password\n",
    "\n",
    "\n",
    "# Create a connection engine\n",
    "engine = create_engine(f'postgresql://{db_user}:{db_password}@{db_host}:{db_port}/{db_name}')\n",
    "\n",
    "# Query to select data\n",
    " \n",
    "\n",
    "query = 'SELECT * FROM truck_schedule_table;'  \n",
    "\n",
    "\n",
    "# Read data into a DataFrame\n",
    "trucks_schedule = pd.read_sql_query(query, engine)\n",
    "\n",
    "# Display the first few rows of the DataFrame\n",
    "trucks_schedule.head()\n",
    "\n"
   ]
  },
  {
   "cell_type": "code",
   "execution_count": 210,
   "metadata": {},
   "outputs": [],
   "source": [
    "query = 'SELECT * from truck_schedule_table;'"
   ]
  },
  {
   "cell_type": "code",
   "execution_count": 211,
   "metadata": {},
   "outputs": [
    {
     "data": {
      "text/html": [
       "<div>\n",
       "<style scoped>\n",
       "    .dataframe tbody tr th:only-of-type {\n",
       "        vertical-align: middle;\n",
       "    }\n",
       "\n",
       "    .dataframe tbody tr th {\n",
       "        vertical-align: top;\n",
       "    }\n",
       "\n",
       "    .dataframe thead th {\n",
       "        text-align: right;\n",
       "    }\n",
       "</style>\n",
       "<table border=\"1\" class=\"dataframe\">\n",
       "  <thead>\n",
       "    <tr style=\"text-align: right;\">\n",
       "      <th></th>\n",
       "      <th>id</th>\n",
       "      <th>truck_id</th>\n",
       "      <th>route_id</th>\n",
       "      <th>departure_date</th>\n",
       "      <th>estimated_arrival</th>\n",
       "      <th>delay</th>\n",
       "    </tr>\n",
       "  </thead>\n",
       "  <tbody>\n",
       "    <tr>\n",
       "      <th>0</th>\n",
       "      <td>1</td>\n",
       "      <td>30312694</td>\n",
       "      <td>R-b236e347</td>\n",
       "      <td>2019-01-01 07:00:00</td>\n",
       "      <td>2019-01-01 13:13:12.000000000</td>\n",
       "      <td>0</td>\n",
       "    </tr>\n",
       "    <tr>\n",
       "      <th>1</th>\n",
       "      <td>2</td>\n",
       "      <td>59856374</td>\n",
       "      <td>R-29ea762e</td>\n",
       "      <td>2019-01-01 07:00:00</td>\n",
       "      <td>2019-01-02 04:01:12.000000000</td>\n",
       "      <td>0</td>\n",
       "    </tr>\n",
       "    <tr>\n",
       "      <th>2</th>\n",
       "      <td>3</td>\n",
       "      <td>12602955</td>\n",
       "      <td>R-a3d67783</td>\n",
       "      <td>2019-01-01 07:00:00</td>\n",
       "      <td>2019-01-01 07:45:36.000000000</td>\n",
       "      <td>0</td>\n",
       "    </tr>\n",
       "    <tr>\n",
       "      <th>3</th>\n",
       "      <td>4</td>\n",
       "      <td>46619422</td>\n",
       "      <td>R-31ec9310</td>\n",
       "      <td>2019-01-01 07:00:00</td>\n",
       "      <td>2019-01-01 20:46:48.000000000</td>\n",
       "      <td>0</td>\n",
       "    </tr>\n",
       "    <tr>\n",
       "      <th>4</th>\n",
       "      <td>5</td>\n",
       "      <td>10140178</td>\n",
       "      <td>R-a07c5dbd</td>\n",
       "      <td>2019-01-01 07:00:00</td>\n",
       "      <td>2019-01-01 21:34:11.999999999</td>\n",
       "      <td>0</td>\n",
       "    </tr>\n",
       "    <tr>\n",
       "      <th>...</th>\n",
       "      <td>...</td>\n",
       "      <td>...</td>\n",
       "      <td>...</td>\n",
       "      <td>...</td>\n",
       "      <td>...</td>\n",
       "      <td>...</td>\n",
       "    </tr>\n",
       "    <tr>\n",
       "      <th>12303</th>\n",
       "      <td>12304</td>\n",
       "      <td>31047945</td>\n",
       "      <td>R-1484a7ea</td>\n",
       "      <td>2019-02-06 07:00:00</td>\n",
       "      <td>2019-02-13 22:40:12.000000000</td>\n",
       "      <td>0</td>\n",
       "    </tr>\n",
       "    <tr>\n",
       "      <th>12304</th>\n",
       "      <td>12305</td>\n",
       "      <td>14758432</td>\n",
       "      <td>R-927cf900</td>\n",
       "      <td>2019-02-06 07:00:00</td>\n",
       "      <td>2019-02-13 18:52:48.000000000</td>\n",
       "      <td>1</td>\n",
       "    </tr>\n",
       "    <tr>\n",
       "      <th>12305</th>\n",
       "      <td>12306</td>\n",
       "      <td>31370619</td>\n",
       "      <td>R-5a83ad98</td>\n",
       "      <td>2019-02-06 07:00:00</td>\n",
       "      <td>2019-02-14 08:01:48.000000000</td>\n",
       "      <td>1</td>\n",
       "    </tr>\n",
       "    <tr>\n",
       "      <th>12306</th>\n",
       "      <td>12307</td>\n",
       "      <td>67332883</td>\n",
       "      <td>R-991530bc</td>\n",
       "      <td>2019-02-06 07:00:00</td>\n",
       "      <td>2019-02-13 11:14:24.000000000</td>\n",
       "      <td>1</td>\n",
       "    </tr>\n",
       "    <tr>\n",
       "      <th>12307</th>\n",
       "      <td>12308</td>\n",
       "      <td>26630473</td>\n",
       "      <td>R-3f49bd43</td>\n",
       "      <td>2019-02-06 07:00:00</td>\n",
       "      <td>2019-02-14 02:52:12.000000000</td>\n",
       "      <td>1</td>\n",
       "    </tr>\n",
       "  </tbody>\n",
       "</table>\n",
       "<p>12308 rows × 6 columns</p>\n",
       "</div>"
      ],
      "text/plain": [
       "          id  truck_id    route_id       departure_date  \\\n",
       "0          1  30312694  R-b236e347  2019-01-01 07:00:00   \n",
       "1          2  59856374  R-29ea762e  2019-01-01 07:00:00   \n",
       "2          3  12602955  R-a3d67783  2019-01-01 07:00:00   \n",
       "3          4  46619422  R-31ec9310  2019-01-01 07:00:00   \n",
       "4          5  10140178  R-a07c5dbd  2019-01-01 07:00:00   \n",
       "...      ...       ...         ...                  ...   \n",
       "12303  12304  31047945  R-1484a7ea  2019-02-06 07:00:00   \n",
       "12304  12305  14758432  R-927cf900  2019-02-06 07:00:00   \n",
       "12305  12306  31370619  R-5a83ad98  2019-02-06 07:00:00   \n",
       "12306  12307  67332883  R-991530bc  2019-02-06 07:00:00   \n",
       "12307  12308  26630473  R-3f49bd43  2019-02-06 07:00:00   \n",
       "\n",
       "                   estimated_arrival  delay  \n",
       "0      2019-01-01 13:13:12.000000000      0  \n",
       "1      2019-01-02 04:01:12.000000000      0  \n",
       "2      2019-01-01 07:45:36.000000000      0  \n",
       "3      2019-01-01 20:46:48.000000000      0  \n",
       "4      2019-01-01 21:34:11.999999999      0  \n",
       "...                              ...    ...  \n",
       "12303  2019-02-13 22:40:12.000000000      0  \n",
       "12304  2019-02-13 18:52:48.000000000      1  \n",
       "12305  2019-02-14 08:01:48.000000000      1  \n",
       "12306  2019-02-13 11:14:24.000000000      1  \n",
       "12307  2019-02-14 02:52:12.000000000      1  \n",
       "\n",
       "[12308 rows x 6 columns]"
      ]
     },
     "execution_count": 211,
     "metadata": {},
     "output_type": "execute_result"
    }
   ],
   "source": [
    "# Read data into a DataFrame\n",
    "truck_schedule = pd.read_sql_query(query, engine)\n",
    "truck_schedule"
   ]
  },
  {
   "cell_type": "code",
   "execution_count": 212,
   "metadata": {},
   "outputs": [
    {
     "data": {
      "text/plain": [
       "(12308, 6)"
      ]
     },
     "execution_count": 212,
     "metadata": {},
     "output_type": "execute_result"
    }
   ],
   "source": [
    "truck_schedule.shape"
   ]
  },
  {
   "cell_type": "code",
   "execution_count": 213,
   "metadata": {},
   "outputs": [
    {
     "data": {
      "text/html": [
       "<div>\n",
       "<style scoped>\n",
       "    .dataframe tbody tr th:only-of-type {\n",
       "        vertical-align: middle;\n",
       "    }\n",
       "\n",
       "    .dataframe tbody tr th {\n",
       "        vertical-align: top;\n",
       "    }\n",
       "\n",
       "    .dataframe thead th {\n",
       "        text-align: right;\n",
       "    }\n",
       "</style>\n",
       "<table border=\"1\" class=\"dataframe\">\n",
       "  <thead>\n",
       "    <tr style=\"text-align: right;\">\n",
       "      <th></th>\n",
       "      <th>id</th>\n",
       "      <th>truck_id</th>\n",
       "      <th>route_id</th>\n",
       "      <th>departure_date</th>\n",
       "      <th>estimated_arrival</th>\n",
       "      <th>delay</th>\n",
       "    </tr>\n",
       "  </thead>\n",
       "  <tbody>\n",
       "    <tr>\n",
       "      <th>0</th>\n",
       "      <td>1</td>\n",
       "      <td>30312694</td>\n",
       "      <td>R-b236e347</td>\n",
       "      <td>2019-01-01 07:00:00</td>\n",
       "      <td>2019-01-01 13:13:12.000000000</td>\n",
       "      <td>0</td>\n",
       "    </tr>\n",
       "    <tr>\n",
       "      <th>1</th>\n",
       "      <td>2</td>\n",
       "      <td>59856374</td>\n",
       "      <td>R-29ea762e</td>\n",
       "      <td>2019-01-01 07:00:00</td>\n",
       "      <td>2019-01-02 04:01:12.000000000</td>\n",
       "      <td>0</td>\n",
       "    </tr>\n",
       "    <tr>\n",
       "      <th>2</th>\n",
       "      <td>3</td>\n",
       "      <td>12602955</td>\n",
       "      <td>R-a3d67783</td>\n",
       "      <td>2019-01-01 07:00:00</td>\n",
       "      <td>2019-01-01 07:45:36.000000000</td>\n",
       "      <td>0</td>\n",
       "    </tr>\n",
       "    <tr>\n",
       "      <th>3</th>\n",
       "      <td>4</td>\n",
       "      <td>46619422</td>\n",
       "      <td>R-31ec9310</td>\n",
       "      <td>2019-01-01 07:00:00</td>\n",
       "      <td>2019-01-01 20:46:48.000000000</td>\n",
       "      <td>0</td>\n",
       "    </tr>\n",
       "    <tr>\n",
       "      <th>4</th>\n",
       "      <td>5</td>\n",
       "      <td>10140178</td>\n",
       "      <td>R-a07c5dbd</td>\n",
       "      <td>2019-01-01 07:00:00</td>\n",
       "      <td>2019-01-01 21:34:11.999999999</td>\n",
       "      <td>0</td>\n",
       "    </tr>\n",
       "  </tbody>\n",
       "</table>\n",
       "</div>"
      ],
      "text/plain": [
       "   id  truck_id    route_id       departure_date  \\\n",
       "0   1  30312694  R-b236e347  2019-01-01 07:00:00   \n",
       "1   2  59856374  R-29ea762e  2019-01-01 07:00:00   \n",
       "2   3  12602955  R-a3d67783  2019-01-01 07:00:00   \n",
       "3   4  46619422  R-31ec9310  2019-01-01 07:00:00   \n",
       "4   5  10140178  R-a07c5dbd  2019-01-01 07:00:00   \n",
       "\n",
       "               estimated_arrival  delay  \n",
       "0  2019-01-01 13:13:12.000000000      0  \n",
       "1  2019-01-02 04:01:12.000000000      0  \n",
       "2  2019-01-01 07:45:36.000000000      0  \n",
       "3  2019-01-01 20:46:48.000000000      0  \n",
       "4  2019-01-01 21:34:11.999999999      0  "
      ]
     },
     "execution_count": 213,
     "metadata": {},
     "output_type": "execute_result"
    }
   ],
   "source": [
    "truck_schedule.head()"
   ]
  },
  {
   "cell_type": "code",
   "execution_count": 214,
   "metadata": {},
   "outputs": [
    {
     "data": {
      "text/plain": [
       "id                    int64\n",
       "truck_id              int64\n",
       "route_id             object\n",
       "departure_date       object\n",
       "estimated_arrival    object\n",
       "delay                 int64\n",
       "dtype: object"
      ]
     },
     "execution_count": 214,
     "metadata": {},
     "output_type": "execute_result"
    }
   ],
   "source": [
    "truck_schedule.dtypes"
   ]
  },
  {
   "cell_type": "code",
   "execution_count": 215,
   "metadata": {},
   "outputs": [
    {
     "data": {
      "text/html": [
       "<div>\n",
       "<style scoped>\n",
       "    .dataframe tbody tr th:only-of-type {\n",
       "        vertical-align: middle;\n",
       "    }\n",
       "\n",
       "    .dataframe tbody tr th {\n",
       "        vertical-align: top;\n",
       "    }\n",
       "\n",
       "    .dataframe thead th {\n",
       "        text-align: right;\n",
       "    }\n",
       "</style>\n",
       "<table border=\"1\" class=\"dataframe\">\n",
       "  <thead>\n",
       "    <tr style=\"text-align: right;\">\n",
       "      <th></th>\n",
       "      <th>id</th>\n",
       "      <th>truck_id</th>\n",
       "      <th>delay</th>\n",
       "    </tr>\n",
       "  </thead>\n",
       "  <tbody>\n",
       "    <tr>\n",
       "      <th>count</th>\n",
       "      <td>12308.000000</td>\n",
       "      <td>1.230800e+04</td>\n",
       "      <td>12308.000000</td>\n",
       "    </tr>\n",
       "    <tr>\n",
       "      <th>mean</th>\n",
       "      <td>6154.500000</td>\n",
       "      <td>3.291135e+07</td>\n",
       "      <td>0.348879</td>\n",
       "    </tr>\n",
       "    <tr>\n",
       "      <th>std</th>\n",
       "      <td>3553.157891</td>\n",
       "      <td>2.221287e+07</td>\n",
       "      <td>0.476635</td>\n",
       "    </tr>\n",
       "    <tr>\n",
       "      <th>min</th>\n",
       "      <td>1.000000</td>\n",
       "      <td>1.000839e+07</td>\n",
       "      <td>0.000000</td>\n",
       "    </tr>\n",
       "    <tr>\n",
       "      <th>25%</th>\n",
       "      <td>3077.750000</td>\n",
       "      <td>1.844361e+07</td>\n",
       "      <td>0.000000</td>\n",
       "    </tr>\n",
       "    <tr>\n",
       "      <th>50%</th>\n",
       "      <td>6154.500000</td>\n",
       "      <td>2.611401e+07</td>\n",
       "      <td>0.000000</td>\n",
       "    </tr>\n",
       "    <tr>\n",
       "      <th>75%</th>\n",
       "      <td>9231.250000</td>\n",
       "      <td>3.325027e+07</td>\n",
       "      <td>1.000000</td>\n",
       "    </tr>\n",
       "    <tr>\n",
       "      <th>max</th>\n",
       "      <td>12308.000000</td>\n",
       "      <td>9.998167e+07</td>\n",
       "      <td>1.000000</td>\n",
       "    </tr>\n",
       "  </tbody>\n",
       "</table>\n",
       "</div>"
      ],
      "text/plain": [
       "                 id      truck_id         delay\n",
       "count  12308.000000  1.230800e+04  12308.000000\n",
       "mean    6154.500000  3.291135e+07      0.348879\n",
       "std     3553.157891  2.221287e+07      0.476635\n",
       "min        1.000000  1.000839e+07      0.000000\n",
       "25%     3077.750000  1.844361e+07      0.000000\n",
       "50%     6154.500000  2.611401e+07      0.000000\n",
       "75%     9231.250000  3.325027e+07      1.000000\n",
       "max    12308.000000  9.998167e+07      1.000000"
      ]
     },
     "execution_count": 215,
     "metadata": {},
     "output_type": "execute_result"
    }
   ],
   "source": [
    "truck_schedule.describe()"
   ]
  },
  {
   "cell_type": "code",
   "execution_count": 216,
   "metadata": {},
   "outputs": [
    {
     "data": {
      "text/plain": [
       "id                   0\n",
       "truck_id             0\n",
       "route_id             0\n",
       "departure_date       0\n",
       "estimated_arrival    0\n",
       "delay                0\n",
       "dtype: int64"
      ]
     },
     "execution_count": 216,
     "metadata": {},
     "output_type": "execute_result"
    }
   ],
   "source": [
    "truck_schedule.isna().sum()"
   ]
  },
  {
   "cell_type": "code",
   "execution_count": 217,
   "metadata": {},
   "outputs": [
    {
     "data": {
      "text/plain": [
       "id                   12308\n",
       "truck_id              1249\n",
       "route_id              2352\n",
       "departure_date          26\n",
       "estimated_arrival     8465\n",
       "delay                    2\n",
       "dtype: int64"
      ]
     },
     "execution_count": 217,
     "metadata": {},
     "output_type": "execute_result"
    }
   ],
   "source": [
    "truck_schedule.nunique()"
   ]
  },
  {
   "cell_type": "code",
   "execution_count": 218,
   "metadata": {},
   "outputs": [
    {
     "data": {
      "text/plain": [
       "(12308, 6)"
      ]
     },
     "execution_count": 218,
     "metadata": {},
     "output_type": "execute_result"
    }
   ],
   "source": [
    "truck_schedule.shape"
   ]
  },
  {
   "cell_type": "code",
   "execution_count": 219,
   "metadata": {},
   "outputs": [
    {
     "name": "stdout",
     "output_type": "stream",
     "text": [
      "id                   0\n",
      "truck_id             0\n",
      "route_id             0\n",
      "departure_date       0\n",
      "estimated_arrival    0\n",
      "delay                0\n",
      "dtype: int64\n"
     ]
    }
   ],
   "source": [
    "#Check for Missing Values\n",
    "missing_values = truck_schedule.isnull().sum()\n",
    "print(missing_values)\n"
   ]
  },
  {
   "cell_type": "code",
   "execution_count": 220,
   "metadata": {},
   "outputs": [],
   "source": [
    "#Convert Data Types:\n",
    "#Change departure_date and estimated_arrival to datetime format for better date handling.\n",
    "\n",
    "truck_schedule['departure_date'] = pd.to_datetime(truck_schedule['departure_date'])\n",
    "truck_schedule['estimated_arrival'] = pd.to_datetime(truck_schedule['estimated_arrival'])\n"
   ]
  },
  {
   "cell_type": "code",
   "execution_count": 221,
   "metadata": {},
   "outputs": [
    {
     "name": "stdout",
     "output_type": "stream",
     "text": [
      "Number of duplicates: 0\n"
     ]
    }
   ],
   "source": [
    "#Check for Duplicates:\n",
    "\n",
    "# Identify and remove any duplicate rows.\n",
    "duplicates = truck_schedule.duplicated().sum()\n",
    "print(f\"Number of duplicates: {duplicates}\")\n",
    "truck_schedule.drop_duplicates(inplace=True)\n"
   ]
  },
  {
   "cell_type": "code",
   "execution_count": 222,
   "metadata": {},
   "outputs": [
    {
     "name": "stdout",
     "output_type": "stream",
     "text": [
      "count    12308.000000\n",
      "mean         0.348879\n",
      "std          0.476635\n",
      "min          0.000000\n",
      "25%          0.000000\n",
      "50%          0.000000\n",
      "75%          1.000000\n",
      "max          1.000000\n",
      "Name: delay, dtype: float64\n"
     ]
    },
    {
     "data": {
      "image/png": "[encoded data removed]",
      "text/plain": [
       "<Figure size 640x480 with 1 Axes>"
      ]
     },
     "metadata": {},
     "output_type": "display_data"
    }
   ],
   "source": [
    "# Summary statistics for delay\n",
    "print(truck_schedule['delay'].describe())\n",
    "\n",
    "# Boxplot for visualizing outliers\n",
    "sns.boxplot(x=truck_schedule['delay'])\n",
    "plt.title('Boxplot of Delay')\n",
    "plt.show()\n"
   ]
  },
  {
   "cell_type": "code",
   "execution_count": 223,
   "metadata": {},
   "outputs": [
    {
     "data": {
      "image/png": "[encoded data removed]",
      "text/plain": [
       "<Figure size 640x480 with 1 Axes>"
      ]
     },
     "metadata": {},
     "output_type": "display_data"
    }
   ],
   "source": [
    "sns.countplot(x='delay', data=truck_schedule)\n",
    "plt.title('Count of Delayed vs On-Time Trips')\n",
    "plt.xlabel('Delay')\n",
    "plt.ylabel('Count')\n",
    "plt.xticks([0, 1], ['On Time', 'Delayed'])\n",
    "plt.show()\n"
   ]
  },
  {
   "cell_type": "code",
   "execution_count": 224,
   "metadata": {},
   "outputs": [
    {
     "name": "stdout",
     "output_type": "stream",
     "text": [
      "   id  truck_id    route_id      departure_date             estimated_arrival  \\\n",
      "0   1  30312694  R-b236e347 2019-01-01 07:00:00 2019-01-01 13:13:12.000000000   \n",
      "1   2  59856374  R-29ea762e 2019-01-01 07:00:00 2019-01-02 04:01:12.000000000   \n",
      "2   3  12602955  R-a3d67783 2019-01-01 07:00:00 2019-01-01 07:45:36.000000000   \n",
      "3   4  46619422  R-31ec9310 2019-01-01 07:00:00 2019-01-01 20:46:48.000000000   \n",
      "4   5  10140178  R-a07c5dbd 2019-01-01 07:00:00 2019-01-01 21:34:11.999999999   \n",
      "\n",
      "   delay event_date  \n",
      "0      0 2024-10-15  \n",
      "1      0 2024-10-15  \n",
      "2      0 2024-10-15  \n",
      "3      0 2024-10-15  \n",
      "4      0 2024-10-15  \n"
     ]
    }
   ],
   "source": [
    "\n",
    "\n",
    "from datetime import datetime\n",
    "\n",
    "# Adding event_date column with current date\n",
    "today_date = datetime.now().strftime('%Y-%m-%d')\n",
    "truck_schedule['event_date'] = pd.to_datetime(today_date)\n",
    "truck_schedule_df = truck_schedule\n",
    "# Print the DataFrame and its data types\n",
    "print(truck_schedule.head(5))\n"
   ]
  },
  {
   "cell_type": "code",
   "execution_count": 225,
   "metadata": {},
   "outputs": [
    {
     "data": {
      "text/html": [
       "<div>\n",
       "<style scoped>\n",
       "    .dataframe tbody tr th:only-of-type {\n",
       "        vertical-align: middle;\n",
       "    }\n",
       "\n",
       "    .dataframe tbody tr th {\n",
       "        vertical-align: top;\n",
       "    }\n",
       "\n",
       "    .dataframe thead th {\n",
       "        text-align: right;\n",
       "    }\n",
       "</style>\n",
       "<table border=\"1\" class=\"dataframe\">\n",
       "  <thead>\n",
       "    <tr style=\"text-align: right;\">\n",
       "      <th></th>\n",
       "      <th>id</th>\n",
       "      <th>truck_id</th>\n",
       "      <th>route_id</th>\n",
       "      <th>departure_date</th>\n",
       "      <th>estimated_arrival</th>\n",
       "      <th>delay</th>\n",
       "      <th>event_date</th>\n",
       "      <th>index</th>\n",
       "    </tr>\n",
       "  </thead>\n",
       "  <tbody>\n",
       "    <tr>\n",
       "      <th>0</th>\n",
       "      <td>1</td>\n",
       "      <td>30312694</td>\n",
       "      <td>R-b236e347</td>\n",
       "      <td>2019-01-01 07:00:00</td>\n",
       "      <td>2019-01-01 13:13:12.000000000</td>\n",
       "      <td>0</td>\n",
       "      <td>2024-10-15</td>\n",
       "      <td>1</td>\n",
       "    </tr>\n",
       "    <tr>\n",
       "      <th>1</th>\n",
       "      <td>2</td>\n",
       "      <td>59856374</td>\n",
       "      <td>R-29ea762e</td>\n",
       "      <td>2019-01-01 07:00:00</td>\n",
       "      <td>2019-01-02 04:01:12.000000000</td>\n",
       "      <td>0</td>\n",
       "      <td>2024-10-15</td>\n",
       "      <td>2</td>\n",
       "    </tr>\n",
       "    <tr>\n",
       "      <th>2</th>\n",
       "      <td>3</td>\n",
       "      <td>12602955</td>\n",
       "      <td>R-a3d67783</td>\n",
       "      <td>2019-01-01 07:00:00</td>\n",
       "      <td>2019-01-01 07:45:36.000000000</td>\n",
       "      <td>0</td>\n",
       "      <td>2024-10-15</td>\n",
       "      <td>3</td>\n",
       "    </tr>\n",
       "    <tr>\n",
       "      <th>3</th>\n",
       "      <td>4</td>\n",
       "      <td>46619422</td>\n",
       "      <td>R-31ec9310</td>\n",
       "      <td>2019-01-01 07:00:00</td>\n",
       "      <td>2019-01-01 20:46:48.000000000</td>\n",
       "      <td>0</td>\n",
       "      <td>2024-10-15</td>\n",
       "      <td>4</td>\n",
       "    </tr>\n",
       "    <tr>\n",
       "      <th>4</th>\n",
       "      <td>5</td>\n",
       "      <td>10140178</td>\n",
       "      <td>R-a07c5dbd</td>\n",
       "      <td>2019-01-01 07:00:00</td>\n",
       "      <td>2019-01-01 21:34:11.999999999</td>\n",
       "      <td>0</td>\n",
       "      <td>2024-10-15</td>\n",
       "      <td>5</td>\n",
       "    </tr>\n",
       "  </tbody>\n",
       "</table>\n",
       "</div>"
      ],
      "text/plain": [
       "   id  truck_id    route_id      departure_date             estimated_arrival  \\\n",
       "0   1  30312694  R-b236e347 2019-01-01 07:00:00 2019-01-01 13:13:12.000000000   \n",
       "1   2  59856374  R-29ea762e 2019-01-01 07:00:00 2019-01-02 04:01:12.000000000   \n",
       "2   3  12602955  R-a3d67783 2019-01-01 07:00:00 2019-01-01 07:45:36.000000000   \n",
       "3   4  46619422  R-31ec9310 2019-01-01 07:00:00 2019-01-01 20:46:48.000000000   \n",
       "4   5  10140178  R-a07c5dbd 2019-01-01 07:00:00 2019-01-01 21:34:11.999999999   \n",
       "\n",
       "   delay event_date  index  \n",
       "0      0 2024-10-15      1  \n",
       "1      0 2024-10-15      2  \n",
       "2      0 2024-10-15      3  \n",
       "3      0 2024-10-15      4  \n",
       "4      0 2024-10-15      5  "
      ]
     },
     "execution_count": 225,
     "metadata": {},
     "output_type": "execute_result"
    }
   ],
   "source": [
    "truck_schedule['index'] = range(1, len(truck_schedule) + 1)\n",
    "truck_schedule.head(5)\n"
   ]
  },
  {
   "cell_type": "code",
   "execution_count": 226,
   "metadata": {},
   "outputs": [
    {
     "data": {
      "text/plain": [
       "id                            int64\n",
       "truck_id                      int64\n",
       "route_id                     object\n",
       "departure_date       datetime64[ns]\n",
       "estimated_arrival    datetime64[ns]\n",
       "delay                         int64\n",
       "event_date           datetime64[ns]\n",
       "index                         int64\n",
       "dtype: object"
      ]
     },
     "execution_count": 226,
     "metadata": {},
     "output_type": "execute_result"
    }
   ],
   "source": [
    "truck_schedule.dtypes"
   ]
  },
  {
   "cell_type": "code",
   "execution_count": 227,
   "metadata": {},
   "outputs": [],
   "source": [
    "# saving cleaned data for truck_schedule.csv\n",
    "truck_schedule.to_csv('C:/Users/anucv/OneDrive/Desktop/AI and ML training/Machine_Learning/TRUCK_DELAY_CLASSIFICATION_PROJECT/Data/Cleaned_data/cleaned_truck_schedule.csv', index=False)\n"
   ]
  },
  {
   "cell_type": "code",
   "execution_count": 228,
   "metadata": {},
   "outputs": [
    {
     "data": {
      "text/html": [
       "<div>\n",
       "<style scoped>\n",
       "    .dataframe tbody tr th:only-of-type {\n",
       "        vertical-align: middle;\n",
       "    }\n",
       "\n",
       "    .dataframe tbody tr th {\n",
       "        vertical-align: top;\n",
       "    }\n",
       "\n",
       "    .dataframe thead th {\n",
       "        text-align: right;\n",
       "    }\n",
       "</style>\n",
       "<table border=\"1\" class=\"dataframe\">\n",
       "  <thead>\n",
       "    <tr style=\"text-align: right;\">\n",
       "      <th></th>\n",
       "      <th>id</th>\n",
       "      <th>truck_id</th>\n",
       "      <th>route_id</th>\n",
       "      <th>departure_date</th>\n",
       "      <th>estimated_arrival</th>\n",
       "      <th>delay</th>\n",
       "      <th>event_date</th>\n",
       "      <th>index</th>\n",
       "    </tr>\n",
       "  </thead>\n",
       "  <tbody>\n",
       "    <tr>\n",
       "      <th>0</th>\n",
       "      <td>1</td>\n",
       "      <td>30312694</td>\n",
       "      <td>R-b236e347</td>\n",
       "      <td>2019-01-01 07:00:00</td>\n",
       "      <td>2019-01-01 13:13:12.000000000</td>\n",
       "      <td>0</td>\n",
       "      <td>2024-10-15</td>\n",
       "      <td>1</td>\n",
       "    </tr>\n",
       "    <tr>\n",
       "      <th>1</th>\n",
       "      <td>2</td>\n",
       "      <td>59856374</td>\n",
       "      <td>R-29ea762e</td>\n",
       "      <td>2019-01-01 07:00:00</td>\n",
       "      <td>2019-01-02 04:01:12.000000000</td>\n",
       "      <td>0</td>\n",
       "      <td>2024-10-15</td>\n",
       "      <td>2</td>\n",
       "    </tr>\n",
       "    <tr>\n",
       "      <th>2</th>\n",
       "      <td>3</td>\n",
       "      <td>12602955</td>\n",
       "      <td>R-a3d67783</td>\n",
       "      <td>2019-01-01 07:00:00</td>\n",
       "      <td>2019-01-01 07:45:36.000000000</td>\n",
       "      <td>0</td>\n",
       "      <td>2024-10-15</td>\n",
       "      <td>3</td>\n",
       "    </tr>\n",
       "    <tr>\n",
       "      <th>3</th>\n",
       "      <td>4</td>\n",
       "      <td>46619422</td>\n",
       "      <td>R-31ec9310</td>\n",
       "      <td>2019-01-01 07:00:00</td>\n",
       "      <td>2019-01-01 20:46:48.000000000</td>\n",
       "      <td>0</td>\n",
       "      <td>2024-10-15</td>\n",
       "      <td>4</td>\n",
       "    </tr>\n",
       "    <tr>\n",
       "      <th>4</th>\n",
       "      <td>5</td>\n",
       "      <td>10140178</td>\n",
       "      <td>R-a07c5dbd</td>\n",
       "      <td>2019-01-01 07:00:00</td>\n",
       "      <td>2019-01-01 21:34:11.999999999</td>\n",
       "      <td>0</td>\n",
       "      <td>2024-10-15</td>\n",
       "      <td>5</td>\n",
       "    </tr>\n",
       "  </tbody>\n",
       "</table>\n",
       "</div>"
      ],
      "text/plain": [
       "   id  truck_id    route_id      departure_date             estimated_arrival  \\\n",
       "0   1  30312694  R-b236e347 2019-01-01 07:00:00 2019-01-01 13:13:12.000000000   \n",
       "1   2  59856374  R-29ea762e 2019-01-01 07:00:00 2019-01-02 04:01:12.000000000   \n",
       "2   3  12602955  R-a3d67783 2019-01-01 07:00:00 2019-01-01 07:45:36.000000000   \n",
       "3   4  46619422  R-31ec9310 2019-01-01 07:00:00 2019-01-01 20:46:48.000000000   \n",
       "4   5  10140178  R-a07c5dbd 2019-01-01 07:00:00 2019-01-01 21:34:11.999999999   \n",
       "\n",
       "   delay event_date  index  \n",
       "0      0 2024-10-15      1  \n",
       "1      0 2024-10-15      2  \n",
       "2      0 2024-10-15      3  \n",
       "3      0 2024-10-15      4  \n",
       "4      0 2024-10-15      5  "
      ]
     },
     "execution_count": 228,
     "metadata": {},
     "output_type": "execute_result"
    }
   ],
   "source": [
    "truck_schedule.head(5)"
   ]
  },
  {
   "cell_type": "code",
   "execution_count": 229,
   "metadata": {},
   "outputs": [
    {
     "data": {
      "text/plain": [
       "(12308, 8)"
      ]
     },
     "execution_count": 229,
     "metadata": {},
     "output_type": "execute_result"
    }
   ],
   "source": [
    "truck_schedule.shape"
   ]
  },
  {
   "cell_type": "code",
   "execution_count": 230,
   "metadata": {},
   "outputs": [
    {
     "data": {
      "text/plain": [
       "(51834, 18)"
      ]
     },
     "execution_count": 230,
     "metadata": {},
     "output_type": "execute_result"
    }
   ],
   "source": [
    "\n",
    "\n",
    "\n",
    "city_weather.shape #51000 - 52000"
   ]
  },
  {
   "cell_type": "code",
   "execution_count": 231,
   "metadata": {},
   "outputs": [
    {
     "data": {
      "text/plain": [
       "(1209, 11)"
      ]
     },
     "execution_count": 231,
     "metadata": {},
     "output_type": "execute_result"
    }
   ],
   "source": [
    "drivers.shape  # 1283"
   ]
  },
  {
   "cell_type": "code",
   "execution_count": 232,
   "metadata": {},
   "outputs": [
    {
     "data": {
      "text/plain": [
       "(1810, 8)"
      ]
     },
     "execution_count": 232,
     "metadata": {},
     "output_type": "execute_result"
    }
   ],
   "source": [
    "routes.shape #1810 -- check this again"
   ]
  },
  {
   "cell_type": "code",
   "execution_count": 233,
   "metadata": {},
   "outputs": [
    {
     "data": {
      "text/plain": [
       "(396149, 16)"
      ]
     },
     "execution_count": 233,
     "metadata": {},
     "output_type": "execute_result"
    }
   ],
   "source": [
    "routes_weather.shape     #396149"
   ]
  },
  {
   "cell_type": "code",
   "execution_count": 234,
   "metadata": {},
   "outputs": [
    {
     "data": {
      "text/plain": [
       "(2458582, 8)"
      ]
     },
     "execution_count": 234,
     "metadata": {},
     "output_type": "execute_result"
    }
   ],
   "source": [
    "traffic.shape    # 2458584"
   ]
  },
  {
   "cell_type": "code",
   "execution_count": 235,
   "metadata": {},
   "outputs": [
    {
     "data": {
      "text/plain": [
       "(1239, 8)"
      ]
     },
     "execution_count": 235,
     "metadata": {},
     "output_type": "execute_result"
    }
   ],
   "source": [
    "trucks.shape    #1296"
   ]
  },
  {
   "cell_type": "code",
   "execution_count": 236,
   "metadata": {},
   "outputs": [
    {
     "data": {
      "text/plain": [
       "(12308, 8)"
      ]
     },
     "execution_count": 236,
     "metadata": {},
     "output_type": "execute_result"
    }
   ],
   "source": [
    "truck_schedule.shape"
   ]
  },
  {
   "cell_type": "code",
   "execution_count": null,
   "metadata": {},
   "outputs": [],
   "source": []
  }
 ],
 "metadata": {
  "kernelspec": {
   "display_name": "Python 3",
   "language": "python",
   "name": "python3"
  },
  "language_info": {
   "codemirror_mode": {
    "name": "ipython",
    "version": 3
   },
   "file_extension": ".py",
   "mimetype": "text/x-python",
   "name": "python",
   "nbconvert_exporter": "python",
   "pygments_lexer": "ipython3",
   "version": "3.12.7"
  }
 },
 "nbformat": 4,
 "nbformat_minor": 2
}
