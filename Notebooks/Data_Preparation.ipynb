{
 "cells": [
  {
   "cell_type": "code",
   "execution_count": 76,
   "metadata": {},
   "outputs": [
    {
     "data": {
      "text/plain": [
       "'\\n\\n# Import necessary libraries\\nimport hopsworks\\nimport pandas as pd\\n\\n# Connect to the Hopsworks feature store\\nproject = hopsworks.login()  # Ensure you have the correct login method\\nfs = project.get_feature_store()  # Get the feature store\\n\\n'"
      ]
     },
     "execution_count": 76,
     "metadata": {},
     "output_type": "execute_result"
    }
   ],
   "source": [
    "'''\n",
    "\n",
    "# Import necessary libraries\n",
    "import hopsworks\n",
    "import pandas as pd\n",
    "\n",
    "# Connect to the Hopsworks feature store\n",
    "project = hopsworks.login()  # Ensure you have the correct login method\n",
    "fs = project.get_feature_store()  # Get the feature store\n",
    "\n",
    "'''"
   ]
  },
  {
   "cell_type": "markdown",
   "metadata": {},
   "source": [
    "city_weather_df"
   ]
  },
  {
   "cell_type": "code",
   "execution_count": 269,
   "metadata": {},
   "outputs": [
    {
     "name": "stdout",
     "output_type": "stream",
     "text": [
      "Connection closed.\n",
      "Connected. Call `.close()` to terminate connection gracefully.\n",
      "\n",
      "Logged in to project, explore it here https://c.app.hopsworks.ai:443/p/1104021\n",
      "Connected. Call `.close()` to terminate connection gracefully.\n"
     ]
    }
   ],
   "source": [
    "import hopsworks\n",
    "\n",
    "# Initialize connection to Hopsworks using API key\n",
    "project = hopsworks.login(\n",
    "    api_key_value=\"8ViXMBkcrCAUFm4Y.PEDm3J6NPoMDtf2L7MpnYsCdElsDMCPRr1RI3vbPtLnjogWE1f6hdKOoxpQbxrM0\"\n",
    ")\n",
    "\n",
    "# Get the feature store for the project\n",
    "fs = project.get_feature_store()\n",
    "\n",
    "# Create a new feature store (if needed)\n",
    "# You can specify the name and other parameters if required\n"
   ]
  },
  {
   "cell_type": "code",
   "execution_count": 270,
   "metadata": {},
   "outputs": [
    {
     "name": "stdout",
     "output_type": "stream",
     "text": [
      "Finished: Reading data from Hopsworks, using Hopsworks Feature Query Service (3.05s) \n",
      "   index     id     city_id        date  hour  temp  wind_speed  \\\n",
      "0  41583  41583  C-34ae77b0  2019-02-01    14    84          12   \n",
      "1   7175   7175  C-c92599e2  2019-01-23    22    72           3   \n",
      "2  27143  27143  C-6df8beaf  2019-01-28    22     5          15   \n",
      "3  51751  51751  C-328bd8d3  2019-02-11     6    32           2   \n",
      "4  43208  43208  C-b5282c3b  2019-01-08     7    37           9   \n",
      "\n",
      "     description  precip  humidity  visibility  pressure  chanceofrain  \\\n",
      "0  Partly cloudy     0.0        45           6      1016             0   \n",
      "1          Clear     0.0        91           6      1014             0   \n",
      "2       Overcast     0.0        87           6      1021             0   \n",
      "3    Light sleet     0.0        97           6      1023             0   \n",
      "4           Mist     0.0        93           3      1007             0   \n",
      "\n",
      "   chanceoffog  chanceofsnow  chanceofthunder            date_time  \\\n",
      "0            0             0                0  2019-02-01 14:00:00   \n",
      "1            0             0                0  2019-01-23 22:00:00   \n",
      "2            0             0                0  2019-01-28 22:00:00   \n",
      "3            0             0                0  2019-02-11 06:00:00   \n",
      "4            0             0                0  2019-01-08 07:00:00   \n",
      "\n",
      "                 event_date  \n",
      "0 2019-02-01 00:00:00+00:00  \n",
      "1 2019-01-23 00:00:00+00:00  \n",
      "2 2019-01-28 00:00:00+00:00  \n",
      "3 2019-02-11 00:00:00+00:00  \n",
      "4 2019-01-08 00:00:00+00:00  \n"
     ]
    }
   ],
   "source": [
    "# Fetch data from the city_weather_df feature group\n",
    "city_weather_fg = fs.get_feature_group('city_weather', version=1)\n",
    "city_weather_query = city_weather_fg.select_all()\n",
    "city_weather_df = city_weather_query.read()\n",
    "\n",
    "\n",
    "\n",
    "# Display the DataFrame\n",
    "print(city_weather_df.head())\n"
   ]
  },
  {
   "cell_type": "code",
   "execution_count": 271,
   "metadata": {},
   "outputs": [],
   "source": [
    "import pandas as pd\n",
    "import numpy as np"
   ]
  },
  {
   "cell_type": "code",
   "execution_count": 272,
   "metadata": {},
   "outputs": [],
   "source": [
    "#city_weather_df=pd.read_csv(\"C:/Users/anucv/OneDrive/Desktop/AI and ML training/Machine_Learning/TRUCK_DELAY_CLASSIFICATION_PROJECT/Data/Cleaned_data/cleaned_city_weather.csv\")"
   ]
  },
  {
   "cell_type": "code",
   "execution_count": 273,
   "metadata": {},
   "outputs": [
    {
     "data": {
      "text/plain": [
       "index                            int64\n",
       "id                               int64\n",
       "city_id                         object\n",
       "date                            object\n",
       "hour                             int64\n",
       "temp                             int64\n",
       "wind_speed                       int64\n",
       "description                     object\n",
       "precip                         float64\n",
       "humidity                         int64\n",
       "visibility                       int64\n",
       "pressure                         int64\n",
       "chanceofrain                     int64\n",
       "chanceoffog                      int64\n",
       "chanceofsnow                     int64\n",
       "chanceofthunder                  int64\n",
       "date_time                       object\n",
       "event_date         datetime64[us, UTC]\n",
       "dtype: object"
      ]
     },
     "execution_count": 273,
     "metadata": {},
     "output_type": "execute_result"
    }
   ],
   "source": [
    "city_weather_df.dtypes"
   ]
  },
  {
   "cell_type": "code",
   "execution_count": 274,
   "metadata": {},
   "outputs": [
    {
     "data": {
      "text/plain": [
       "(51834, 18)"
      ]
     },
     "execution_count": 274,
     "metadata": {},
     "output_type": "execute_result"
    }
   ],
   "source": [
    "city_weather_df.shape"
   ]
  },
  {
   "cell_type": "code",
   "execution_count": 275,
   "metadata": {},
   "outputs": [],
   "source": [
    "city_weather_df.rename(columns={'index': 'unique_id'}, inplace=True)\n"
   ]
  },
  {
   "cell_type": "code",
   "execution_count": 276,
   "metadata": {},
   "outputs": [
    {
     "name": "stdout",
     "output_type": "stream",
     "text": [
      "   unique_id     city_id        date  hour  temp  wind_speed    description  \\\n",
      "0      41583  C-34ae77b0  2019-02-01    14    84          12  Partly cloudy   \n",
      "1       7175  C-c92599e2  2019-01-23    22    72           3          Clear   \n",
      "2      27143  C-6df8beaf  2019-01-28    22     5          15       Overcast   \n",
      "3      51751  C-328bd8d3  2019-02-11     6    32           2    Light sleet   \n",
      "4      43208  C-b5282c3b  2019-01-08     7    37           9           Mist   \n",
      "\n",
      "   precip  humidity  visibility  pressure  chanceofrain  chanceoffog  \\\n",
      "0     0.0        45           6      1016             0            0   \n",
      "1     0.0        91           6      1014             0            0   \n",
      "2     0.0        87           6      1021             0            0   \n",
      "3     0.0        97           6      1023             0            0   \n",
      "4     0.0        93           3      1007             0            0   \n",
      "\n",
      "   chanceofsnow  chanceofthunder            date_time  \n",
      "0             0                0  2019-02-01 14:00:00  \n",
      "1             0                0  2019-01-23 22:00:00  \n",
      "2             0                0  2019-01-28 22:00:00  \n",
      "3             0                0  2019-02-11 06:00:00  \n",
      "4             0                0  2019-01-08 07:00:00  \n"
     ]
    }
   ],
   "source": [
    "# Dropping the event_date column from city_weather_df\n",
    "city_weather_df.drop(columns=['event_date','id'], inplace=True)\n",
    "\n",
    "# Verifying the change\n",
    "print(city_weather_df.head())\n"
   ]
  },
  {
   "cell_type": "code",
   "execution_count": 277,
   "metadata": {},
   "outputs": [],
   "source": [
    "\n",
    "# Step 4: Convert hour to a 4-digit string format\n",
    "city_weather_df['hour'] = (city_weather_df['hour'] // 10000).astype(str).str.zfill(2) + '00'\n"
   ]
  },
  {
   "cell_type": "code",
   "execution_count": 278,
   "metadata": {},
   "outputs": [],
   "source": [
    "import pandas as pd\n",
    "\n",
    "\n",
    "# Step 5: Create date_time by combining date and hour\n",
    "city_weather_df['date_time'] = pd.to_datetime(city_weather_df['date'] + ' ' + city_weather_df['hour'], format='%Y-%m-%d %H%M')\n",
    "\n",
    "\n",
    "# Convert the 'date_time' and 'event_date' columns to datetime format\n",
    "city_weather_df['date_time'] = pd.to_datetime(city_weather_df['date_time'])\n",
    "\n"
   ]
  },
  {
   "cell_type": "code",
   "execution_count": 279,
   "metadata": {},
   "outputs": [
    {
     "data": {
      "text/plain": [
       "(51834, 16)"
      ]
     },
     "execution_count": 279,
     "metadata": {},
     "output_type": "execute_result"
    }
   ],
   "source": [
    "city_weather_df.shape"
   ]
  },
  {
   "cell_type": "markdown",
   "metadata": {},
   "source": [
    "2. Remove Duplicate Rows\n",
    "\n",
    "Use city_id, date, and hour as the identifying columns for duplicate detection."
   ]
  },
  {
   "cell_type": "code",
   "execution_count": 280,
   "metadata": {},
   "outputs": [],
   "source": [
    "\n",
    "# Step 2: Drop duplicate rows based on ['city_id', 'date', 'hour']\n",
    "\n",
    "city_weather_df = city_weather_df.drop_duplicates()\n",
    "\n",
    "\n"
   ]
  },
  {
   "cell_type": "markdown",
   "metadata": {},
   "source": [
    "3. Drop Unnecessary Columns\n",
    "\n",
    "Drop chanceofrain, chanceoffog, chanceofsnow, and chanceofthunder."
   ]
  },
  {
   "cell_type": "code",
   "execution_count": 281,
   "metadata": {},
   "outputs": [
    {
     "data": {
      "text/plain": [
       "(51834, 16)"
      ]
     },
     "execution_count": 281,
     "metadata": {},
     "output_type": "execute_result"
    }
   ],
   "source": [
    "city_weather_df.shape"
   ]
  },
  {
   "cell_type": "code",
   "execution_count": 282,
   "metadata": {},
   "outputs": [],
   "source": [
    "# Step 3: Drop unnecessary columns\n",
    "city_weather_df.drop(columns=['chanceofrain', 'chanceoffog', 'chanceofsnow', 'chanceofthunder', 'date', 'hour'], inplace=True)\n"
   ]
  },
  {
   "cell_type": "code",
   "execution_count": 283,
   "metadata": {},
   "outputs": [
    {
     "data": {
      "text/plain": [
       "unique_id               int64\n",
       "city_id                object\n",
       "temp                    int64\n",
       "wind_speed              int64\n",
       "description            object\n",
       "precip                float64\n",
       "humidity                int64\n",
       "visibility              int64\n",
       "pressure                int64\n",
       "date_time      datetime64[ns]\n",
       "dtype: object"
      ]
     },
     "execution_count": 283,
     "metadata": {},
     "output_type": "execute_result"
    }
   ],
   "source": [
    "city_weather_df.dtypes"
   ]
  },
  {
   "cell_type": "code",
   "execution_count": 284,
   "metadata": {},
   "outputs": [
    {
     "data": {
      "text/html": [
       "<div>\n",
       "<style scoped>\n",
       "    .dataframe tbody tr th:only-of-type {\n",
       "        vertical-align: middle;\n",
       "    }\n",
       "\n",
       "    .dataframe tbody tr th {\n",
       "        vertical-align: top;\n",
       "    }\n",
       "\n",
       "    .dataframe thead th {\n",
       "        text-align: right;\n",
       "    }\n",
       "</style>\n",
       "<table border=\"1\" class=\"dataframe\">\n",
       "  <thead>\n",
       "    <tr style=\"text-align: right;\">\n",
       "      <th></th>\n",
       "      <th>unique_id</th>\n",
       "      <th>city_id</th>\n",
       "      <th>temp</th>\n",
       "      <th>wind_speed</th>\n",
       "      <th>description</th>\n",
       "      <th>precip</th>\n",
       "      <th>humidity</th>\n",
       "      <th>visibility</th>\n",
       "      <th>pressure</th>\n",
       "      <th>date_time</th>\n",
       "    </tr>\n",
       "  </thead>\n",
       "  <tbody>\n",
       "    <tr>\n",
       "      <th>0</th>\n",
       "      <td>41583</td>\n",
       "      <td>C-34ae77b0</td>\n",
       "      <td>84</td>\n",
       "      <td>12</td>\n",
       "      <td>Partly cloudy</td>\n",
       "      <td>0.0</td>\n",
       "      <td>45</td>\n",
       "      <td>6</td>\n",
       "      <td>1016</td>\n",
       "      <td>2019-02-01</td>\n",
       "    </tr>\n",
       "    <tr>\n",
       "      <th>1</th>\n",
       "      <td>7175</td>\n",
       "      <td>C-c92599e2</td>\n",
       "      <td>72</td>\n",
       "      <td>3</td>\n",
       "      <td>Clear</td>\n",
       "      <td>0.0</td>\n",
       "      <td>91</td>\n",
       "      <td>6</td>\n",
       "      <td>1014</td>\n",
       "      <td>2019-01-23</td>\n",
       "    </tr>\n",
       "    <tr>\n",
       "      <th>2</th>\n",
       "      <td>27143</td>\n",
       "      <td>C-6df8beaf</td>\n",
       "      <td>5</td>\n",
       "      <td>15</td>\n",
       "      <td>Overcast</td>\n",
       "      <td>0.0</td>\n",
       "      <td>87</td>\n",
       "      <td>6</td>\n",
       "      <td>1021</td>\n",
       "      <td>2019-01-28</td>\n",
       "    </tr>\n",
       "    <tr>\n",
       "      <th>3</th>\n",
       "      <td>51751</td>\n",
       "      <td>C-328bd8d3</td>\n",
       "      <td>32</td>\n",
       "      <td>2</td>\n",
       "      <td>Light sleet</td>\n",
       "      <td>0.0</td>\n",
       "      <td>97</td>\n",
       "      <td>6</td>\n",
       "      <td>1023</td>\n",
       "      <td>2019-02-11</td>\n",
       "    </tr>\n",
       "    <tr>\n",
       "      <th>4</th>\n",
       "      <td>43208</td>\n",
       "      <td>C-b5282c3b</td>\n",
       "      <td>37</td>\n",
       "      <td>9</td>\n",
       "      <td>Mist</td>\n",
       "      <td>0.0</td>\n",
       "      <td>93</td>\n",
       "      <td>3</td>\n",
       "      <td>1007</td>\n",
       "      <td>2019-01-08</td>\n",
       "    </tr>\n",
       "  </tbody>\n",
       "</table>\n",
       "</div>"
      ],
      "text/plain": [
       "   unique_id     city_id  temp  wind_speed    description  precip  humidity  \\\n",
       "0      41583  C-34ae77b0    84          12  Partly cloudy     0.0        45   \n",
       "1       7175  C-c92599e2    72           3          Clear     0.0        91   \n",
       "2      27143  C-6df8beaf     5          15       Overcast     0.0        87   \n",
       "3      51751  C-328bd8d3    32           2    Light sleet     0.0        97   \n",
       "4      43208  C-b5282c3b    37           9           Mist     0.0        93   \n",
       "\n",
       "   visibility  pressure  date_time  \n",
       "0           6      1016 2019-02-01  \n",
       "1           6      1014 2019-01-23  \n",
       "2           6      1021 2019-01-28  \n",
       "3           6      1023 2019-02-11  \n",
       "4           3      1007 2019-01-08  "
      ]
     },
     "execution_count": 284,
     "metadata": {},
     "output_type": "execute_result"
    }
   ],
   "source": [
    "city_weather_df.head(5)"
   ]
  },
  {
   "cell_type": "code",
   "execution_count": 91,
   "metadata": {},
   "outputs": [],
   "source": [
    "\n",
    "# Step 4: Convert hour to a 4-digit string format\n",
    "#city_weather_df['hour'] = (city_weather_df['hour'] // 10000).astype(str).str.zfill(2) + '00'\n"
   ]
  },
  {
   "cell_type": "code",
   "execution_count": 92,
   "metadata": {},
   "outputs": [],
   "source": [
    "#Convert hour to Datetime Format:\n",
    "#city_weather_df['hour'] = pd.to_datetime(city_weather_df['hour'], format='%H%M').dt.time\n"
   ]
  },
  {
   "cell_type": "code",
   "execution_count": 94,
   "metadata": {},
   "outputs": [],
   "source": [
    "# Insert custom_date at index 1\n",
    "#city_weather_df.insert(1, 'custom_date', city_weather_df.pop('custom_date'))\n",
    "\n"
   ]
  },
  {
   "cell_type": "code",
   "execution_count": 285,
   "metadata": {},
   "outputs": [
    {
     "name": "stdout",
     "output_type": "stream",
     "text": [
      "Processed city_weather DataFrame:\n",
      "        unique_id     city_id  temp  wind_speed           description  precip  \\\n",
      "0          41583  C-34ae77b0    84          12         Partly cloudy     0.0   \n",
      "1           7175  C-c92599e2    72           3                 Clear     0.0   \n",
      "2          27143  C-6df8beaf     5          15              Overcast     0.0   \n",
      "3          51751  C-328bd8d3    32           2           Light sleet     0.0   \n",
      "4          43208  C-b5282c3b    37           9                  Mist     0.0   \n",
      "...          ...         ...   ...         ...                   ...     ...   \n",
      "51829      18688  C-e5bfb4e5    21           9            Heavy snow     0.0   \n",
      "51830      15505  C-6ea51d66    37           7              Overcast     0.0   \n",
      "51831      29557  C-b25a09de    54           2            Light rain     0.0   \n",
      "51832      52772  C-841ebdcb    54          16     Light rain shower     0.0   \n",
      "51833      39325  C-5d86b887    32          20  Patchy moderate snow     0.0   \n",
      "\n",
      "       humidity  visibility  pressure  date_time  \n",
      "0            45           6      1016 2019-02-01  \n",
      "1            91           6      1014 2019-01-23  \n",
      "2            87           6      1021 2019-01-28  \n",
      "3            97           6      1023 2019-02-11  \n",
      "4            93           3      1007 2019-01-08  \n",
      "...         ...         ...       ...        ...  \n",
      "51829        94           1      1004 2019-02-12  \n",
      "51830        67           6      1019 2019-01-03  \n",
      "51831        90           6      1015 2019-02-06  \n",
      "51832        62           6      1024 2019-02-07  \n",
      "51833        35           6      1015 2019-01-30  \n",
      "\n",
      "[51834 rows x 10 columns]\n"
     ]
    }
   ],
   "source": [
    "# Display the processed DataFrame\n",
    "print(\"Processed city_weather DataFrame:\\n\", city_weather_df)"
   ]
  },
  {
   "cell_type": "code",
   "execution_count": 286,
   "metadata": {},
   "outputs": [
    {
     "data": {
      "text/plain": [
       "unique_id               int64\n",
       "city_id                object\n",
       "temp                    int64\n",
       "wind_speed              int64\n",
       "description            object\n",
       "precip                float64\n",
       "humidity                int64\n",
       "visibility              int64\n",
       "pressure                int64\n",
       "date_time      datetime64[ns]\n",
       "dtype: object"
      ]
     },
     "execution_count": 286,
     "metadata": {},
     "output_type": "execute_result"
    }
   ],
   "source": [
    "city_weather_df.dtypes"
   ]
  },
  {
   "cell_type": "code",
   "execution_count": 287,
   "metadata": {},
   "outputs": [
    {
     "data": {
      "text/plain": [
       "(51834, 10)"
      ]
     },
     "execution_count": 287,
     "metadata": {},
     "output_type": "execute_result"
    }
   ],
   "source": [
    "city_weather_df.shape"
   ]
  },
  {
   "cell_type": "code",
   "execution_count": null,
   "metadata": {},
   "outputs": [],
   "source": []
  },
  {
   "cell_type": "code",
   "execution_count": null,
   "metadata": {},
   "outputs": [],
   "source": []
  },
  {
   "cell_type": "markdown",
   "metadata": {},
   "source": [
    "drivers_df"
   ]
  },
  {
   "cell_type": "code",
   "execution_count": 288,
   "metadata": {},
   "outputs": [
    {
     "name": "stdout",
     "output_type": "stream",
     "text": [
      "Finished: Reading data from Hopsworks, using Hopsworks Feature Query Service (0.58s) \n",
      "Drivers DataFrame:\n",
      "   index   driver_id             name gender  age  experience driving_style  \\\n",
      "0    177  42aa7479-5     Jerry Powers   male   41           7  conservative   \n",
      "1    977  c2dae66f-1  Darrell Sanders   male   49          11     proactive   \n",
      "2    680  edff80f0-3       John Bates   male   54          18  conservative   \n",
      "3    154  45e3916e-1  Raymond Johnson   male   50          10     proactive   \n",
      "4    915  f21901c8-0   Martin Gardner   male   55          17  conservative   \n",
      "\n",
      "   ratings  vehicle_no  average_speed_mph                event_date  \n",
      "0        2  61984883.0              56.94 2024-10-10 00:00:00+00:00  \n",
      "1        6  21201884.0              59.19 2024-10-10 00:00:00+00:00  \n",
      "2        6  26749209.0              39.12 2024-10-10 00:00:00+00:00  \n",
      "3        3  25670063.0              61.65 2024-10-10 00:00:00+00:00  \n",
      "4        9  33500681.0              41.92 2024-10-10 00:00:00+00:00  \n"
     ]
    }
   ],
   "source": [
    "\n",
    "\n",
    "# Fetch data from the drivers feature group\n",
    "drivers_fg = fs.get_feature_group('drivers', version=1)\n",
    "drivers_query = drivers_fg.select_all()\n",
    "drivers_df = drivers_query.read()\n",
    "\n",
    "# Display the DataFrame\n",
    "print(\"Drivers DataFrame:\")\n",
    "print(drivers_df.head())\n",
    "\n"
   ]
  },
  {
   "cell_type": "code",
   "execution_count": 99,
   "metadata": {},
   "outputs": [],
   "source": [
    "#drivers_df=pd.read_csv(\"C:/Users/anucv/OneDrive/Desktop/AI and ML training/Machine_Learning/TRUCK_DELAY_CLASSIFICATION_PROJECT/Data/Cleaned_data/cleaned_drivers.csv\")"
   ]
  },
  {
   "cell_type": "code",
   "execution_count": 289,
   "metadata": {},
   "outputs": [
    {
     "data": {
      "text/html": [
       "<div>\n",
       "<style scoped>\n",
       "    .dataframe tbody tr th:only-of-type {\n",
       "        vertical-align: middle;\n",
       "    }\n",
       "\n",
       "    .dataframe tbody tr th {\n",
       "        vertical-align: top;\n",
       "    }\n",
       "\n",
       "    .dataframe thead th {\n",
       "        text-align: right;\n",
       "    }\n",
       "</style>\n",
       "<table border=\"1\" class=\"dataframe\">\n",
       "  <thead>\n",
       "    <tr style=\"text-align: right;\">\n",
       "      <th></th>\n",
       "      <th>index</th>\n",
       "      <th>driver_id</th>\n",
       "      <th>name</th>\n",
       "      <th>gender</th>\n",
       "      <th>age</th>\n",
       "      <th>experience</th>\n",
       "      <th>driving_style</th>\n",
       "      <th>ratings</th>\n",
       "      <th>vehicle_no</th>\n",
       "      <th>average_speed_mph</th>\n",
       "      <th>event_date</th>\n",
       "    </tr>\n",
       "  </thead>\n",
       "  <tbody>\n",
       "    <tr>\n",
       "      <th>0</th>\n",
       "      <td>177</td>\n",
       "      <td>42aa7479-5</td>\n",
       "      <td>Jerry Powers</td>\n",
       "      <td>male</td>\n",
       "      <td>41</td>\n",
       "      <td>7</td>\n",
       "      <td>conservative</td>\n",
       "      <td>2</td>\n",
       "      <td>61984883.0</td>\n",
       "      <td>56.94</td>\n",
       "      <td>2024-10-10 00:00:00+00:00</td>\n",
       "    </tr>\n",
       "    <tr>\n",
       "      <th>1</th>\n",
       "      <td>977</td>\n",
       "      <td>c2dae66f-1</td>\n",
       "      <td>Darrell Sanders</td>\n",
       "      <td>male</td>\n",
       "      <td>49</td>\n",
       "      <td>11</td>\n",
       "      <td>proactive</td>\n",
       "      <td>6</td>\n",
       "      <td>21201884.0</td>\n",
       "      <td>59.19</td>\n",
       "      <td>2024-10-10 00:00:00+00:00</td>\n",
       "    </tr>\n",
       "    <tr>\n",
       "      <th>2</th>\n",
       "      <td>680</td>\n",
       "      <td>edff80f0-3</td>\n",
       "      <td>John Bates</td>\n",
       "      <td>male</td>\n",
       "      <td>54</td>\n",
       "      <td>18</td>\n",
       "      <td>conservative</td>\n",
       "      <td>6</td>\n",
       "      <td>26749209.0</td>\n",
       "      <td>39.12</td>\n",
       "      <td>2024-10-10 00:00:00+00:00</td>\n",
       "    </tr>\n",
       "    <tr>\n",
       "      <th>3</th>\n",
       "      <td>154</td>\n",
       "      <td>45e3916e-1</td>\n",
       "      <td>Raymond Johnson</td>\n",
       "      <td>male</td>\n",
       "      <td>50</td>\n",
       "      <td>10</td>\n",
       "      <td>proactive</td>\n",
       "      <td>3</td>\n",
       "      <td>25670063.0</td>\n",
       "      <td>61.65</td>\n",
       "      <td>2024-10-10 00:00:00+00:00</td>\n",
       "    </tr>\n",
       "    <tr>\n",
       "      <th>4</th>\n",
       "      <td>915</td>\n",
       "      <td>f21901c8-0</td>\n",
       "      <td>Martin Gardner</td>\n",
       "      <td>male</td>\n",
       "      <td>55</td>\n",
       "      <td>17</td>\n",
       "      <td>conservative</td>\n",
       "      <td>9</td>\n",
       "      <td>33500681.0</td>\n",
       "      <td>41.92</td>\n",
       "      <td>2024-10-10 00:00:00+00:00</td>\n",
       "    </tr>\n",
       "  </tbody>\n",
       "</table>\n",
       "</div>"
      ],
      "text/plain": [
       "   index   driver_id             name gender  age  experience driving_style  \\\n",
       "0    177  42aa7479-5     Jerry Powers   male   41           7  conservative   \n",
       "1    977  c2dae66f-1  Darrell Sanders   male   49          11     proactive   \n",
       "2    680  edff80f0-3       John Bates   male   54          18  conservative   \n",
       "3    154  45e3916e-1  Raymond Johnson   male   50          10     proactive   \n",
       "4    915  f21901c8-0   Martin Gardner   male   55          17  conservative   \n",
       "\n",
       "   ratings  vehicle_no  average_speed_mph                event_date  \n",
       "0        2  61984883.0              56.94 2024-10-10 00:00:00+00:00  \n",
       "1        6  21201884.0              59.19 2024-10-10 00:00:00+00:00  \n",
       "2        6  26749209.0              39.12 2024-10-10 00:00:00+00:00  \n",
       "3        3  25670063.0              61.65 2024-10-10 00:00:00+00:00  \n",
       "4        9  33500681.0              41.92 2024-10-10 00:00:00+00:00  "
      ]
     },
     "execution_count": 289,
     "metadata": {},
     "output_type": "execute_result"
    }
   ],
   "source": [
    "drivers_df.head(5)"
   ]
  },
  {
   "cell_type": "code",
   "execution_count": 290,
   "metadata": {},
   "outputs": [
    {
     "data": {
      "text/plain": [
       "index                              int64\n",
       "driver_id                         object\n",
       "name                              object\n",
       "gender                            object\n",
       "age                                int64\n",
       "experience                         int64\n",
       "driving_style                     object\n",
       "ratings                            int64\n",
       "vehicle_no                       float64\n",
       "average_speed_mph                float64\n",
       "event_date           datetime64[us, UTC]\n",
       "dtype: object"
      ]
     },
     "execution_count": 290,
     "metadata": {},
     "output_type": "execute_result"
    }
   ],
   "source": [
    "drivers_df.dtypes"
   ]
  },
  {
   "cell_type": "code",
   "execution_count": 102,
   "metadata": {},
   "outputs": [],
   "source": [
    "drivers_df.rename(columns={'index': 'unique_id'}, inplace=True)\n"
   ]
  },
  {
   "cell_type": "code",
   "execution_count": 291,
   "metadata": {},
   "outputs": [
    {
     "data": {
      "text/plain": [
       "(1283, 11)"
      ]
     },
     "execution_count": 291,
     "metadata": {},
     "output_type": "execute_result"
    }
   ],
   "source": [
    "drivers_df.shape"
   ]
  },
  {
   "cell_type": "code",
   "execution_count": 292,
   "metadata": {},
   "outputs": [],
   "source": [
    "\n",
    "# Dropping the event_time feature\n",
    "drivers_df.drop(columns=['event_date'], inplace=True)\n",
    "\n"
   ]
  },
  {
   "cell_type": "code",
   "execution_count": 296,
   "metadata": {},
   "outputs": [],
   "source": [
    "# Dropping duplicates based on driver_id\n",
    "drivers_df.drop_duplicates(subset=['driver_id'], inplace=True)"
   ]
  },
  {
   "cell_type": "code",
   "execution_count": 297,
   "metadata": {},
   "outputs": [
    {
     "data": {
      "text/plain": [
       "(1283, 10)"
      ]
     },
     "execution_count": 297,
     "metadata": {},
     "output_type": "execute_result"
    }
   ],
   "source": [
    "drivers_df.shape"
   ]
  },
  {
   "cell_type": "code",
   "execution_count": 298,
   "metadata": {},
   "outputs": [
    {
     "data": {
      "text/plain": [
       "index                  int64\n",
       "driver_id             object\n",
       "name                  object\n",
       "gender                object\n",
       "age                    int64\n",
       "experience             int64\n",
       "driving_style         object\n",
       "ratings                int64\n",
       "vehicle_no           float64\n",
       "average_speed_mph    float64\n",
       "dtype: object"
      ]
     },
     "execution_count": 298,
     "metadata": {},
     "output_type": "execute_result"
    }
   ],
   "source": [
    "drivers_df.dtypes"
   ]
  },
  {
   "cell_type": "code",
   "execution_count": null,
   "metadata": {},
   "outputs": [],
   "source": []
  },
  {
   "cell_type": "code",
   "execution_count": null,
   "metadata": {},
   "outputs": [],
   "source": []
  },
  {
   "cell_type": "markdown",
   "metadata": {},
   "source": [
    "routes_df"
   ]
  },
  {
   "cell_type": "code",
   "execution_count": 299,
   "metadata": {},
   "outputs": [
    {
     "name": "stdout",
     "output_type": "stream",
     "text": [
      "Finished: Reading data from Hopsworks, using Hopsworks Feature Query Service (0.76s) \n",
      "Routes DataFrame:\n",
      "   index    route_id   origin_id destination_id  distance  average_hours  \\\n",
      "0    177  R-4cb71c28  C-4fe0fa24     C-fc66f0ab   6025.38         120.51   \n",
      "1   2234  R-c12ce254  C-841ebdcb     C-2bd47dc5   1410.19          28.20   \n",
      "2   2072  R-43613017  C-2e349ccd     C-731988ba   6602.70         132.05   \n",
      "3    154  R-0a641bb6  C-4fe0fa24     C-c7cacd1d   5609.50         112.19   \n",
      "4   1121  R-67f4e095  C-f5ed4c15     C-e5bfb4e5   6847.86         136.96   \n",
      "\n",
      "                 event_date  \n",
      "0 2024-10-10 00:00:00+00:00  \n",
      "1 2024-10-10 00:00:00+00:00  \n",
      "2 2024-10-10 00:00:00+00:00  \n",
      "3 2024-10-10 00:00:00+00:00  \n",
      "4 2024-10-10 00:00:00+00:00  \n"
     ]
    }
   ],
   "source": [
    "\n",
    "\n",
    "# Fetch data from the routes feature group\n",
    "routes_fg = fs.get_feature_group('routes', version=1)\n",
    "routes_query = routes_fg.select_all()\n",
    "routes_df = routes_query.read()\n",
    "\n",
    "# Display the DataFrame\n",
    "print(\"Routes DataFrame:\")\n",
    "print(routes_df.head())\n",
    "\n",
    "\n"
   ]
  },
  {
   "cell_type": "code",
   "execution_count": 109,
   "metadata": {},
   "outputs": [],
   "source": [
    "#routes_df=pd.read_csv(\"C:/Users/anucv/OneDrive/Desktop/AI and ML training/Machine_Learning/TRUCK_DELAY_CLASSIFICATION_PROJECT/Data/Cleaned_data/cleaned_routes.csv\")"
   ]
  },
  {
   "cell_type": "code",
   "execution_count": 300,
   "metadata": {},
   "outputs": [
    {
     "data": {
      "text/plain": [
       "index                           int64\n",
       "route_id                       object\n",
       "origin_id                      object\n",
       "destination_id                 object\n",
       "distance                      float64\n",
       "average_hours                 float64\n",
       "event_date        datetime64[us, UTC]\n",
       "dtype: object"
      ]
     },
     "execution_count": 300,
     "metadata": {},
     "output_type": "execute_result"
    }
   ],
   "source": [
    "routes_df.dtypes"
   ]
  },
  {
   "cell_type": "code",
   "execution_count": 301,
   "metadata": {},
   "outputs": [],
   "source": [
    "routes_df.rename(columns={'index': 'unique_id'}, inplace=True)\n"
   ]
  },
  {
   "cell_type": "code",
   "execution_count": 302,
   "metadata": {},
   "outputs": [
    {
     "data": {
      "text/plain": [
       "(2352, 7)"
      ]
     },
     "execution_count": 302,
     "metadata": {},
     "output_type": "execute_result"
    }
   ],
   "source": [
    "routes_df.shape"
   ]
  },
  {
   "cell_type": "code",
   "execution_count": 303,
   "metadata": {},
   "outputs": [],
   "source": [
    "\n",
    "# Dropping the event_time feature\n",
    "routes_df.drop(columns=['event_date'], inplace=True)\n",
    "\n"
   ]
  },
  {
   "cell_type": "code",
   "execution_count": 304,
   "metadata": {},
   "outputs": [
    {
     "data": {
      "text/plain": [
       "(2352, 6)"
      ]
     },
     "execution_count": 304,
     "metadata": {},
     "output_type": "execute_result"
    }
   ],
   "source": [
    "routes_df.shape"
   ]
  },
  {
   "cell_type": "code",
   "execution_count": 305,
   "metadata": {},
   "outputs": [],
   "source": [
    "routes_df = routes_df.drop_duplicates(subset=['route_id', 'destination_id', 'origin_id'], inplace = False)"
   ]
  },
  {
   "cell_type": "code",
   "execution_count": 306,
   "metadata": {},
   "outputs": [
    {
     "data": {
      "text/plain": [
       "(2352, 6)"
      ]
     },
     "execution_count": 306,
     "metadata": {},
     "output_type": "execute_result"
    }
   ],
   "source": [
    "routes_df.shape"
   ]
  },
  {
   "cell_type": "code",
   "execution_count": 307,
   "metadata": {},
   "outputs": [
    {
     "data": {
      "text/plain": [
       "<bound method NDFrame.head of       unique_id    route_id   origin_id destination_id  distance  \\\n",
       "0           177  R-4cb71c28  C-4fe0fa24     C-fc66f0ab   6025.38   \n",
       "1          2234  R-c12ce254  C-841ebdcb     C-2bd47dc5   1410.19   \n",
       "2          2072  R-43613017  C-2e349ccd     C-731988ba   6602.70   \n",
       "3           154  R-0a641bb6  C-4fe0fa24     C-c7cacd1d   5609.50   \n",
       "4          1121  R-67f4e095  C-f5ed4c15     C-e5bfb4e5   6847.86   \n",
       "...         ...         ...         ...            ...       ...   \n",
       "2347        543  R-d1b27d8a  C-ef47bdcd     C-ff8c0c3c    548.97   \n",
       "2348        997  R-6eb8465a  C-01660979     C-34ae77b0   9870.99   \n",
       "2349       1798  R-369b7561  C-34ae77b0     C-f8f01604   9547.24   \n",
       "2350        700  R-1e49a895  C-6ea51d66     C-9bbf5d8a    464.88   \n",
       "2351       1654  R-582a899f  C-b5ff31cd     C-f8f01604   5300.50   \n",
       "\n",
       "      average_hours  \n",
       "0            120.51  \n",
       "1             28.20  \n",
       "2            132.05  \n",
       "3            112.19  \n",
       "4            136.96  \n",
       "...             ...  \n",
       "2347          10.98  \n",
       "2348         197.42  \n",
       "2349         190.94  \n",
       "2350           9.30  \n",
       "2351         106.01  \n",
       "\n",
       "[2352 rows x 6 columns]>"
      ]
     },
     "execution_count": 307,
     "metadata": {},
     "output_type": "execute_result"
    }
   ],
   "source": [
    "routes_df.head"
   ]
  },
  {
   "cell_type": "code",
   "execution_count": null,
   "metadata": {},
   "outputs": [],
   "source": []
  },
  {
   "cell_type": "markdown",
   "metadata": {},
   "source": [
    "routes_weather_df"
   ]
  },
  {
   "cell_type": "code",
   "execution_count": 321,
   "metadata": {},
   "outputs": [
    {
     "name": "stdout",
     "output_type": "stream",
     "text": [
      "Finished: Reading data from Hopsworks, using Hopsworks Feature Query Service (11.62s) \n",
      "Routes Weather DataFrame:\n",
      "    index    route_id                 date  temp  wind_speed    description  \\\n",
      "0  357636  R-34f59601  2019-01-27 18:00:00    23          11  Moderate snow   \n",
      "1  410095  R-2733be32  2019-01-22 12:00:00    46           4  Partly cloudy   \n",
      "2  333165  R-48cfa4e6  2019-02-01 12:00:00    72          17          Sunny   \n",
      "3   30963  R-87c86df6  2019-01-12 00:00:00    55           9  Partly cloudy   \n",
      "4  187327  R-51707f3b  2019-01-25 00:00:00    72           2  Partly cloudy   \n",
      "\n",
      "   precip  humidity  visibility  pressure  chanceofrain  chanceoffog  \\\n",
      "0     0.0        92           4      1011             0            0   \n",
      "1     0.0        92           6      1011             0            0   \n",
      "2     0.0        83           6      1004             0            0   \n",
      "3     0.0        93           6      1005             0            0   \n",
      "4     0.0        21           6      1009             0            0   \n",
      "\n",
      "   chanceofsnow  chanceofthunder                event_date  \n",
      "0             0                0 2024-10-10 00:00:00+00:00  \n",
      "1             0                0 2024-10-10 00:00:00+00:00  \n",
      "2             0                0 2024-10-10 00:00:00+00:00  \n",
      "3             0                0 2024-10-10 00:00:00+00:00  \n",
      "4             0                0 2024-10-10 00:00:00+00:00  \n"
     ]
    }
   ],
   "source": [
    "\n",
    "\n",
    "# Fetch data from the route_weather feature group\n",
    "routes_weather_fg = fs.get_feature_group('routes_weather', version=1)\n",
    "routes_weather_query = routes_weather_fg.select_all()\n",
    "routes_weather_df = routes_weather_query.read()\n",
    "\n",
    "# Display the DataFrame\n",
    "print(\"Routes Weather DataFrame:\")\n",
    "print(routes_weather_df.head())\n"
   ]
  },
  {
   "cell_type": "code",
   "execution_count": 119,
   "metadata": {},
   "outputs": [],
   "source": [
    "#routes_weather_df=pd.read_csv(\"C:/Users/anucv/OneDrive/Desktop/AI and ML training/Machine_Learning/TRUCK_DELAY_CLASSIFICATION_PROJECT/Data/Cleaned_data/cleaned_routes_weather.csv\")"
   ]
  },
  {
   "cell_type": "code",
   "execution_count": 322,
   "metadata": {},
   "outputs": [
    {
     "data": {
      "text/plain": [
       "index                            int64\n",
       "route_id                        object\n",
       "date                            object\n",
       "temp                             int64\n",
       "wind_speed                       int64\n",
       "description                     object\n",
       "precip                         float64\n",
       "humidity                         int64\n",
       "visibility                       int64\n",
       "pressure                         int64\n",
       "chanceofrain                     int64\n",
       "chanceoffog                      int64\n",
       "chanceofsnow                     int64\n",
       "chanceofthunder                  int64\n",
       "event_date         datetime64[us, UTC]\n",
       "dtype: object"
      ]
     },
     "execution_count": 322,
     "metadata": {},
     "output_type": "execute_result"
    }
   ],
   "source": [
    "routes_weather_df.dtypes"
   ]
  },
  {
   "cell_type": "code",
   "execution_count": 323,
   "metadata": {},
   "outputs": [],
   "source": [
    "routes_weather_df.rename(columns={'index': 'unique_id'}, inplace=True)\n"
   ]
  },
  {
   "cell_type": "code",
   "execution_count": 324,
   "metadata": {},
   "outputs": [
    {
     "data": {
      "text/plain": [
       "(396149, 15)"
      ]
     },
     "execution_count": 324,
     "metadata": {},
     "output_type": "execute_result"
    }
   ],
   "source": [
    "routes_weather_df.shape"
   ]
  },
  {
   "cell_type": "code",
   "execution_count": 325,
   "metadata": {},
   "outputs": [],
   "source": [
    "\n",
    "# Dropping the event_time feature\n",
    "routes_weather_df.drop(columns=['event_date'], inplace=True)"
   ]
  },
  {
   "cell_type": "code",
   "execution_count": 326,
   "metadata": {},
   "outputs": [],
   "source": [
    "#drop duplicates\n",
    "\n",
    "routes_weather_df = routes_weather_df.drop_duplicates(subset=['route_id', 'date'], inplace = False)\n"
   ]
  },
  {
   "cell_type": "code",
   "execution_count": 327,
   "metadata": {},
   "outputs": [
    {
     "data": {
      "text/plain": [
       "unique_id            int64\n",
       "route_id            object\n",
       "date                object\n",
       "temp                 int64\n",
       "wind_speed           int64\n",
       "description         object\n",
       "precip             float64\n",
       "humidity             int64\n",
       "visibility           int64\n",
       "pressure             int64\n",
       "chanceofrain         int64\n",
       "chanceoffog          int64\n",
       "chanceofsnow         int64\n",
       "chanceofthunder      int64\n",
       "dtype: object"
      ]
     },
     "execution_count": 327,
     "metadata": {},
     "output_type": "execute_result"
    }
   ],
   "source": [
    "routes_weather_df.dtypes"
   ]
  },
  {
   "cell_type": "code",
   "execution_count": 328,
   "metadata": {},
   "outputs": [
    {
     "name": "stdout",
     "output_type": "stream",
     "text": [
      "Initial DataFrame:\n",
      "        unique_id    route_id                 date  temp  wind_speed  \\\n",
      "0          357636  R-34f59601  2019-01-27 18:00:00    23          11   \n",
      "1          410095  R-2733be32  2019-01-22 12:00:00    46           4   \n",
      "2          333165  R-48cfa4e6  2019-02-01 12:00:00    72          17   \n",
      "3           30963  R-87c86df6  2019-01-12 00:00:00    55           9   \n",
      "4          187327  R-51707f3b  2019-01-25 00:00:00    72           2   \n",
      "...           ...         ...                  ...   ...         ...   \n",
      "396144     198202  R-32967753  2019-01-02 06:00:00    55          12   \n",
      "396145     206963  R-1dd02306  2019-01-15 00:00:00    50           8   \n",
      "396146       7462  R-07d2544a  2019-02-15 00:00:00    79           3   \n",
      "396147      27079  R-7c35f275  2019-01-26 06:00:00    32          18   \n",
      "396148     197979  R-8dd113f2  2019-01-27 06:00:00    36           6   \n",
      "\n",
      "                   description  precip  humidity  visibility  pressure  \\\n",
      "0                Moderate snow     0.0        92           4      1011   \n",
      "1                Partly cloudy     0.0        92           6      1011   \n",
      "2                        Sunny     0.0        83           6      1004   \n",
      "3                Partly cloudy     0.0        93           6      1005   \n",
      "4                Partly cloudy     0.0        21           6      1009   \n",
      "...                        ...     ...       ...         ...       ...   \n",
      "396144                Overcast     0.0        57           6      1020   \n",
      "396145                Overcast     0.0        50           6      1016   \n",
      "396146  Moderate rain at times     0.1        83           5      1013   \n",
      "396147       Patchy light snow     0.0        65           6      1002   \n",
      "396148              Light rain     0.0        89           4      1023   \n",
      "\n",
      "        chanceofrain  chanceoffog  chanceofsnow  chanceofthunder  \n",
      "0                  0            0             0                0  \n",
      "1                  0            0             0                0  \n",
      "2                  0            0             0                0  \n",
      "3                  0            0             0                0  \n",
      "4                  0            0             0                0  \n",
      "...              ...          ...           ...              ...  \n",
      "396144             0            0             0                0  \n",
      "396145             0            0             0                0  \n",
      "396146             0            0             0                0  \n",
      "396147             0            0             0                0  \n",
      "396148             0            0             0                0  \n",
      "\n",
      "[396149 rows x 14 columns]\n"
     ]
    }
   ],
   "source": [
    "# Print to check if the DataFrame is initialized correctly\n",
    "print(\"Initial DataFrame:\")\n",
    "print(routes_weather_df)\n",
    "\n"
   ]
  },
  {
   "cell_type": "code",
   "execution_count": 329,
   "metadata": {},
   "outputs": [],
   "source": [
    "\n",
    "# 1. Drop unnecessary columns\n",
    "routes_weather_df.drop(columns=['chanceofrain', 'chanceoffog', 'chanceofsnow', 'chanceofthunder'], inplace=True)\n",
    "\n"
   ]
  },
  {
   "cell_type": "code",
   "execution_count": 330,
   "metadata": {},
   "outputs": [],
   "source": [
    "# 2. Convert the 'date' column to datetime format\n",
    "routes_weather_df['date'] = pd.to_datetime(routes_weather_df['date'])\n",
    "\n"
   ]
  },
  {
   "cell_type": "code",
   "execution_count": 129,
   "metadata": {},
   "outputs": [],
   "source": [
    "# Extract hour from the 'date' and convert it to 4-digit string format\n",
    "#routes_weather_df['hour'] = routes_weather_df['date'].dt.hour.astype(str).str.zfill(4)\n",
    "\n"
   ]
  },
  {
   "cell_type": "code",
   "execution_count": 130,
   "metadata": {},
   "outputs": [],
   "source": [
    "# 3. Combine 'date' and 'hour' to create 'custom_date'\n",
    "#routes_weather_df['custom_date'] = routes_weather_df['date'].dt.date.astype(str) + ' ' + routes_weather_df['hour']\n",
    "#routes_weather_df['custom_date'] = pd.to_datetime(routes_weather_df['custom_date'])\n",
    "\n"
   ]
  },
  {
   "cell_type": "code",
   "execution_count": 131,
   "metadata": {},
   "outputs": [],
   "source": [
    "# Insert 'custom_date' at index 1\n",
    "#routes_weather_df.insert(1, 'custom_date', routes_weather_df.pop('custom_date'))\n",
    "\n"
   ]
  },
  {
   "cell_type": "code",
   "execution_count": 331,
   "metadata": {},
   "outputs": [
    {
     "name": "stdout",
     "output_type": "stream",
     "text": [
      "        unique_id    route_id                date  temp  wind_speed  \\\n",
      "0          357636  R-34f59601 2019-01-27 18:00:00    23          11   \n",
      "1          410095  R-2733be32 2019-01-22 12:00:00    46           4   \n",
      "2          333165  R-48cfa4e6 2019-02-01 12:00:00    72          17   \n",
      "3           30963  R-87c86df6 2019-01-12 00:00:00    55           9   \n",
      "4          187327  R-51707f3b 2019-01-25 00:00:00    72           2   \n",
      "...           ...         ...                 ...   ...         ...   \n",
      "396144     198202  R-32967753 2019-01-02 06:00:00    55          12   \n",
      "396145     206963  R-1dd02306 2019-01-15 00:00:00    50           8   \n",
      "396146       7462  R-07d2544a 2019-02-15 00:00:00    79           3   \n",
      "396147      27079  R-7c35f275 2019-01-26 06:00:00    32          18   \n",
      "396148     197979  R-8dd113f2 2019-01-27 06:00:00    36           6   \n",
      "\n",
      "                   description  precip  humidity  visibility  pressure  \n",
      "0                Moderate snow     0.0        92           4      1011  \n",
      "1                Partly cloudy     0.0        92           6      1011  \n",
      "2                        Sunny     0.0        83           6      1004  \n",
      "3                Partly cloudy     0.0        93           6      1005  \n",
      "4                Partly cloudy     0.0        21           6      1009  \n",
      "...                        ...     ...       ...         ...       ...  \n",
      "396144                Overcast     0.0        57           6      1020  \n",
      "396145                Overcast     0.0        50           6      1016  \n",
      "396146  Moderate rain at times     0.1        83           5      1013  \n",
      "396147       Patchy light snow     0.0        65           6      1002  \n",
      "396148              Light rain     0.0        89           4      1023  \n",
      "\n",
      "[396149 rows x 10 columns]\n"
     ]
    }
   ],
   "source": [
    "# Display the modified DataFrame\n",
    "print(routes_weather_df)"
   ]
  },
  {
   "cell_type": "code",
   "execution_count": 332,
   "metadata": {},
   "outputs": [
    {
     "data": {
      "text/plain": [
       "unique_id               int64\n",
       "route_id               object\n",
       "date           datetime64[ns]\n",
       "temp                    int64\n",
       "wind_speed              int64\n",
       "description            object\n",
       "precip                float64\n",
       "humidity                int64\n",
       "visibility              int64\n",
       "pressure                int64\n",
       "dtype: object"
      ]
     },
     "execution_count": 332,
     "metadata": {},
     "output_type": "execute_result"
    }
   ],
   "source": [
    "routes_weather_df.dtypes"
   ]
  },
  {
   "cell_type": "code",
   "execution_count": 333,
   "metadata": {},
   "outputs": [
    {
     "data": {
      "text/plain": [
       "(396149, 10)"
      ]
     },
     "execution_count": 333,
     "metadata": {},
     "output_type": "execute_result"
    }
   ],
   "source": [
    "routes_weather_df.shape"
   ]
  },
  {
   "cell_type": "code",
   "execution_count": null,
   "metadata": {},
   "outputs": [],
   "source": []
  },
  {
   "cell_type": "markdown",
   "metadata": {},
   "source": [
    "traffic_df"
   ]
  },
  {
   "cell_type": "code",
   "execution_count": 334,
   "metadata": {},
   "outputs": [
    {
     "name": "stdout",
     "output_type": "stream",
     "text": [
      "Finished: Reading data from Hopsworks, using Hopsworks Feature Query Service (38.92s) \n",
      "     index    route_id                      date  hour  no_of_vehicles  \\\n",
      "0  1893661  R-75aaf5e7 2019-01-05 00:00:00+00:00   300           447.0   \n",
      "1    94947  R-6dd87c7e 2019-01-01 00:00:00+00:00   200           489.0   \n",
      "2   884372  R-18bb1dc1 2019-01-03 00:00:00+00:00  1900          1848.0   \n",
      "3  1543898  R-90fe80ff 2019-01-13 00:00:00+00:00  1600          2446.0   \n",
      "4  1689142  R-38961b65 2019-02-08 00:00:00+00:00  1200          1839.0   \n",
      "\n",
      "   accident                event_date  is_no_of_vehicles_missing  \n",
      "0         0 2024-10-10 00:00:00+00:00                          0  \n",
      "1         0 2024-10-10 00:00:00+00:00                          0  \n",
      "2         0 2024-10-10 00:00:00+00:00                          0  \n",
      "3         0 2024-10-10 00:00:00+00:00                          0  \n",
      "4         0 2024-10-10 00:00:00+00:00                          0  \n"
     ]
    }
   ],
   "source": [
    "# Fetch data from the traffic feature group\n",
    "traffic_fg = fs.get_feature_group('traffic', version=1)\n",
    "traffic_query = traffic_fg.select_all()\n",
    "traffic_df = traffic_query.read()\n",
    "    \n",
    "# Display the DataFrame\n",
    "print(traffic_df.head())"
   ]
  },
  {
   "cell_type": "code",
   "execution_count": 335,
   "metadata": {},
   "outputs": [
    {
     "data": {
      "text/plain": [
       "index                                      int64\n",
       "route_id                                  object\n",
       "date                         datetime64[us, UTC]\n",
       "hour                                       int64\n",
       "no_of_vehicles                           float64\n",
       "accident                                   int64\n",
       "event_date                   datetime64[us, UTC]\n",
       "is_no_of_vehicles_missing                  int64\n",
       "dtype: object"
      ]
     },
     "execution_count": 335,
     "metadata": {},
     "output_type": "execute_result"
    }
   ],
   "source": [
    "traffic_df.dtypes"
   ]
  },
  {
   "cell_type": "code",
   "execution_count": 336,
   "metadata": {},
   "outputs": [],
   "source": [
    "traffic_df.rename(columns={'index': 'unique_id'}, inplace=True)\n"
   ]
  },
  {
   "cell_type": "code",
   "execution_count": 337,
   "metadata": {},
   "outputs": [],
   "source": [
    "\n",
    "# Dropping the event_time feature\n",
    "traffic_df.drop(columns=['event_date'], inplace=True)"
   ]
  },
  {
   "cell_type": "code",
   "execution_count": 338,
   "metadata": {},
   "outputs": [],
   "source": [
    "traffic_df = traffic_df.drop_duplicates(subset=['route_id'])"
   ]
  },
  {
   "cell_type": "code",
   "execution_count": 339,
   "metadata": {},
   "outputs": [],
   "source": [
    "traffic_df['date_time'] = pd.to_datetime(traffic_df['date']) + pd.to_timedelta(traffic_df['hour'], unit='h')\n"
   ]
  },
  {
   "cell_type": "code",
   "execution_count": 340,
   "metadata": {},
   "outputs": [
    {
     "data": {
      "text/plain": [
       "unique_id                                  int64\n",
       "route_id                                  object\n",
       "date                         datetime64[us, UTC]\n",
       "hour                                       int64\n",
       "no_of_vehicles                           float64\n",
       "accident                                   int64\n",
       "is_no_of_vehicles_missing                  int64\n",
       "date_time                    datetime64[ns, UTC]\n",
       "dtype: object"
      ]
     },
     "execution_count": 340,
     "metadata": {},
     "output_type": "execute_result"
    }
   ],
   "source": [
    "traffic_df.dtypes"
   ]
  },
  {
   "cell_type": "code",
   "execution_count": 341,
   "metadata": {},
   "outputs": [],
   "source": [
    "# Dropping the event_time feature\n",
    "traffic_df.drop(columns=['date', 'hour'], inplace=True)"
   ]
  },
  {
   "cell_type": "code",
   "execution_count": 342,
   "metadata": {},
   "outputs": [
    {
     "data": {
      "text/plain": [
       "unique_id                                  int64\n",
       "route_id                                  object\n",
       "no_of_vehicles                           float64\n",
       "accident                                   int64\n",
       "is_no_of_vehicles_missing                  int64\n",
       "date_time                    datetime64[ns, UTC]\n",
       "dtype: object"
      ]
     },
     "execution_count": 342,
     "metadata": {},
     "output_type": "execute_result"
    }
   ],
   "source": [
    "traffic_df.dtypes"
   ]
  },
  {
   "cell_type": "code",
   "execution_count": 343,
   "metadata": {},
   "outputs": [
    {
     "data": {
      "text/plain": [
       "(2352, 6)"
      ]
     },
     "execution_count": 343,
     "metadata": {},
     "output_type": "execute_result"
    }
   ],
   "source": [
    "traffic_df.shape"
   ]
  },
  {
   "cell_type": "code",
   "execution_count": null,
   "metadata": {},
   "outputs": [],
   "source": []
  },
  {
   "cell_type": "markdown",
   "metadata": {},
   "source": [
    "trucks_df"
   ]
  },
  {
   "cell_type": "code",
   "execution_count": 352,
   "metadata": {},
   "outputs": [
    {
     "name": "stdout",
     "output_type": "stream",
     "text": [
      "Finished: Reading data from Hopsworks, using Hopsworks Feature Query Service (0.49s) \n",
      "   index  truck_id  truck_age  load_capacity_pounds  mileage_mpg fuel_type  \\\n",
      "0    177  61984883          8                3000.0           15       gas   \n",
      "1    977  21201884         12               10000.0           24    diesel   \n",
      "2    680  26749209         11                3000.0           21       gas   \n",
      "3    154  25670063         10                6000.0           15       gas   \n",
      "4    915  33500681          8               15000.0           23    diesel   \n",
      "\n",
      "                 event_date  \n",
      "0 2024-10-10 00:00:00+00:00  \n",
      "1 2024-10-10 00:00:00+00:00  \n",
      "2 2024-10-10 00:00:00+00:00  \n",
      "3 2024-10-10 00:00:00+00:00  \n",
      "4 2024-10-10 00:00:00+00:00  \n"
     ]
    }
   ],
   "source": [
    "# Fetch data from the trucks feature group\n",
    "trucks_fg = fs.get_feature_group('trucks', version=1)\n",
    "trucks_query = trucks_fg.select_all()\n",
    "trucks_df = trucks_query.read()\n",
    "\n",
    "# Display the DataFrame\n",
    "print(trucks_df.head())\n"
   ]
  },
  {
   "cell_type": "code",
   "execution_count": 353,
   "metadata": {},
   "outputs": [
    {
     "data": {
      "text/plain": [
       "index                                 int64\n",
       "truck_id                              int64\n",
       "truck_age                             int64\n",
       "load_capacity_pounds                float64\n",
       "mileage_mpg                           int64\n",
       "fuel_type                            object\n",
       "event_date              datetime64[us, UTC]\n",
       "dtype: object"
      ]
     },
     "execution_count": 353,
     "metadata": {},
     "output_type": "execute_result"
    }
   ],
   "source": [
    "trucks_df.dtypes"
   ]
  },
  {
   "cell_type": "code",
   "execution_count": 354,
   "metadata": {},
   "outputs": [],
   "source": [
    "trucks_df.rename(columns={'index': 'unique_id'}, inplace=True)\n"
   ]
  },
  {
   "cell_type": "code",
   "execution_count": 355,
   "metadata": {},
   "outputs": [],
   "source": [
    "\n",
    "# Dropping the event_time feature\n",
    "trucks_df.drop(columns=['event_date'], inplace=True)"
   ]
  },
  {
   "cell_type": "code",
   "execution_count": 356,
   "metadata": {},
   "outputs": [],
   "source": [
    "trucks_df = trucks_df.drop_duplicates(subset=['truck_id'], inplace = True)\n"
   ]
  },
  {
   "cell_type": "code",
   "execution_count": null,
   "metadata": {},
   "outputs": [],
   "source": []
  },
  {
   "cell_type": "markdown",
   "metadata": {},
   "source": [
    "truck_schedule_df"
   ]
  },
  {
   "cell_type": "code",
   "execution_count": 358,
   "metadata": {},
   "outputs": [
    {
     "name": "stdout",
     "output_type": "stream",
     "text": [
      "Finished: Reading data from Hopsworks, using Hopsworks Feature Query Service (0.99s) \n",
      "   truck_id    route_id            departure_date         estimated_arrival  \\\n",
      "0  28450066  R-99eda67a 2019-01-01 07:00:00+00:00 2019-01-03 09:52:48+00:00   \n",
      "1  21928760  R-266863d8 2019-01-19 07:00:00+00:00 2019-01-19 08:57:36+00:00   \n",
      "2  32668232  R-57a9c391 2019-01-04 07:00:00+00:00 2019-01-04 22:54:36+00:00   \n",
      "3  32984940  R-e1ff1b1c 2019-01-16 07:00:00+00:00 2019-01-16 18:21:36+00:00   \n",
      "4  27715877  R-9dd9fa45 2019-01-01 07:00:00+00:00 2019-01-06 05:48:36+00:00   \n",
      "\n",
      "   delay                event_date  index  \n",
      "0      0 2024-10-04 00:00:00+00:00  10749  \n",
      "1      0 2024-10-04 00:00:00+00:00   4049  \n",
      "2      1 2024-10-04 00:00:00+00:00   1151  \n",
      "3      0 2024-10-04 00:00:00+00:00   3506  \n",
      "4      0 2024-10-04 00:00:00+00:00  11665  \n"
     ]
    }
   ],
   "source": [
    "# Fetch data from the truck_schedule feature group\n",
    "truck_schedule_fg = fs.get_feature_group('truck_schedule', version=1)\n",
    "truck_schedule_query = truck_schedule_fg.select_all()\n",
    "truck_schedule_df = truck_schedule_query.read()\n",
    "\n",
    "# Display the DataFrame\n",
    "print(truck_schedule_df.head())\n"
   ]
  },
  {
   "cell_type": "code",
   "execution_count": 359,
   "metadata": {},
   "outputs": [
    {
     "data": {
      "text/plain": [
       "truck_id                           int64\n",
       "route_id                          object\n",
       "departure_date       datetime64[us, UTC]\n",
       "estimated_arrival    datetime64[us, UTC]\n",
       "delay                              int64\n",
       "event_date           datetime64[us, UTC]\n",
       "index                              int64\n",
       "dtype: object"
      ]
     },
     "execution_count": 359,
     "metadata": {},
     "output_type": "execute_result"
    }
   ],
   "source": [
    "truck_schedule_df.dtypes"
   ]
  },
  {
   "cell_type": "code",
   "execution_count": 360,
   "metadata": {},
   "outputs": [],
   "source": [
    "truck_schedule_df.rename(columns={'index': 'unique_id'}, inplace=True)\n"
   ]
  },
  {
   "cell_type": "code",
   "execution_count": 361,
   "metadata": {},
   "outputs": [],
   "source": [
    "\n",
    "# Dropping the event_time feature\n",
    "truck_schedule_df.drop(columns=['event_date'], inplace=True)"
   ]
  },
  {
   "cell_type": "code",
   "execution_count": 362,
   "metadata": {},
   "outputs": [],
   "source": [
    "\n",
    "truck_schedule_df = truck_schedule_df.drop_duplicates(subset=['truck_id', 'route_id', 'departure_date'])"
   ]
  },
  {
   "cell_type": "code",
   "execution_count": 363,
   "metadata": {},
   "outputs": [
    {
     "data": {
      "text/plain": [
       "truck_id                           int64\n",
       "route_id                          object\n",
       "departure_date       datetime64[us, UTC]\n",
       "estimated_arrival    datetime64[us, UTC]\n",
       "delay                              int64\n",
       "unique_id                          int64\n",
       "dtype: object"
      ]
     },
     "execution_count": 363,
     "metadata": {},
     "output_type": "execute_result"
    }
   ],
   "source": [
    "truck_schedule_df.dtypes"
   ]
  },
  {
   "cell_type": "code",
   "execution_count": 364,
   "metadata": {},
   "outputs": [
    {
     "data": {
      "text/plain": [
       "(12308, 6)"
      ]
     },
     "execution_count": 364,
     "metadata": {},
     "output_type": "execute_result"
    }
   ],
   "source": [
    "truck_schedule_df.shape"
   ]
  },
  {
   "cell_type": "code",
   "execution_count": null,
   "metadata": {},
   "outputs": [],
   "source": []
  },
  {
   "cell_type": "code",
   "execution_count": null,
   "metadata": {},
   "outputs": [],
   "source": []
  },
  {
   "cell_type": "code",
   "execution_count": null,
   "metadata": {},
   "outputs": [],
   "source": []
  },
  {
   "cell_type": "markdown",
   "metadata": {},
   "source": [
    "Feature Engineering for Scheduled Data"
   ]
  },
  {
   "cell_type": "markdown",
   "metadata": {},
   "source": [
    "1. Merge route_weather_df with truck_schedule_df: "
   ]
  },
  {
   "cell_type": "code",
   "execution_count": 380,
   "metadata": {},
   "outputs": [],
   "source": [
    "merged_schedule = truck_schedule_df.merge(routes_weather_df, on='route_id', how='left')\n"
   ]
  },
  {
   "cell_type": "markdown",
   "metadata": {},
   "source": [
    "2. Create estimated_arrival and departure_date Columns:"
   ]
  },
  {
   "cell_type": "code",
   "execution_count": 381,
   "metadata": {},
   "outputs": [],
   "source": [
    "merged_schedule['estimated_arrival'] = merged_schedule['estimated_arrival'].dt.ceil(\"6H\")\n",
    "merged_schedule['departure_date'] = merged_schedule['departure_date'].dt.floor(\"6H\")\n"
   ]
  },
  {
   "cell_type": "markdown",
   "metadata": {},
   "source": [
    "3. Generate Date Ranges:"
   ]
  },
  {
   "cell_type": "code",
   "execution_count": 384,
   "metadata": {},
   "outputs": [],
   "source": [
    "merged_schedule['date'] = [pd.date_range(start, end, freq='6H') for start, end in zip(merged_schedule['departure_date'], merged_schedule['estimated_arrival'])]\n",
    "merged_schedule = merged_schedule.explode('date', ignore_index=True)\n"
   ]
  },
  {
   "cell_type": "code",
   "execution_count": 385,
   "metadata": {},
   "outputs": [
    {
     "data": {
      "text/html": [
       "<div>\n",
       "<style scoped>\n",
       "    .dataframe tbody tr th:only-of-type {\n",
       "        vertical-align: middle;\n",
       "    }\n",
       "\n",
       "    .dataframe tbody tr th {\n",
       "        vertical-align: top;\n",
       "    }\n",
       "\n",
       "    .dataframe thead th {\n",
       "        text-align: right;\n",
       "    }\n",
       "</style>\n",
       "<table border=\"1\" class=\"dataframe\">\n",
       "  <thead>\n",
       "    <tr style=\"text-align: right;\">\n",
       "      <th></th>\n",
       "      <th>truck_id</th>\n",
       "      <th>route_id</th>\n",
       "      <th>departure_date</th>\n",
       "      <th>estimated_arrival</th>\n",
       "      <th>delay</th>\n",
       "      <th>unique_id_x</th>\n",
       "      <th>unique_id_y</th>\n",
       "      <th>date</th>\n",
       "      <th>temp</th>\n",
       "      <th>wind_speed</th>\n",
       "      <th>description</th>\n",
       "      <th>precip</th>\n",
       "      <th>humidity</th>\n",
       "      <th>visibility</th>\n",
       "      <th>pressure</th>\n",
       "    </tr>\n",
       "  </thead>\n",
       "  <tbody>\n",
       "    <tr>\n",
       "      <th>0</th>\n",
       "      <td>28450066</td>\n",
       "      <td>R-99eda67a</td>\n",
       "      <td>2019-01-01 06:00:00+00:00</td>\n",
       "      <td>2019-01-03 12:00:00+00:00</td>\n",
       "      <td>0</td>\n",
       "      <td>10749</td>\n",
       "      <td>318345</td>\n",
       "      <td>2019-01-01 06:00:00+00:00</td>\n",
       "      <td>54</td>\n",
       "      <td>9</td>\n",
       "      <td>Overcast</td>\n",
       "      <td>0.0</td>\n",
       "      <td>77</td>\n",
       "      <td>6</td>\n",
       "      <td>1026</td>\n",
       "    </tr>\n",
       "    <tr>\n",
       "      <th>1</th>\n",
       "      <td>28450066</td>\n",
       "      <td>R-99eda67a</td>\n",
       "      <td>2019-01-01 06:00:00+00:00</td>\n",
       "      <td>2019-01-03 12:00:00+00:00</td>\n",
       "      <td>0</td>\n",
       "      <td>10749</td>\n",
       "      <td>318345</td>\n",
       "      <td>2019-01-01 12:00:00+00:00</td>\n",
       "      <td>54</td>\n",
       "      <td>9</td>\n",
       "      <td>Overcast</td>\n",
       "      <td>0.0</td>\n",
       "      <td>77</td>\n",
       "      <td>6</td>\n",
       "      <td>1026</td>\n",
       "    </tr>\n",
       "    <tr>\n",
       "      <th>2</th>\n",
       "      <td>28450066</td>\n",
       "      <td>R-99eda67a</td>\n",
       "      <td>2019-01-01 06:00:00+00:00</td>\n",
       "      <td>2019-01-03 12:00:00+00:00</td>\n",
       "      <td>0</td>\n",
       "      <td>10749</td>\n",
       "      <td>318345</td>\n",
       "      <td>2019-01-01 18:00:00+00:00</td>\n",
       "      <td>54</td>\n",
       "      <td>9</td>\n",
       "      <td>Overcast</td>\n",
       "      <td>0.0</td>\n",
       "      <td>77</td>\n",
       "      <td>6</td>\n",
       "      <td>1026</td>\n",
       "    </tr>\n",
       "    <tr>\n",
       "      <th>3</th>\n",
       "      <td>28450066</td>\n",
       "      <td>R-99eda67a</td>\n",
       "      <td>2019-01-01 06:00:00+00:00</td>\n",
       "      <td>2019-01-03 12:00:00+00:00</td>\n",
       "      <td>0</td>\n",
       "      <td>10749</td>\n",
       "      <td>318345</td>\n",
       "      <td>2019-01-02 00:00:00+00:00</td>\n",
       "      <td>54</td>\n",
       "      <td>9</td>\n",
       "      <td>Overcast</td>\n",
       "      <td>0.0</td>\n",
       "      <td>77</td>\n",
       "      <td>6</td>\n",
       "      <td>1026</td>\n",
       "    </tr>\n",
       "    <tr>\n",
       "      <th>4</th>\n",
       "      <td>28450066</td>\n",
       "      <td>R-99eda67a</td>\n",
       "      <td>2019-01-01 06:00:00+00:00</td>\n",
       "      <td>2019-01-03 12:00:00+00:00</td>\n",
       "      <td>0</td>\n",
       "      <td>10749</td>\n",
       "      <td>318345</td>\n",
       "      <td>2019-01-02 06:00:00+00:00</td>\n",
       "      <td>54</td>\n",
       "      <td>9</td>\n",
       "      <td>Overcast</td>\n",
       "      <td>0.0</td>\n",
       "      <td>77</td>\n",
       "      <td>6</td>\n",
       "      <td>1026</td>\n",
       "    </tr>\n",
       "  </tbody>\n",
       "</table>\n",
       "</div>"
      ],
      "text/plain": [
       "   truck_id    route_id            departure_date         estimated_arrival  \\\n",
       "0  28450066  R-99eda67a 2019-01-01 06:00:00+00:00 2019-01-03 12:00:00+00:00   \n",
       "1  28450066  R-99eda67a 2019-01-01 06:00:00+00:00 2019-01-03 12:00:00+00:00   \n",
       "2  28450066  R-99eda67a 2019-01-01 06:00:00+00:00 2019-01-03 12:00:00+00:00   \n",
       "3  28450066  R-99eda67a 2019-01-01 06:00:00+00:00 2019-01-03 12:00:00+00:00   \n",
       "4  28450066  R-99eda67a 2019-01-01 06:00:00+00:00 2019-01-03 12:00:00+00:00   \n",
       "\n",
       "   delay  unique_id_x  unique_id_y                      date  temp  \\\n",
       "0      0        10749       318345 2019-01-01 06:00:00+00:00    54   \n",
       "1      0        10749       318345 2019-01-01 12:00:00+00:00    54   \n",
       "2      0        10749       318345 2019-01-01 18:00:00+00:00    54   \n",
       "3      0        10749       318345 2019-01-02 00:00:00+00:00    54   \n",
       "4      0        10749       318345 2019-01-02 06:00:00+00:00    54   \n",
       "\n",
       "   wind_speed description  precip  humidity  visibility  pressure  \n",
       "0           9    Overcast     0.0        77           6      1026  \n",
       "1           9    Overcast     0.0        77           6      1026  \n",
       "2           9    Overcast     0.0        77           6      1026  \n",
       "3           9    Overcast     0.0        77           6      1026  \n",
       "4           9    Overcast     0.0        77           6      1026  "
      ]
     },
     "execution_count": 385,
     "metadata": {},
     "output_type": "execute_result"
    }
   ],
   "source": [
    "merged_schedule.head(5)"
   ]
  },
  {
   "cell_type": "markdown",
   "metadata": {},
   "source": [
    "4. Merge with route_weather:"
   ]
  },
  {
   "cell_type": "code",
   "execution_count": 386,
   "metadata": {},
   "outputs": [
    {
     "data": {
      "text/plain": [
       "truck_id                           int64\n",
       "route_id                          object\n",
       "departure_date       datetime64[us, UTC]\n",
       "estimated_arrival    datetime64[us, UTC]\n",
       "delay                              int64\n",
       "unique_id_x                        int64\n",
       "unique_id_y                        int64\n",
       "date                 datetime64[ns, UTC]\n",
       "temp                               int64\n",
       "wind_speed                         int64\n",
       "description                       object\n",
       "precip                           float64\n",
       "humidity                           int64\n",
       "visibility                         int64\n",
       "pressure                           int64\n",
       "dtype: object"
      ]
     },
     "execution_count": 386,
     "metadata": {},
     "output_type": "execute_result"
    }
   ],
   "source": [
    "merged_schedule.dtypes"
   ]
  },
  {
   "cell_type": "code",
   "execution_count": 387,
   "metadata": {},
   "outputs": [
    {
     "data": {
      "text/plain": [
       "unique_id               int64\n",
       "route_id               object\n",
       "date           datetime64[ns]\n",
       "temp                    int64\n",
       "wind_speed              int64\n",
       "description            object\n",
       "precip                float64\n",
       "humidity                int64\n",
       "visibility              int64\n",
       "pressure                int64\n",
       "dtype: object"
      ]
     },
     "execution_count": 387,
     "metadata": {},
     "output_type": "execute_result"
    }
   ],
   "source": [
    "routes_weather_df.dtypes"
   ]
  },
  {
   "cell_type": "code",
   "execution_count": 390,
   "metadata": {},
   "outputs": [
    {
     "name": "stdout",
     "output_type": "stream",
     "text": [
      "unique_id                    int64\n",
      "route_id                    object\n",
      "date           datetime64[ns, UTC]\n",
      "temp                         int64\n",
      "wind_speed                   int64\n",
      "description                 object\n",
      "precip                     float64\n",
      "humidity                     int64\n",
      "visibility                   int64\n",
      "pressure                     int64\n",
      "dtype: object\n"
     ]
    }
   ],
   "source": [
    "# Convert the 'date' column to datetime with UTC format and the correct precision\n",
    "routes_weather_df['date'] = pd.to_datetime(routes_weather_df['date'], utc=True).dt.tz_convert('UTC')\n",
    "\n",
    "# Check the updated data types\n",
    "print(routes_weather_df.dtypes)"
   ]
  },
  {
   "cell_type": "code",
   "execution_count": 391,
   "metadata": {},
   "outputs": [
    {
     "data": {
      "text/plain": [
       "unique_id                    int64\n",
       "route_id                    object\n",
       "date           datetime64[ns, UTC]\n",
       "temp                         int64\n",
       "wind_speed                   int64\n",
       "description                 object\n",
       "precip                     float64\n",
       "humidity                     int64\n",
       "visibility                   int64\n",
       "pressure                     int64\n",
       "dtype: object"
      ]
     },
     "execution_count": 391,
     "metadata": {},
     "output_type": "execute_result"
    }
   ],
   "source": [
    "routes_weather_df.dtypes"
   ]
  },
  {
   "cell_type": "code",
   "execution_count": 376,
   "metadata": {},
   "outputs": [],
   "source": [
    "# Convert the 'date' column in merged_schedule to naive datetime\n",
    "#merged_schedule['date'] = merged_schedule['date'].dt.tz_localize(None)\n"
   ]
  },
  {
   "cell_type": "code",
   "execution_count": 392,
   "metadata": {},
   "outputs": [
    {
     "data": {
      "text/plain": [
       "truck_id                           int64\n",
       "route_id                          object\n",
       "departure_date       datetime64[us, UTC]\n",
       "estimated_arrival    datetime64[us, UTC]\n",
       "delay                              int64\n",
       "unique_id_x                        int64\n",
       "unique_id_y                        int64\n",
       "date                 datetime64[ns, UTC]\n",
       "temp                               int64\n",
       "wind_speed                         int64\n",
       "description                       object\n",
       "precip                           float64\n",
       "humidity                           int64\n",
       "visibility                         int64\n",
       "pressure                           int64\n",
       "dtype: object"
      ]
     },
     "execution_count": 392,
     "metadata": {},
     "output_type": "execute_result"
    }
   ],
   "source": [
    "merged_schedule.dtypes"
   ]
  },
  {
   "cell_type": "markdown",
   "metadata": {},
   "source": [
    "4. Merge with route_weather:"
   ]
  },
  {
   "cell_type": "code",
   "execution_count": 393,
   "metadata": {},
   "outputs": [],
   "source": [
    "scheduled_weather = merged_schedule.merge(routes_weather_df, on=['route_id', 'date'], how='left')\n"
   ]
  },
  {
   "cell_type": "markdown",
   "metadata": {},
   "source": [
    "5. Define Custom Function for Mode Calculation:"
   ]
  },
  {
   "cell_type": "code",
   "execution_count": 394,
   "metadata": {},
   "outputs": [],
   "source": [
    "def custom_mode(x):\n",
    "    return x.mode().iloc[0] if not x.mode().empty else None\n"
   ]
  },
  {
   "cell_type": "markdown",
   "metadata": {},
   "source": [
    "6. Group by and Aggregate:"
   ]
  },
  {
   "cell_type": "code",
   "execution_count": 161,
   "metadata": {},
   "outputs": [
    {
     "data": {
      "text/plain": [
       "\"\\nschedule_weather_grp = scheduled_weather.groupby(\\n    ['unique_id', 'truck_id', 'route_id'], as_index=False\\n).agg(\\n    route_avg_temp=('temp', 'mean'),\\n    route_avg_wind_speed=('wind_speed', 'mean'),\\n    route_avg_precip=('precip', 'mean'),\\n    route_avg_humidity=('humidity', 'mean'),\\n    route_avg_visibility=('visibility', 'mean'),\\n    route_avg_pressure=('pressure', 'mean'),\\n    route_description=('description', custom_mode)\\n)\\n# if you get an error proceed to next steps a and b or else ignore\\n\\n\""
      ]
     },
     "execution_count": 161,
     "metadata": {},
     "output_type": "execute_result"
    }
   ],
   "source": [
    "'''\n",
    "schedule_weather_grp = scheduled_weather.groupby(\n",
    "    ['unique_id', 'truck_id', 'route_id'], as_index=False\n",
    ").agg(\n",
    "    route_avg_temp=('temp', 'mean'),\n",
    "    route_avg_wind_speed=('wind_speed', 'mean'),\n",
    "    route_avg_precip=('precip', 'mean'),\n",
    "    route_avg_humidity=('humidity', 'mean'),\n",
    "    route_avg_visibility=('visibility', 'mean'),\n",
    "    route_avg_pressure=('pressure', 'mean'),\n",
    "    route_description=('description', custom_mode)\n",
    ")\n",
    "# if you get an error proceed to next steps a and b or else ignore\n",
    "\n",
    "'''"
   ]
  },
  {
   "cell_type": "code",
   "execution_count": 395,
   "metadata": {},
   "outputs": [
    {
     "name": "stdout",
     "output_type": "stream",
     "text": [
      "Index(['truck_id', 'route_id', 'departure_date', 'estimated_arrival', 'delay',\n",
      "       'unique_id_x', 'unique_id_y', 'date', 'temp_x', 'wind_speed_x',\n",
      "       'description_x', 'precip_x', 'humidity_x', 'visibility_x', 'pressure_x',\n",
      "       'unique_id', 'temp_y', 'wind_speed_y', 'description_y', 'precip_y',\n",
      "       'humidity_y', 'visibility_y', 'pressure_y'],\n",
      "      dtype='object')\n"
     ]
    }
   ],
   "source": [
    "# a\n",
    "print(scheduled_weather.columns)\n"
   ]
  },
  {
   "cell_type": "code",
   "execution_count": 163,
   "metadata": {},
   "outputs": [
    {
     "data": {
      "text/plain": [
       "\"\\n\\n# b\\n# Rename the columns to remove suffixes\\nscheduled_weather.rename(columns={\\n    'temp_x': 'temp',\\n    'wind_speed_x': 'wind_speed',\\n    'humidity_x': 'humidity',\\n    'visibility_x': 'visibility',\\n    'pressure_x': 'pressure',\\n    'precip_x': 'precip',\\n    'description_x': 'description',\\n    'temp_y': 'temp',  # if you want to keep one, you can choose\\n    'wind_speed_y': 'wind_speed',\\n    'humidity_y': 'humidity',\\n    'visibility_y': 'visibility',\\n    'pressure_y': 'pressure',\\n    'precip_y': 'precip',\\n    'description_y': 'description',\\n}, inplace=True)\\n\\n\""
      ]
     },
     "execution_count": 163,
     "metadata": {},
     "output_type": "execute_result"
    }
   ],
   "source": [
    "\"\"\"\n",
    "\n",
    "# b\n",
    "# Rename the columns to remove suffixes\n",
    "scheduled_weather.rename(columns={\n",
    "    'temp_x': 'temp',\n",
    "    'wind_speed_x': 'wind_speed',\n",
    "    'humidity_x': 'humidity',\n",
    "    'visibility_x': 'visibility',\n",
    "    'pressure_x': 'pressure',\n",
    "    'precip_x': 'precip',\n",
    "    'description_x': 'description',\n",
    "    'temp_y': 'temp',  # if you want to keep one, you can choose\n",
    "    'wind_speed_y': 'wind_speed',\n",
    "    'humidity_y': 'humidity',\n",
    "    'visibility_y': 'visibility',\n",
    "    'pressure_y': 'pressure',\n",
    "    'precip_y': 'precip',\n",
    "    'description_y': 'description',\n",
    "}, inplace=True)\n",
    "\n",
    "\"\"\""
   ]
  },
  {
   "cell_type": "code",
   "execution_count": 396,
   "metadata": {},
   "outputs": [
    {
     "name": "stdout",
     "output_type": "stream",
     "text": [
      "Index(['truck_id', 'route_id', 'departure_date', 'estimated_arrival', 'delay',\n",
      "       'unique_id_x', 'unique_id_y', 'date', 'temp_x', 'wind_speed_x',\n",
      "       'description_x', 'precip_x', 'humidity_x', 'visibility_x', 'pressure_x',\n",
      "       'unique_id', 'temp_y', 'wind_speed_y', 'description_y', 'precip_y',\n",
      "       'humidity_y', 'visibility_y', 'pressure_y'],\n",
      "      dtype='object')\n"
     ]
    }
   ],
   "source": [
    "print(scheduled_weather.columns)\n"
   ]
  },
  {
   "cell_type": "code",
   "execution_count": 397,
   "metadata": {},
   "outputs": [
    {
     "name": "stdout",
     "output_type": "stream",
     "text": [
      "truck_id             1\n",
      "humidity_x           1\n",
      "visibility_y         1\n",
      "humidity_y           1\n",
      "precip_y             1\n",
      "description_y        1\n",
      "wind_speed_y         1\n",
      "temp_y               1\n",
      "unique_id            1\n",
      "pressure_x           1\n",
      "visibility_x         1\n",
      "precip_x             1\n",
      "route_id             1\n",
      "description_x        1\n",
      "wind_speed_x         1\n",
      "temp_x               1\n",
      "date                 1\n",
      "unique_id_y          1\n",
      "unique_id_x          1\n",
      "delay                1\n",
      "estimated_arrival    1\n",
      "departure_date       1\n",
      "pressure_y           1\n",
      "Name: count, dtype: int64\n"
     ]
    }
   ],
   "source": [
    "print(scheduled_weather.columns.value_counts())\n"
   ]
  },
  {
   "cell_type": "code",
   "execution_count": 398,
   "metadata": {},
   "outputs": [
    {
     "name": "stdout",
     "output_type": "stream",
     "text": [
      "Index(['truck_id', 'route_id', 'departure_date', 'estimated_arrival', 'delay',\n",
      "       'unique_id_x', 'unique_id_y', 'date', 'temp_x', 'wind_speed_x',\n",
      "       'description_x', 'precip_x', 'humidity_x', 'visibility_x', 'pressure_x',\n",
      "       'unique_id', 'temp_y', 'wind_speed_y', 'description_y', 'precip_y',\n",
      "       'humidity_y', 'visibility_y', 'pressure_y'],\n",
      "      dtype='object')\n"
     ]
    }
   ],
   "source": [
    "print(scheduled_weather.columns)\n"
   ]
  },
  {
   "cell_type": "code",
   "execution_count": 167,
   "metadata": {},
   "outputs": [],
   "source": [
    "#Example for combining temperature and wind speed columns (_x and _y)\n",
    "scheduled_weather['temp'] = scheduled_weather['temp_x'].fillna(scheduled_weather['temp_y'])\n",
    "scheduled_weather['wind_speed'] = scheduled_weather['wind_speed_x'].fillna(scheduled_weather['wind_speed_y'])\n",
    "\n",
    "# Do the same for other features (humidity, visibility, etc.)\n",
    "scheduled_weather['humidity'] = scheduled_weather['humidity_x'].fillna(scheduled_weather['humidity_y'])\n",
    "scheduled_weather['visibility'] = scheduled_weather['visibility_x'].fillna(scheduled_weather['visibility_y'])\n",
    "scheduled_weather['precip'] = scheduled_weather['precip_x'].fillna(scheduled_weather['precip_y'])\n",
    "scheduled_weather['pressure'] = scheduled_weather['pressure_x'].fillna(scheduled_weather['pressure_y'])\n",
    "scheduled_weather['description'] = scheduled_weather['description_x'].fillna(scheduled_weather['description_y'])\n"
   ]
  },
  {
   "cell_type": "code",
   "execution_count": 168,
   "metadata": {},
   "outputs": [],
   "source": [
    "# Now drop the original '_x' and '_y' columns\n",
    "scheduled_weather = scheduled_weather.drop(columns=[\n",
    "    'temp_x', 'temp_y',\n",
    "    'wind_speed_x', 'wind_speed_y',\n",
    "    'description_x', 'description_y',\n",
    "    'precip_x', 'precip_y',\n",
    "    'humidity_x', 'humidity_y',\n",
    "    'visibility_x', 'visibility_y',\n",
    "    'pressure_x', 'pressure_y'\n",
    "])"
   ]
  },
  {
   "cell_type": "code",
   "execution_count": 169,
   "metadata": {},
   "outputs": [
    {
     "name": "stdout",
     "output_type": "stream",
     "text": [
      "Index(['truck_id', 'route_id', 'departure_date', 'estimated_arrival', 'delay',\n",
      "       'unique_id_x', 'unique_id_y', 'custom_date_x', 'date', 'hour_x',\n",
      "       'unique_id', 'custom_date_y', 'hour_y', 'temp', 'wind_speed',\n",
      "       'humidity', 'visibility', 'precip', 'pressure', 'description'],\n",
      "      dtype='object')\n"
     ]
    }
   ],
   "source": [
    "print(scheduled_weather.columns)\n"
   ]
  },
  {
   "cell_type": "code",
   "execution_count": 170,
   "metadata": {},
   "outputs": [
    {
     "name": "stdout",
     "output_type": "stream",
     "text": [
      "truck_id             1\n",
      "route_id             1\n",
      "pressure             1\n",
      "precip               1\n",
      "visibility           1\n",
      "humidity             1\n",
      "wind_speed           1\n",
      "temp                 1\n",
      "hour_y               1\n",
      "custom_date_y        1\n",
      "unique_id            1\n",
      "hour_x               1\n",
      "date                 1\n",
      "custom_date_x        1\n",
      "unique_id_y          1\n",
      "unique_id_x          1\n",
      "delay                1\n",
      "estimated_arrival    1\n",
      "departure_date       1\n",
      "description          1\n",
      "Name: count, dtype: int64\n"
     ]
    }
   ],
   "source": [
    "print(scheduled_weather.columns.value_counts())\n"
   ]
  },
  {
   "cell_type": "code",
   "execution_count": 171,
   "metadata": {},
   "outputs": [],
   "source": [
    "\n",
    "# Now perform the aggregation\n",
    "schedule_weather_grp = scheduled_weather.groupby(\n",
    "    ['unique_id', 'truck_id', 'route_id'], as_index=False\n",
    ").agg(\n",
    "    route_avg_temp=('temp', 'mean'),\n",
    "    route_avg_wind_speed=('wind_speed', 'mean'),\n",
    "    route_avg_precip=('precip', 'mean'),\n",
    "    route_avg_humidity=('humidity', 'mean'),\n",
    "    route_avg_visibility=('visibility', 'mean'),\n",
    "    route_avg_pressure=('pressure', 'mean'),\n",
    "    route_description=('description', custom_mode)  # Ensure custom_mode is defined\n",
    ")\n"
   ]
  },
  {
   "cell_type": "markdown",
   "metadata": {},
   "source": [
    "7. Merge with truck_schedule_df:"
   ]
  },
  {
   "cell_type": "code",
   "execution_count": 172,
   "metadata": {},
   "outputs": [],
   "source": [
    "schedule_weather_merge = truck_schedule_df.merge(schedule_weather_grp, on=['unique_id', 'truck_id', 'route_id'], how='left')\n"
   ]
  },
  {
   "cell_type": "markdown",
   "metadata": {},
   "source": [
    "8. Find Origin and Destination City Weather:"
   ]
  },
  {
   "cell_type": "code",
   "execution_count": 173,
   "metadata": {},
   "outputs": [],
   "source": [
    "# Assuming 'routes_df' contains the origin and destination city IDs.\n",
    "nearest_hour_schedule_df = schedule_weather_merge.copy()\n",
    "nearest_hour_schedule_df['estimated_arrival_nearest_hour'] = nearest_hour_schedule_df['estimated_arrival'].dt.round(\"H\")\n",
    "nearest_hour_schedule_df['departure_date_nearest_hour'] = nearest_hour_schedule_df['departure_date'].dt.round(\"H\")\n",
    "\n",
    "nearest_hour_schedule_route_df = pd.merge(nearest_hour_schedule_df, routes_df, on='route_id', how='left')\n"
   ]
  },
  {
   "cell_type": "code",
   "execution_count": 174,
   "metadata": {},
   "outputs": [
    {
     "data": {
      "text/html": [
       "<div>\n",
       "<style scoped>\n",
       "    .dataframe tbody tr th:only-of-type {\n",
       "        vertical-align: middle;\n",
       "    }\n",
       "\n",
       "    .dataframe tbody tr th {\n",
       "        vertical-align: top;\n",
       "    }\n",
       "\n",
       "    .dataframe thead th {\n",
       "        text-align: right;\n",
       "    }\n",
       "</style>\n",
       "<table border=\"1\" class=\"dataframe\">\n",
       "  <thead>\n",
       "    <tr style=\"text-align: right;\">\n",
       "      <th></th>\n",
       "      <th>truck_id</th>\n",
       "      <th>route_id</th>\n",
       "      <th>departure_date</th>\n",
       "      <th>estimated_arrival</th>\n",
       "      <th>delay</th>\n",
       "      <th>unique_id_x</th>\n",
       "      <th>route_avg_temp</th>\n",
       "      <th>route_avg_wind_speed</th>\n",
       "      <th>route_avg_precip</th>\n",
       "      <th>route_avg_humidity</th>\n",
       "      <th>route_avg_visibility</th>\n",
       "      <th>route_avg_pressure</th>\n",
       "      <th>route_description</th>\n",
       "      <th>estimated_arrival_nearest_hour</th>\n",
       "      <th>departure_date_nearest_hour</th>\n",
       "      <th>unique_id_y</th>\n",
       "      <th>origin_id</th>\n",
       "      <th>destination_id</th>\n",
       "      <th>distance</th>\n",
       "      <th>average_hours</th>\n",
       "    </tr>\n",
       "  </thead>\n",
       "  <tbody>\n",
       "    <tr>\n",
       "      <th>0</th>\n",
       "      <td>28450066</td>\n",
       "      <td>R-99eda67a</td>\n",
       "      <td>2019-01-01 07:00:00+00:00</td>\n",
       "      <td>2019-01-03 09:52:48+00:00</td>\n",
       "      <td>0</td>\n",
       "      <td>10749</td>\n",
       "      <td>NaN</td>\n",
       "      <td>NaN</td>\n",
       "      <td>NaN</td>\n",
       "      <td>NaN</td>\n",
       "      <td>NaN</td>\n",
       "      <td>NaN</td>\n",
       "      <td>NaN</td>\n",
       "      <td>2019-01-03 10:00:00+00:00</td>\n",
       "      <td>2019-01-01 07:00:00+00:00</td>\n",
       "      <td>360</td>\n",
       "      <td>C-731988ba</td>\n",
       "      <td>C-6df8beaf</td>\n",
       "      <td>2544.15</td>\n",
       "      <td>50.88</td>\n",
       "    </tr>\n",
       "    <tr>\n",
       "      <th>1</th>\n",
       "      <td>21928760</td>\n",
       "      <td>R-266863d8</td>\n",
       "      <td>2019-01-19 07:00:00+00:00</td>\n",
       "      <td>2019-01-19 08:57:36+00:00</td>\n",
       "      <td>0</td>\n",
       "      <td>4049</td>\n",
       "      <td>NaN</td>\n",
       "      <td>NaN</td>\n",
       "      <td>NaN</td>\n",
       "      <td>NaN</td>\n",
       "      <td>NaN</td>\n",
       "      <td>NaN</td>\n",
       "      <td>NaN</td>\n",
       "      <td>2019-01-19 09:00:00+00:00</td>\n",
       "      <td>2019-01-19 07:00:00+00:00</td>\n",
       "      <td>786</td>\n",
       "      <td>C-e5bfb4e5</td>\n",
       "      <td>C-7212cebe</td>\n",
       "      <td>97.81</td>\n",
       "      <td>1.96</td>\n",
       "    </tr>\n",
       "    <tr>\n",
       "      <th>2</th>\n",
       "      <td>32668232</td>\n",
       "      <td>R-57a9c391</td>\n",
       "      <td>2019-01-04 07:00:00+00:00</td>\n",
       "      <td>2019-01-04 22:54:36+00:00</td>\n",
       "      <td>1</td>\n",
       "      <td>1151</td>\n",
       "      <td>NaN</td>\n",
       "      <td>NaN</td>\n",
       "      <td>NaN</td>\n",
       "      <td>NaN</td>\n",
       "      <td>NaN</td>\n",
       "      <td>NaN</td>\n",
       "      <td>NaN</td>\n",
       "      <td>2019-01-04 23:00:00+00:00</td>\n",
       "      <td>2019-01-04 07:00:00+00:00</td>\n",
       "      <td>2233</td>\n",
       "      <td>C-841ebdcb</td>\n",
       "      <td>C-6df8beaf</td>\n",
       "      <td>795.73</td>\n",
       "      <td>15.91</td>\n",
       "    </tr>\n",
       "    <tr>\n",
       "      <th>3</th>\n",
       "      <td>32984940</td>\n",
       "      <td>R-e1ff1b1c</td>\n",
       "      <td>2019-01-16 07:00:00+00:00</td>\n",
       "      <td>2019-01-16 18:21:36+00:00</td>\n",
       "      <td>0</td>\n",
       "      <td>3506</td>\n",
       "      <td>NaN</td>\n",
       "      <td>NaN</td>\n",
       "      <td>NaN</td>\n",
       "      <td>NaN</td>\n",
       "      <td>NaN</td>\n",
       "      <td>NaN</td>\n",
       "      <td>NaN</td>\n",
       "      <td>2019-01-16 18:00:00+00:00</td>\n",
       "      <td>2019-01-16 07:00:00+00:00</td>\n",
       "      <td>2030</td>\n",
       "      <td>C-90e30162</td>\n",
       "      <td>C-c4565ee8</td>\n",
       "      <td>567.91</td>\n",
       "      <td>11.36</td>\n",
       "    </tr>\n",
       "    <tr>\n",
       "      <th>4</th>\n",
       "      <td>27715877</td>\n",
       "      <td>R-9dd9fa45</td>\n",
       "      <td>2019-01-01 07:00:00+00:00</td>\n",
       "      <td>2019-01-06 05:48:36+00:00</td>\n",
       "      <td>0</td>\n",
       "      <td>11665</td>\n",
       "      <td>NaN</td>\n",
       "      <td>NaN</td>\n",
       "      <td>NaN</td>\n",
       "      <td>NaN</td>\n",
       "      <td>NaN</td>\n",
       "      <td>NaN</td>\n",
       "      <td>NaN</td>\n",
       "      <td>2019-01-06 06:00:00+00:00</td>\n",
       "      <td>2019-01-01 07:00:00+00:00</td>\n",
       "      <td>868</td>\n",
       "      <td>C-7212cebe</td>\n",
       "      <td>C-4fe0fa24</td>\n",
       "      <td>5940.44</td>\n",
       "      <td>118.81</td>\n",
       "    </tr>\n",
       "    <tr>\n",
       "      <th>...</th>\n",
       "      <td>...</td>\n",
       "      <td>...</td>\n",
       "      <td>...</td>\n",
       "      <td>...</td>\n",
       "      <td>...</td>\n",
       "      <td>...</td>\n",
       "      <td>...</td>\n",
       "      <td>...</td>\n",
       "      <td>...</td>\n",
       "      <td>...</td>\n",
       "      <td>...</td>\n",
       "      <td>...</td>\n",
       "      <td>...</td>\n",
       "      <td>...</td>\n",
       "      <td>...</td>\n",
       "      <td>...</td>\n",
       "      <td>...</td>\n",
       "      <td>...</td>\n",
       "      <td>...</td>\n",
       "      <td>...</td>\n",
       "    </tr>\n",
       "    <tr>\n",
       "      <th>12303</th>\n",
       "      <td>14223048</td>\n",
       "      <td>R-b10da1af</td>\n",
       "      <td>2019-01-01 07:00:00+00:00</td>\n",
       "      <td>2019-01-01 15:04:12+00:00</td>\n",
       "      <td>1</td>\n",
       "      <td>528</td>\n",
       "      <td>NaN</td>\n",
       "      <td>NaN</td>\n",
       "      <td>NaN</td>\n",
       "      <td>NaN</td>\n",
       "      <td>NaN</td>\n",
       "      <td>NaN</td>\n",
       "      <td>NaN</td>\n",
       "      <td>2019-01-01 15:00:00+00:00</td>\n",
       "      <td>2019-01-01 07:00:00+00:00</td>\n",
       "      <td>1175</td>\n",
       "      <td>C-6df8beaf</td>\n",
       "      <td>C-280b55fb</td>\n",
       "      <td>403.41</td>\n",
       "      <td>8.07</td>\n",
       "    </tr>\n",
       "    <tr>\n",
       "      <th>12304</th>\n",
       "      <td>29791384</td>\n",
       "      <td>R-c5868c95</td>\n",
       "      <td>2019-01-13 07:00:00+00:00</td>\n",
       "      <td>2019-01-13 19:15:36+00:00</td>\n",
       "      <td>0</td>\n",
       "      <td>2897</td>\n",
       "      <td>NaN</td>\n",
       "      <td>NaN</td>\n",
       "      <td>NaN</td>\n",
       "      <td>NaN</td>\n",
       "      <td>NaN</td>\n",
       "      <td>NaN</td>\n",
       "      <td>NaN</td>\n",
       "      <td>2019-01-13 19:00:00+00:00</td>\n",
       "      <td>2019-01-13 07:00:00+00:00</td>\n",
       "      <td>938</td>\n",
       "      <td>C-b6e04c88</td>\n",
       "      <td>C-b25a09de</td>\n",
       "      <td>612.99</td>\n",
       "      <td>12.26</td>\n",
       "    </tr>\n",
       "    <tr>\n",
       "      <th>12305</th>\n",
       "      <td>10366123</td>\n",
       "      <td>R-c5b19aa5</td>\n",
       "      <td>2019-01-19 07:00:00+00:00</td>\n",
       "      <td>2019-01-20 00:10:12+00:00</td>\n",
       "      <td>0</td>\n",
       "      <td>4023</td>\n",
       "      <td>NaN</td>\n",
       "      <td>NaN</td>\n",
       "      <td>NaN</td>\n",
       "      <td>NaN</td>\n",
       "      <td>NaN</td>\n",
       "      <td>NaN</td>\n",
       "      <td>NaN</td>\n",
       "      <td>2019-01-20 00:00:00+00:00</td>\n",
       "      <td>2019-01-19 07:00:00+00:00</td>\n",
       "      <td>748</td>\n",
       "      <td>C-ff8c0c3c</td>\n",
       "      <td>C-9bbf5d8a</td>\n",
       "      <td>858.38</td>\n",
       "      <td>17.17</td>\n",
       "    </tr>\n",
       "    <tr>\n",
       "      <th>12306</th>\n",
       "      <td>14541120</td>\n",
       "      <td>R-5beef1d0</td>\n",
       "      <td>2019-01-10 07:00:00+00:00</td>\n",
       "      <td>2019-01-10 15:45:36+00:00</td>\n",
       "      <td>0</td>\n",
       "      <td>1923</td>\n",
       "      <td>NaN</td>\n",
       "      <td>NaN</td>\n",
       "      <td>NaN</td>\n",
       "      <td>NaN</td>\n",
       "      <td>NaN</td>\n",
       "      <td>NaN</td>\n",
       "      <td>NaN</td>\n",
       "      <td>2019-01-10 16:00:00+00:00</td>\n",
       "      <td>2019-01-10 07:00:00+00:00</td>\n",
       "      <td>1419</td>\n",
       "      <td>C-40a81eb1</td>\n",
       "      <td>C-b25a09de</td>\n",
       "      <td>438.02</td>\n",
       "      <td>8.76</td>\n",
       "    </tr>\n",
       "    <tr>\n",
       "      <th>12307</th>\n",
       "      <td>23496275</td>\n",
       "      <td>R-b2e25936</td>\n",
       "      <td>2019-02-03 07:00:00+00:00</td>\n",
       "      <td>2019-02-04 03:07:48+00:00</td>\n",
       "      <td>0</td>\n",
       "      <td>6868</td>\n",
       "      <td>NaN</td>\n",
       "      <td>NaN</td>\n",
       "      <td>NaN</td>\n",
       "      <td>NaN</td>\n",
       "      <td>NaN</td>\n",
       "      <td>NaN</td>\n",
       "      <td>NaN</td>\n",
       "      <td>2019-02-04 03:00:00+00:00</td>\n",
       "      <td>2019-02-03 07:00:00+00:00</td>\n",
       "      <td>1433</td>\n",
       "      <td>C-40a81eb1</td>\n",
       "      <td>C-825b2625</td>\n",
       "      <td>1006.61</td>\n",
       "      <td>20.13</td>\n",
       "    </tr>\n",
       "  </tbody>\n",
       "</table>\n",
       "<p>12308 rows × 20 columns</p>\n",
       "</div>"
      ],
      "text/plain": [
       "       truck_id    route_id            departure_date  \\\n",
       "0      28450066  R-99eda67a 2019-01-01 07:00:00+00:00   \n",
       "1      21928760  R-266863d8 2019-01-19 07:00:00+00:00   \n",
       "2      32668232  R-57a9c391 2019-01-04 07:00:00+00:00   \n",
       "3      32984940  R-e1ff1b1c 2019-01-16 07:00:00+00:00   \n",
       "4      27715877  R-9dd9fa45 2019-01-01 07:00:00+00:00   \n",
       "...         ...         ...                       ...   \n",
       "12303  14223048  R-b10da1af 2019-01-01 07:00:00+00:00   \n",
       "12304  29791384  R-c5868c95 2019-01-13 07:00:00+00:00   \n",
       "12305  10366123  R-c5b19aa5 2019-01-19 07:00:00+00:00   \n",
       "12306  14541120  R-5beef1d0 2019-01-10 07:00:00+00:00   \n",
       "12307  23496275  R-b2e25936 2019-02-03 07:00:00+00:00   \n",
       "\n",
       "              estimated_arrival  delay  unique_id_x  route_avg_temp  \\\n",
       "0     2019-01-03 09:52:48+00:00      0        10749             NaN   \n",
       "1     2019-01-19 08:57:36+00:00      0         4049             NaN   \n",
       "2     2019-01-04 22:54:36+00:00      1         1151             NaN   \n",
       "3     2019-01-16 18:21:36+00:00      0         3506             NaN   \n",
       "4     2019-01-06 05:48:36+00:00      0        11665             NaN   \n",
       "...                         ...    ...          ...             ...   \n",
       "12303 2019-01-01 15:04:12+00:00      1          528             NaN   \n",
       "12304 2019-01-13 19:15:36+00:00      0         2897             NaN   \n",
       "12305 2019-01-20 00:10:12+00:00      0         4023             NaN   \n",
       "12306 2019-01-10 15:45:36+00:00      0         1923             NaN   \n",
       "12307 2019-02-04 03:07:48+00:00      0         6868             NaN   \n",
       "\n",
       "       route_avg_wind_speed  route_avg_precip  route_avg_humidity  \\\n",
       "0                       NaN               NaN                 NaN   \n",
       "1                       NaN               NaN                 NaN   \n",
       "2                       NaN               NaN                 NaN   \n",
       "3                       NaN               NaN                 NaN   \n",
       "4                       NaN               NaN                 NaN   \n",
       "...                     ...               ...                 ...   \n",
       "12303                   NaN               NaN                 NaN   \n",
       "12304                   NaN               NaN                 NaN   \n",
       "12305                   NaN               NaN                 NaN   \n",
       "12306                   NaN               NaN                 NaN   \n",
       "12307                   NaN               NaN                 NaN   \n",
       "\n",
       "       route_avg_visibility  route_avg_pressure route_description  \\\n",
       "0                       NaN                 NaN               NaN   \n",
       "1                       NaN                 NaN               NaN   \n",
       "2                       NaN                 NaN               NaN   \n",
       "3                       NaN                 NaN               NaN   \n",
       "4                       NaN                 NaN               NaN   \n",
       "...                     ...                 ...               ...   \n",
       "12303                   NaN                 NaN               NaN   \n",
       "12304                   NaN                 NaN               NaN   \n",
       "12305                   NaN                 NaN               NaN   \n",
       "12306                   NaN                 NaN               NaN   \n",
       "12307                   NaN                 NaN               NaN   \n",
       "\n",
       "      estimated_arrival_nearest_hour departure_date_nearest_hour  unique_id_y  \\\n",
       "0          2019-01-03 10:00:00+00:00   2019-01-01 07:00:00+00:00          360   \n",
       "1          2019-01-19 09:00:00+00:00   2019-01-19 07:00:00+00:00          786   \n",
       "2          2019-01-04 23:00:00+00:00   2019-01-04 07:00:00+00:00         2233   \n",
       "3          2019-01-16 18:00:00+00:00   2019-01-16 07:00:00+00:00         2030   \n",
       "4          2019-01-06 06:00:00+00:00   2019-01-01 07:00:00+00:00          868   \n",
       "...                              ...                         ...          ...   \n",
       "12303      2019-01-01 15:00:00+00:00   2019-01-01 07:00:00+00:00         1175   \n",
       "12304      2019-01-13 19:00:00+00:00   2019-01-13 07:00:00+00:00          938   \n",
       "12305      2019-01-20 00:00:00+00:00   2019-01-19 07:00:00+00:00          748   \n",
       "12306      2019-01-10 16:00:00+00:00   2019-01-10 07:00:00+00:00         1419   \n",
       "12307      2019-02-04 03:00:00+00:00   2019-02-03 07:00:00+00:00         1433   \n",
       "\n",
       "        origin_id destination_id  distance  average_hours  \n",
       "0      C-731988ba     C-6df8beaf   2544.15          50.88  \n",
       "1      C-e5bfb4e5     C-7212cebe     97.81           1.96  \n",
       "2      C-841ebdcb     C-6df8beaf    795.73          15.91  \n",
       "3      C-90e30162     C-c4565ee8    567.91          11.36  \n",
       "4      C-7212cebe     C-4fe0fa24   5940.44         118.81  \n",
       "...           ...            ...       ...            ...  \n",
       "12303  C-6df8beaf     C-280b55fb    403.41           8.07  \n",
       "12304  C-b6e04c88     C-b25a09de    612.99          12.26  \n",
       "12305  C-ff8c0c3c     C-9bbf5d8a    858.38          17.17  \n",
       "12306  C-40a81eb1     C-b25a09de    438.02           8.76  \n",
       "12307  C-40a81eb1     C-825b2625   1006.61          20.13  \n",
       "\n",
       "[12308 rows x 20 columns]"
      ]
     },
     "execution_count": 174,
     "metadata": {},
     "output_type": "execute_result"
    }
   ],
   "source": [
    "nearest_hour_schedule_route_df"
   ]
  },
  {
   "cell_type": "code",
   "execution_count": null,
   "metadata": {},
   "outputs": [],
   "source": []
  },
  {
   "cell_type": "markdown",
   "metadata": {},
   "source": [
    "Weather Data Manipulation"
   ]
  },
  {
   "cell_type": "markdown",
   "metadata": {},
   "source": [
    "9. Prepare Weather Data:"
   ]
  },
  {
   "cell_type": "code",
   "execution_count": 175,
   "metadata": {},
   "outputs": [],
   "source": [
    "# Assuming 'weather_df' contains origin and destination weather data\n",
    "origin_weather_data = city_weather_df.copy()\n",
    "destination_weather_data = city_weather_df.copy()  # This is for destination weather\n"
   ]
  },
  {
   "cell_type": "code",
   "execution_count": 176,
   "metadata": {},
   "outputs": [
    {
     "data": {
      "text/plain": [
       "unique_id               int64\n",
       "custom_date    datetime64[ns]\n",
       "city_id                object\n",
       "date                   object\n",
       "hour                   object\n",
       "temp                    int64\n",
       "wind_speed              int64\n",
       "description            object\n",
       "precip                float64\n",
       "humidity                int64\n",
       "visibility              int64\n",
       "pressure                int64\n",
       "date_time              object\n",
       "dtype: object"
      ]
     },
     "execution_count": 176,
     "metadata": {},
     "output_type": "execute_result"
    }
   ],
   "source": [
    "origin_weather_data.dtypes"
   ]
  },
  {
   "cell_type": "code",
   "execution_count": 177,
   "metadata": {},
   "outputs": [
    {
     "data": {
      "text/plain": [
       "unique_id               int64\n",
       "custom_date    datetime64[ns]\n",
       "city_id                object\n",
       "date                   object\n",
       "hour                   object\n",
       "temp                    int64\n",
       "wind_speed              int64\n",
       "description            object\n",
       "precip                float64\n",
       "humidity                int64\n",
       "visibility              int64\n",
       "pressure                int64\n",
       "date_time              object\n",
       "dtype: object"
      ]
     },
     "execution_count": 177,
     "metadata": {},
     "output_type": "execute_result"
    }
   ],
   "source": [
    "destination_weather_data.dtypes"
   ]
  },
  {
   "cell_type": "code",
   "execution_count": 178,
   "metadata": {},
   "outputs": [
    {
     "data": {
      "text/plain": [
       "truck_id                                        int64\n",
       "route_id                                       object\n",
       "departure_date                    datetime64[us, UTC]\n",
       "estimated_arrival                 datetime64[us, UTC]\n",
       "delay                                           int64\n",
       "unique_id_x                                     int64\n",
       "route_avg_temp                                float64\n",
       "route_avg_wind_speed                          float64\n",
       "route_avg_precip                              float64\n",
       "route_avg_humidity                            float64\n",
       "route_avg_visibility                          float64\n",
       "route_avg_pressure                            float64\n",
       "route_description                              object\n",
       "estimated_arrival_nearest_hour    datetime64[us, UTC]\n",
       "departure_date_nearest_hour       datetime64[us, UTC]\n",
       "unique_id_y                                     int64\n",
       "origin_id                                      object\n",
       "destination_id                                 object\n",
       "distance                                      float64\n",
       "average_hours                                 float64\n",
       "dtype: object"
      ]
     },
     "execution_count": 178,
     "metadata": {},
     "output_type": "execute_result"
    }
   ],
   "source": [
    "nearest_hour_schedule_route_df.dtypes"
   ]
  },
  {
   "cell_type": "code",
   "execution_count": 179,
   "metadata": {},
   "outputs": [],
   "source": [
    "# Convert 'date_time' columns to datetime64 format\n",
    "origin_weather_data['date_time'] = pd.to_datetime(origin_weather_data['date_time'])\n",
    "destination_weather_data['date_time'] = pd.to_datetime(destination_weather_data['date_time'])\n"
   ]
  },
  {
   "cell_type": "code",
   "execution_count": 180,
   "metadata": {},
   "outputs": [],
   "source": [
    "# Convert the datetime columns in nearest_hour_schedule_route_df to match the precision of weather data\n",
    "nearest_hour_schedule_route_df['departure_date_nearest_hour'] = nearest_hour_schedule_route_df['departure_date_nearest_hour'].dt.tz_localize(None)\n",
    "nearest_hour_schedule_route_df['estimated_arrival_nearest_hour'] = nearest_hour_schedule_route_df['estimated_arrival_nearest_hour'].dt.tz_localize(None)\n"
   ]
  },
  {
   "cell_type": "code",
   "execution_count": 181,
   "metadata": {},
   "outputs": [
    {
     "data": {
      "text/plain": [
       "unique_id               int64\n",
       "custom_date    datetime64[ns]\n",
       "city_id                object\n",
       "date                   object\n",
       "hour                   object\n",
       "temp                    int64\n",
       "wind_speed              int64\n",
       "description            object\n",
       "precip                float64\n",
       "humidity                int64\n",
       "visibility              int64\n",
       "pressure                int64\n",
       "date_time      datetime64[ns]\n",
       "dtype: object"
      ]
     },
     "execution_count": 181,
     "metadata": {},
     "output_type": "execute_result"
    }
   ],
   "source": [
    "origin_weather_data.dtypes"
   ]
  },
  {
   "cell_type": "code",
   "execution_count": 182,
   "metadata": {},
   "outputs": [
    {
     "data": {
      "text/plain": [
       "unique_id               int64\n",
       "custom_date    datetime64[ns]\n",
       "city_id                object\n",
       "date                   object\n",
       "hour                   object\n",
       "temp                    int64\n",
       "wind_speed              int64\n",
       "description            object\n",
       "precip                float64\n",
       "humidity                int64\n",
       "visibility              int64\n",
       "pressure                int64\n",
       "date_time      datetime64[ns]\n",
       "dtype: object"
      ]
     },
     "execution_count": 182,
     "metadata": {},
     "output_type": "execute_result"
    }
   ],
   "source": [
    "destination_weather_data.dtypes"
   ]
  },
  {
   "cell_type": "code",
   "execution_count": 183,
   "metadata": {},
   "outputs": [],
   "source": [
    "\n",
    "# Drop unnecessary columns\n",
    "origin_weather_data.drop(columns=['date', 'hour'], inplace=True)\n",
    "destination_weather_data.drop(columns=['date', 'hour'], inplace=True)\n"
   ]
  },
  {
   "cell_type": "code",
   "execution_count": 228,
   "metadata": {},
   "outputs": [],
   "source": [
    "\n",
    "# Merge with route information\n",
    "origin_weather_merged = nearest_hour_schedule_route_df.merge(\n",
    "    origin_weather_data,\n",
    "    left_on=['origin_id', 'departure_date_nearest_hour'],\n",
    "    right_on=['city_id','date_time'],\n",
    "    how='left'\n",
    ")\n",
    "\n",
    "destination_weather_merged = origin_weather_merged.merge(\n",
    "    destination_weather_data,\n",
    "    left_on=['destination_id', 'estimated_arrival_nearest_hour'],\n",
    "    right_on=['city_id', 'date_time'],\n",
    "    how='left',\n",
    "    suffixes=('_origin', '_destination')\n",
    ")\n"
   ]
  },
  {
   "cell_type": "code",
   "execution_count": 229,
   "metadata": {},
   "outputs": [
    {
     "data": {
      "text/plain": [
       "(12308, 31)"
      ]
     },
     "execution_count": 229,
     "metadata": {},
     "output_type": "execute_result"
    }
   ],
   "source": [
    "origin_weather_merged.shape"
   ]
  },
  {
   "cell_type": "code",
   "execution_count": 230,
   "metadata": {},
   "outputs": [
    {
     "data": {
      "text/plain": [
       "(12308, 42)"
      ]
     },
     "execution_count": 230,
     "metadata": {},
     "output_type": "execute_result"
    }
   ],
   "source": [
    "destination_weather_merged.shape"
   ]
  },
  {
   "cell_type": "markdown",
   "metadata": {},
   "source": [
    "Traffic and Schedule Data Merge\n",
    "\n",
    "10. Create a Copy of the Schedule DataFrame:"
   ]
  },
  {
   "cell_type": "code",
   "execution_count": 185,
   "metadata": {},
   "outputs": [],
   "source": [
    "# Round estimated arrival and departure times to the nearest hour\n",
    "nearest_hour_schedule_df['estimated_arrival'] = nearest_hour_schedule_df['estimated_arrival'].dt.round(\"H\")\n",
    "nearest_hour_schedule_df['departure_date'] = nearest_hour_schedule_df['departure_date'].dt.round(\"H\")\n"
   ]
  },
  {
   "cell_type": "markdown",
   "metadata": {},
   "source": [
    "11. Explode the Schedule DataFrame:"
   ]
  },
  {
   "cell_type": "code",
   "execution_count": 186,
   "metadata": {},
   "outputs": [],
   "source": [
    "hourly_exploded_scheduled_df = (\n",
    "    nearest_hour_schedule_df.assign(custom_date=[\n",
    "        pd.date_range(start, end, freq='H')\n",
    "        for start, end in zip(nearest_hour_schedule_df['departure_date'], nearest_hour_schedule_df['estimated_arrival'])\n",
    "    ]).explode('custom_date', ignore_index=True)\n",
    ")\n"
   ]
  },
  {
   "cell_type": "markdown",
   "metadata": {},
   "source": [
    "12. Merge with Traffic Data:"
   ]
  },
  {
   "cell_type": "code",
   "execution_count": 187,
   "metadata": {},
   "outputs": [],
   "source": [
    "scheduled_traffic = hourly_exploded_scheduled_df.merge(traffic_df, on=['route_id', 'custom_date'], how='left')\n"
   ]
  },
  {
   "cell_type": "code",
   "execution_count": 188,
   "metadata": {},
   "outputs": [
    {
     "name": "stdout",
     "output_type": "stream",
     "text": [
      "Index(['truck_id', 'route_id', 'departure_date', 'estimated_arrival', 'delay',\n",
      "       'unique_id', 'route_avg_temp', 'route_avg_wind_speed',\n",
      "       'route_avg_precip', 'route_avg_humidity', 'route_avg_visibility',\n",
      "       'route_avg_pressure', 'route_description',\n",
      "       'estimated_arrival_nearest_hour', 'departure_date_nearest_hour',\n",
      "       'custom_date'],\n",
      "      dtype='object')\n",
      "Index(['unique_id', 'route_id', 'date', 'hour', 'no_of_vehicles', 'accident',\n",
      "       'is_no_of_vehicles_missing', 'custom_date'],\n",
      "      dtype='object')\n"
     ]
    }
   ],
   "source": [
    "print(hourly_exploded_scheduled_df.columns)\n",
    "print(traffic_df.columns)\n"
   ]
  },
  {
   "cell_type": "markdown",
   "metadata": {},
   "source": [
    "13. Define Custom Aggregation Function for Accidents:"
   ]
  },
  {
   "cell_type": "code",
   "execution_count": 189,
   "metadata": {},
   "outputs": [],
   "source": [
    "def custom_agg(values):\n",
    "    return int(any(values == 1))\n"
   ]
  },
  {
   "cell_type": "markdown",
   "metadata": {},
   "source": [
    "14. Group by and Aggregate for Traffic Data:"
   ]
  },
  {
   "cell_type": "code",
   "execution_count": 190,
   "metadata": {},
   "outputs": [
    {
     "data": {
      "text/plain": [
       "\"\\nscheduled_route_traffic = scheduled_traffic.groupby(\\n    ['unique_id', 'truck_id', 'route_id'],\\n    as_index=False\\n).agg(\\n    avg_no_of_vehicles=('no_of_vehicles', 'mean'),\\n    accident=('accident', custom_agg)\\n)\\n\""
      ]
     },
     "execution_count": 190,
     "metadata": {},
     "output_type": "execute_result"
    }
   ],
   "source": [
    "'''\n",
    "scheduled_route_traffic = scheduled_traffic.groupby(\n",
    "    ['unique_id', 'truck_id', 'route_id'],\n",
    "    as_index=False\n",
    ").agg(\n",
    "    avg_no_of_vehicles=('no_of_vehicles', 'mean'),\n",
    "    accident=('accident', custom_agg)\n",
    ")\n",
    "'''"
   ]
  },
  {
   "cell_type": "code",
   "execution_count": 191,
   "metadata": {},
   "outputs": [
    {
     "name": "stdout",
     "output_type": "stream",
     "text": [
      "Index(['truck_id', 'route_id', 'departure_date', 'estimated_arrival', 'delay',\n",
      "       'unique_id_x', 'route_avg_temp', 'route_avg_wind_speed',\n",
      "       'route_avg_precip', 'route_avg_humidity', 'route_avg_visibility',\n",
      "       'route_avg_pressure', 'route_description',\n",
      "       'estimated_arrival_nearest_hour', 'departure_date_nearest_hour',\n",
      "       'custom_date', 'unique_id_y', 'date', 'hour', 'no_of_vehicles',\n",
      "       'accident', 'is_no_of_vehicles_missing'],\n",
      "      dtype='object')\n"
     ]
    }
   ],
   "source": [
    "print(scheduled_traffic.columns)\n"
   ]
  },
  {
   "cell_type": "code",
   "execution_count": 192,
   "metadata": {},
   "outputs": [
    {
     "name": "stdout",
     "output_type": "stream",
     "text": [
      "Index(['truck_id', 'route_id', 'departure_date', 'estimated_arrival', 'delay',\n",
      "       'route_avg_temp', 'route_avg_wind_speed', 'route_avg_precip',\n",
      "       'route_avg_humidity', 'route_avg_visibility', 'route_avg_pressure',\n",
      "       'route_description', 'estimated_arrival_nearest_hour',\n",
      "       'departure_date_nearest_hour', 'custom_date', 'no_of_vehicles',\n",
      "       'accident', 'is_no_of_vehicles_missing', 'unique_id'],\n",
      "      dtype='object')\n"
     ]
    }
   ],
   "source": [
    "# Drop unnecessary columns\n",
    "scheduled_traffic = scheduled_traffic.drop(columns=['date', 'hour'])\n",
    "\n",
    "# Combine _x and _y columns into one, fill missing values\n",
    "scheduled_traffic['unique_id'] = scheduled_traffic['unique_id_x'].fillna(scheduled_traffic['unique_id_y'])\n",
    "\n",
    "# Drop the original '_x' and '_y' columns\n",
    "scheduled_traffic = scheduled_traffic.drop(columns=['unique_id_x', 'unique_id_y'])\n",
    "\n",
    "# Print the final columns to verify\n",
    "print(scheduled_traffic.columns)\n"
   ]
  },
  {
   "cell_type": "code",
   "execution_count": 193,
   "metadata": {},
   "outputs": [],
   "source": [
    "# Renaming unique_id_x to unique_id\n",
    "#scheduled_traffic.rename(columns={'unique_id_x': 'unique_id'}, inplace=True)\n",
    "\n"
   ]
  },
  {
   "cell_type": "code",
   "execution_count": 194,
   "metadata": {},
   "outputs": [],
   "source": [
    "# Now performing the groupby operation\n",
    "scheduled_route_traffic = scheduled_traffic.groupby(\n",
    "    ['unique_id', 'truck_id', 'route_id'],\n",
    "    as_index=False\n",
    ").agg(\n",
    "    avg_no_of_vehicles=('no_of_vehicles', 'mean'),\n",
    "    accident=('accident', custom_agg)\n",
    ")\n"
   ]
  },
  {
   "cell_type": "markdown",
   "metadata": {},
   "source": [
    "Final Merges\n",
    "\n",
    "15. Merge All Data:"
   ]
  },
  {
   "cell_type": "code",
   "execution_count": 195,
   "metadata": {},
   "outputs": [
    {
     "data": {
      "text/plain": [
       "\"\\norigin_destination_weather_traffic_merge = destination_weather_merged.merge(\\n    scheduled_route_traffic,\\n    on=['unique_id', 'truck_id', 'route_id'],\\n    how='left'\\n)\\n\\n\\n#execute the beow steps only if error occurs\\n\\n\""
      ]
     },
     "execution_count": 195,
     "metadata": {},
     "output_type": "execute_result"
    }
   ],
   "source": [
    "'''\n",
    "origin_destination_weather_traffic_merge = destination_weather_merged.merge(\n",
    "    scheduled_route_traffic,\n",
    "    on=['unique_id', 'truck_id', 'route_id'],\n",
    "    how='left'\n",
    ")\n",
    "\n",
    "\n",
    "#execute the beow steps only if error occurs\n",
    "\n",
    "'''"
   ]
  },
  {
   "cell_type": "code",
   "execution_count": 196,
   "metadata": {},
   "outputs": [
    {
     "name": "stdout",
     "output_type": "stream",
     "text": [
      "Columns in destination_weather_merged:\n",
      "Index(['truck_id', 'route_id', 'departure_date', 'estimated_arrival', 'delay',\n",
      "       'unique_id_x', 'route_avg_temp', 'route_avg_wind_speed',\n",
      "       'route_avg_precip', 'route_avg_humidity', 'route_avg_visibility',\n",
      "       'route_avg_pressure', 'route_description',\n",
      "       'estimated_arrival_nearest_hour', 'departure_date_nearest_hour',\n",
      "       'unique_id_y', 'origin_id', 'destination_id', 'distance',\n",
      "       'average_hours', 'unique_id_origin', 'custom_date_origin',\n",
      "       'city_id_origin', 'temp_origin', 'wind_speed_origin',\n",
      "       'description_origin', 'precip_origin', 'humidity_origin',\n",
      "       'visibility_origin', 'pressure_origin', 'date_time_origin',\n",
      "       'unique_id_destination', 'custom_date_destination',\n",
      "       'city_id_destination', 'temp_destination', 'wind_speed_destination',\n",
      "       'description_destination', 'precip_destination', 'humidity_destination',\n",
      "       'visibility_destination', 'pressure_destination',\n",
      "       'date_time_destination'],\n",
      "      dtype='object')\n",
      "Columns in scheduled_route_traffic:\n",
      "Index(['unique_id', 'truck_id', 'route_id', 'avg_no_of_vehicles', 'accident'], dtype='object')\n"
     ]
    }
   ],
   "source": [
    "print(\"Columns in destination_weather_merged:\")\n",
    "print(destination_weather_merged.columns)\n",
    "\n",
    "print(\"Columns in scheduled_route_traffic:\")\n",
    "print(scheduled_route_traffic.columns)\n"
   ]
  },
  {
   "cell_type": "code",
   "execution_count": 197,
   "metadata": {},
   "outputs": [
    {
     "name": "stdout",
     "output_type": "stream",
     "text": [
      "Index(['truck_id', 'route_id', 'departure_date', 'estimated_arrival', 'delay',\n",
      "       'route_avg_temp', 'route_avg_wind_speed', 'route_avg_precip',\n",
      "       'route_avg_humidity', 'route_avg_visibility', 'route_avg_pressure',\n",
      "       'route_description', 'estimated_arrival_nearest_hour',\n",
      "       'departure_date_nearest_hour', 'origin_id', 'destination_id',\n",
      "       'distance', 'average_hours', 'unique_id_origin', 'custom_date_origin',\n",
      "       'city_id_origin', 'temp_origin', 'wind_speed_origin',\n",
      "       'description_origin', 'precip_origin', 'humidity_origin',\n",
      "       'visibility_origin', 'pressure_origin', 'date_time_origin',\n",
      "       'unique_id_destination', 'custom_date_destination',\n",
      "       'city_id_destination', 'temp_destination', 'wind_speed_destination',\n",
      "       'description_destination', 'precip_destination', 'humidity_destination',\n",
      "       'visibility_destination', 'pressure_destination',\n",
      "       'date_time_destination', 'unique_id'],\n",
      "      dtype='object')\n"
     ]
    }
   ],
   "source": [
    "# Drop unnecessary columns\n",
    "#destination_weather_merged = destination_weather_merged.drop(columns=['travel_time', 'travel_time_seconds'])\n",
    "\n",
    "# Combine _x and _y columns into one, fill missing values\n",
    "destination_weather_merged['unique_id'] = destination_weather_merged['unique_id_x'].fillna(destination_weather_merged['unique_id_y'])\n",
    "\n",
    "# Drop the original '_x' and '_y' columns\n",
    "destination_weather_merged = destination_weather_merged.drop(columns=['unique_id_x', 'unique_id_y'])\n",
    "\n",
    "# Print the final columns to verify\n",
    "print(destination_weather_merged.columns)\n"
   ]
  },
  {
   "cell_type": "code",
   "execution_count": 198,
   "metadata": {},
   "outputs": [
    {
     "name": "stdout",
     "output_type": "stream",
     "text": [
      "   truck_id    route_id            departure_date         estimated_arrival  \\\n",
      "0  28450066  R-99eda67a 2019-01-01 07:00:00+00:00 2019-01-03 09:52:48+00:00   \n",
      "1  21928760  R-266863d8 2019-01-19 07:00:00+00:00 2019-01-19 08:57:36+00:00   \n",
      "2  32668232  R-57a9c391 2019-01-04 07:00:00+00:00 2019-01-04 22:54:36+00:00   \n",
      "3  32984940  R-e1ff1b1c 2019-01-16 07:00:00+00:00 2019-01-16 18:21:36+00:00   \n",
      "4  27715877  R-9dd9fa45 2019-01-01 07:00:00+00:00 2019-01-06 05:48:36+00:00   \n",
      "\n",
      "   delay  route_avg_temp  route_avg_wind_speed  route_avg_precip  \\\n",
      "0      0             NaN                   NaN               NaN   \n",
      "1      0             NaN                   NaN               NaN   \n",
      "2      1             NaN                   NaN               NaN   \n",
      "3      0             NaN                   NaN               NaN   \n",
      "4      0             NaN                   NaN               NaN   \n",
      "\n",
      "   route_avg_humidity  route_avg_visibility  ...  wind_speed_destination  \\\n",
      "0                 NaN                   NaN  ...                    10.0   \n",
      "1                 NaN                   NaN  ...                    10.0   \n",
      "2                 NaN                   NaN  ...                     7.0   \n",
      "3                 NaN                   NaN  ...                     4.0   \n",
      "4                 NaN                   NaN  ...                     2.0   \n",
      "\n",
      "  description_destination precip_destination humidity_destination  \\\n",
      "0                   Sunny                0.0                 58.0   \n",
      "1           Partly cloudy                0.0                 85.0   \n",
      "2                   Clear                0.0                 89.0   \n",
      "3           Partly cloudy                0.0                 90.0   \n",
      "4                   Sunny                0.0                 68.0   \n",
      "\n",
      "  visibility_destination pressure_destination  date_time_destination  \\\n",
      "0                    6.0               1019.0    2019-01-03 10:00:00   \n",
      "1                    6.0               1030.0    2019-01-19 09:00:00   \n",
      "2                    6.0               1011.0    2019-01-04 23:00:00   \n",
      "3                    6.0               1027.0    2019-01-16 18:00:00   \n",
      "4                    6.0               1015.0    2019-01-06 06:00:00   \n",
      "\n",
      "   unique_id  avg_no_of_vehicles accident  \n",
      "0      10749                 NaN        0  \n",
      "1       4049                 NaN        0  \n",
      "2       1151                 NaN        0  \n",
      "3       3506                 NaN        0  \n",
      "4      11665                 NaN        0  \n",
      "\n",
      "[5 rows x 43 columns]\n"
     ]
    }
   ],
   "source": [
    "# Rename unique_id_x to unique_id in destination_weather_merged\n",
    "#destination_weather_merged.rename(columns={'unique_id_x': 'unique_id'}, inplace=True)\n",
    "\n",
    "# Drop the unique_id_y column if it is not needed\n",
    "#destination_weather_merged.drop(columns=['unique_id_y'], inplace=True)\n",
    "\n",
    "# Now perform the merge again\n",
    "origin_destination_weather_traffic_merge = destination_weather_merged.merge(\n",
    "    scheduled_route_traffic,\n",
    "    on=['unique_id', 'truck_id', 'route_id'],\n",
    "    how='left'\n",
    ")\n",
    "\n",
    "# Check the result\n",
    "print(origin_destination_weather_traffic_merge.head())\n"
   ]
  },
  {
   "cell_type": "code",
   "execution_count": 199,
   "metadata": {},
   "outputs": [
    {
     "name": "stdout",
     "output_type": "stream",
     "text": [
      "Unique unique_ids in destination_weather_merged: [10749  4049  1151 ...  4023  1923  6868]\n",
      "Unique unique_ids in scheduled_route_traffic: [    1     2     3 ... 12306 12307 12308]\n"
     ]
    }
   ],
   "source": [
    "# Check unique values in both DataFrames\n",
    "print(\"Unique unique_ids in destination_weather_merged:\", destination_weather_merged['unique_id'].unique())\n",
    "print(\"Unique unique_ids in scheduled_route_traffic:\", scheduled_route_traffic['unique_id'].unique())\n"
   ]
  },
  {
   "cell_type": "code",
   "execution_count": 200,
   "metadata": {},
   "outputs": [
    {
     "name": "stdout",
     "output_type": "stream",
     "text": [
      "Merged DataFrame shape: (12308, 43)\n",
      "Count of NaN values in merged DataFrame:\n",
      " truck_id                              0\n",
      "route_id                              0\n",
      "departure_date                        0\n",
      "estimated_arrival                     0\n",
      "delay                                 0\n",
      "route_avg_temp                    12308\n",
      "route_avg_wind_speed              12308\n",
      "route_avg_precip                  12308\n",
      "route_avg_humidity                12308\n",
      "route_avg_visibility              12308\n",
      "route_avg_pressure                12308\n",
      "route_description                 12308\n",
      "estimated_arrival_nearest_hour        0\n",
      "departure_date_nearest_hour           0\n",
      "origin_id                             0\n",
      "destination_id                        0\n",
      "distance                              0\n",
      "average_hours                         0\n",
      "unique_id_origin                    559\n",
      "custom_date_origin                  559\n",
      "city_id_origin                      559\n",
      "temp_origin                         559\n",
      "wind_speed_origin                   559\n",
      "description_origin                  559\n",
      "precip_origin                       559\n",
      "humidity_origin                     559\n",
      "visibility_origin                   559\n",
      "pressure_origin                     559\n",
      "date_time_origin                    559\n",
      "unique_id_destination               467\n",
      "custom_date_destination             467\n",
      "city_id_destination                 467\n",
      "temp_destination                    467\n",
      "wind_speed_destination              467\n",
      "description_destination             467\n",
      "precip_destination                  467\n",
      "humidity_destination                467\n",
      "visibility_destination              467\n",
      "pressure_destination                467\n",
      "date_time_destination               467\n",
      "unique_id                             0\n",
      "avg_no_of_vehicles                12242\n",
      "accident                              0\n",
      "dtype: int64\n"
     ]
    }
   ],
   "source": [
    "# Check the shape and count of NaN values\n",
    "print(\"Merged DataFrame shape:\", origin_destination_weather_traffic_merge.shape)\n",
    "print(\"Count of NaN values in merged DataFrame:\\n\", origin_destination_weather_traffic_merge.isna().sum())\n"
   ]
  },
  {
   "cell_type": "code",
   "execution_count": 201,
   "metadata": {},
   "outputs": [
    {
     "name": "stdout",
     "output_type": "stream",
     "text": [
      "Unmatched keys in destination_weather_merged:\n",
      " Empty DataFrame\n",
      "Columns: [unique_id, truck_id, route_id]\n",
      "Index: []\n"
     ]
    }
   ],
   "source": [
    "# Find keys in destination_weather_merged that do not exist in scheduled_route_traffic\n",
    "unmatched_keys = destination_weather_merged[~destination_weather_merged.set_index(['unique_id', 'truck_id', 'route_id']).index.isin(\n",
    "    scheduled_route_traffic.set_index(['unique_id', 'truck_id', 'route_id']).index)]\n",
    "print(\"Unmatched keys in destination_weather_merged:\\n\", unmatched_keys[['unique_id', 'truck_id', 'route_id']])\n"
   ]
  },
  {
   "cell_type": "code",
   "execution_count": 202,
   "metadata": {},
   "outputs": [],
   "source": [
    "origin_destination_weather_traffic_merge = destination_weather_merged.merge(\n",
    "    scheduled_route_traffic,\n",
    "    on=['unique_id', 'truck_id', 'route_id'],\n",
    "    how='left'\n",
    ")"
   ]
  },
  {
   "cell_type": "code",
   "execution_count": 203,
   "metadata": {},
   "outputs": [],
   "source": [
    "\n",
    "merged_data_weather_traffic = schedule_weather_merge.merge(\n",
    "    origin_destination_weather_traffic_merge,\n",
    "    on=['unique_id', 'truck_id', 'route_id', 'departure_date', 'estimated_arrival', 'delay'],\n",
    "    how='left'\n",
    ")\n"
   ]
  },
  {
   "cell_type": "code",
   "execution_count": 204,
   "metadata": {},
   "outputs": [
    {
     "data": {
      "text/plain": [
       "\"\\n# Merge with trucks DataFrame\\nmerged_data_weather_traffic_trucks = merged_data_weather_traffic.merge(\\n    trucks_df,\\n    on='truck_id',\\n    how='left'\\n)\\n\\n# execute the below steps if error occurs\\n\\n\""
      ]
     },
     "execution_count": 204,
     "metadata": {},
     "output_type": "execute_result"
    }
   ],
   "source": [
    "'''\n",
    "# Merge with trucks DataFrame\n",
    "merged_data_weather_traffic_trucks = merged_data_weather_traffic.merge(\n",
    "    trucks_df,\n",
    "    on='truck_id',\n",
    "    how='left'\n",
    ")\n",
    "\n",
    "# execute the below steps if error occurs\n",
    "\n",
    "'''"
   ]
  },
  {
   "cell_type": "code",
   "execution_count": 205,
   "metadata": {},
   "outputs": [
    {
     "name": "stdout",
     "output_type": "stream",
     "text": [
      "(12308, 50)\n",
      "   truck_id    route_id            departure_date         estimated_arrival  \\\n",
      "0  28450066  R-99eda67a 2019-01-01 07:00:00+00:00 2019-01-03 09:52:48+00:00   \n",
      "1  21928760  R-266863d8 2019-01-19 07:00:00+00:00 2019-01-19 08:57:36+00:00   \n",
      "2  32668232  R-57a9c391 2019-01-04 07:00:00+00:00 2019-01-04 22:54:36+00:00   \n",
      "3  32984940  R-e1ff1b1c 2019-01-16 07:00:00+00:00 2019-01-16 18:21:36+00:00   \n",
      "4  27715877  R-9dd9fa45 2019-01-01 07:00:00+00:00 2019-01-06 05:48:36+00:00   \n",
      "\n",
      "   delay  unique_id  route_avg_temp_x  route_avg_wind_speed_x  \\\n",
      "0      0      10749               NaN                     NaN   \n",
      "1      0       4049               NaN                     NaN   \n",
      "2      1       1151               NaN                     NaN   \n",
      "3      0       3506               NaN                     NaN   \n",
      "4      0      11665               NaN                     NaN   \n",
      "\n",
      "   route_avg_precip_x  route_avg_humidity_x  ...  temp_destination  \\\n",
      "0                 NaN                   NaN  ...              32.0   \n",
      "1                 NaN                   NaN  ...               7.0   \n",
      "2                 NaN                   NaN  ...              37.0   \n",
      "3                 NaN                   NaN  ...              30.0   \n",
      "4                 NaN                   NaN  ...              36.0   \n",
      "\n",
      "   wind_speed_destination description_destination  precip_destination  \\\n",
      "0                    10.0                   Sunny                 0.0   \n",
      "1                    10.0           Partly cloudy                 0.0   \n",
      "2                     7.0                   Clear                 0.0   \n",
      "3                     4.0           Partly cloudy                 0.0   \n",
      "4                     2.0                   Sunny                 0.0   \n",
      "\n",
      "   humidity_destination  visibility_destination  pressure_destination  \\\n",
      "0                  58.0                     6.0                1019.0   \n",
      "1                  85.0                     6.0                1030.0   \n",
      "2                  89.0                     6.0                1011.0   \n",
      "3                  90.0                     6.0                1027.0   \n",
      "4                  68.0                     6.0                1015.0   \n",
      "\n",
      "   date_time_destination  avg_no_of_vehicles accident  \n",
      "0    2019-01-03 10:00:00                 NaN        0  \n",
      "1    2019-01-19 09:00:00                 NaN        0  \n",
      "2    2019-01-04 23:00:00                 NaN        0  \n",
      "3    2019-01-16 18:00:00                 NaN        0  \n",
      "4    2019-01-06 06:00:00                 NaN        0  \n",
      "\n",
      "[5 rows x 50 columns]\n"
     ]
    }
   ],
   "source": [
    "print(merged_data_weather_traffic.shape)  # Check the shape of the DataFrame\n",
    "print(merged_data_weather_traffic.head()) # View the first few rows\n"
   ]
  },
  {
   "cell_type": "code",
   "execution_count": 206,
   "metadata": {},
   "outputs": [
    {
     "data": {
      "text/plain": [
       "Index(['truck_id', 'route_id', 'departure_date', 'estimated_arrival', 'delay',\n",
       "       'unique_id', 'route_avg_temp_x', 'route_avg_wind_speed_x',\n",
       "       'route_avg_precip_x', 'route_avg_humidity_x', 'route_avg_visibility_x',\n",
       "       'route_avg_pressure_x', 'route_description_x', 'route_avg_temp_y',\n",
       "       'route_avg_wind_speed_y', 'route_avg_precip_y', 'route_avg_humidity_y',\n",
       "       'route_avg_visibility_y', 'route_avg_pressure_y', 'route_description_y',\n",
       "       'estimated_arrival_nearest_hour', 'departure_date_nearest_hour',\n",
       "       'origin_id', 'destination_id', 'distance', 'average_hours',\n",
       "       'unique_id_origin', 'custom_date_origin', 'city_id_origin',\n",
       "       'temp_origin', 'wind_speed_origin', 'description_origin',\n",
       "       'precip_origin', 'humidity_origin', 'visibility_origin',\n",
       "       'pressure_origin', 'date_time_origin', 'unique_id_destination',\n",
       "       'custom_date_destination', 'city_id_destination', 'temp_destination',\n",
       "       'wind_speed_destination', 'description_destination',\n",
       "       'precip_destination', 'humidity_destination', 'visibility_destination',\n",
       "       'pressure_destination', 'date_time_destination', 'avg_no_of_vehicles',\n",
       "       'accident'],\n",
       "      dtype='object')"
      ]
     },
     "execution_count": 206,
     "metadata": {},
     "output_type": "execute_result"
    }
   ],
   "source": [
    "merged_data_weather_traffic.columns"
   ]
  },
  {
   "cell_type": "code",
   "execution_count": 207,
   "metadata": {},
   "outputs": [
    {
     "name": "stdout",
     "output_type": "stream",
     "text": [
      "Index(['truck_id', 'route_id', 'departure_date', 'estimated_arrival', 'delay',\n",
      "       'unique_id', 'estimated_arrival_nearest_hour',\n",
      "       'departure_date_nearest_hour', 'origin_id', 'destination_id',\n",
      "       'distance', 'average_hours', 'unique_id_origin', 'custom_date_origin',\n",
      "       'city_id_origin', 'temp_origin', 'wind_speed_origin',\n",
      "       'description_origin', 'precip_origin', 'humidity_origin',\n",
      "       'visibility_origin', 'pressure_origin', 'date_time_origin',\n",
      "       'unique_id_destination', 'custom_date_destination',\n",
      "       'city_id_destination', 'temp_destination', 'wind_speed_destination',\n",
      "       'description_destination', 'precip_destination', 'humidity_destination',\n",
      "       'visibility_destination', 'pressure_destination',\n",
      "       'date_time_destination', 'avg_no_of_vehicles', 'accident',\n",
      "       'route_avg_temp', 'route_avg_wind_speed', 'route_avg_precip',\n",
      "       'route_avg_humidity', 'route_avg_visibility', 'route_avg_pressure',\n",
      "       'route_description'],\n",
      "      dtype='object')\n"
     ]
    }
   ],
   "source": [
    "# Drop unnecessary columns 'travel_time' and 'travel_time_seconds'\n",
    "#merged_data_weather_traffic = merged_data_weather_traffic.drop(columns=['travel_time', 'travel_time_seconds'])\n",
    "\n",
    "# Combine _x and _y columns (for route averages and descriptions)\n",
    "merged_data_weather_traffic['route_avg_temp'] = merged_data_weather_traffic['route_avg_temp_x'].fillna(merged_data_weather_traffic['route_avg_temp_y'])\n",
    "merged_data_weather_traffic['route_avg_wind_speed'] = merged_data_weather_traffic['route_avg_wind_speed_x'].fillna(merged_data_weather_traffic['route_avg_wind_speed_y'])\n",
    "merged_data_weather_traffic['route_avg_precip'] = merged_data_weather_traffic['route_avg_precip_x'].fillna(merged_data_weather_traffic['route_avg_precip_y'])\n",
    "merged_data_weather_traffic['route_avg_humidity'] = merged_data_weather_traffic['route_avg_humidity_x'].fillna(merged_data_weather_traffic['route_avg_humidity_y'])\n",
    "merged_data_weather_traffic['route_avg_visibility'] = merged_data_weather_traffic['route_avg_visibility_x'].fillna(merged_data_weather_traffic['route_avg_visibility_y'])\n",
    "merged_data_weather_traffic['route_avg_pressure'] = merged_data_weather_traffic['route_avg_pressure_x'].fillna(merged_data_weather_traffic['route_avg_pressure_y'])\n",
    "merged_data_weather_traffic['route_description'] = merged_data_weather_traffic['route_description_x'].fillna(merged_data_weather_traffic['route_description_y'])\n",
    "\n",
    "# Drop the original '_x' and '_y' columns\n",
    "merged_data_weather_traffic = merged_data_weather_traffic.drop(columns=[\n",
    "    'route_avg_temp_x', 'route_avg_temp_y',\n",
    "    'route_avg_wind_speed_x', 'route_avg_wind_speed_y',\n",
    "    'route_avg_precip_x', 'route_avg_precip_y',\n",
    "    'route_avg_humidity_x', 'route_avg_humidity_y',\n",
    "    'route_avg_visibility_x', 'route_avg_visibility_y',\n",
    "    'route_avg_pressure_x', 'route_avg_pressure_y',\n",
    "    'route_description_x', 'route_description_y'\n",
    "])\n",
    "\n",
    "# Verify the changes\n",
    "print(merged_data_weather_traffic.columns)\n"
   ]
  },
  {
   "cell_type": "code",
   "execution_count": 208,
   "metadata": {},
   "outputs": [
    {
     "name": "stdout",
     "output_type": "stream",
     "text": [
      "Index(['truck_id', 'route_id', 'departure_date', 'estimated_arrival', 'delay',\n",
      "       'unique_id', 'estimated_arrival_nearest_hour',\n",
      "       'departure_date_nearest_hour', 'origin_id', 'destination_id',\n",
      "       'distance', 'average_hours', 'unique_id_origin', 'custom_date_origin',\n",
      "       'city_id_origin', 'origin_temp', 'origin_wind_speed',\n",
      "       'origin_description', 'origin_precip', 'origin_humidity',\n",
      "       'origin_visibility', 'origin_pressure', 'date_time_origin',\n",
      "       'unique_id_destination', 'custom_date_destination',\n",
      "       'city_id_destination', 'destination_temp', 'destination_wind_speed',\n",
      "       'destination_description', 'destination_precip', 'destination_humidity',\n",
      "       'destination_visibility', 'destination_pressure',\n",
      "       'date_time_destination', 'avg_no_of_vehicles', 'accident',\n",
      "       'route_avg_temp', 'route_avg_wind_speed', 'route_avg_precip',\n",
      "       'route_avg_humidity', 'route_avg_visibility', 'route_avg_pressure',\n",
      "       'route_description'],\n",
      "      dtype='object')\n"
     ]
    }
   ],
   "source": [
    "# Rename the columns in the DataFrame\n",
    "merged_data_weather_traffic.rename(columns={\n",
    "    'temp_origin': 'origin_temp',\n",
    "    'wind_speed_origin': 'origin_wind_speed',\n",
    "    'description_origin': 'origin_description',\n",
    "    'precip_origin': 'origin_precip',\n",
    "    'humidity_origin': 'origin_humidity',\n",
    "    'visibility_origin': 'origin_visibility',\n",
    "    'pressure_origin': 'origin_pressure',\n",
    "    'temp_destination': 'destination_temp',\n",
    "    'wind_speed_destination': 'destination_wind_speed',\n",
    "    'description_destination': 'destination_description',\n",
    "    'precip_destination': 'destination_precip',\n",
    "    'humidity_destination': 'destination_humidity',\n",
    "    'visibility_destination': 'destination_visibility',\n",
    "    'pressure_destination': 'destination_pressure'\n",
    "}, inplace=True)\n",
    "\n",
    "# Display the updated columns\n",
    "print(merged_data_weather_traffic.columns)\n"
   ]
  },
  {
   "cell_type": "code",
   "execution_count": 209,
   "metadata": {},
   "outputs": [
    {
     "name": "stdout",
     "output_type": "stream",
     "text": [
      "Finished: Reading data from Hopsworks, using Hopsworks Feature Query Service (0.55s) \n",
      "   index  truck_id  truck_age  load_capacity_pounds  mileage_mpg fuel_type  \\\n",
      "0    177  61984883          8                3000.0           15       gas   \n",
      "1    977  21201884         12               10000.0           24    diesel   \n",
      "2    680  26749209         11                3000.0           21       gas   \n",
      "3    154  25670063         10                6000.0           15       gas   \n",
      "4    915  33500681          8               15000.0           23    diesel   \n",
      "\n",
      "                 event_date  \n",
      "0 2024-10-10 00:00:00+00:00  \n",
      "1 2024-10-10 00:00:00+00:00  \n",
      "2 2024-10-10 00:00:00+00:00  \n",
      "3 2024-10-10 00:00:00+00:00  \n",
      "4 2024-10-10 00:00:00+00:00  \n"
     ]
    }
   ],
   "source": [
    "# Fetch data from the trucks feature group\n",
    "trucks_fg = fs.get_feature_group('trucks', version=1)\n",
    "trucks_query = trucks_fg.select_all()\n",
    "trucks_df = trucks_query.read()\n",
    "\n",
    "# Display the DataFrame\n",
    "print(trucks_df.head())\n"
   ]
  },
  {
   "cell_type": "code",
   "execution_count": 210,
   "metadata": {},
   "outputs": [
    {
     "name": "stdout",
     "output_type": "stream",
     "text": [
      "<class 'pandas.core.frame.DataFrame'>\n",
      "(1300, 7)\n",
      "   index  truck_id  truck_age  load_capacity_pounds  mileage_mpg fuel_type  \\\n",
      "0    177  61984883          8                3000.0           15       gas   \n",
      "1    977  21201884         12               10000.0           24    diesel   \n",
      "2    680  26749209         11                3000.0           21       gas   \n",
      "3    154  25670063         10                6000.0           15       gas   \n",
      "4    915  33500681          8               15000.0           23    diesel   \n",
      "\n",
      "                 event_date  \n",
      "0 2024-10-10 00:00:00+00:00  \n",
      "1 2024-10-10 00:00:00+00:00  \n",
      "2 2024-10-10 00:00:00+00:00  \n",
      "3 2024-10-10 00:00:00+00:00  \n",
      "4 2024-10-10 00:00:00+00:00  \n"
     ]
    }
   ],
   "source": [
    "print(type(trucks_df))  # Should be <class 'pandas.core.frame.DataFrame'>\n",
    "print(trucks_df.shape)   # Check shape\n",
    "print(trucks_df.head())  # View first few rows\n"
   ]
  },
  {
   "cell_type": "code",
   "execution_count": 211,
   "metadata": {},
   "outputs": [
    {
     "name": "stdout",
     "output_type": "stream",
     "text": [
      "Index(['truck_id', 'route_id', 'departure_date', 'estimated_arrival', 'delay',\n",
      "       'unique_id', 'estimated_arrival_nearest_hour',\n",
      "       'departure_date_nearest_hour', 'origin_id', 'destination_id',\n",
      "       'distance', 'average_hours', 'unique_id_origin', 'custom_date_origin',\n",
      "       'city_id_origin', 'origin_temp', 'origin_wind_speed',\n",
      "       'origin_description', 'origin_precip', 'origin_humidity',\n",
      "       'origin_visibility', 'origin_pressure', 'date_time_origin',\n",
      "       'unique_id_destination', 'custom_date_destination',\n",
      "       'city_id_destination', 'destination_temp', 'destination_wind_speed',\n",
      "       'destination_description', 'destination_precip', 'destination_humidity',\n",
      "       'destination_visibility', 'destination_pressure',\n",
      "       'date_time_destination', 'avg_no_of_vehicles', 'accident',\n",
      "       'route_avg_temp', 'route_avg_wind_speed', 'route_avg_precip',\n",
      "       'route_avg_humidity', 'route_avg_visibility', 'route_avg_pressure',\n",
      "       'route_description'],\n",
      "      dtype='object')\n",
      "Index(['index', 'truck_id', 'truck_age', 'load_capacity_pounds', 'mileage_mpg',\n",
      "       'fuel_type', 'event_date'],\n",
      "      dtype='object')\n"
     ]
    }
   ],
   "source": [
    "print(merged_data_weather_traffic.columns)\n",
    "print(trucks_df.columns)\n"
   ]
  },
  {
   "cell_type": "code",
   "execution_count": 212,
   "metadata": {},
   "outputs": [
    {
     "name": "stdout",
     "output_type": "stream",
     "text": [
      "11059\n",
      "0\n"
     ]
    }
   ],
   "source": [
    "print(merged_data_weather_traffic['truck_id'].duplicated().sum())\n",
    "print(trucks_df['truck_id'].duplicated().sum())\n"
   ]
  },
  {
   "cell_type": "code",
   "execution_count": 213,
   "metadata": {},
   "outputs": [],
   "source": [
    "# Drop duplicates in merged_data_weather_traffic\n",
    "merged_data_weather_traffic = merged_data_weather_traffic.drop_duplicates(subset='truck_id')\n",
    "\n",
    "# Drop duplicates in trucks_df\n",
    "trucks_df = trucks_df.drop_duplicates(subset='truck_id')\n"
   ]
  },
  {
   "cell_type": "code",
   "execution_count": 214,
   "metadata": {},
   "outputs": [
    {
     "data": {
      "text/plain": [
       "truck_id                                        int64\n",
       "route_id                                       object\n",
       "departure_date                    datetime64[us, UTC]\n",
       "estimated_arrival                 datetime64[us, UTC]\n",
       "delay                                           int64\n",
       "unique_id                                       int64\n",
       "estimated_arrival_nearest_hour         datetime64[us]\n",
       "departure_date_nearest_hour            datetime64[us]\n",
       "origin_id                                      object\n",
       "destination_id                                 object\n",
       "distance                                      float64\n",
       "average_hours                                 float64\n",
       "unique_id_origin                              float64\n",
       "custom_date_origin                     datetime64[ns]\n",
       "city_id_origin                                 object\n",
       "origin_temp                                   float64\n",
       "origin_wind_speed                             float64\n",
       "origin_description                             object\n",
       "origin_precip                                 float64\n",
       "origin_humidity                               float64\n",
       "origin_visibility                             float64\n",
       "origin_pressure                               float64\n",
       "date_time_origin                       datetime64[ns]\n",
       "unique_id_destination                         float64\n",
       "custom_date_destination                datetime64[ns]\n",
       "city_id_destination                            object\n",
       "destination_temp                              float64\n",
       "destination_wind_speed                        float64\n",
       "destination_description                        object\n",
       "destination_precip                            float64\n",
       "destination_humidity                          float64\n",
       "destination_visibility                        float64\n",
       "destination_pressure                          float64\n",
       "date_time_destination                  datetime64[ns]\n",
       "avg_no_of_vehicles                            float64\n",
       "accident                                        int64\n",
       "route_avg_temp                                float64\n",
       "route_avg_wind_speed                          float64\n",
       "route_avg_precip                              float64\n",
       "route_avg_humidity                            float64\n",
       "route_avg_visibility                          float64\n",
       "route_avg_pressure                            float64\n",
       "route_description                             float64\n",
       "dtype: object"
      ]
     },
     "execution_count": 214,
     "metadata": {},
     "output_type": "execute_result"
    }
   ],
   "source": [
    "merged_data_weather_traffic.dtypes"
   ]
  },
  {
   "cell_type": "code",
   "execution_count": 215,
   "metadata": {},
   "outputs": [
    {
     "data": {
      "text/plain": [
       "index                                 int64\n",
       "truck_id                              int64\n",
       "truck_age                             int64\n",
       "load_capacity_pounds                float64\n",
       "mileage_mpg                           int64\n",
       "fuel_type                            object\n",
       "event_date              datetime64[us, UTC]\n",
       "dtype: object"
      ]
     },
     "execution_count": 215,
     "metadata": {},
     "output_type": "execute_result"
    }
   ],
   "source": [
    "trucks_df.dtypes"
   ]
  },
  {
   "cell_type": "code",
   "execution_count": 216,
   "metadata": {},
   "outputs": [],
   "source": [
    "# Drop the 'index' and 'event_date' columns from trucks_df in place\n",
    "trucks_df.drop(columns=['index', 'event_date'], inplace=True)\n"
   ]
  },
  {
   "cell_type": "code",
   "execution_count": 217,
   "metadata": {},
   "outputs": [],
   "source": [
    "# Convert truck_id to int in both DataFrames\n",
    "merged_data_weather_traffic['truck_id'] = merged_data_weather_traffic['truck_id'].astype(int)\n",
    "trucks_df['truck_id'] = trucks_df['truck_id'].astype(int)\n"
   ]
  },
  {
   "cell_type": "code",
   "execution_count": 218,
   "metadata": {},
   "outputs": [],
   "source": [
    "merged_data_weather_traffic_trucks = merged_data_weather_traffic.merge(\n",
    "    trucks_df,\n",
    "    on='truck_id',\n",
    "    how='left'\n",
    ")\n"
   ]
  },
  {
   "cell_type": "code",
   "execution_count": 219,
   "metadata": {},
   "outputs": [],
   "source": [
    "# Final Merge with Drivers DataFrame\n",
    "final_merge = merged_data_weather_traffic_trucks.merge(\n",
    "    drivers_df,\n",
    "    left_on='truck_id',\n",
    "    right_on='vehicle_no',\n",
    "    how='left'\n",
    ")\n"
   ]
  },
  {
   "cell_type": "code",
   "execution_count": 220,
   "metadata": {},
   "outputs": [],
   "source": [
    "def has_midnight(start, end):\n",
    "    return int(start.date() != end.date())"
   ]
  },
  {
   "cell_type": "code",
   "execution_count": 221,
   "metadata": {},
   "outputs": [],
   "source": [
    "final_merge['is_midnight'] = final_merge.apply(lambda row: has_midnight(row['departure_date'], row['estimated_arrival']), axis=1)"
   ]
  },
  {
   "cell_type": "code",
   "execution_count": 222,
   "metadata": {},
   "outputs": [
    {
     "data": {
      "text/plain": [
       "Index(['truck_id', 'route_id', 'departure_date', 'estimated_arrival', 'delay',\n",
       "       'unique_id_x', 'estimated_arrival_nearest_hour',\n",
       "       'departure_date_nearest_hour', 'origin_id', 'destination_id',\n",
       "       'distance', 'average_hours', 'unique_id_origin', 'custom_date_origin',\n",
       "       'city_id_origin', 'origin_temp', 'origin_wind_speed',\n",
       "       'origin_description', 'origin_precip', 'origin_humidity',\n",
       "       'origin_visibility', 'origin_pressure', 'date_time_origin',\n",
       "       'unique_id_destination', 'custom_date_destination',\n",
       "       'city_id_destination', 'destination_temp', 'destination_wind_speed',\n",
       "       'destination_description', 'destination_precip', 'destination_humidity',\n",
       "       'destination_visibility', 'destination_pressure',\n",
       "       'date_time_destination', 'avg_no_of_vehicles', 'accident',\n",
       "       'route_avg_temp', 'route_avg_wind_speed', 'route_avg_precip',\n",
       "       'route_avg_humidity', 'route_avg_visibility', 'route_avg_pressure',\n",
       "       'route_description', 'truck_age', 'load_capacity_pounds', 'mileage_mpg',\n",
       "       'fuel_type', 'unique_id_y', 'driver_id', 'name', 'gender', 'age',\n",
       "       'experience', 'driving_style', 'ratings', 'vehicle_no',\n",
       "       'average_speed_mph', 'is_midnight'],\n",
       "      dtype='object')"
      ]
     },
     "execution_count": 222,
     "metadata": {},
     "output_type": "execute_result"
    }
   ],
   "source": [
    "final_merge.columns"
   ]
  },
  {
   "cell_type": "code",
   "execution_count": 223,
   "metadata": {},
   "outputs": [
    {
     "name": "stdout",
     "output_type": "stream",
     "text": [
      "2024-10-10 14:22:29,935 WARNING: FutureWarning: The behavior of array concatenation with empty entries is deprecated. In a future version, this will no longer exclude empty items when determining the result dtype. To retain the old behavior, exclude the empty entries before the concat operation.\n",
      "\n",
      "Index(['truck_id', 'route_id', 'departure_date', 'estimated_arrival', 'delay',\n",
      "       'estimated_arrival_nearest_hour', 'departure_date_nearest_hour',\n",
      "       'origin_id', 'destination_id', 'distance', 'average_hours',\n",
      "       'origin_temp', 'origin_wind_speed', 'origin_description',\n",
      "       'origin_precip', 'origin_humidity', 'origin_visibility',\n",
      "       'origin_pressure', 'date_time_origin', 'destination_temp',\n",
      "       'destination_wind_speed', 'destination_description',\n",
      "       'destination_precip', 'destination_humidity', 'destination_visibility',\n",
      "       'destination_pressure', 'date_time_destination', 'avg_no_of_vehicles',\n",
      "       'accident', 'route_avg_temp', 'route_avg_wind_speed',\n",
      "       'route_avg_precip', 'route_avg_humidity', 'route_avg_visibility',\n",
      "       'route_avg_pressure', 'route_description', 'truck_age',\n",
      "       'load_capacity_pounds', 'mileage_mpg', 'fuel_type', 'driver_id', 'name',\n",
      "       'gender', 'age', 'experience', 'driving_style', 'ratings', 'vehicle_no',\n",
      "       'average_speed_mph', 'is_midnight', 'unique_id'],\n",
      "      dtype='object')\n"
     ]
    }
   ],
   "source": [
    "\n",
    "\n",
    "# Combine unique_id_x and unique_id_y (example: using unique_id_x, adjust as needed)\n",
    "final_merge['unique_id'] = final_merge['unique_id_x'].combine_first(final_merge['unique_id_y'])\n",
    "\n",
    "# Drop the original unique_id_x and unique_id_y columns\n",
    "final_merged = final_merge.drop(columns=['unique_id_x', 'unique_id_y', 'unique_id_origin', 'custom_date_origin','city_id_origin', 'unique_id_destination', 'custom_date_destination', 'city_id_destination'])\n",
    "\n",
    "# Display the updated DataFrame columns\n",
    "print(final_merged.columns)\n"
   ]
  },
  {
   "cell_type": "code",
   "execution_count": 224,
   "metadata": {},
   "outputs": [
    {
     "name": "stdout",
     "output_type": "stream",
     "text": [
      "All columns are present in final_merged.\n"
     ]
    }
   ],
   "source": [
    "# List of final feature descriptions\n",
    "final_feature_descriptions = [\n",
    "    {\"name\": 'unique_id', \"description\": \"the unique identifier for each record\"},\n",
    "    {\"name\": 'truck_id', \"description\": \"the unique identifier of the truck\"},\n",
    "    {\"name\": 'route_id', \"description\": \"the unique identifier of the route\"},\n",
    "    {\"name\": 'departure_date', \"description\": \"departure DateTime of the truck\"},\n",
    "    {\"name\": 'estimated_arrival', \"description\": \"estimated arrival DateTime of the truck\"},\n",
    "    {\"name\": 'delay', \"description\": \"binary variable if the truck’s arrival was delayed, 0 for on-time arrival and 1 for delayed arrival\"},\n",
    "    {\"name\": 'route_avg_temp', \"description\":  'Average temperature in Fahrenheit'},\n",
    "    {\"name\": 'route_avg_wind_speed', \"description\":  'Average wind speed in miles per hour'},\n",
    "    {\"name\": 'route_avg_precip', \"description\":  'Average precipitation in inches'},\n",
    "    {\"name\": 'route_avg_humidity', \"description\":  'Average humidity observed'},\n",
    "    {\"name\": 'route_avg_visibility', \"description\":  'Average visibility observed in miles per hour'},\n",
    "    {\"name\": 'route_avg_pressure', \"description\":  'Average pressure observed in millibar'},\n",
    "    {\"name\": 'route_description', \"description\":  'description of the weather conditions such as Clear, Cloudy, etc'},\n",
    "    {\"name\": 'estimated_arrival_nearest_hour', \"description\":  'estimated arrival DateTime of the truck'},\n",
    "    {\"name\": 'departure_date_nearest_hour', \"description\":  'departure DateTime of the truck'},\n",
    "    {\"name\": 'origin_id', \"description\": \"the city identification number for the origin city\"},\n",
    "    {\"name\": 'destination_id', \"description\": \" the city identification number for the destination\"},\n",
    "    {\"name\": 'distance', \"description\": \" the distance between the origin and destination cities in miles\"},\n",
    "    {\"name\": 'average_hours', \"description\": \"average time needed to travel from the origin to the destination in hours\"},\n",
    "    {\"name\": 'origin_temp', \"description\":  'temperature in Fahrenheit'},\n",
    "    {\"name\": 'origin_wind_speed', \"description\":  'wind speed in miles per hour'},\n",
    "    {\"name\": 'origin_description', \"description\":  'description of the weather conditions such as Clear, Cloudy, etc'},\n",
    "    {\"name\": 'origin_precip', \"description\":  'precipitation in inches'},\n",
    "    {\"name\": 'origin_humidity', \"description\":  'humidity observed'},\n",
    "    {\"name\": 'origin_visibility', \"description\":  'visibility observed in miles per hour'},\n",
    "    {\"name\": 'origin_pressure', \"description\":  'pressure observed in millibar'},\n",
    "    {\"name\": 'destination_temp', \"description\":  'temperature in Fahrenheit'},\n",
    "    {\"name\": 'destination_wind_speed', \"description\":  'wind speed in miles per hour'},\n",
    "    {\"name\": 'destination_description', \"description\":  'description of the weather conditions such as Clear, Cloudy, etc'},\n",
    "    {\"name\": 'destination_precip', \"description\":  'precipitation in inches'},\n",
    "    {\"name\": 'destination_humidity', \"description\":  'humidity observed'},\n",
    "    {\"name\": 'destination_visibility', \"description\":  'visibility observed in miles per hour'},\n",
    "    {\"name\": 'destination_pressure', \"description\":  'pressure observed in millibar'},\n",
    "    {\"name\": 'avg_no_of_vehicles', \"description\": \"the average number of vehicles observed on the route\"},\n",
    "    {\"name\": 'accident', \"description\": \"binary variable to denote if an accident was observed\"},\n",
    "    {\"name\":'truck_age',\"description\":\"age of the truck in years\"},\n",
    "    {\"name\":'load_capacity_pounds',\"description\":\"loading capacity of the truck in pounds\"},\n",
    "    {\"name\":'mileage_mpg',\"description\": \"mileage of the truck in miles per gallon\"},\n",
    "    {\"name\":'fuel_type',\"description\":\"fuel type of the truck\"},\n",
    "    {\"name\": \"driver_id\", \"description\": \"unique identification for each driver\"},\n",
    "    {\"name\": \"name\", \"description\": \" name of the truck driver\"},\n",
    "    {\"name\": \"gender\", \"description\": \"gender of the truck driver\"},\n",
    "    {\"name\": \"age\", \"description\": \"age of the truck driver\"},\n",
    "    {\"name\": \"experience\", \"description\": \" experience of the truck driver in years\"},\n",
    "    {\"name\": \"driving_style\", \"description\": \"driving style of the truck driver, conservative or proactive\"},\n",
    "    {\"name\": \"ratings\", \"description\": \"average rating of the truck driver on a scale of 1 to 5\"},\n",
    "    {\"name\": \"vehicle_no\", \"description\": \"the number of the driver’s truck\"},\n",
    "    {\"name\": \"average_speed_mph\", \"description\": \"average speed the truck driver in miles per hour\"},\n",
    "    {\"name\": 'is_midnight', \"description\": \"binary variable to denote if it was midnight\"}\n",
    "]\n",
    "\n",
    "# Checking if all specified columns are in the final DataFrame\n",
    "final_columns = final_merged.columns.tolist()\n",
    "missing_columns = [feature['name'] for feature in final_feature_descriptions if feature['name'] not in final_columns]\n",
    "\n",
    "# Display the missing columns, if any\n",
    "if missing_columns:\n",
    "    print(\"Missing columns in final_merged:\", missing_columns)\n",
    "else:\n",
    "    print(\"All columns are present in final_merged.\")\n"
   ]
  },
  {
   "cell_type": "code",
   "execution_count": 225,
   "metadata": {},
   "outputs": [
    {
     "data": {
      "text/plain": [
       "Index(['truck_id', 'route_id', 'departure_date', 'estimated_arrival', 'delay',\n",
       "       'estimated_arrival_nearest_hour', 'departure_date_nearest_hour',\n",
       "       'origin_id', 'destination_id', 'distance', 'average_hours',\n",
       "       'origin_temp', 'origin_wind_speed', 'origin_description',\n",
       "       'origin_precip', 'origin_humidity', 'origin_visibility',\n",
       "       'origin_pressure', 'date_time_origin', 'destination_temp',\n",
       "       'destination_wind_speed', 'destination_description',\n",
       "       'destination_precip', 'destination_humidity', 'destination_visibility',\n",
       "       'destination_pressure', 'date_time_destination', 'avg_no_of_vehicles',\n",
       "       'accident', 'route_avg_temp', 'route_avg_wind_speed',\n",
       "       'route_avg_precip', 'route_avg_humidity', 'route_avg_visibility',\n",
       "       'route_avg_pressure', 'route_description', 'truck_age',\n",
       "       'load_capacity_pounds', 'mileage_mpg', 'fuel_type', 'driver_id', 'name',\n",
       "       'gender', 'age', 'experience', 'driving_style', 'ratings', 'vehicle_no',\n",
       "       'average_speed_mph', 'is_midnight', 'unique_id'],\n",
       "      dtype='object')"
      ]
     },
     "execution_count": 225,
     "metadata": {},
     "output_type": "execute_result"
    }
   ],
   "source": [
    "# saving fianl merged data.csv\n",
    "final_merged.to_csv('C:/Users/anucv/OneDrive/Desktop/AI and ML training/Machine_Learning/TRUCK_DELAY_CLASSIFICATION_PROJECT/Data/Final_Merged_data/final_merged.csv', index=False)\n",
    "final_merged.columns"
   ]
  },
  {
   "cell_type": "code",
   "execution_count": 226,
   "metadata": {},
   "outputs": [
    {
     "data": {
      "text/plain": [
       "(1249, 51)"
      ]
     },
     "execution_count": 226,
     "metadata": {},
     "output_type": "execute_result"
    }
   ],
   "source": [
    "final_merged.shape"
   ]
  },
  {
   "cell_type": "code",
   "execution_count": 227,
   "metadata": {},
   "outputs": [
    {
     "data": {
      "text/plain": [
       "'\\n#Final Data frame:\\n\\nfinal_feature_descriptions = [\\n                    {\"name\": \\'unique_id\\', \"description\": \"the unique identifier for each record\"},\\n                    {\"name\": \\'truck_id\\', \"description\": \"the unique identifier of the truck\"},\\n                    {\"name\": \\'route_id\\', \"description\": \"the unique identifier of the route\"},\\n                    {\"name\": \\'departure_date\\', \"description\": \"departure DateTime of the truck\"},\\n                    {\"name\": \\'estimated_arrival\\', \"description\": \"estimated arrival DateTime of the truck\"},\\n                    {\"name\": \\'delay\\', \"description\": \"binary variable if the truck’s arrival was delayed, 0 for on-time arrival and 1 for delayed arrival\"},\\n                    {\"name\": \\'route_avg_temp\\', \"description\":  \\'Average temperature in Fahrenheit\\'},\\n                    {\"name\": \\'route_avg_wind_speed\\', \"description\":  \\'Average wind speed in miles per hour\\'},\\n                    {\"name\": \\'route_avg_precip\\', \"description\":  \\'Average precipitation in inches\\'},\\n                    {\"name\": \\'route_avg_humidity\\', \"description\":  \\'Average humidity observed\\'},\\n                    {\"name\": \\'route_avg_visibility\\', \"description\":  \\'Average visibility observed in miles per hour\\'},\\n                    {\"name\": \\'route_avg_pressure\\', \"description\":  \\'Average pressure observed in millibar\\'},\\n                    {\"name\": \\'route_description\\', \"description\":  \\'description of the weather conditions such as Clear, Cloudy, etc\\'},\\n                    {\"name\": \\'estimated_arrival_nearest_hour\\', \"description\":  \\'estimated arrival DateTime of the truck\\'},\\n                    {\"name\": \\'departure_date_nearest_hour\\', \"description\":  \\'departure DateTime of the truck\\'},\\n                    {\"name\": \\'origin_id\\', \"description\": \"the city identification number for the origin city\"},\\n                    {\"name\": \\'destination_id\\', \"description\": \" the city identification number for the destination\"},\\n                    {\"name\": \\'distance\\', \"description\": \" the distance between the origin and destination cities in miles\"},\\n                    {\"name\": \\'average_hours\\', \"description\": \"average time needed to travel from the origin to the destination in hours\"},\\n                    {\"name\": \\'origin_temp\\', \"description\":  \\'temperature in Fahrenheit\\'},\\n                    {\"name\": \\'origin_wind_speed\\', \"description\":  \\'wind speed in miles per hour\\'},\\n                    {\"name\": \\'origin_description\\', \"description\":  \\'description of the weather conditions such as Clear, Cloudy, etc\\'},\\n                    {\"name\": \\'origin_precip\\', \"description\":  \\'precipitation in inches\\'},\\n                    {\"name\": \\'origin_humidity\\', \"description\":  \\'humidity observed\\'},\\n                    {\"name\": \\'origin_visibility\\', \"description\":  \\'visibility observed in miles per hour\\'},\\n                    {\"name\": \\'origin_pressure\\', \"description\":  \\'pressure observed in millibar\\'},\\n                    {\"name\": \\'destination_temp\\', \"description\":  \\'temperature in Fahrenheit\\'},\\n                    {\"name\": \\'destination_wind_speed\\', \"description\":  \\'wind speed in miles per hour\\'},\\n                    {\"name\": \\'destination_description\\', \"description\":  \\'description of the weather conditions such as Clear, Cloudy, etc\\'},\\n                    {\"name\": \\'destination_precip\\', \"description\":  \\'precipitation in inches\\'},\\n                    {\"name\": \\'destination_humidity\\', \"description\":  \\'humidity observed\\'},\\n                    {\"name\": \\'destination_visibility\\', \"description\":  \\'visibility observed in miles per hour\\'},\\n                    {\"name\": \\'destination_pressure\\', \"description\":  \\'pressure observed in millibar\\'},\\n                    {\"name\": \\'avg_no_of_vehicles\\', \"description\": \"the average number of vehicles observed on the route\"},\\n                    {\"name\": \\'accident\\', \"description\": \"binary variable to denote if an accident was observed\"},\\n                    {\"name\":\\'truck_age\\',\"description\":\"age of the truck in years\"},\\n                    {\"name\":\\'load_capacity_pounds\\',\"description\":\"loading capacity of the truck in years\"},\\n                    {\"name\":\\'mileage_mpg\\',\"description\": \"mileage of the truck in miles per gallon\"},\\n                    {\"name\":\\'fuel_type\\',\"description\":\"fuel type of the truck\"},\\n                    {\"name\": \"driver_id\", \"description\": \"unique identification for each driver\"},\\n                    {\"name\": \"name\", \"description\": \" name of the truck driver\"},\\n                    {\"name\": \"gender\", \"description\": \"gender of the truck driver\"},\\n                    {\"name\": \"age\", \"description\": \"age of the truck driver\"},\\n                    {\"name\": \"experience\", \"description\": \" experience of the truck driver in years\"},\\n                    {\"name\": \"driving_style\", \"description\": \"driving style of the truck driver, conservative or proactive\"},\\n                    {\"name\": \"ratings\", \"description\": \"average rating of the truck driver on a scale of 1 to 5\"},\\n                    {\"name\": \"vehicle_no\", \"description\": \"the number of the driver’s truck\"},\\n                    {\"name\": \"average_speed_mph\", \"description\": \"average speed the truck driver in miles per hour\"},\\n                    {\"name\": \\'is_midnight\\', \"description\": \"binary variable to denote if it was midnight\"}\\n                \\n                ]\\n                \\n'"
      ]
     },
     "execution_count": 227,
     "metadata": {},
     "output_type": "execute_result"
    }
   ],
   "source": [
    "'''\n",
    "#Final Data frame:\n",
    "\n",
    "final_feature_descriptions = [\n",
    "                    {\"name\": 'unique_id', \"description\": \"the unique identifier for each record\"},\n",
    "                    {\"name\": 'truck_id', \"description\": \"the unique identifier of the truck\"},\n",
    "                    {\"name\": 'route_id', \"description\": \"the unique identifier of the route\"},\n",
    "                    {\"name\": 'departure_date', \"description\": \"departure DateTime of the truck\"},\n",
    "                    {\"name\": 'estimated_arrival', \"description\": \"estimated arrival DateTime of the truck\"},\n",
    "                    {\"name\": 'delay', \"description\": \"binary variable if the truck’s arrival was delayed, 0 for on-time arrival and 1 for delayed arrival\"},\n",
    "                    {\"name\": 'route_avg_temp', \"description\":  'Average temperature in Fahrenheit'},\n",
    "                    {\"name\": 'route_avg_wind_speed', \"description\":  'Average wind speed in miles per hour'},\n",
    "                    {\"name\": 'route_avg_precip', \"description\":  'Average precipitation in inches'},\n",
    "                    {\"name\": 'route_avg_humidity', \"description\":  'Average humidity observed'},\n",
    "                    {\"name\": 'route_avg_visibility', \"description\":  'Average visibility observed in miles per hour'},\n",
    "                    {\"name\": 'route_avg_pressure', \"description\":  'Average pressure observed in millibar'},\n",
    "                    {\"name\": 'route_description', \"description\":  'description of the weather conditions such as Clear, Cloudy, etc'},\n",
    "                    {\"name\": 'estimated_arrival_nearest_hour', \"description\":  'estimated arrival DateTime of the truck'},\n",
    "                    {\"name\": 'departure_date_nearest_hour', \"description\":  'departure DateTime of the truck'},\n",
    "                    {\"name\": 'origin_id', \"description\": \"the city identification number for the origin city\"},\n",
    "                    {\"name\": 'destination_id', \"description\": \" the city identification number for the destination\"},\n",
    "                    {\"name\": 'distance', \"description\": \" the distance between the origin and destination cities in miles\"},\n",
    "                    {\"name\": 'average_hours', \"description\": \"average time needed to travel from the origin to the destination in hours\"},\n",
    "                    {\"name\": 'origin_temp', \"description\":  'temperature in Fahrenheit'},\n",
    "                    {\"name\": 'origin_wind_speed', \"description\":  'wind speed in miles per hour'},\n",
    "                    {\"name\": 'origin_description', \"description\":  'description of the weather conditions such as Clear, Cloudy, etc'},\n",
    "                    {\"name\": 'origin_precip', \"description\":  'precipitation in inches'},\n",
    "                    {\"name\": 'origin_humidity', \"description\":  'humidity observed'},\n",
    "                    {\"name\": 'origin_visibility', \"description\":  'visibility observed in miles per hour'},\n",
    "                    {\"name\": 'origin_pressure', \"description\":  'pressure observed in millibar'},\n",
    "                    {\"name\": 'destination_temp', \"description\":  'temperature in Fahrenheit'},\n",
    "                    {\"name\": 'destination_wind_speed', \"description\":  'wind speed in miles per hour'},\n",
    "                    {\"name\": 'destination_description', \"description\":  'description of the weather conditions such as Clear, Cloudy, etc'},\n",
    "                    {\"name\": 'destination_precip', \"description\":  'precipitation in inches'},\n",
    "                    {\"name\": 'destination_humidity', \"description\":  'humidity observed'},\n",
    "                    {\"name\": 'destination_visibility', \"description\":  'visibility observed in miles per hour'},\n",
    "                    {\"name\": 'destination_pressure', \"description\":  'pressure observed in millibar'},\n",
    "                    {\"name\": 'avg_no_of_vehicles', \"description\": \"the average number of vehicles observed on the route\"},\n",
    "                    {\"name\": 'accident', \"description\": \"binary variable to denote if an accident was observed\"},\n",
    "                    {\"name\":'truck_age',\"description\":\"age of the truck in years\"},\n",
    "                    {\"name\":'load_capacity_pounds',\"description\":\"loading capacity of the truck in years\"},\n",
    "                    {\"name\":'mileage_mpg',\"description\": \"mileage of the truck in miles per gallon\"},\n",
    "                    {\"name\":'fuel_type',\"description\":\"fuel type of the truck\"},\n",
    "                    {\"name\": \"driver_id\", \"description\": \"unique identification for each driver\"},\n",
    "                    {\"name\": \"name\", \"description\": \" name of the truck driver\"},\n",
    "                    {\"name\": \"gender\", \"description\": \"gender of the truck driver\"},\n",
    "                    {\"name\": \"age\", \"description\": \"age of the truck driver\"},\n",
    "                    {\"name\": \"experience\", \"description\": \" experience of the truck driver in years\"},\n",
    "                    {\"name\": \"driving_style\", \"description\": \"driving style of the truck driver, conservative or proactive\"},\n",
    "                    {\"name\": \"ratings\", \"description\": \"average rating of the truck driver on a scale of 1 to 5\"},\n",
    "                    {\"name\": \"vehicle_no\", \"description\": \"the number of the driver’s truck\"},\n",
    "                    {\"name\": \"average_speed_mph\", \"description\": \"average speed the truck driver in miles per hour\"},\n",
    "                    {\"name\": 'is_midnight', \"description\": \"binary variable to denote if it was midnight\"}\n",
    "                \n",
    "                ]\n",
    "                \n",
    "'''"
   ]
  }
 ],
 "metadata": {
  "kernelspec": {
   "display_name": "Python 3",
   "language": "python",
   "name": "python3"
  },
  "language_info": {
   "codemirror_mode": {
    "name": "ipython",
    "version": 3
   },
   "file_extension": ".py",
   "mimetype": "text/x-python",
   "name": "python",
   "nbconvert_exporter": "python",
   "pygments_lexer": "ipython3",
   "version": "3.12.7"
  }
 },
 "nbformat": 4,
 "nbformat_minor": 2
}
